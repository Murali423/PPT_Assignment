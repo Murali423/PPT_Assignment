{
 "cells": [
  {
   "cell_type": "markdown",
   "id": "93443c00",
   "metadata": {},
   "source": [
    "__Q1.Given a non-negative integer x, return the square root of x rounded down to the nearest integer. The returned integer should be non-negative as well. You must not use any built-in exponent function or operator.__"
   ]
  },
  {
   "cell_type": "code",
   "execution_count": 1,
   "id": "30f7401a",
   "metadata": {},
   "outputs": [],
   "source": [
    "from typing import List\n",
    "from math import sqrt\n",
    "class Solution:\n",
    "    def sqrtofNum(self,n :int)->int:\n",
    "        if n <= 0: return 'Given number cannot be 0 or less than zero'\n",
    "        low,high = 0,n\n",
    "        while high> low:\n",
    "            mid = low + (high-low+1)//2\n",
    "            if (mid<= sqrt(n)):\n",
    "                low = mid\n",
    "            else:\n",
    "                high = mid-1\n",
    "        return low\n",
    "    \n",
    "    def bruteforce(self,n:int)->int:\n",
    "        if n <= 0: return 'Given number cannot be 0 or less than zero'\n",
    "        if n == 1: return 1\n",
    "        i,r = 1,1\n",
    "        while r<=n:\n",
    "            i += 1\n",
    "            r = i*i\n",
    "        return i-1\n",
    "        "
   ]
  },
  {
   "cell_type": "code",
   "execution_count": 2,
   "id": "a43401cc",
   "metadata": {},
   "outputs": [
    {
     "data": {
      "text/plain": [
       "2"
      ]
     },
     "execution_count": 2,
     "metadata": {},
     "output_type": "execute_result"
    }
   ],
   "source": [
    "sr = Solution()\n",
    "sr.sqrtofNum(8)"
   ]
  },
  {
   "cell_type": "code",
   "execution_count": 3,
   "id": "7b095bd9",
   "metadata": {},
   "outputs": [
    {
     "data": {
      "text/plain": [
       "2"
      ]
     },
     "execution_count": 3,
     "metadata": {},
     "output_type": "execute_result"
    }
   ],
   "source": [
    "sr.bruteforce(8)"
   ]
  },
  {
   "cell_type": "markdown",
   "id": "bd313638",
   "metadata": {},
   "source": [
    "__Q2. You are given two non-empty linked lists representing two non-negative integers. The digits are stored in reverse order, and each of their nodes contains a single digit. Add the two numbers and return the sum as a linked list.\n",
    "You may assume the two numbers do not contain any leading zero, except the number 0 itself.__\n"
   ]
  },
  {
   "cell_type": "code",
   "execution_count": 7,
   "id": "3655d3d4",
   "metadata": {},
   "outputs": [],
   "source": [
    "class ListNode:\n",
    "    def __init__(self,val,next=None):\n",
    "        self.value = value\n",
    "        self.next = next\n",
    "            \n",
    "        \n",
    "class Solution:\n",
    "    \n",
    "    def addTwoNumbers(self,l1: ListNode, l2: ListNode) -> ListNode:\n",
    "        head = None\n",
    "        temp = None\n",
    "        carry = 0\n",
    "        while l1 is not None or l2 is not None:\n",
    "            sum_value = carry\n",
    "            if l1 is not None:\n",
    "                sum_value += l1.val\n",
    "                l1 = l1.next\n",
    "            if l2 is not None:\n",
    "                sum_value += l2.val\n",
    "                l2 = l2.next\n",
    "            node = ListNode(sum_value % 10)\n",
    "            carry = sum_value // 10\n",
    "            if temp is None:\n",
    "                temp = head = node\n",
    "            else:\n",
    "                temp.next = node\n",
    "                temp = temp.next\n",
    "        if carry > 0:\n",
    "            temp.next = ListNode(carry)\n",
    "        return head"
   ]
  },
  {
   "cell_type": "code",
   "execution_count": 8,
   "id": "6192abcf",
   "metadata": {},
   "outputs": [],
   "source": [
    "s = Solution()"
   ]
  },
  {
   "cell_type": "code",
   "execution_count": null,
   "id": "68f08ecb",
   "metadata": {},
   "outputs": [],
   "source": []
  },
  {
   "cell_type": "code",
   "execution_count": null,
   "id": "fec5970a",
   "metadata": {},
   "outputs": [],
   "source": []
  }
 ],
 "metadata": {
  "kernelspec": {
   "display_name": "Python 3 (ipykernel)",
   "language": "python",
   "name": "python3"
  },
  "language_info": {
   "codemirror_mode": {
    "name": "ipython",
    "version": 3
   },
   "file_extension": ".py",
   "mimetype": "text/x-python",
   "name": "python",
   "nbconvert_exporter": "python",
   "pygments_lexer": "ipython3",
   "version": "3.9.13"
  }
 },
 "nbformat": 4,
 "nbformat_minor": 5
}
