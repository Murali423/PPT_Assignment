{
 "cells": [
  {
   "cell_type": "markdown",
   "id": "6db033bc",
   "metadata": {},
   "source": [
    "__Tree__"
   ]
  },
  {
   "cell_type": "code",
   "execution_count": 33,
   "id": "dca0e21f",
   "metadata": {},
   "outputs": [],
   "source": [
    "class TreeNode:\n",
    "    def __init__(self, val = 0, left = None, right = None):\n",
    "        self.val = val\n",
    "        self.left = left\n",
    "        self.right = right\n",
    "        \n",
    "class Solution:\n",
    "    \n",
    "    def __init__(self,val):\n",
    "        return TreeNode(val)\n",
    "    \n",
    "    def display(self, node:TreeNode)->TreeNode:\n",
    "        if self.node == None:\n",
    "            return None\n",
    "        print(self.node.val,end=\" \")\n",
    "        if (self.node.left != None):\n",
    "            print(self.node.left.val, end=' ')\n",
    "        if (self.node.right != None):\n",
    "            print(self.node.right.val,end=' ')\n",
    "        print('\\n')\n",
    "        self.display(self.node.left)\n",
    "        self.display(self.node.right)\n",
    "            \n",
    "#     def display(node:TreeNode):\n",
    "#         if (node == None):\n",
    "#             return None\n",
    "#         print(node.val + \" \")\n",
    "#         if (node.left != None):\n",
    "#             print(node.left.val +\" \")\n",
    "#         if (node.right != None):\n",
    "#             print(node.right.val +\" \")\n",
    "#         print(\"\\n\")\n",
    "#         display(node.left)\n",
    "#         display(node.right)\n",
    "    \n",
    "#     def valup(self):\n",
    "#         a = TreeNode(1)\n",
    "#         b = TreeNode(2)\n",
    "#         c = TreeNode(3)\n",
    "#         d = TreeNode(4)\n",
    "#         e = TreeNode(5)\n",
    "#         f = TreeNode(6)\n",
    "#         g = TreeNode(7)\n",
    "        \n",
    "        \n",
    "#         #connection to tree\n",
    "#         a.left = b\n",
    "#         a.right = c\n",
    "#         b.left = d\n",
    "#         b.right = e\n",
    "#         c.left = f\n",
    "#         c.right = g\n",
    "#         print(a.val,a.left.val,a.right.val)\n",
    "#         display(a)\n",
    "    \n",
    "#          1a\n",
    "        \n",
    "#     2b        3c\n",
    "    \n",
    "#   4d   5e    6f  7g  \n",
    "\n",
    "\n",
    "        "
   ]
  },
  {
   "cell_type": "code",
   "execution_count": 34,
   "id": "ba341ed4",
   "metadata": {},
   "outputs": [
    {
     "ename": "TypeError",
     "evalue": "__init__() should return None, not 'TreeNode'",
     "output_type": "error",
     "traceback": [
      "\u001b[1;31m---------------------------------------------------------------------------\u001b[0m",
      "\u001b[1;31mTypeError\u001b[0m                                 Traceback (most recent call last)",
      "\u001b[1;32m~\\AppData\\Local\\Temp\\ipykernel_10556\\3642891459.py\u001b[0m in \u001b[0;36m<module>\u001b[1;34m\u001b[0m\n\u001b[1;32m----> 1\u001b[1;33m \u001b[0ma\u001b[0m \u001b[1;33m=\u001b[0m \u001b[0mSolution\u001b[0m\u001b[1;33m(\u001b[0m\u001b[1;36m1\u001b[0m\u001b[1;33m)\u001b[0m\u001b[1;33m\u001b[0m\u001b[1;33m\u001b[0m\u001b[0m\n\u001b[0m\u001b[0;32m      2\u001b[0m \u001b[0mb\u001b[0m \u001b[1;33m=\u001b[0m \u001b[0mSolution\u001b[0m\u001b[1;33m(\u001b[0m\u001b[1;36m2\u001b[0m\u001b[1;33m)\u001b[0m\u001b[1;33m\u001b[0m\u001b[1;33m\u001b[0m\u001b[0m\n\u001b[0;32m      3\u001b[0m \u001b[0mc\u001b[0m \u001b[1;33m=\u001b[0m \u001b[0mSolution\u001b[0m\u001b[1;33m(\u001b[0m\u001b[1;36m3\u001b[0m\u001b[1;33m)\u001b[0m\u001b[1;33m\u001b[0m\u001b[1;33m\u001b[0m\u001b[0m\n\u001b[0;32m      4\u001b[0m \u001b[1;33m\u001b[0m\u001b[0m\n\u001b[0;32m      5\u001b[0m \u001b[0ma\u001b[0m\u001b[1;33m.\u001b[0m\u001b[0mleft\u001b[0m \u001b[1;33m=\u001b[0m \u001b[0mb\u001b[0m\u001b[1;33m\u001b[0m\u001b[1;33m\u001b[0m\u001b[0m\n",
      "\u001b[1;31mTypeError\u001b[0m: __init__() should return None, not 'TreeNode'"
     ]
    }
   ],
   "source": [
    "a = Solution(1)\n",
    "b = Solution(2)\n",
    "c = Solution(3)\n",
    "\n",
    "a.left = b\n",
    "a.right = c\n",
    "\n",
    "a.display(a)\n"
   ]
  },
  {
   "cell_type": "code",
   "execution_count": null,
   "id": "9e896055",
   "metadata": {},
   "outputs": [],
   "source": []
  },
  {
   "cell_type": "code",
   "execution_count": null,
   "id": "e9ce4ec1",
   "metadata": {},
   "outputs": [],
   "source": []
  },
  {
   "cell_type": "code",
   "execution_count": null,
   "id": "cf25fc1f",
   "metadata": {},
   "outputs": [],
   "source": []
  },
  {
   "cell_type": "code",
   "execution_count": null,
   "id": "72cdb272",
   "metadata": {},
   "outputs": [],
   "source": []
  },
  {
   "cell_type": "code",
   "execution_count": 36,
   "id": "18130378",
   "metadata": {},
   "outputs": [
    {
     "name": "stdout",
     "output_type": "stream",
     "text": [
      "<__main__.Node object at 0x0000019F214325E0>\n"
     ]
    },
    {
     "data": {
      "text/plain": [
       "<__main__.Node at 0x19f214325e0>"
      ]
     },
     "metadata": {},
     "output_type": "display_data"
    },
    {
     "name": "stdout",
     "output_type": "stream",
     "text": [
      "None\n",
      "Traverse Inorder\n",
      "10\n",
      "20\n",
      "30\n",
      "40\n",
      "60\n",
      "70\n",
      "80\n",
      "Traverse Preorder\n",
      "10\n",
      "20\n",
      "30\n",
      "40\n",
      "70\n",
      "60\n",
      "80\n",
      "Traverse Postorder\n",
      "60\n",
      "80\n",
      "70\n",
      "40\n",
      "30\n",
      "20\n",
      "10\n"
     ]
    }
   ],
   "source": [
    "class Node:\n",
    "    \"\"\"\n",
    "    Class Node\n",
    "    \"\"\"\n",
    "    def __init__(self, value):\n",
    "        self.left = None\n",
    "        self.data = value\n",
    "        self.right = None\n",
    "\n",
    "class Tree:\n",
    "    \"\"\"\n",
    "    Class tree will provide a tree as well as utility functions.\n",
    "    \"\"\"\n",
    "\n",
    "    def createNode(self, data):\n",
    "        \"\"\"\n",
    "        Utility function to create a node.\n",
    "        \"\"\"\n",
    "        return Node(data)\n",
    "\n",
    "    def insert(self, node , data):\n",
    "        \"\"\"\n",
    "        Insert function will insert a node into tree.\n",
    "        Duplicate keys are not allowed.\n",
    "        \"\"\"\n",
    "        #if tree is empty , return a root node\n",
    "        if node is None:\n",
    "            return self.createNode(data)\n",
    "        # if data is smaller than parent , insert it into left side\n",
    "        if data < node.data:\n",
    "            node.left = self.insert(node.left, data)\n",
    "        elif data > node.data:\n",
    "            node.right = self.insert(node.right, data)\n",
    "\n",
    "        return node\n",
    "    \n",
    "    def search(self, node, data):\n",
    "        \"\"\"\n",
    "        Search function will search a node into tree.\n",
    "        \"\"\"\n",
    "        # if root is None or root is the search data.\n",
    "        if node is None or node.data == data:\n",
    "            return node\n",
    "\n",
    "        if node.data < data:\n",
    "            return self.search(node.right, data)\n",
    "        else:\n",
    "            return self.search(node.left, data)\n",
    "        \n",
    "    def deleteNode(self,node,data):\n",
    "        \"\"\"\n",
    "        Delete function will delete a node into tree.\n",
    "        Not complete , may need some more scenarion that we can handle\n",
    "        Now it is handling only leaf.\n",
    "        \"\"\"\n",
    "\n",
    "        # Check if tree is empty.\n",
    "        if node is None:\n",
    "            return None\n",
    "\n",
    "        # searching key into BST.\n",
    "        if data < node.data:\n",
    "            node.left = self.deleteNode(node.left, data)\n",
    "        elif data > node.data:\n",
    "            node.right = self.deleteNode(node.right, data)\n",
    "        else: # reach to the node that need to delete from BST.\n",
    "            if node.left is None and node.right is None:\n",
    "                del node\n",
    "            if node.left == None:\n",
    "                temp = node.right\n",
    "                del node\n",
    "                return  temp\n",
    "            elif node.right == None:\n",
    "                temp = node.left\n",
    "                del node\n",
    "                return temp\n",
    "\n",
    "        return node\n",
    "    \n",
    "    def traverseInorder(self, root):\n",
    "        \"\"\"\n",
    "        traverse function will print all the node in the tree.\n",
    "        \"\"\"\n",
    "        if root is not None:\n",
    "            self.traverseInorder(root.left)\n",
    "            print(root.data)\n",
    "            self.traverseInorder(root.right)\n",
    "\n",
    "    def traversePreorder(self, root):\n",
    "        \"\"\"\n",
    "        traverse function will print all the node in the tree.\n",
    "        \"\"\"\n",
    "        if root is not None:\n",
    "            print(root.data)\n",
    "            self.traversePreorder(root.left)\n",
    "            self.traversePreorder(root.right)\n",
    "            \n",
    "    def traversePostorder(self, root):\n",
    "        \"\"\"\n",
    "        traverse function will print all the node in the tree.\n",
    "        \"\"\"\n",
    "        if root is not None:\n",
    "            self.traversePostorder(root.left)\n",
    "            self.traversePostorder(root.right)\n",
    "            print(root.data)\n",
    "    \n",
    "    def display(self,root):\n",
    "        if root == None:\n",
    "            return None\n",
    "        print(root.val,end=' ')\n",
    "        if (root.left != None):\n",
    "            print(root.left.val, end=' ')\n",
    "        if (root.right != None):\n",
    "            print(root.right.val , end=' ')\n",
    "        print('\\n')\n",
    "        self.display(root.left)\n",
    "        self.display(root.right)\n",
    "\n",
    "\n",
    "def main():\n",
    "    root = None\n",
    "    tree = Tree()\n",
    "    root = tree.insert(root, 10)\n",
    "    print(root)\n",
    "    tree.insert(root, 20)\n",
    "    tree.insert(root, 30)\n",
    "    tree.insert(root, 40)\n",
    "    tree.insert(root, 70)\n",
    "    tree.insert(root, 60)\n",
    "    tree.insert(root, 80)\n",
    "    print(display(root))\n",
    "    \n",
    "    print(\"Traverse Inorder\")\n",
    "    tree.traverseInorder(root)\n",
    "\n",
    "    print(\"Traverse Preorder\")\n",
    "    tree.traversePreorder(root)\n",
    "\n",
    "    print(\"Traverse Postorder\")\n",
    "    tree.traversePostorder(root)\n",
    "\n",
    "\n",
    "if __name__ == \"__main__\":\n",
    "    main()"
   ]
  },
  {
   "cell_type": "code",
   "execution_count": 34,
   "id": "cf11dd67",
   "metadata": {},
   "outputs": [],
   "source": [
    "#best implementation\n",
    "\n",
    "class TreeNode:\n",
    "    def __init__(self,data):\n",
    "        self.data = data\n",
    "        self.childern = []\n",
    "        \n",
    "    def insert_child(self,child):\n",
    "        self.childern.append(child)\n",
    "        \n",
    "    def remove_child(self,child):\n",
    "        self.childern.remove(child)\n",
    "        \n",
    "    def print_tree(self,level=0):\n",
    "        prefix = \" \"*level\n",
    "        print(prefix+str(self.data))\n",
    "        for child in self.childern:\n",
    "            child.print_tree(level+1)\n",
    "            \n",
    "    def size(self):\n",
    "        count = 1\n",
    "        for child in self.childern:\n",
    "            count += child.size()\n",
    "        return count\n",
    "    \n",
    "    def find_max(self):\n",
    "        max_num = self.data\n",
    "        for child in self.childern:\n",
    "            max_num = max(max_num,child.find_max())\n",
    "        return max_num\n",
    "    \n",
    "    def find_min(self):\n",
    "        min_num = self.data\n",
    "        for child in self.childern:\n",
    "            min_num = min(min_num,child.find_min())\n",
    "        return min_num\n",
    "    \n",
    "    def sum_tree(self):\n",
    "        total = self.data\n",
    "        for child in self.childern:\n",
    "            total += child.sum_tree()\n",
    "        return total\n",
    "    \n",
    "    def prod_tree(self):\n",
    "        total = self.data\n",
    "        for child in self.childern:\n",
    "            total *= child.prod_tree()\n",
    "        return total\n",
    "    \n",
    "    def height(self):\n",
    "        if not self.childern:\n",
    "            return 0\n",
    "        max_height = 0\n",
    "        for child in self.childern:\n",
    "            max_height= max(max_height,child.height())\n",
    "        return max_height+1\n",
    "        \n",
    "        "
   ]
  },
  {
   "cell_type": "code",
   "execution_count": 35,
   "id": "d993f454",
   "metadata": {},
   "outputs": [],
   "source": [
    "# Create the tree\n",
    "root = TreeNode(1)\n",
    "node_b = TreeNode(2)\n",
    "node_c = TreeNode(3)\n",
    "node_d = TreeNode(4)\n",
    "node_e = TreeNode(5)\n",
    "\n",
    "#linking\n",
    "root.insert_child(node_b)\n",
    "root.insert_child(node_c)\n",
    "node_b.insert_child(node_d)\n",
    "node_b.insert_child(node_e)\n"
   ]
  },
  {
   "cell_type": "code",
   "execution_count": 36,
   "id": "b444e821",
   "metadata": {},
   "outputs": [
    {
     "name": "stdout",
     "output_type": "stream",
     "text": [
      "1\n",
      " 2\n",
      "  4\n",
      "  5\n",
      " 3\n"
     ]
    }
   ],
   "source": [
    "root.print_tree()"
   ]
  },
  {
   "cell_type": "code",
   "execution_count": 37,
   "id": "3f78b000",
   "metadata": {},
   "outputs": [
    {
     "data": {
      "text/plain": [
       "5"
      ]
     },
     "execution_count": 37,
     "metadata": {},
     "output_type": "execute_result"
    }
   ],
   "source": [
    "root.size()"
   ]
  },
  {
   "cell_type": "code",
   "execution_count": 8,
   "id": "b9474e49",
   "metadata": {},
   "outputs": [
    {
     "name": "stdout",
     "output_type": "stream",
     "text": [
      "A\n",
      " C\n"
     ]
    }
   ],
   "source": [
    "root.remove_child(node_b)\n",
    "root.print_tree()"
   ]
  },
  {
   "cell_type": "code",
   "execution_count": 38,
   "id": "961981a7",
   "metadata": {},
   "outputs": [
    {
     "data": {
      "text/plain": [
       "5"
      ]
     },
     "execution_count": 38,
     "metadata": {},
     "output_type": "execute_result"
    }
   ],
   "source": [
    "root.find_max()\n"
   ]
  },
  {
   "cell_type": "code",
   "execution_count": 39,
   "id": "f2c6fd8c",
   "metadata": {},
   "outputs": [
    {
     "data": {
      "text/plain": [
       "1"
      ]
     },
     "execution_count": 39,
     "metadata": {},
     "output_type": "execute_result"
    }
   ],
   "source": [
    "root.find_min()"
   ]
  },
  {
   "cell_type": "code",
   "execution_count": 40,
   "id": "e33cb1da",
   "metadata": {},
   "outputs": [
    {
     "data": {
      "text/plain": [
       "15"
      ]
     },
     "execution_count": 40,
     "metadata": {},
     "output_type": "execute_result"
    }
   ],
   "source": [
    "root.sum_tree()"
   ]
  },
  {
   "cell_type": "code",
   "execution_count": 41,
   "id": "da90611f",
   "metadata": {},
   "outputs": [
    {
     "data": {
      "text/plain": [
       "120"
      ]
     },
     "execution_count": 41,
     "metadata": {},
     "output_type": "execute_result"
    }
   ],
   "source": [
    "root.prod_tree()"
   ]
  },
  {
   "cell_type": "code",
   "execution_count": 42,
   "id": "d20d92bb",
   "metadata": {},
   "outputs": [
    {
     "data": {
      "text/plain": [
       "2"
      ]
     },
     "execution_count": 42,
     "metadata": {},
     "output_type": "execute_result"
    }
   ],
   "source": [
    "root.height()"
   ]
  },
  {
   "cell_type": "code",
   "execution_count": null,
   "id": "036d34bd",
   "metadata": {},
   "outputs": [],
   "source": []
  }
 ],
 "metadata": {
  "kernelspec": {
   "display_name": "Python 3 (ipykernel)",
   "language": "python",
   "name": "python3"
  },
  "language_info": {
   "codemirror_mode": {
    "name": "ipython",
    "version": 3
   },
   "file_extension": ".py",
   "mimetype": "text/x-python",
   "name": "python",
   "nbconvert_exporter": "python",
   "pygments_lexer": "ipython3",
   "version": "3.9.13"
  }
 },
 "nbformat": 4,
 "nbformat_minor": 5
}
