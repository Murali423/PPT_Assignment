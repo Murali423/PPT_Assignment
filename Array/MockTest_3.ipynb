{
 "cells": [
  {
   "cell_type": "markdown",
   "id": "559f1eda",
   "metadata": {},
   "source": [
    "__Q1.Implement a stack using a list in Python. Include the necessary methods such as push, pop, and isEmpty.__"
   ]
  },
  {
   "cell_type": "code",
   "execution_count": 4,
   "id": "896a38a8",
   "metadata": {},
   "outputs": [],
   "source": [
    "class MyStack:\n",
    "    def __init__(self):\n",
    "        self.stack =[]\n",
    "        \n",
    "    def push(self,val):\n",
    "        self.stack.append(val)\n",
    "        \n",
    "    def isEmpty(self):\n",
    "        return len(self.stack) == 0\n",
    "    \n",
    "    def pop(self):\n",
    "        if self.isEmpty():\n",
    "            return 'Stack is Empty. Stack is Underflowing'\n",
    "        return self.stack.pop()\n",
    "    \n",
    "    def display(self):\n",
    "        if self.isEmpty():\n",
    "            return 'Stack is Empty.'\n",
    "        return self.stack\n",
    "        "
   ]
  },
  {
   "cell_type": "code",
   "execution_count": 5,
   "id": "638246e8",
   "metadata": {},
   "outputs": [
    {
     "name": "stdout",
     "output_type": "stream",
     "text": [
      "Stack is Empty.\n"
     ]
    }
   ],
   "source": [
    "st = MyStack()\n",
    "print(st.display())"
   ]
  },
  {
   "cell_type": "code",
   "execution_count": 6,
   "id": "e2a6c9a8",
   "metadata": {},
   "outputs": [],
   "source": [
    "st.push(4)\n",
    "st.push(5)\n",
    "st.push(20)\n",
    "st.push(30)\n",
    "st.push(80)\n",
    "st.push(90)"
   ]
  },
  {
   "cell_type": "code",
   "execution_count": 7,
   "id": "a0036015",
   "metadata": {},
   "outputs": [
    {
     "name": "stdout",
     "output_type": "stream",
     "text": [
      "[4, 5, 20, 30, 80, 90]\n"
     ]
    }
   ],
   "source": [
    "print(st.display())"
   ]
  },
  {
   "cell_type": "code",
   "execution_count": 8,
   "id": "fab598b8",
   "metadata": {},
   "outputs": [
    {
     "data": {
      "text/plain": [
       "80"
      ]
     },
     "execution_count": 8,
     "metadata": {},
     "output_type": "execute_result"
    }
   ],
   "source": [
    "st.pop()\n",
    "st.pop()"
   ]
  },
  {
   "cell_type": "code",
   "execution_count": 9,
   "id": "da2d82f6",
   "metadata": {},
   "outputs": [
    {
     "name": "stdout",
     "output_type": "stream",
     "text": [
      "[4, 5, 20, 30]\n"
     ]
    }
   ],
   "source": [
    "print(st.display())"
   ]
  },
  {
   "cell_type": "markdown",
   "id": "03645c4a",
   "metadata": {},
   "source": [
    "__Q2.Implement a queue using a list in Python. Include the necessary methods such as enqueue, dequeue, and isEmpty.__"
   ]
  },
  {
   "cell_type": "code",
   "execution_count": 13,
   "id": "a1161a10",
   "metadata": {},
   "outputs": [],
   "source": [
    "class Myqueue:\n",
    "    def __init__(self):\n",
    "        self.queue =[]\n",
    "        \n",
    "    def push(self,val):\n",
    "        self.queue.append(val)\n",
    "        \n",
    "    def isEmpty(self):\n",
    "        return len(self.queue) == 0\n",
    "    \n",
    "    def pop(self):\n",
    "        if self.isEmpty():\n",
    "            return 'Queue is Empty. Queue is Underflowing'\n",
    "        return self.queue.pop(0)\n",
    "    \n",
    "    def display(self):\n",
    "        if self.isEmpty():\n",
    "            return 'Queue is Empty.'\n",
    "        return self.queue"
   ]
  },
  {
   "cell_type": "code",
   "execution_count": 14,
   "id": "a866cdfe",
   "metadata": {},
   "outputs": [],
   "source": [
    "qu = Myqueue()"
   ]
  },
  {
   "cell_type": "code",
   "execution_count": 15,
   "id": "0cdd7d1c",
   "metadata": {},
   "outputs": [
    {
     "name": "stdout",
     "output_type": "stream",
     "text": [
      "Queue is Empty.\n"
     ]
    }
   ],
   "source": [
    "print(qu.display())"
   ]
  },
  {
   "cell_type": "code",
   "execution_count": 16,
   "id": "36123d93",
   "metadata": {},
   "outputs": [],
   "source": [
    "qu.push(40)\n",
    "qu.push(4)\n",
    "qu.push(90)\n",
    "qu.push(70)\n",
    "qu.push(8)"
   ]
  },
  {
   "cell_type": "code",
   "execution_count": 17,
   "id": "22e1fc98",
   "metadata": {},
   "outputs": [
    {
     "name": "stdout",
     "output_type": "stream",
     "text": [
      "[40, 4, 90, 70, 8]\n"
     ]
    }
   ],
   "source": [
    "print(qu.display())"
   ]
  },
  {
   "cell_type": "code",
   "execution_count": 18,
   "id": "f3100938",
   "metadata": {},
   "outputs": [
    {
     "data": {
      "text/plain": [
       "40"
      ]
     },
     "execution_count": 18,
     "metadata": {},
     "output_type": "execute_result"
    }
   ],
   "source": [
    "qu.pop()"
   ]
  },
  {
   "cell_type": "code",
   "execution_count": 19,
   "id": "70b00f35",
   "metadata": {},
   "outputs": [
    {
     "data": {
      "text/plain": [
       "4"
      ]
     },
     "execution_count": 19,
     "metadata": {},
     "output_type": "execute_result"
    }
   ],
   "source": [
    "qu.pop()"
   ]
  },
  {
   "cell_type": "code",
   "execution_count": 20,
   "id": "703bfdc1",
   "metadata": {},
   "outputs": [
    {
     "name": "stdout",
     "output_type": "stream",
     "text": [
      "[90, 70, 8]\n"
     ]
    }
   ],
   "source": [
    "print(qu.display())"
   ]
  },
  {
   "cell_type": "code",
   "execution_count": null,
   "id": "59b77d94",
   "metadata": {},
   "outputs": [],
   "source": []
  }
 ],
 "metadata": {
  "kernelspec": {
   "display_name": "Python 3 (ipykernel)",
   "language": "python",
   "name": "python3"
  },
  "language_info": {
   "codemirror_mode": {
    "name": "ipython",
    "version": 3
   },
   "file_extension": ".py",
   "mimetype": "text/x-python",
   "name": "python",
   "nbconvert_exporter": "python",
   "pygments_lexer": "ipython3",
   "version": "3.9.13"
  }
 },
 "nbformat": 4,
 "nbformat_minor": 5
}
