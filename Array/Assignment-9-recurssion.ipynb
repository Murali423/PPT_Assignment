{
 "cells": [
  {
   "cell_type": "markdown",
   "id": "4c735a03",
   "metadata": {},
   "source": [
    "__Q1.Given an integer `n`, return *`true` if it is a power of two. Otherwise, return `false`*.\n",
    "An integer `n` is a power of two, if there exists an integer `x` such that `n == 2x`.__"
   ]
  },
  {
   "cell_type": "code",
   "execution_count": 1,
   "id": "65ea12c5",
   "metadata": {},
   "outputs": [],
   "source": [
    "from typing import List"
   ]
  },
  {
   "cell_type": "code",
   "execution_count": 17,
   "id": "b00fe738",
   "metadata": {},
   "outputs": [],
   "source": [
    "class Solution:\n",
    "    def isPowerofTwo(self, n:int)->bool:\n",
    "        #print(n)\n",
    "        if (n == 1): return True\n",
    "        if (n < 1 or n%2 != 0): return False\n",
    "        return self.isPowerofTwo( n//2)"
   ]
  },
  {
   "cell_type": "code",
   "execution_count": 18,
   "id": "56c62232",
   "metadata": {},
   "outputs": [
    {
     "name": "stdout",
     "output_type": "stream",
     "text": [
      "True\n"
     ]
    }
   ],
   "source": [
    "pow2 = Solution()\n",
    "\n",
    "print(pow2.isPowerofTwo(16))"
   ]
  },
  {
   "cell_type": "code",
   "execution_count": 19,
   "id": "df4b3b18",
   "metadata": {},
   "outputs": [
    {
     "name": "stdout",
     "output_type": "stream",
     "text": [
      "False\n"
     ]
    }
   ],
   "source": [
    "print(pow2.isPowerofTwo(26))"
   ]
  },
  {
   "cell_type": "code",
   "execution_count": 20,
   "id": "dd5683be",
   "metadata": {},
   "outputs": [
    {
     "name": "stdout",
     "output_type": "stream",
     "text": [
      "True\n"
     ]
    }
   ],
   "source": [
    "print(pow2.isPowerofTwo(1))"
   ]
  },
  {
   "cell_type": "markdown",
   "id": "f1476176",
   "metadata": {},
   "source": [
    "__Q2.Given a number n, find the sum of the first natural numbers.__"
   ]
  },
  {
   "cell_type": "code",
   "execution_count": 24,
   "id": "066edd2a",
   "metadata": {},
   "outputs": [],
   "source": [
    "class Solution:\n",
    "    def sumOfNum(self, n:int)->int:\n",
    "        if (n == 1): return 1\n",
    "        if (n < 1): return 'Please Enter Positive numbers only'\n",
    "        return n+self.sumOfNum(n-1)"
   ]
  },
  {
   "cell_type": "code",
   "execution_count": 25,
   "id": "21bc481a",
   "metadata": {},
   "outputs": [
    {
     "name": "stdout",
     "output_type": "stream",
     "text": [
      "6\n"
     ]
    }
   ],
   "source": [
    "sumn = Solution()\n",
    "print(sumn.sumOfNum(3))"
   ]
  },
  {
   "cell_type": "code",
   "execution_count": 26,
   "id": "3ae2f378",
   "metadata": {},
   "outputs": [
    {
     "name": "stdout",
     "output_type": "stream",
     "text": [
      "5050\n"
     ]
    }
   ],
   "source": [
    "print(sumn.sumOfNum(100))"
   ]
  },
  {
   "cell_type": "code",
   "execution_count": 27,
   "id": "babca13f",
   "metadata": {},
   "outputs": [
    {
     "name": "stdout",
     "output_type": "stream",
     "text": [
      "Please Enter Positive numbers only\n"
     ]
    }
   ],
   "source": [
    "print(sumn.sumOfNum(-12))"
   ]
  },
  {
   "cell_type": "code",
   "execution_count": 28,
   "id": "a68ebd65",
   "metadata": {},
   "outputs": [
    {
     "name": "stdout",
     "output_type": "stream",
     "text": [
      "1\n"
     ]
    }
   ],
   "source": [
    "print(sumn.sumOfNum(1))"
   ]
  },
  {
   "cell_type": "code",
   "execution_count": 29,
   "id": "deb30e28",
   "metadata": {},
   "outputs": [
    {
     "name": "stdout",
     "output_type": "stream",
     "text": [
      "Please Enter Positive numbers only\n"
     ]
    }
   ],
   "source": [
    "print(sumn.sumOfNum(0))"
   ]
  },
  {
   "cell_type": "markdown",
   "id": "8a06d3f9",
   "metadata": {},
   "source": [
    "__Q3.Given a positive integer, N. Find the factorial of N.__"
   ]
  },
  {
   "cell_type": "code",
   "execution_count": 30,
   "id": "22d476ab",
   "metadata": {},
   "outputs": [],
   "source": [
    "class Solution:\n",
    "    def factioral(self, n:int)->int:\n",
    "        if (n == 0 or n == 1): return 1\n",
    "        if (n < 0): return 'Please Enter Positive Number'\n",
    "        return n*self.factioral(n-1)"
   ]
  },
  {
   "cell_type": "code",
   "execution_count": 31,
   "id": "533255c5",
   "metadata": {},
   "outputs": [
    {
     "name": "stdout",
     "output_type": "stream",
     "text": [
      "120\n"
     ]
    }
   ],
   "source": [
    "fact = Solution()\n",
    "print(fact.factioral(5))"
   ]
  },
  {
   "cell_type": "code",
   "execution_count": 32,
   "id": "3dfa4132",
   "metadata": {},
   "outputs": [
    {
     "name": "stdout",
     "output_type": "stream",
     "text": [
      "Please Enter Positive Number\n"
     ]
    }
   ],
   "source": [
    "print(fact.factioral(-5))"
   ]
  },
  {
   "cell_type": "code",
   "execution_count": 33,
   "id": "018b89e1",
   "metadata": {},
   "outputs": [
    {
     "name": "stdout",
     "output_type": "stream",
     "text": [
      "1\n"
     ]
    }
   ],
   "source": [
    "print(fact.factioral(0))"
   ]
  },
  {
   "cell_type": "code",
   "execution_count": 34,
   "id": "3ff0b4bc",
   "metadata": {},
   "outputs": [
    {
     "name": "stdout",
     "output_type": "stream",
     "text": [
      "1\n"
     ]
    }
   ],
   "source": [
    "print(fact.factioral(1))"
   ]
  },
  {
   "cell_type": "code",
   "execution_count": 35,
   "id": "06562418",
   "metadata": {},
   "outputs": [
    {
     "name": "stdout",
     "output_type": "stream",
     "text": [
      "24\n"
     ]
    }
   ],
   "source": [
    "print(fact.factioral(4))"
   ]
  },
  {
   "cell_type": "markdown",
   "id": "fb8d88a9",
   "metadata": {},
   "source": [
    "__Q4.Given a number N and a power P, the task is to find the exponent of this number raised to the given power, i.e. N^P.__"
   ]
  },
  {
   "cell_type": "code",
   "execution_count": 47,
   "id": "4c1ba4a4",
   "metadata": {},
   "outputs": [],
   "source": [
    "class Solution:\n",
    "    def powerofP(self, n:int,p:int)->int:\n",
    "        if (p == 1): return n\n",
    "        if (n == 0 and p>0): \n",
    "            return 1\n",
    "        return n*self.powerofP(n,p-1)"
   ]
  },
  {
   "cell_type": "code",
   "execution_count": 48,
   "id": "f4644831",
   "metadata": {},
   "outputs": [
    {
     "name": "stdout",
     "output_type": "stream",
     "text": [
      "32\n"
     ]
    }
   ],
   "source": [
    "pw = Solution()\n",
    "print(pw.powerofP(2,5))"
   ]
  },
  {
   "cell_type": "code",
   "execution_count": 49,
   "id": "c7fac7e1",
   "metadata": {},
   "outputs": [
    {
     "name": "stdout",
     "output_type": "stream",
     "text": [
      "100000\n"
     ]
    }
   ],
   "source": [
    "print(pw.powerofP(10,5))"
   ]
  },
  {
   "cell_type": "code",
   "execution_count": 51,
   "id": "b447e5c3",
   "metadata": {},
   "outputs": [
    {
     "name": "stdout",
     "output_type": "stream",
     "text": [
      "1\n"
     ]
    }
   ],
   "source": [
    "print(pw.powerofP(0,5))"
   ]
  },
  {
   "cell_type": "markdown",
   "id": "195a2f86",
   "metadata": {},
   "source": [
    "__Q5.Given an array of integers arr, the task is to find maximum element of that array using recursion__"
   ]
  },
  {
   "cell_type": "code",
   "execution_count": 66,
   "id": "61674a7b",
   "metadata": {},
   "outputs": [],
   "source": [
    "class Solution:\n",
    "    def maxEle(self, nums: List[int], l: int)->int:\n",
    "        if (l == 0): return nums[0]\n",
    "        return max(nums[l-1],self.maxEle(nums,l-1))"
   ]
  },
  {
   "cell_type": "code",
   "execution_count": 67,
   "id": "0cee0696",
   "metadata": {},
   "outputs": [
    {
     "name": "stdout",
     "output_type": "stream",
     "text": [
      "45\n"
     ]
    }
   ],
   "source": [
    "me = Solution()\n",
    "a = [1, 4, 45, 6, -50, 10, 2]\n",
    "l = len(a)\n",
    "print(me.maxEle(a,l))"
   ]
  },
  {
   "cell_type": "code",
   "execution_count": 68,
   "id": "befd585a",
   "metadata": {},
   "outputs": [
    {
     "name": "stdout",
     "output_type": "stream",
     "text": [
      "8\n"
     ]
    }
   ],
   "source": [
    "a = [1, 4, 3, -5, -4, 8, 6]\n",
    "l = len(a)\n",
    "print(me.maxEle(a,l))"
   ]
  },
  {
   "cell_type": "markdown",
   "id": "c335423d",
   "metadata": {},
   "source": [
    "__Q6. Given first term (a), common difference (d) and a integer N of the Arithmetic Progression series, the task is to find Nth term of the series.__"
   ]
  },
  {
   "cell_type": "code",
   "execution_count": 105,
   "id": "94a7270c",
   "metadata": {},
   "outputs": [],
   "source": [
    "class Solution:\n",
    "    def apNterm(self, a: int, d:int,n:int)->int:\n",
    "        if n == 0: return a\n",
    "        if n == 1 :return d\n",
    "        return a+self.apNterm(a,d,n-1)\n",
    "    def brutforce(self, a: int, d:int,n:int)->int:\n",
    "        return a+(n-1)*d"
   ]
  },
  {
   "cell_type": "code",
   "execution_count": 106,
   "id": "8c86eeb7",
   "metadata": {},
   "outputs": [
    {
     "data": {
      "text/plain": [
       "7"
      ]
     },
     "execution_count": 106,
     "metadata": {},
     "output_type": "execute_result"
    }
   ],
   "source": [
    "ap = Solution()\n",
    "ap.apNterm(2,1,4)"
   ]
  },
  {
   "cell_type": "code",
   "execution_count": 107,
   "id": "f070898d",
   "metadata": {},
   "outputs": [
    {
     "data": {
      "text/plain": [
       "6"
      ]
     },
     "execution_count": 107,
     "metadata": {},
     "output_type": "execute_result"
    }
   ],
   "source": [
    "ap.brutforce(2,1,5)"
   ]
  },
  {
   "cell_type": "markdown",
   "id": "f2cac1e2",
   "metadata": {},
   "source": [
    "__Q7. Given a string S, the task is to write a program to print all permutations of a given string.__"
   ]
  },
  {
   "cell_type": "code",
   "execution_count": null,
   "id": "24fd7558",
   "metadata": {},
   "outputs": [],
   "source": []
  },
  {
   "cell_type": "code",
   "execution_count": null,
   "id": "02dd9807",
   "metadata": {},
   "outputs": [],
   "source": []
  },
  {
   "cell_type": "markdown",
   "id": "52527dad",
   "metadata": {},
   "source": [
    "__Q8.Given an array, find a product of all array elements__"
   ]
  },
  {
   "cell_type": "code",
   "execution_count": 112,
   "id": "4c21cc45",
   "metadata": {},
   "outputs": [],
   "source": [
    "class Solution:\n",
    "    def prod(self, nums:List[int])->int:\n",
    "        if not nums:\n",
    "            return 1\n",
    "        return nums[0]*self.prod(nums[1:])"
   ]
  },
  {
   "cell_type": "code",
   "execution_count": 113,
   "id": "d1945823",
   "metadata": {},
   "outputs": [
    {
     "data": {
      "text/plain": [
       "120"
      ]
     },
     "execution_count": 113,
     "metadata": {},
     "output_type": "execute_result"
    }
   ],
   "source": [
    "p = Solution()\n",
    "p.prod([1, 2, 3, 4, 5])"
   ]
  },
  {
   "cell_type": "code",
   "execution_count": null,
   "id": "8709eb26",
   "metadata": {},
   "outputs": [],
   "source": []
  }
 ],
 "metadata": {
  "kernelspec": {
   "display_name": "Python 3 (ipykernel)",
   "language": "python",
   "name": "python3"
  },
  "language_info": {
   "codemirror_mode": {
    "name": "ipython",
    "version": 3
   },
   "file_extension": ".py",
   "mimetype": "text/x-python",
   "name": "python",
   "nbconvert_exporter": "python",
   "pygments_lexer": "ipython3",
   "version": "3.9.13"
  }
 },
 "nbformat": 4,
 "nbformat_minor": 5
}
