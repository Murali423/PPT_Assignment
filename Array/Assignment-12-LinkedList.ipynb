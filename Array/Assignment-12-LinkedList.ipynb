{
 "cells": [
  {
   "cell_type": "markdown",
   "id": "5949dcff",
   "metadata": {},
   "source": [
    "__Q1.Given a singly linked list, delete middle of the linked list. For example, if given linked list is 1->2->3->4->5 then linked list should be modified to 1->2->4->5.If there are even nodes, then there would be two middle nodes, we need to delete the second middle element. For example, if given linked list is 1->2->3->4->5->6 then it should be modified to 1->2->3->5->6.If the input linked list is NULL or has 1 node, then it should return NULL__"
   ]
  },
  {
   "cell_type": "code",
   "execution_count": 1,
   "id": "936d7393",
   "metadata": {},
   "outputs": [],
   "source": [
    "class Node:\n",
    "    def __init__(self,data):\n",
    "        self.data = data\n",
    "        self.next = None\n",
    "class LinkedList:\n",
    "    def __init__(self):\n",
    "        self.head = None\n",
    "        \n",
    "    def addToList(self,data):\n",
    "        newnode = Node(data)\n",
    "        if self.head is None:\n",
    "            self.head = newnode\n",
    "            return\n",
    "        last = self.head\n",
    "        while last.next:\n",
    "            last = last.next\n",
    "        last.next = newnode\n",
    "    \n",
    "    def __str__(self):\n",
    "        linkedListstr = \"\"\n",
    "        temp = self.head\n",
    "        while temp:\n",
    "            linkedListstr += str(temp.data)+\"->\"\n",
    "            temp = temp.next\n",
    "        return linkedListstr+\"NULL\"\n",
    "    \n",
    "    def deleteMid(self):\n",
    "        if (self.head is None or self.head.next is None):\n",
    "            return\n",
    "        slow_ptr = self.head\n",
    "        fast_ptr = self.head\n",
    "        prev = None\n",
    "        \n",
    "        while (fast_ptr is not None and fast_ptr.next is not None):\n",
    "            fast_ptr = fast_ptr.next.next\n",
    "            prev = slow_ptr\n",
    "            slow_ptr = slow_ptr.next\n",
    "            \n",
    "        prev.next = slow_ptr.next"
   ]
  },
  {
   "cell_type": "code",
   "execution_count": 2,
   "id": "6660796a",
   "metadata": {},
   "outputs": [
    {
     "name": "stdout",
     "output_type": "stream",
     "text": [
      "1->2->3->4->5->NULL\n"
     ]
    }
   ],
   "source": [
    "linkedList = LinkedList()\n",
    "linkedList.addToList(1)\n",
    "linkedList.addToList(2)\n",
    "linkedList.addToList(3)\n",
    "linkedList.addToList(4)\n",
    "linkedList.addToList(5)\n",
    "print(linkedList)"
   ]
  },
  {
   "cell_type": "code",
   "execution_count": 3,
   "id": "f643b8dc",
   "metadata": {},
   "outputs": [
    {
     "name": "stdout",
     "output_type": "stream",
     "text": [
      "1->2->4->5->NULL\n"
     ]
    }
   ],
   "source": [
    "linkedList.deleteMid()\n",
    "print(linkedList)"
   ]
  },
  {
   "cell_type": "code",
   "execution_count": 4,
   "id": "8c2a6093",
   "metadata": {},
   "outputs": [
    {
     "name": "stdout",
     "output_type": "stream",
     "text": [
      "1->2->3->4->5->6->NULL\n"
     ]
    }
   ],
   "source": [
    "linkedList = LinkedList()\n",
    "linkedList.addToList(1)\n",
    "linkedList.addToList(2)\n",
    "linkedList.addToList(3)\n",
    "linkedList.addToList(4)\n",
    "linkedList.addToList(5)\n",
    "linkedList.addToList(6)\n",
    "print(linkedList)"
   ]
  },
  {
   "cell_type": "code",
   "execution_count": 5,
   "id": "3c1b8390",
   "metadata": {},
   "outputs": [
    {
     "name": "stdout",
     "output_type": "stream",
     "text": [
      "1->2->3->5->6->NULL\n"
     ]
    }
   ],
   "source": [
    "linkedList.deleteMid()\n",
    "print(linkedList)"
   ]
  },
  {
   "cell_type": "markdown",
   "id": "12df1403",
   "metadata": {},
   "source": [
    "__Q2.Given a linked list of N nodes. The task is to check if the linked list has a loop. Linked list can contain self loop.__"
   ]
  },
  {
   "cell_type": "code",
   "execution_count": 6,
   "id": "1fe8ea89",
   "metadata": {},
   "outputs": [],
   "source": [
    "from typing import *\n",
    "class ListNode:\n",
    "    def __init__(self, data, next=None):\n",
    "        self.data = data\n",
    "        self.next = next\n",
    "        \n",
    "class Solution:\n",
    "    def checkLoop(self,head)->bool:\n",
    "        slowptr = head\n",
    "        fastptr = head\n",
    "        if fastptr is not None and fastptr.next is not None:\n",
    "            slowptr = slowptr.next\n",
    "            fastptr = fastptr.next.next\n",
    "            if slowptr == fastptr:\n",
    "                return True\n",
    "            return False"
   ]
  },
  {
   "cell_type": "code",
   "execution_count": 7,
   "id": "3850eaa8",
   "metadata": {},
   "outputs": [],
   "source": [
    "hn = Solution()"
   ]
  },
  {
   "cell_type": "markdown",
   "id": "d18533e1",
   "metadata": {},
   "source": [
    "__Q3.Given a linked list consisting of L nodes and given a number N. The task is to find the Nth node from the end of the linked list.__"
   ]
  },
  {
   "cell_type": "code",
   "execution_count": 8,
   "id": "1035567e",
   "metadata": {},
   "outputs": [],
   "source": [
    "class Node:\n",
    "    def __init__(self,data,next=None):\n",
    "        self.data = data\n",
    "        self.next = next\n",
    "    \n",
    "class linkedList:\n",
    "    def __init__(self):\n",
    "        self.head = None\n",
    "        \n",
    "    def push(self,new_data):\n",
    "        new_node = Node(new_data)\n",
    "        new_node.next = self.head\n",
    "        self.head = new_node\n",
    "\n",
    "    def __str__(self):\n",
    "        linkedListstr = \"\"\n",
    "        temp = self.head\n",
    "        while temp:\n",
    "            linkedListstr += str(temp.data)+\"->\"\n",
    "            temp = temp.next\n",
    "        return linkedListstr+\"NULL\"\n",
    "    \n",
    "        \n",
    "    def printNele(self,n):\n",
    "        tmp = self.head\n",
    "        length = 0\n",
    "        while (tmp is not None):\n",
    "            tmp = tmp.next\n",
    "            length += 1\n",
    "        if n > length:\n",
    "            print('Location is greater than the' +\n",
    "                  ' length of LinkedList')\n",
    "            return\n",
    "        tmp = self.head\n",
    "        for i in range(length-n):\n",
    "            tmp = tmp.next\n",
    "        return tmp.data\n",
    "            "
   ]
  },
  {
   "cell_type": "code",
   "execution_count": 9,
   "id": "681520a4",
   "metadata": {},
   "outputs": [],
   "source": [
    "pn = linkedList()\n"
   ]
  },
  {
   "cell_type": "code",
   "execution_count": 10,
   "id": "361688b0",
   "metadata": {},
   "outputs": [],
   "source": [
    "pn.push(1)\n",
    "pn.push(2)\n",
    "pn.push(3)\n",
    "pn.push(4)\n",
    "pn.push(5)"
   ]
  },
  {
   "cell_type": "code",
   "execution_count": 11,
   "id": "8e47ec0e",
   "metadata": {},
   "outputs": [
    {
     "name": "stdout",
     "output_type": "stream",
     "text": [
      "5->4->3->2->1->NULL\n"
     ]
    }
   ],
   "source": [
    "print(pn)"
   ]
  },
  {
   "cell_type": "code",
   "execution_count": 12,
   "id": "3c285605",
   "metadata": {},
   "outputs": [
    {
     "data": {
      "text/plain": [
       "2"
      ]
     },
     "execution_count": 12,
     "metadata": {},
     "output_type": "execute_result"
    }
   ],
   "source": [
    "pn.printNele(2)"
   ]
  },
  {
   "cell_type": "markdown",
   "id": "ce41a084",
   "metadata": {},
   "source": [
    "__Q4.Given a singly linked list of characters, write a function that returns true if the given list is a palindrome, else false.__ "
   ]
  },
  {
   "cell_type": "code",
   "execution_count": 25,
   "id": "a2b51e93",
   "metadata": {},
   "outputs": [],
   "source": [
    "class ListNode:\n",
    "    def __init__(self,data,next=None):\n",
    "        self.data = data\n",
    "        self.next = next\n",
    "        \n",
    "class LinkedList:\n",
    "    def __init__(self):\n",
    "        self.head = None\n",
    "        \n",
    "    def addData(self,data):\n",
    "        newnode = ListNode(data)\n",
    "        if self.head is None:\n",
    "            self.head = newnode\n",
    "            return\n",
    "        last = self.head\n",
    "        while last.next:\n",
    "            last = last.next\n",
    "        last.next = newnode\n",
    "    \n",
    "    def __str__(self):\n",
    "        linkedListstr = \"\"\n",
    "        temp = self.head\n",
    "        while temp:\n",
    "            linkedListstr += str(temp.data)+\"->\"\n",
    "            temp = temp.next\n",
    "        return linkedListstr+\"NULL\"\n",
    "    \n",
    "    def reverse(self, head):\n",
    "        prev = None\n",
    "        current = head\n",
    "        while current is not None:\n",
    "            next = current.next\n",
    "            current.next = prev\n",
    "            prev = current\n",
    "            current = next\n",
    "        head = prev\n",
    "        return head\n",
    "        \n",
    "    def palindrome(self):\n",
    "        if self.head is None or self.head.next is None:\n",
    "            return True\n",
    "        slow = self.head\n",
    "        fast = self.head\n",
    "        \n",
    "        while (fast.next and fast.next.next ):\n",
    "            slow = slow.next\n",
    "            fast = fast.next.next\n",
    "            \n",
    "        slow.next = self.reverse(slow.next)\n",
    "        slow = slow.next\n",
    "        while slow:\n",
    "            if self.head.data != slow.data:\n",
    "                return False\n",
    "            self.head = self.head.next\n",
    "            slow = slow.next\n",
    "        return True\n",
    "        "
   ]
  },
  {
   "cell_type": "code",
   "execution_count": 26,
   "id": "df3911a9",
   "metadata": {},
   "outputs": [
    {
     "name": "stdout",
     "output_type": "stream",
     "text": [
      "R->A->D->A->R->NULL\n"
     ]
    }
   ],
   "source": [
    "pl = LinkedList()\n",
    "pl.addData('R')\n",
    "pl.addData('A')\n",
    "pl.addData('D')\n",
    "pl.addData('A')\n",
    "pl.addData('R')\n",
    "print(pl)"
   ]
  },
  {
   "cell_type": "code",
   "execution_count": 27,
   "id": "b39db256",
   "metadata": {},
   "outputs": [
    {
     "data": {
      "text/plain": [
       "True"
      ]
     },
     "execution_count": 27,
     "metadata": {},
     "output_type": "execute_result"
    }
   ],
   "source": [
    "pl.palindrome()"
   ]
  },
  {
   "cell_type": "markdown",
   "id": "219f7d42",
   "metadata": {},
   "source": [
    "__Q5.Given a linked list of **N** nodes such that it may contain a loop.\n",
    "A loop here means that the last node of the link list is connected to the node at position X(1-based index). If the link list does not have any loop, X=0.\n",
    "Remove the loop from the linked list, if it is present, i.e. unlink the last node which is forming the loop.__"
   ]
  },
  {
   "cell_type": "code",
   "execution_count": 28,
   "id": "38a8b84d",
   "metadata": {},
   "outputs": [
    {
     "name": "stdout",
     "output_type": "stream",
     "text": [
      "Linked List after removing loop\n",
      "50 20 15 4 10 "
     ]
    }
   ],
   "source": [
    "# Python program to detect and remove loop in linked list\n",
    "\n",
    "# Node class\n",
    "class Node:\n",
    "\n",
    "\t# Constructor to initialize the node object\n",
    "\tdef __init__(self, data):\n",
    "\t\tself.data = data\n",
    "\t\tself.next = None\n",
    "\n",
    "class LinkedList:\n",
    "\n",
    "\t# Function to initialize head\n",
    "\tdef __init__(self):\n",
    "\t\tself.head = None\n",
    "\n",
    "\tdef detectAndRemoveLoop(self):\n",
    "\t\tslow_p = fast_p = self.head\n",
    "\t\t\n",
    "\t\twhile(slow_p and fast_p and fast_p.next):\n",
    "\t\t\tslow_p = slow_p.next\n",
    "\t\t\tfast_p = fast_p.next.next\n",
    "\n",
    "\t\t\t# If slow_p and fast_p meet at some point then\n",
    "\t\t\t# there is a loop\n",
    "\t\t\tif slow_p == fast_p:\n",
    "\t\t\t\tself.removeLoop(slow_p)\n",
    "\t\t\n",
    "\t\t\t\t# Return 1 to indicate that loop is found\n",
    "\t\t\t\treturn 1\n",
    "\t\t\n",
    "\t\t# Return 0 to indicate that there is no loop\n",
    "\t\treturn 0\n",
    "\n",
    "\t# Function to remove loop\n",
    "\t# loop_node --> pointer to one of the loop nodes\n",
    "\t# head --> Pointer to the start node of the linked list\n",
    "\tdef removeLoop(self, loop_node):\n",
    "\t\tptr1 = loop_node\n",
    "\t\tptr2 = loop_node\n",
    "\t\t\n",
    "\t\t# Count the number of nodes in loop\n",
    "\t\tk = 1\n",
    "\t\twhile(ptr1.next != ptr2):\n",
    "\t\t\tptr1 = ptr1.next\n",
    "\t\t\tk += 1\n",
    "\n",
    "\t\t# Fix one pointer to head\n",
    "\t\tptr1 = self.head\n",
    "\t\t\n",
    "\t\t# And the other pointer to k nodes after head\n",
    "\t\tptr2 = self.head\n",
    "\t\tfor i in range(k):\n",
    "\t\t\tptr2 = ptr2.next\n",
    "\n",
    "\t\t# Move both pointers at the same place\n",
    "\t\t# they will meet at loop starting node\n",
    "\t\twhile(ptr2 != ptr1):\n",
    "\t\t\tptr1 = ptr1.next\n",
    "\t\t\tptr2 = ptr2.next\n",
    "\n",
    "\t\t# Get pointer to the last node\n",
    "\t\twhile(ptr2.next != ptr1):\n",
    "\t\t\tptr2 = ptr2.next\n",
    "\n",
    "\t\t# Set the next node of the loop ending node\n",
    "\t\t# to fix the loop\n",
    "\t\tptr2.next = None\n",
    "\n",
    "\t# Function to insert a new node at the beginning\n",
    "\tdef push(self, new_data):\n",
    "\t\tnew_node = Node(new_data)\n",
    "\t\tnew_node.next = self.head\n",
    "\t\tself.head = new_node\n",
    "\n",
    "\t# Utility function to print the LinkedList\n",
    "\tdef printList(self):\n",
    "\t\ttemp = self.head\n",
    "\t\twhile(temp):\n",
    "\t\t\tprint(temp.data, end = ' ')\n",
    "\t\t\ttemp = temp.next\n",
    "\n",
    "\n",
    "# Driver program\n",
    "llist = LinkedList()\n",
    "llist.push(10)\n",
    "llist.push(4)\n",
    "llist.push(15)\n",
    "llist.push(20)\n",
    "llist.push(50)\n",
    "\n",
    "# Create a loop for testing\n",
    "llist.head.next.next.next.next.next = llist.head.next.next\n",
    "\n",
    "llist.detectAndRemoveLoop()\n",
    "\n",
    "print(\"Linked List after removing loop\")\n",
    "llist.printList()\n",
    "\n",
    "# This code is contributed by Nikhil Kumar Singh(nickzuck_007)\n"
   ]
  },
  {
   "cell_type": "markdown",
   "id": "17b7a645",
   "metadata": {},
   "source": [
    "__Q8.Given a singly linked list, find if the linked list is [circular](https://www.geeksforgeeks.org/circular-linked-list/amp/) or not.\n",
    "A linked list is called circular if it is not NULL-terminated and all nodes are connected in the form of a cycle. Below is an example of a circular linked list.__"
   ]
  },
  {
   "cell_type": "code",
   "execution_count": 46,
   "id": "69e463c5",
   "metadata": {},
   "outputs": [],
   "source": [
    "class Node:\n",
    "    def __init__(self,data,next=None):\n",
    "        self.data = data\n",
    "        self.next = next\n",
    "        \n",
    "class LinkedList:\n",
    "    def __init__(self):\n",
    "        self.head = None\n",
    "        \n",
    "    def addNode(self,data):\n",
    "        newnode = Node(data)\n",
    "        if self.head is None:\n",
    "            self.head = newnode\n",
    "            return\n",
    "        last = self.head\n",
    "        while last.next:\n",
    "            last = last.next\n",
    "        last.next = newnode\n",
    "    \n",
    "    def __str__(self):\n",
    "        linkedListstr = \"\"\n",
    "        temp = self.head\n",
    "        while temp:\n",
    "            linkedListstr += str(temp.data)+\"->\"\n",
    "            temp = temp.next\n",
    "        return linkedListstr+\"NULL\"\n",
    "        \n",
    "    def iscycle(self):\n",
    "        if self.head is None or self.head.next is None:\n",
    "            return True\n",
    "        fast = self.head\n",
    "        slow = self.head\n",
    "        \n",
    "        while fast.next and fast.next.next:\n",
    "            fast = fast.next.next\n",
    "            slow = slow.next\n",
    "            if slow == fast:\n",
    "                return True\n",
    "        return False\n",
    "        "
   ]
  },
  {
   "cell_type": "code",
   "execution_count": 47,
   "id": "b22f1f71",
   "metadata": {},
   "outputs": [],
   "source": [
    "c = LinkedList()\n",
    "c.addNode(1)\n",
    "c.addNode(2)\n",
    "c.addNode(3)\n",
    "c.addNode(4)\n",
    "c.addNode(5)\n",
    "c.head.next.next.next.next.next = c.head.next.next\n"
   ]
  },
  {
   "cell_type": "code",
   "execution_count": 48,
   "id": "8d3a5b9b",
   "metadata": {},
   "outputs": [
    {
     "data": {
      "text/plain": [
       "True"
      ]
     },
     "execution_count": 48,
     "metadata": {},
     "output_type": "execute_result"
    }
   ],
   "source": [
    "c.iscycle()"
   ]
  },
  {
   "cell_type": "code",
   "execution_count": null,
   "id": "b9e445b3",
   "metadata": {},
   "outputs": [],
   "source": []
  }
 ],
 "metadata": {
  "kernelspec": {
   "display_name": "Python 3 (ipykernel)",
   "language": "python",
   "name": "python3"
  },
  "language_info": {
   "codemirror_mode": {
    "name": "ipython",
    "version": 3
   },
   "file_extension": ".py",
   "mimetype": "text/x-python",
   "name": "python",
   "nbconvert_exporter": "python",
   "pygments_lexer": "ipython3",
   "version": "3.9.13"
  }
 },
 "nbformat": 4,
 "nbformat_minor": 5
}
