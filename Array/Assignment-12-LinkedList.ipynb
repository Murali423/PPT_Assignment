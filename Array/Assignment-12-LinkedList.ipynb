{
 "cells": [
  {
   "cell_type": "markdown",
   "id": "5949dcff",
   "metadata": {},
   "source": [
    "__Q1.Given a singly linked list, delete middle of the linked list. For example, if given linked list is 1->2->3->4->5 then linked list should be modified to 1->2->4->5.If there are even nodes, then there would be two middle nodes, we need to delete the second middle element. For example, if given linked list is 1->2->3->4->5->6 then it should be modified to 1->2->3->5->6.If the input linked list is NULL or has 1 node, then it should return NULL__"
   ]
  },
  {
   "cell_type": "code",
   "execution_count": 1,
   "id": "936d7393",
   "metadata": {},
   "outputs": [],
   "source": [
    "class Node:\n",
    "    def __init__(self,data):\n",
    "        self.data = data\n",
    "        self.next = None\n",
    "class LinkedList:\n",
    "    def __init__(self):\n",
    "        self.head = None\n",
    "        \n",
    "    def addToList(self,data):\n",
    "        newnode = Node(data)\n",
    "        if self.head is None:\n",
    "            self.head = newnode\n",
    "            return\n",
    "        last = self.head\n",
    "        while last.next:\n",
    "            last = last.next\n",
    "        last.next = newnode\n",
    "    \n",
    "    def __str__(self):\n",
    "        linkedListstr = \"\"\n",
    "        temp = self.head\n",
    "        while temp:\n",
    "            linkedListstr += str(temp.data)+\"->\"\n",
    "            temp = temp.next\n",
    "        return linkedListstr+\"NULL\"\n",
    "    \n",
    "    def deleteMid(self):\n",
    "        if (self.head is None or self.head.next is None):\n",
    "            return\n",
    "        slow_ptr = self.head\n",
    "        fast_ptr = self.head\n",
    "        prev = None\n",
    "        \n",
    "        while (fast_ptr is not None and fast_ptr.next is not None):\n",
    "            fast_ptr = fast_ptr.next.next\n",
    "            prev = slow_ptr\n",
    "            slow_ptr = slow_ptr.next\n",
    "            \n",
    "        prev.next = slow_ptr.next"
   ]
  },
  {
   "cell_type": "code",
   "execution_count": 2,
   "id": "6660796a",
   "metadata": {},
   "outputs": [
    {
     "name": "stdout",
     "output_type": "stream",
     "text": [
      "1->2->3->4->5->NULL\n"
     ]
    }
   ],
   "source": [
    "linkedList = LinkedList()\n",
    "linkedList.addToList(1)\n",
    "linkedList.addToList(2)\n",
    "linkedList.addToList(3)\n",
    "linkedList.addToList(4)\n",
    "linkedList.addToList(5)\n",
    "print(linkedList)"
   ]
  },
  {
   "cell_type": "code",
   "execution_count": 3,
   "id": "f643b8dc",
   "metadata": {},
   "outputs": [
    {
     "name": "stdout",
     "output_type": "stream",
     "text": [
      "1->2->4->5->NULL\n"
     ]
    }
   ],
   "source": [
    "linkedList.deleteMid()\n",
    "print(linkedList)"
   ]
  },
  {
   "cell_type": "code",
   "execution_count": 4,
   "id": "8c2a6093",
   "metadata": {},
   "outputs": [
    {
     "name": "stdout",
     "output_type": "stream",
     "text": [
      "1->2->3->4->5->6->NULL\n"
     ]
    }
   ],
   "source": [
    "linkedList = LinkedList()\n",
    "linkedList.addToList(1)\n",
    "linkedList.addToList(2)\n",
    "linkedList.addToList(3)\n",
    "linkedList.addToList(4)\n",
    "linkedList.addToList(5)\n",
    "linkedList.addToList(6)\n",
    "print(linkedList)"
   ]
  },
  {
   "cell_type": "code",
   "execution_count": 5,
   "id": "3c1b8390",
   "metadata": {},
   "outputs": [
    {
     "name": "stdout",
     "output_type": "stream",
     "text": [
      "1->2->3->5->6->NULL\n"
     ]
    }
   ],
   "source": [
    "linkedList.deleteMid()\n",
    "print(linkedList)"
   ]
  },
  {
   "cell_type": "markdown",
   "id": "12df1403",
   "metadata": {},
   "source": [
    "__Q2.Given a linked list of N nodes. The task is to check if the linked list has a loop. Linked list can contain self loop.__"
   ]
  },
  {
   "cell_type": "code",
   "execution_count": 6,
   "id": "1fe8ea89",
   "metadata": {},
   "outputs": [],
   "source": [
    "from typing import *\n",
    "class ListNode:\n",
    "    def __init__(self, data, next=None):\n",
    "        self.data = data\n",
    "        self.next = next\n",
    "        \n",
    "class Solution:\n",
    "    def checkLoop(self,head)->bool:\n",
    "        slowptr = head\n",
    "        fastptr = head\n",
    "        if fastptr is not None and fastptr.next is not None:\n",
    "            slowptr = slowptr.next\n",
    "            fastptr = fastptr.next.next\n",
    "            if slowptr == fastptr:\n",
    "                return True\n",
    "            return False"
   ]
  },
  {
   "cell_type": "code",
   "execution_count": 21,
   "id": "3850eaa8",
   "metadata": {},
   "outputs": [],
   "source": [
    "hn = Solution()"
   ]
  },
  {
   "cell_type": "markdown",
   "id": "d18533e1",
   "metadata": {},
   "source": [
    "__Q3.Given a linked list consisting of L nodes and given a number N. The task is to find the Nth node from the end of the linked list.__"
   ]
  },
  {
   "cell_type": "code",
   "execution_count": 27,
   "id": "1035567e",
   "metadata": {},
   "outputs": [],
   "source": [
    "class Node:\n",
    "    def __init__(self,data,next=None):\n",
    "        self.data = data\n",
    "        self.next = next\n",
    "    \n",
    "class linkedList:\n",
    "    def __init__(self):\n",
    "        self.head = None\n",
    "        \n",
    "    def push(self,new_data):\n",
    "        new_node = Node(new_data)\n",
    "        new_node.next = self.head\n",
    "        self.head = new_node\n",
    "\n",
    "    def __str__(self):\n",
    "        linkedListstr = \"\"\n",
    "        temp = self.head\n",
    "        while temp:\n",
    "            linkedListstr += str(temp.data)+\"->\"\n",
    "            temp = temp.next\n",
    "        return linkedListstr+\"NULL\"\n",
    "    \n",
    "        \n",
    "    def printNele(self,n):\n",
    "        tmp = self.head\n",
    "        length = 0\n",
    "        while (tmp is not None):\n",
    "            tmp = tmp.next\n",
    "            length += 1\n",
    "        if n > length:\n",
    "            print('Location is greater than the' +\n",
    "                  ' length of LinkedList')\n",
    "            return\n",
    "        tmp = self.head\n",
    "        for i in range(length-n):\n",
    "            tmp = tmp.next\n",
    "        return tmp.data\n",
    "            "
   ]
  },
  {
   "cell_type": "code",
   "execution_count": 28,
   "id": "681520a4",
   "metadata": {},
   "outputs": [],
   "source": [
    "pn = linkedList()\n"
   ]
  },
  {
   "cell_type": "code",
   "execution_count": 29,
   "id": "361688b0",
   "metadata": {},
   "outputs": [],
   "source": [
    "pn.push(1)\n",
    "pn.push(2)\n",
    "pn.push(3)\n",
    "pn.push(4)\n",
    "pn.push(5)"
   ]
  },
  {
   "cell_type": "code",
   "execution_count": 30,
   "id": "8e47ec0e",
   "metadata": {},
   "outputs": [
    {
     "name": "stdout",
     "output_type": "stream",
     "text": [
      "5->4->3->2->1->NULL\n"
     ]
    }
   ],
   "source": [
    "print(pn)"
   ]
  },
  {
   "cell_type": "code",
   "execution_count": 31,
   "id": "3c285605",
   "metadata": {},
   "outputs": [
    {
     "data": {
      "text/plain": [
       "2"
      ]
     },
     "execution_count": 31,
     "metadata": {},
     "output_type": "execute_result"
    }
   ],
   "source": [
    "pn.printNele(2)"
   ]
  },
  {
   "cell_type": "markdown",
   "id": "ce41a084",
   "metadata": {},
   "source": [
    "__Q4.Given a singly linked list of characters, write a function that returns true if the given list is a palindrome, else false.__ "
   ]
  },
  {
   "cell_type": "code",
   "execution_count": null,
   "id": "a2b51e93",
   "metadata": {},
   "outputs": [],
   "source": []
  }
 ],
 "metadata": {
  "kernelspec": {
   "display_name": "Python 3 (ipykernel)",
   "language": "python",
   "name": "python3"
  },
  "language_info": {
   "codemirror_mode": {
    "name": "ipython",
    "version": 3
   },
   "file_extension": ".py",
   "mimetype": "text/x-python",
   "name": "python",
   "nbconvert_exporter": "python",
   "pygments_lexer": "ipython3",
   "version": "3.9.13"
  }
 },
 "nbformat": 4,
 "nbformat_minor": 5
}
