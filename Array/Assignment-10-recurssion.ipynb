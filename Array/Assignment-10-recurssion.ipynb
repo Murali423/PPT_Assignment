{
 "cells": [
  {
   "cell_type": "markdown",
   "id": "51027a9b",
   "metadata": {},
   "source": [
    "__Q1.Given an integer `n`, return *`true` if it is a power of three. Otherwise, return `false`*.\n",
    "An integer `n` is a power of three, if there exists an integer `x` such that `n == 3x`.__"
   ]
  },
  {
   "cell_type": "code",
   "execution_count": 1,
   "id": "8f6bd38b",
   "metadata": {},
   "outputs": [],
   "source": [
    "from typing import List\n",
    "class Solution:\n",
    "    def powof3(self,n:int)->bool:\n",
    "        if n == 1: return True\n",
    "        if (n <= 0 or n%3 != 0): return False\n",
    "        return self.powof3(n//3)"
   ]
  },
  {
   "cell_type": "code",
   "execution_count": 2,
   "id": "f7554f02",
   "metadata": {},
   "outputs": [
    {
     "name": "stdout",
     "output_type": "stream",
     "text": [
      "True\n"
     ]
    }
   ],
   "source": [
    "pw = Solution()\n",
    "print(pw.powof3(27))"
   ]
  },
  {
   "cell_type": "code",
   "execution_count": 3,
   "id": "9a57175b",
   "metadata": {},
   "outputs": [
    {
     "name": "stdout",
     "output_type": "stream",
     "text": [
      "True\n"
     ]
    }
   ],
   "source": [
    "print(pw.powof3(81))"
   ]
  },
  {
   "cell_type": "code",
   "execution_count": 4,
   "id": "f91a86d2",
   "metadata": {},
   "outputs": [
    {
     "name": "stdout",
     "output_type": "stream",
     "text": [
      "False\n"
     ]
    }
   ],
   "source": [
    "print(pw.powof3(15))"
   ]
  },
  {
   "cell_type": "code",
   "execution_count": 5,
   "id": "61261045",
   "metadata": {},
   "outputs": [
    {
     "name": "stdout",
     "output_type": "stream",
     "text": [
      "False\n"
     ]
    }
   ],
   "source": [
    "print(pw.powof3(-1))"
   ]
  },
  {
   "cell_type": "markdown",
   "id": "3ac108f2",
   "metadata": {},
   "source": [
    "__Q2. You have a list `arr` of all integers in the range `[1, n]` sorted in a strictly increasing order. Apply the following algorithm on `arr`:__\n",
    "\n",
    "- Starting from left to right, remove the first number and every other number afterward until you reach the end of the list.\n",
    "- Repeat the previous step again, but this time from right to left, remove the rightmost number and every other number from the remaining numbers.\n",
    "- Keep repeating the steps again, alternating left to right and right to left, until a single number remains.\n",
    "\n",
    "__Given the integer `n`, return *the last number that remains in* `arr`__"
   ]
  },
  {
   "cell_type": "code",
   "execution_count": 6,
   "id": "57b2c6ff",
   "metadata": {},
   "outputs": [],
   "source": [
    "class Solution:\n",
    "    def elminate(self,n)->int:\n",
    "        return 1 if n ==1 else 2*(1+n//2-self.elminate(n//2))"
   ]
  },
  {
   "cell_type": "code",
   "execution_count": 7,
   "id": "caa6eec4",
   "metadata": {},
   "outputs": [
    {
     "data": {
      "text/plain": [
       "6"
      ]
     },
     "execution_count": 7,
     "metadata": {},
     "output_type": "execute_result"
    }
   ],
   "source": [
    "c = Solution()\n",
    "c.elminate(9)"
   ]
  },
  {
   "cell_type": "markdown",
   "id": "c512ec3e",
   "metadata": {},
   "source": [
    "__Q3. Given a set represented as a string, write a recursive code to print all subsets of it. The subsets can be printed in any order.__"
   ]
  },
  {
   "cell_type": "code",
   "execution_count": 9,
   "id": "53948cb2",
   "metadata": {},
   "outputs": [],
   "source": [
    "class Solution:\n",
    "    def powerSet(self,s:str, index: int ,cur: str)->str:\n",
    "        n = len(s)\n",
    "        if index == n:\n",
    "            return\n",
    "        print(cur)\n",
    "        for i in range(index+1,n):\n",
    "            cur += s[i]\n",
    "            self.powerSet(s,i,cur)\n",
    "            cur = cur.replace(cur[len(cur) - 1], \"\")\n",
    "        return\n",
    "    \n",
    "\n",
    "    "
   ]
  },
  {
   "cell_type": "code",
   "execution_count": 10,
   "id": "55096bd5",
   "metadata": {},
   "outputs": [
    {
     "name": "stdout",
     "output_type": "stream",
     "text": [
      "\n",
      "a\n",
      "ab\n",
      "abc\n",
      "ac\n",
      "b\n",
      "bc\n",
      "c\n",
      "None\n"
     ]
    }
   ],
   "source": [
    "s = Solution()\n",
    "print(s.powerSet('abc',-1,\"\"))"
   ]
  },
  {
   "cell_type": "code",
   "execution_count": 11,
   "id": "63a1c032",
   "metadata": {},
   "outputs": [
    {
     "name": "stdout",
     "output_type": "stream",
     "text": [
      "\n",
      "a\n",
      "ab\n",
      "abc\n",
      "abcd\n",
      "abd\n",
      "ac\n",
      "acd\n",
      "ad\n",
      "b\n",
      "bc\n",
      "bcd\n",
      "bd\n",
      "c\n",
      "cd\n",
      "d\n",
      "None\n"
     ]
    }
   ],
   "source": [
    "print(s.powerSet('abcd',-1,\"\"))"
   ]
  },
  {
   "cell_type": "markdown",
   "id": "45dc8a40",
   "metadata": {},
   "source": [
    "__Q4.Given a string calculate length of the string using recursion.__"
   ]
  },
  {
   "cell_type": "code",
   "execution_count": 12,
   "id": "d71cdb4f",
   "metadata": {},
   "outputs": [],
   "source": [
    "class Solution:\n",
    "    def bruteforce(self,s:str)->int:\n",
    "        n = s.index(s[-1])#it will work it all charactes different\n",
    "        return n+1\n",
    "    \n",
    "    def lenOfS(self,s:str)->int:\n",
    "        if s == \"\":\n",
    "            return 0\n",
    "        return 1+self.lenOfS(s[1:])\n",
    "        \n"
   ]
  },
  {
   "cell_type": "code",
   "execution_count": 13,
   "id": "747db1c1",
   "metadata": {},
   "outputs": [
    {
     "name": "stdout",
     "output_type": "stream",
     "text": [
      "4\n"
     ]
    }
   ],
   "source": [
    "s = Solution()\n",
    "print(s.bruteforce('abcd'))"
   ]
  },
  {
   "cell_type": "code",
   "execution_count": 14,
   "id": "7ec6009a",
   "metadata": {},
   "outputs": [
    {
     "name": "stdout",
     "output_type": "stream",
     "text": [
      "5\n"
     ]
    }
   ],
   "source": [
    "print(s.bruteforce('abcdoooooo'))"
   ]
  },
  {
   "cell_type": "code",
   "execution_count": 15,
   "id": "868c776f",
   "metadata": {},
   "outputs": [
    {
     "data": {
      "text/plain": [
       "4"
      ]
     },
     "execution_count": 15,
     "metadata": {},
     "output_type": "execute_result"
    }
   ],
   "source": [
    "s.lenOfS('abcd')"
   ]
  },
  {
   "cell_type": "code",
   "execution_count": 16,
   "id": "f6128b4b",
   "metadata": {},
   "outputs": [
    {
     "data": {
      "text/plain": [
       "11"
      ]
     },
     "execution_count": 16,
     "metadata": {},
     "output_type": "execute_result"
    }
   ],
   "source": [
    "s.lenOfS('abcd0000000')"
   ]
  },
  {
   "cell_type": "markdown",
   "id": "c5ee9210",
   "metadata": {},
   "source": [
    "__Q5. We are given a string S, we need to find count of all contiguous substrings starting and ending with same character.__"
   ]
  },
  {
   "cell_type": "code",
   "execution_count": 17,
   "id": "02381802",
   "metadata": {},
   "outputs": [],
   "source": [
    "class Solution:\n",
    "    def subSringCount(self,s:str,start:int,end:int)->int:\n",
    "        if (end == len(s)):\n",
    "            start += 1\n",
    "            end = start\n",
    "        if (end == len(s)):\n",
    "            return 0\n",
    "        if (s[start] == s[end]):\n",
    "            return 1 + self.subSringCount(s,start,end+1)\n",
    "        else:\n",
    "            return self.subSringCount(s,start,end+1)"
   ]
  },
  {
   "cell_type": "code",
   "execution_count": 19,
   "id": "76940c39",
   "metadata": {},
   "outputs": [
    {
     "name": "stdout",
     "output_type": "stream",
     "text": [
      "4\n"
     ]
    }
   ],
   "source": [
    "ss = Solution()\n",
    "print(ss.subSringCount('abca',0,len('abca')-1))"
   ]
  },
  {
   "cell_type": "markdown",
   "id": "26d48f95",
   "metadata": {},
   "source": [
    "__Q6.The tower of Hanoi is a famous puzzle where we have three rods and N disks. The objective of the puzzle is to move the entire stack to another rod. You are given the number of discs N. Initially, these discs are in the rod 1. You need to print all the steps of discs movement so that all the discs reach the 3rd rod. Also, you need to find the total moves.Note: The discs are arranged such that the top disc is numbered 1 and the bottom-most disc is numbered N. Also, all the discs have different sizes and a bigger disc cannot be put on the top of a smaller disc. Refer the provided link to get a better clarity about the puzzle.__"
   ]
  },
  {
   "cell_type": "code",
   "execution_count": 20,
   "id": "e5249eb9",
   "metadata": {},
   "outputs": [],
   "source": [
    "class Solution:\n",
    "    def towerofHanoi(self,disc:int,s: str,d:str, a:str)->None:\n",
    "        if (disc == 1):\n",
    "            print(f'move disk {disc} from rod {s} to rod {d}')\n",
    "        else:\n",
    "            self.towerofHanoi(disc-1,s,a,d)\n",
    "            print(f'move disk {disc} from rod {s} to rod {d}')\n",
    "            self.towerofHanoi(disc-1,a,d,s)\n",
    "            "
   ]
  },
  {
   "cell_type": "code",
   "execution_count": 22,
   "id": "3bf9f207",
   "metadata": {},
   "outputs": [
    {
     "name": "stdout",
     "output_type": "stream",
     "text": [
      "move disk 1 from rod S to rod D\n",
      "move disk 2 from rod S to rod A\n",
      "move disk 1 from rod D to rod A\n",
      "move disk 3 from rod S to rod D\n",
      "move disk 1 from rod A to rod S\n",
      "move disk 2 from rod A to rod D\n",
      "move disk 1 from rod S to rod D\n"
     ]
    }
   ],
   "source": [
    "th  = Solution()\n",
    "th.towerofHanoi(3,\"S\",\"D\",\"A\")"
   ]
  },
  {
   "cell_type": "markdown",
   "id": "5d3df269",
   "metadata": {},
   "source": [
    "__Q7. Given a string str, the task is to print all the permutations of str. A permutation is an arrangement of all or part of a set of objects, with regard to the order of the arrangement. For instance, the words ‘bat’ and ‘tab’ represents two distinct permutation (or arrangements) of a similar three letter word.__"
   ]
  },
  {
   "cell_type": "code",
   "execution_count": 9,
   "id": "ccb32512",
   "metadata": {},
   "outputs": [
    {
     "name": "stdout",
     "output_type": "stream",
     "text": [
      "ABC\n",
      "ACB\n",
      "BAC\n",
      "BCA\n",
      "CBA\n",
      "CAB\n"
     ]
    }
   ],
   "source": [
    "def swap(ch, i, j):\n",
    "    temp = ch[i]\n",
    "    ch[i], = ch[j]\n",
    "    ch[j] = temp\n",
    " \n",
    "def permutations(ch, curr_index=0):\n",
    " \n",
    "    if curr_index == len(ch) - 1:\n",
    "        print(''.join(ch))\n",
    " \n",
    "    for i in range(curr_index, len(ch)):\n",
    "        swap(ch, curr_index, i)\n",
    "        permutations(ch, curr_index + 1)\n",
    "        swap(ch, curr_index, i)\n",
    " \n",
    " \n",
    "if __name__ == '__main__':\n",
    " \n",
    "    s = 'ABC'\n",
    "    permutations(list(s))\n",
    "        "
   ]
  },
  {
   "cell_type": "markdown",
   "id": "7120fc4c",
   "metadata": {},
   "source": [
    "**Question 8\n",
    "Given a string, count total number of consonants in it. A consonant is an English alphabet character that is not vowel (a, e, i, o and u). Examples of constants are b, c, d, f, and g.**\n"
   ]
  },
  {
   "cell_type": "code",
   "execution_count": 37,
   "id": "5af98db9",
   "metadata": {},
   "outputs": [],
   "source": [
    "class Solution:\n",
    "    def bruteforce(self,s:str):\n",
    "        l = [*s]\n",
    "        o = 'aeiou'\n",
    "        cnt = 0\n",
    "        for i in l:\n",
    "            if i not in o:\n",
    "                cnt += 1\n",
    "        return cnt\n",
    "    \n",
    "    def \n",
    "    \n",
    "    def consonet(self,s:str,index:int)->int:\n",
    "        if s == \"\":\n",
    "            return 0\n",
    "        if index == len(s)-1 and s[index] not in 'aeiou':\n",
    "            return 1\n",
    "        return  1+ self.consonet(s[1:],index+1)"
   ]
  },
  {
   "cell_type": "code",
   "execution_count": 38,
   "id": "ff2c05f1",
   "metadata": {},
   "outputs": [
    {
     "data": {
      "text/plain": [
       "5"
      ]
     },
     "execution_count": 38,
     "metadata": {},
     "output_type": "execute_result"
    }
   ],
   "source": [
    "cn = Solution()\n",
    "cn.bruteforce('abc abc')"
   ]
  },
  {
   "cell_type": "code",
   "execution_count": 39,
   "id": "c58885a5",
   "metadata": {},
   "outputs": [
    {
     "data": {
      "text/plain": [
       "2"
      ]
     },
     "execution_count": 39,
     "metadata": {},
     "output_type": "execute_result"
    }
   ],
   "source": [
    "cn.consonet('abc',0)"
   ]
  },
  {
   "cell_type": "code",
   "execution_count": 42,
   "id": "4e6dca2c",
   "metadata": {},
   "outputs": [
    {
     "data": {
      "text/plain": [
       "6"
      ]
     },
     "execution_count": 42,
     "metadata": {},
     "output_type": "execute_result"
    }
   ],
   "source": [
    "cn.consonet('abcmmm',0)"
   ]
  },
  {
   "cell_type": "code",
   "execution_count": null,
   "id": "f904f5f1",
   "metadata": {},
   "outputs": [],
   "source": []
  }
 ],
 "metadata": {
  "kernelspec": {
   "display_name": "Python 3 (ipykernel)",
   "language": "python",
   "name": "python3"
  },
  "language_info": {
   "codemirror_mode": {
    "name": "ipython",
    "version": 3
   },
   "file_extension": ".py",
   "mimetype": "text/x-python",
   "name": "python",
   "nbconvert_exporter": "python",
   "pygments_lexer": "ipython3",
   "version": "3.9.13"
  }
 },
 "nbformat": 4,
 "nbformat_minor": 5
}
