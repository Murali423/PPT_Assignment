{
 "cells": [
  {
   "cell_type": "markdown",
   "id": "51027a9b",
   "metadata": {},
   "source": [
    "__Q1.Given an integer `n`, return *`true` if it is a power of three. Otherwise, return `false`*.\n",
    "An integer `n` is a power of three, if there exists an integer `x` such that `n == 3x`.__"
   ]
  },
  {
   "cell_type": "code",
   "execution_count": 1,
   "id": "8f6bd38b",
   "metadata": {},
   "outputs": [],
   "source": [
    "from typing import List\n",
    "class Solution:\n",
    "    def powof3(self,n:int)->bool:\n",
    "        if n == 1: return True\n",
    "        if (n <= 0 or n%3 != 0): return False\n",
    "        return self.powof3(n//3)"
   ]
  },
  {
   "cell_type": "code",
   "execution_count": 2,
   "id": "f7554f02",
   "metadata": {},
   "outputs": [
    {
     "name": "stdout",
     "output_type": "stream",
     "text": [
      "True\n"
     ]
    }
   ],
   "source": [
    "pw = Solution()\n",
    "print(pw.powof3(27))"
   ]
  },
  {
   "cell_type": "code",
   "execution_count": 3,
   "id": "9a57175b",
   "metadata": {},
   "outputs": [
    {
     "name": "stdout",
     "output_type": "stream",
     "text": [
      "True\n"
     ]
    }
   ],
   "source": [
    "print(pw.powof3(81))"
   ]
  },
  {
   "cell_type": "code",
   "execution_count": 4,
   "id": "f91a86d2",
   "metadata": {},
   "outputs": [
    {
     "name": "stdout",
     "output_type": "stream",
     "text": [
      "False\n"
     ]
    }
   ],
   "source": [
    "print(pw.powof3(15))"
   ]
  },
  {
   "cell_type": "code",
   "execution_count": 5,
   "id": "61261045",
   "metadata": {},
   "outputs": [
    {
     "name": "stdout",
     "output_type": "stream",
     "text": [
      "False\n"
     ]
    }
   ],
   "source": [
    "print(pw.powof3(-1))"
   ]
  },
  {
   "cell_type": "markdown",
   "id": "3ac108f2",
   "metadata": {},
   "source": [
    "__Q2. You have a list `arr` of all integers in the range `[1, n]` sorted in a strictly increasing order. Apply the following algorithm on `arr`:__\n",
    "\n",
    "- Starting from left to right, remove the first number and every other number afterward until you reach the end of the list.\n",
    "- Repeat the previous step again, but this time from right to left, remove the rightmost number and every other number from the remaining numbers.\n",
    "- Keep repeating the steps again, alternating left to right and right to left, until a single number remains.\n",
    "\n",
    "__Given the integer `n`, return *the last number that remains in* `arr`__"
   ]
  },
  {
   "cell_type": "code",
   "execution_count": 10,
   "id": "57b2c6ff",
   "metadata": {},
   "outputs": [],
   "source": [
    "class Solution:\n",
    "    def elminate(self,n)->int:\n",
    "        return 1 if n ==1 else 2*(1+n//2-self.elminate(n//2))"
   ]
  },
  {
   "cell_type": "code",
   "execution_count": 11,
   "id": "caa6eec4",
   "metadata": {},
   "outputs": [
    {
     "data": {
      "text/plain": [
       "6"
      ]
     },
     "execution_count": 11,
     "metadata": {},
     "output_type": "execute_result"
    }
   ],
   "source": [
    "c = Solution()\n",
    "c.elminate(9)"
   ]
  },
  {
   "cell_type": "markdown",
   "id": "c512ec3e",
   "metadata": {},
   "source": [
    "__Q3. Given a set represented as a string, write a recursive code to print all subsets of it. The subsets can be printed in any order.__"
   ]
  },
  {
   "cell_type": "code",
   "execution_count": null,
   "id": "53948cb2",
   "metadata": {},
   "outputs": [],
   "source": []
  }
 ],
 "metadata": {
  "kernelspec": {
   "display_name": "Python 3 (ipykernel)",
   "language": "python",
   "name": "python3"
  },
  "language_info": {
   "codemirror_mode": {
    "name": "ipython",
    "version": 3
   },
   "file_extension": ".py",
   "mimetype": "text/x-python",
   "name": "python",
   "nbconvert_exporter": "python",
   "pygments_lexer": "ipython3",
   "version": "3.9.13"
  }
 },
 "nbformat": 4,
 "nbformat_minor": 5
}
