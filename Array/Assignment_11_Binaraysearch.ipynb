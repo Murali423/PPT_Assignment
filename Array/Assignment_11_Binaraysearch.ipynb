{
 "cells": [
  {
   "cell_type": "markdown",
   "id": "4c99d7a4",
   "metadata": {},
   "source": [
    "__Q1. Given a non-negative integer `x`, return *the square root of* `x` *rounded down to the nearest integer*. The returned integer should be **non-negative** as well.\n",
    "You **must not use** any built-in exponent function or operator.__\n",
    "\n",
    "- For example, do not use `pow(x, 0.5)` in c++ or `x ** 0.5` in python."
   ]
  },
  {
   "cell_type": "code",
   "execution_count": 16,
   "id": "250a5c81",
   "metadata": {},
   "outputs": [],
   "source": [
    "from typing import List\n",
    "from math import sqrt\n",
    "class Solution:\n",
    "    def sqrtofNum(self,n :int)->int:\n",
    "        if n <= 0: return 'Given number cannot be 0 or less than zero'\n",
    "        low,high = 0,n\n",
    "        while high> low:\n",
    "            mid = low + (high-low+1)//2\n",
    "            if (mid<= sqrt(n)):\n",
    "                low = mid\n",
    "            else:\n",
    "                high = mid-1\n",
    "        return low\n",
    "    \n",
    "    def bruteforce(self,n:int)->int:\n",
    "        if n <= 0: return 'Given number cannot be 0 or less than zero'\n",
    "        if n == 1: return 1\n",
    "        i,r = 1,1\n",
    "        while r<=n:\n",
    "            i += 1\n",
    "            r = i*i\n",
    "        return i-1\n",
    "        "
   ]
  },
  {
   "cell_type": "code",
   "execution_count": 17,
   "id": "b886888f",
   "metadata": {},
   "outputs": [
    {
     "name": "stdout",
     "output_type": "stream",
     "text": [
      "2\n"
     ]
    }
   ],
   "source": [
    "pw = Solution()\n",
    "print(pw.sqrtofNum(4))"
   ]
  },
  {
   "cell_type": "code",
   "execution_count": 18,
   "id": "269a7931",
   "metadata": {},
   "outputs": [
    {
     "name": "stdout",
     "output_type": "stream",
     "text": [
      "2\n"
     ]
    }
   ],
   "source": [
    "print(pw.sqrtofNum(8))"
   ]
  },
  {
   "cell_type": "code",
   "execution_count": 19,
   "id": "b797d805",
   "metadata": {},
   "outputs": [
    {
     "name": "stdout",
     "output_type": "stream",
     "text": [
      "2\n"
     ]
    }
   ],
   "source": [
    "print(pw.bruteforce(8))\n"
   ]
  },
  {
   "cell_type": "code",
   "execution_count": 20,
   "id": "97f5b533",
   "metadata": {},
   "outputs": [
    {
     "name": "stdout",
     "output_type": "stream",
     "text": [
      "4\n"
     ]
    }
   ],
   "source": [
    "print(pw.bruteforce(20))"
   ]
  },
  {
   "cell_type": "markdown",
   "id": "33a5014b",
   "metadata": {},
   "source": [
    "__Q2.A peak element is an element that is strictly greater than its neighbors.\n",
    "Given a **0-indexed** integer array `nums`, find a peak element, and return its index. If the array contains multiple peaks, return the index to **any of the peaks**.\n",
    "You may imagine that `nums[-1] = nums[n] = -∞`. In other words, an element is always considered to be strictly greater than a neighbor that is outside the array.\n",
    "You must write an algorithm that runs in `O(log n)` time.__"
   ]
  },
  {
   "cell_type": "code",
   "execution_count": 41,
   "id": "069fc5cb",
   "metadata": {},
   "outputs": [],
   "source": [
    "class Solution:\n",
    "    def bruteforce(self,n:List[int])->int:\n",
    "        return n.index(max(n))\n",
    "    \n",
    "    def peakEle(self,n:list[int])->int:\n",
    "        low, high = 0, len(n)-1\n",
    "        maxnum = max(n)\n",
    "        for i in range(len(n)):\n",
    "            mid = (low + high)//2\n",
    "            if n[mid] == maxnum and n[mid-1]>n[mid]:\n",
    "                #print('mid '+ str(mid))\n",
    "                return mid\n",
    "            if n[mid] <= maxnum:\n",
    "                low = mid+1\n",
    "                #print('low '+ str(low))\n",
    "            else:\n",
    "                high = mid -1\n",
    "                #print('high '+ str(high))\n",
    "        return mid -1\n",
    "                "
   ]
  },
  {
   "cell_type": "code",
   "execution_count": 42,
   "id": "47c5a6d0",
   "metadata": {},
   "outputs": [
    {
     "data": {
      "text/plain": [
       "2"
      ]
     },
     "execution_count": 42,
     "metadata": {},
     "output_type": "execute_result"
    }
   ],
   "source": [
    "pn = Solution()\n",
    "pn.bruteforce([1,2,3,1])"
   ]
  },
  {
   "cell_type": "code",
   "execution_count": 43,
   "id": "4d794805",
   "metadata": {},
   "outputs": [
    {
     "data": {
      "text/plain": [
       "2"
      ]
     },
     "execution_count": 43,
     "metadata": {},
     "output_type": "execute_result"
    }
   ],
   "source": [
    "pn.peakEle([1,2,3,1])"
   ]
  },
  {
   "cell_type": "code",
   "execution_count": 44,
   "id": "23be3255",
   "metadata": {},
   "outputs": [
    {
     "data": {
      "text/plain": [
       "5"
      ]
     },
     "execution_count": 44,
     "metadata": {},
     "output_type": "execute_result"
    }
   ],
   "source": [
    "pn.peakEle([1,2,1,3,5,6,4])"
   ]
  },
  {
   "cell_type": "code",
   "execution_count": 46,
   "id": "a72c305c",
   "metadata": {},
   "outputs": [
    {
     "data": {
      "text/plain": [
       "3"
      ]
     },
     "execution_count": 46,
     "metadata": {},
     "output_type": "execute_result"
    }
   ],
   "source": [
    "pn.peakEle([1,4,6,7,0])"
   ]
  },
  {
   "cell_type": "markdown",
   "id": "5f2768ae",
   "metadata": {},
   "source": [
    "__Q3.Given an array nums containing n distinct numbers in the range [0, n], return the only number in the range that is missing from the arra__"
   ]
  },
  {
   "cell_type": "code",
   "execution_count": 47,
   "id": "67dd7c87",
   "metadata": {},
   "outputs": [],
   "source": [
    "class Solution:\n",
    "    def bruteforce(self,n:List[int])->int:\n",
    "        for i in range(len(n)):\n",
    "            if i not in n:\n",
    "                return i\n",
    "            \n",
    "    def missingNum(self,n:List[int])->int:\n",
    "        L = len(n)\n",
    "        return (L*(L+1))//2 - sum(n)"
   ]
  },
  {
   "cell_type": "code",
   "execution_count": 48,
   "id": "eba8f679",
   "metadata": {},
   "outputs": [
    {
     "data": {
      "text/plain": [
       "2"
      ]
     },
     "execution_count": 48,
     "metadata": {},
     "output_type": "execute_result"
    }
   ],
   "source": [
    "mn = Solution()\n",
    "mn.bruteforce([3,0,1])"
   ]
  },
  {
   "cell_type": "code",
   "execution_count": 49,
   "id": "8bbc0b94",
   "metadata": {},
   "outputs": [
    {
     "data": {
      "text/plain": [
       "2"
      ]
     },
     "execution_count": 49,
     "metadata": {},
     "output_type": "execute_result"
    }
   ],
   "source": [
    "mn.missingNum([3,0,1])"
   ]
  },
  {
   "cell_type": "code",
   "execution_count": 50,
   "id": "62e4f764",
   "metadata": {},
   "outputs": [
    {
     "data": {
      "text/plain": [
       "2"
      ]
     },
     "execution_count": 50,
     "metadata": {},
     "output_type": "execute_result"
    }
   ],
   "source": [
    "mn.missingNum([0,1])"
   ]
  },
  {
   "cell_type": "code",
   "execution_count": null,
   "id": "8110216e",
   "metadata": {},
   "outputs": [],
   "source": []
  }
 ],
 "metadata": {
  "kernelspec": {
   "display_name": "Python 3 (ipykernel)",
   "language": "python",
   "name": "python3"
  },
  "language_info": {
   "codemirror_mode": {
    "name": "ipython",
    "version": 3
   },
   "file_extension": ".py",
   "mimetype": "text/x-python",
   "name": "python",
   "nbconvert_exporter": "python",
   "pygments_lexer": "ipython3",
   "version": "3.9.13"
  }
 },
 "nbformat": 4,
 "nbformat_minor": 5
}
