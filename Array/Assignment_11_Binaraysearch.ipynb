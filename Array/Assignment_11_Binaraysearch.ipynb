{
 "cells": [
  {
   "cell_type": "markdown",
   "id": "4c99d7a4",
   "metadata": {},
   "source": [
    "__Q1. Given a non-negative integer `x`, return *the square root of* `x` *rounded down to the nearest integer*. The returned integer should be **non-negative** as well.\n",
    "You **must not use** any built-in exponent function or operator.__\n",
    "\n",
    "- For example, do not use `pow(x, 0.5)` in c++ or `x ** 0.5` in python."
   ]
  },
  {
   "cell_type": "code",
   "execution_count": 1,
   "id": "250a5c81",
   "metadata": {},
   "outputs": [],
   "source": [
    "from typing import List\n",
    "from math import sqrt\n",
    "class Solution:\n",
    "    def sqrtofNum(self,n :int)->int:\n",
    "        if n <= 0: return 'Given number cannot be 0 or less than zero'\n",
    "        low,high = 0,n\n",
    "        while high> low:\n",
    "            mid = low + (high-low+1)//2\n",
    "            if (mid<= sqrt(n)):\n",
    "                low = mid\n",
    "            else:\n",
    "                high = mid-1\n",
    "        return low\n",
    "    \n",
    "    def bruteforce(self,n:int)->int:\n",
    "        if n <= 0: return 'Given number cannot be 0 or less than zero'\n",
    "        if n == 1: return 1\n",
    "        i,r = 1,1\n",
    "        while r<=n:\n",
    "            i += 1\n",
    "            r = i*i\n",
    "        return i-1\n",
    "        "
   ]
  },
  {
   "cell_type": "code",
   "execution_count": 2,
   "id": "b886888f",
   "metadata": {},
   "outputs": [
    {
     "name": "stdout",
     "output_type": "stream",
     "text": [
      "2\n"
     ]
    }
   ],
   "source": [
    "pw = Solution()\n",
    "print(pw.sqrtofNum(4))"
   ]
  },
  {
   "cell_type": "code",
   "execution_count": 3,
   "id": "269a7931",
   "metadata": {},
   "outputs": [
    {
     "name": "stdout",
     "output_type": "stream",
     "text": [
      "2\n"
     ]
    }
   ],
   "source": [
    "print(pw.sqrtofNum(8))"
   ]
  },
  {
   "cell_type": "code",
   "execution_count": 4,
   "id": "b797d805",
   "metadata": {},
   "outputs": [
    {
     "name": "stdout",
     "output_type": "stream",
     "text": [
      "2\n"
     ]
    }
   ],
   "source": [
    "print(pw.bruteforce(8))\n"
   ]
  },
  {
   "cell_type": "code",
   "execution_count": 5,
   "id": "97f5b533",
   "metadata": {},
   "outputs": [
    {
     "name": "stdout",
     "output_type": "stream",
     "text": [
      "4\n"
     ]
    }
   ],
   "source": [
    "print(pw.bruteforce(20))"
   ]
  },
  {
   "cell_type": "markdown",
   "id": "33a5014b",
   "metadata": {},
   "source": [
    "__Q2.A peak element is an element that is strictly greater than its neighbors.\n",
    "Given a **0-indexed** integer array `nums`, find a peak element, and return its index. If the array contains multiple peaks, return the index to **any of the peaks**.\n",
    "You may imagine that `nums[-1] = nums[n] = -∞`. In other words, an element is always considered to be strictly greater than a neighbor that is outside the array.\n",
    "You must write an algorithm that runs in `O(log n)` time.__"
   ]
  },
  {
   "cell_type": "code",
   "execution_count": 6,
   "id": "069fc5cb",
   "metadata": {},
   "outputs": [],
   "source": [
    "class Solution:\n",
    "    def bruteforce(self,n:List[int])->int:\n",
    "        return n.index(max(n))\n",
    "    \n",
    "    def peakEle(self,n:list[int])->int:\n",
    "        low, high = 0, len(n)-1\n",
    "        maxnum = max(n)\n",
    "        for i in range(len(n)):\n",
    "            mid = (low + high)//2\n",
    "            if n[mid] == maxnum and n[mid-1]>n[mid]:\n",
    "                #print('mid '+ str(mid))\n",
    "                return mid\n",
    "            if n[mid] <= maxnum:\n",
    "                low = mid+1\n",
    "                #print('low '+ str(low))\n",
    "            else:\n",
    "                high = mid -1\n",
    "                #print('high '+ str(high))\n",
    "        return mid -1\n",
    "                "
   ]
  },
  {
   "cell_type": "code",
   "execution_count": 7,
   "id": "47c5a6d0",
   "metadata": {},
   "outputs": [
    {
     "data": {
      "text/plain": [
       "2"
      ]
     },
     "execution_count": 7,
     "metadata": {},
     "output_type": "execute_result"
    }
   ],
   "source": [
    "pn = Solution()\n",
    "pn.bruteforce([1,2,3,1])"
   ]
  },
  {
   "cell_type": "code",
   "execution_count": 8,
   "id": "4d794805",
   "metadata": {},
   "outputs": [
    {
     "data": {
      "text/plain": [
       "2"
      ]
     },
     "execution_count": 8,
     "metadata": {},
     "output_type": "execute_result"
    }
   ],
   "source": [
    "pn.peakEle([1,2,3,1])"
   ]
  },
  {
   "cell_type": "code",
   "execution_count": 9,
   "id": "23be3255",
   "metadata": {},
   "outputs": [
    {
     "data": {
      "text/plain": [
       "5"
      ]
     },
     "execution_count": 9,
     "metadata": {},
     "output_type": "execute_result"
    }
   ],
   "source": [
    "pn.peakEle([1,2,1,3,5,6,4])"
   ]
  },
  {
   "cell_type": "code",
   "execution_count": 10,
   "id": "a72c305c",
   "metadata": {},
   "outputs": [
    {
     "data": {
      "text/plain": [
       "3"
      ]
     },
     "execution_count": 10,
     "metadata": {},
     "output_type": "execute_result"
    }
   ],
   "source": [
    "pn.peakEle([1,4,6,7,0])"
   ]
  },
  {
   "cell_type": "markdown",
   "id": "5f2768ae",
   "metadata": {},
   "source": [
    "__Q3.Given an array nums containing n distinct numbers in the range [0, n], return the only number in the range that is missing from the arra__"
   ]
  },
  {
   "cell_type": "code",
   "execution_count": 11,
   "id": "67dd7c87",
   "metadata": {},
   "outputs": [],
   "source": [
    "class Solution:\n",
    "    def bruteforce(self,n:List[int])->int:\n",
    "        for i in range(len(n)):\n",
    "            if i not in n:\n",
    "                return i\n",
    "            \n",
    "    def missingNum(self,n:List[int])->int:\n",
    "        L = len(n)\n",
    "        return (L*(L+1))//2 - sum(n)"
   ]
  },
  {
   "cell_type": "code",
   "execution_count": 12,
   "id": "eba8f679",
   "metadata": {},
   "outputs": [
    {
     "data": {
      "text/plain": [
       "2"
      ]
     },
     "execution_count": 12,
     "metadata": {},
     "output_type": "execute_result"
    }
   ],
   "source": [
    "mn = Solution()\n",
    "mn.bruteforce([3,0,1])"
   ]
  },
  {
   "cell_type": "code",
   "execution_count": 13,
   "id": "8bbc0b94",
   "metadata": {},
   "outputs": [
    {
     "data": {
      "text/plain": [
       "2"
      ]
     },
     "execution_count": 13,
     "metadata": {},
     "output_type": "execute_result"
    }
   ],
   "source": [
    "mn.missingNum([3,0,1])"
   ]
  },
  {
   "cell_type": "code",
   "execution_count": 14,
   "id": "62e4f764",
   "metadata": {},
   "outputs": [
    {
     "data": {
      "text/plain": [
       "2"
      ]
     },
     "execution_count": 14,
     "metadata": {},
     "output_type": "execute_result"
    }
   ],
   "source": [
    "mn.missingNum([0,1])"
   ]
  },
  {
   "cell_type": "markdown",
   "id": "2f3728d0",
   "metadata": {},
   "source": [
    "__Q4.Given an array of integers `nums` containing `n + 1` integers where each integer is in the range `[1, n]` inclusive.\n",
    "There is only **one repeated number** in `nums`, return *this repeated number*.\n",
    "You must solve the problem **without** modifying the array `nums` and uses only constant extra space.__"
   ]
  },
  {
   "cell_type": "code",
   "execution_count": 19,
   "id": "f27d6ab9",
   "metadata": {},
   "outputs": [],
   "source": [
    "class Solution:\n",
    "    def repNum(self,nums:List[int])->int:\n",
    "        start,end = 1, len(nums)-1\n",
    "        while (start <= end):\n",
    "            mid = (start+end)>>1\n",
    "            less,equal = 0,0\n",
    "            for i in nums:\n",
    "                if i < mid:\n",
    "                    less += 1\n",
    "                elif i == mid:\n",
    "                    equal += 1\n",
    "            if equal >1:\n",
    "                return mid\n",
    "            if less > mid:\n",
    "                end = mid -1\n",
    "            else:\n",
    "                start = mid+1\n",
    "        return start\n",
    "            \n",
    "            "
   ]
  },
  {
   "cell_type": "code",
   "execution_count": 20,
   "id": "cda7a479",
   "metadata": {},
   "outputs": [
    {
     "name": "stdout",
     "output_type": "stream",
     "text": [
      "2\n"
     ]
    }
   ],
   "source": [
    "rn = Solution()\n",
    "print(rn.repNum([1,3,4,2,2]))"
   ]
  },
  {
   "cell_type": "code",
   "execution_count": 21,
   "id": "3da03b7f",
   "metadata": {},
   "outputs": [
    {
     "name": "stdout",
     "output_type": "stream",
     "text": [
      "3\n"
     ]
    }
   ],
   "source": [
    "print(rn.repNum([3,1,3,4,2]))"
   ]
  },
  {
   "cell_type": "markdown",
   "id": "1c60ac6d",
   "metadata": {},
   "source": [
    "__Q5.Given two integer arrays nums1 and nums2, return an array of their intersection. Each element in the result must be unique and you may return the result in any order.__"
   ]
  },
  {
   "cell_type": "code",
   "execution_count": 38,
   "id": "da4b6f7b",
   "metadata": {},
   "outputs": [],
   "source": [
    "class Solution:\n",
    "    def bruteforce(self, nums1: List[int],nums2:List[int])->List[int]:\n",
    "        ans = []\n",
    "        c = 0\n",
    "        l1,l2 = len(nums1),len(nums2)\n",
    "        if l1 < l2:\n",
    "            for i in range(l2):\n",
    "                if nums2[i]  in nums1:\n",
    "                    ans.append(nums2[i])\n",
    "        else:\n",
    "            for i in range(l1):\n",
    "                if nums1[i]  in nums2:\n",
    "                    ans.append(nums1[i])\n",
    "        \n",
    "        return ans\n",
    "    \n",
    "    def intersect(self, nums1: List[int],nums2:List[int])->List[int]:\n",
    "        return list(set(nums1)&set(nums2))"
   ]
  },
  {
   "cell_type": "code",
   "execution_count": 39,
   "id": "9101402c",
   "metadata": {},
   "outputs": [
    {
     "name": "stdout",
     "output_type": "stream",
     "text": [
      "[2, 2]\n"
     ]
    }
   ],
   "source": [
    "intse = Solution()\n",
    "print(intse.bruteforce([1,2,2,1],[2,2]))"
   ]
  },
  {
   "cell_type": "code",
   "execution_count": 40,
   "id": "0afc5574",
   "metadata": {},
   "outputs": [
    {
     "name": "stdout",
     "output_type": "stream",
     "text": [
      "[9, 4, 9, 4]\n"
     ]
    }
   ],
   "source": [
    "print(intse.bruteforce([4,9,5],[9,4,9,8,4]))"
   ]
  },
  {
   "cell_type": "code",
   "execution_count": 41,
   "id": "9412d030",
   "metadata": {},
   "outputs": [
    {
     "name": "stdout",
     "output_type": "stream",
     "text": [
      "[2]\n"
     ]
    }
   ],
   "source": [
    "print(intse.intersect([1,2,2,1],[2,2]))"
   ]
  },
  {
   "cell_type": "code",
   "execution_count": 42,
   "id": "77a2b639",
   "metadata": {},
   "outputs": [
    {
     "name": "stdout",
     "output_type": "stream",
     "text": [
      "[9, 4]\n"
     ]
    }
   ],
   "source": [
    "print(intse.intersect([4,9,5],[9,4,9,8,4]))"
   ]
  },
  {
   "cell_type": "markdown",
   "id": "156d3a47",
   "metadata": {},
   "source": [
    "__Q6. Suppose an array of length `n` sorted in ascending order is **rotated** between `1` and `n` times. For example, the array `nums = [0,1,2,4,5,6,7]` might become:__\n",
    "\n",
    "- `[4,5,6,7,0,1,2]` if it was rotated `4` times.\n",
    "- `[0,1,2,4,5,6,7]` if it was rotated `7` times.\n",
    "\n",
    "Notice that **rotating** an array `[a[0], a[1], a[2], ..., a[n-1]]` 1 time results in the array `[a[n-1], a[0], a[1], a[2], ..., a[n-2]]`.\n",
    "\n",
    "Given the sorted rotated array `nums` of **unique** elements, return *the minimum element of this array*.\n",
    "\n",
    "You must write an algorithm that runs in `O(log n) time.`"
   ]
  },
  {
   "cell_type": "code",
   "execution_count": 70,
   "id": "c95a5ea8",
   "metadata": {},
   "outputs": [],
   "source": [
    "class Solution:\n",
    "    def bruteforce(self,nums:List[int])->int:\n",
    "        return min(nums)\n",
    "    \n",
    "    def minofL(self,nums:List[int])->int:\n",
    "        start, end = 0, len(nums)-1\n",
    "        while(start<=end):\n",
    "            mid = (start+end)//2\n",
    "            if (nums[mid]<nums[end]):\n",
    "                end = mid-1\n",
    "            else:\n",
    "                start = mid+1\n",
    "        return nums[start]\n",
    "                "
   ]
  },
  {
   "cell_type": "code",
   "execution_count": 71,
   "id": "e570591e",
   "metadata": {},
   "outputs": [
    {
     "data": {
      "text/plain": [
       "1"
      ]
     },
     "execution_count": 71,
     "metadata": {},
     "output_type": "execute_result"
    }
   ],
   "source": [
    "mnl = Solution()\n",
    "mnl.bruteforce([3,4,5,1,2])"
   ]
  },
  {
   "cell_type": "code",
   "execution_count": 72,
   "id": "75e579c0",
   "metadata": {},
   "outputs": [
    {
     "data": {
      "text/plain": [
       "1"
      ]
     },
     "execution_count": 72,
     "metadata": {},
     "output_type": "execute_result"
    }
   ],
   "source": [
    "mnl.minofL([3,4,5,1,2])"
   ]
  },
  {
   "cell_type": "code",
   "execution_count": 73,
   "id": "e039b68d",
   "metadata": {},
   "outputs": [
    {
     "data": {
      "text/plain": [
       "1"
      ]
     },
     "execution_count": 73,
     "metadata": {},
     "output_type": "execute_result"
    }
   ],
   "source": [
    "mnl.minofL([1,2,4,5,6,7])"
   ]
  },
  {
   "cell_type": "code",
   "execution_count": 75,
   "id": "8cb9d82d",
   "metadata": {},
   "outputs": [
    {
     "data": {
      "text/plain": [
       "1"
      ]
     },
     "execution_count": 75,
     "metadata": {},
     "output_type": "execute_result"
    }
   ],
   "source": [
    "mnl.minofL([4,5,6,7,1,2])"
   ]
  },
  {
   "cell_type": "markdown",
   "id": "f2f8d58b",
   "metadata": {},
   "source": [
    "__Q7.Given an array of integers `nums` sorted in non-decreasing order, find the starting and ending position of a given `target` value.\n",
    "If `target` is not found in the array, return `[-1, -1]`.\n",
    "You must write an algorithm with `O(log n)` runtime complexity.__"
   ]
  },
  {
   "cell_type": "code",
   "execution_count": 100,
   "id": "884975c3",
   "metadata": {},
   "outputs": [],
   "source": [
    "class Solution:\n",
    "    def targetpos(self,nums:List[int],target:int)->List[int]:\n",
    "            s,e = 0, len(nums)-1\n",
    "            ans = []\n",
    "            while(s<=e):\n",
    "                mid = (s+e)//2\n",
    "                if nums[mid] == target:\n",
    "                    ans.append(mid)\n",
    "                if nums[mid]< target:\n",
    "                    s = mid+1\n",
    "                else:\n",
    "                    e = mid -1\n",
    "            if len(ans)!= 0:\n",
    "                return ans\n",
    "            else:\n",
    "                return [-1,-1]"
   ]
  },
  {
   "cell_type": "code",
   "execution_count": 101,
   "id": "d56a3d7d",
   "metadata": {},
   "outputs": [
    {
     "data": {
      "text/plain": [
       "[4, 3]"
      ]
     },
     "execution_count": 101,
     "metadata": {},
     "output_type": "execute_result"
    }
   ],
   "source": [
    "tp = Solution()\n",
    "tp.targetpos([5,7,7,8,8,10],8)"
   ]
  },
  {
   "cell_type": "code",
   "execution_count": 102,
   "id": "e49d3458",
   "metadata": {},
   "outputs": [
    {
     "data": {
      "text/plain": [
       "[-1, -1]"
      ]
     },
     "execution_count": 102,
     "metadata": {},
     "output_type": "execute_result"
    }
   ],
   "source": [
    "tp.targetpos([5,7,7,8,8,10],6)"
   ]
  },
  {
   "cell_type": "code",
   "execution_count": 103,
   "id": "770c0fec",
   "metadata": {},
   "outputs": [
    {
     "data": {
      "text/plain": [
       "[2, 1]"
      ]
     },
     "execution_count": 103,
     "metadata": {},
     "output_type": "execute_result"
    }
   ],
   "source": [
    "tp.targetpos([5,7,7,8,8,10],7)"
   ]
  },
  {
   "cell_type": "markdown",
   "id": "4c611672",
   "metadata": {},
   "source": [
    "__Q8.Given two integer arrays nums1 and nums2, return an array of their intersection. Each element in the result must appear as many times as it shows in both arrays and you may return the result in any order.__"
   ]
  },
  {
   "cell_type": "code",
   "execution_count": 104,
   "id": "048ccb51",
   "metadata": {},
   "outputs": [],
   "source": [
    "class Solution:\n",
    "    def bruteforce(self, nums1: List[int],nums2:List[int])->List[int]:\n",
    "        ans = []\n",
    "        c = 0\n",
    "        l1,l2 = len(nums1),len(nums2)\n",
    "        if l1 < l2:\n",
    "            for i in range(l2):\n",
    "                if nums2[i]  in nums1:\n",
    "                    ans.append(nums2[i])\n",
    "        else:\n",
    "            for i in range(l1):\n",
    "                if nums1[i]  in nums2:\n",
    "                    ans.append(nums1[i])\n",
    "        \n",
    "        return ans\n",
    "    \n",
    "    def intersect(self, nums1: List[int],nums2:List[int])->List[int]:\n",
    "        return list(set(nums1)&set(nums2))"
   ]
  },
  {
   "cell_type": "code",
   "execution_count": 105,
   "id": "33dbf1c6",
   "metadata": {},
   "outputs": [
    {
     "name": "stdout",
     "output_type": "stream",
     "text": [
      "[9, 4, 9, 4]\n"
     ]
    }
   ],
   "source": [
    "print(intse.bruteforce([4,9,5],[9,4,9,8,4]))"
   ]
  },
  {
   "cell_type": "code",
   "execution_count": null,
   "id": "3103de40",
   "metadata": {},
   "outputs": [],
   "source": []
  }
 ],
 "metadata": {
  "kernelspec": {
   "display_name": "Python 3 (ipykernel)",
   "language": "python",
   "name": "python3"
  },
  "language_info": {
   "codemirror_mode": {
    "name": "ipython",
    "version": 3
   },
   "file_extension": ".py",
   "mimetype": "text/x-python",
   "name": "python",
   "nbconvert_exporter": "python",
   "pygments_lexer": "ipython3",
   "version": "3.9.13"
  }
 },
 "nbformat": 4,
 "nbformat_minor": 5
}
