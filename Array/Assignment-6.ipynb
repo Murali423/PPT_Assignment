{
 "cells": [
  {
   "cell_type": "markdown",
   "id": "10afa5ac",
   "metadata": {},
   "source": [
    "__Q1. A permutation perm of n + 1 integers of all the integers in the range [0, n] can be represented as a string s of length n where:__\n",
    "- s[i] == 'I' if perm[i] < perm[i + 1], and\n",
    "- s[i] == 'D' if perm[i] > perm[i + 1].\n",
    "\n",
    "Given a string s, reconstruct the permutation perm and return it. If there are multiple valid permutations perm, return **any of them**."
   ]
  },
  {
   "cell_type": "code",
   "execution_count": 3,
   "id": "2764e348",
   "metadata": {},
   "outputs": [],
   "source": [
    "from typing import List\n",
    "def diStringMatch(s: str) -> List[int]:\n",
    "    per=[]\n",
    "    lower=0\n",
    "    upper=len(s)\n",
    "    for i in s:\n",
    "        if i=='I':\n",
    "            per.append(lower)\n",
    "            lower+=1\n",
    "        else:\n",
    "            per.append(upper)\n",
    "            upper-=1\n",
    "    if s[len(s)-1]=='I':\n",
    "        per.append(upper)\n",
    "    else:\n",
    "        per.append(lower)\n",
    "    return per"
   ]
  },
  {
   "cell_type": "code",
   "execution_count": 4,
   "id": "fd836e91",
   "metadata": {},
   "outputs": [
    {
     "name": "stdout",
     "output_type": "stream",
     "text": [
      "[0, 4, 1, 3, 2]\n"
     ]
    }
   ],
   "source": [
    "print(diStringMatch('IDID'))"
   ]
  },
  {
   "cell_type": "markdown",
   "id": "fe9e72b0",
   "metadata": {},
   "source": [
    "__Q2. You are given an m x n integer matrix matrix with the following two properties:__\n",
    "\n",
    "- Each row is sorted in non-decreasing order.\n",
    "- The first integer of each row is greater than the last integer of the previous row.\n",
    "\n",
    "Given an integer target, return true *if* target *is in* matrix *or* false *otherwise*.\n",
    "\n",
    "You must write a solution in O(log(m * n)) time complexity."
   ]
  },
  {
   "cell_type": "code",
   "execution_count": 12,
   "id": "1be41ff1",
   "metadata": {},
   "outputs": [],
   "source": [
    "class Solution:\n",
    "    def searchMatrix(self, matrix: List[List[int]], target: int) -> bool:\n",
    "        \n",
    "        # Binary Search\n",
    "        row, col = len(matrix), len(matrix[0])\n",
    "        i, j = 0, (row * col) - 1\n",
    "\n",
    "        while i <= j:\n",
    "            mid = (i + j) >> 1\n",
    "            mid_element = matrix[mid // col][mid % col] \n",
    "            if mid_element == target:\n",
    "                return True\n",
    "            elif mid_element < target:\n",
    "                i = mid + 1\n",
    "            else:\n",
    "                j = mid - 1\n",
    "        return False\n",
    "\n",
    "    "
   ]
  },
  {
   "cell_type": "code",
   "execution_count": 13,
   "id": "84670f24",
   "metadata": {},
   "outputs": [
    {
     "data": {
      "text/plain": [
       "True"
      ]
     },
     "execution_count": 13,
     "metadata": {},
     "output_type": "execute_result"
    }
   ],
   "source": [
    "s = Solution()\n",
    "s.searchMatrix([[1,3,5,7],[10,11,16,20],[23,30,34,60]],3)"
   ]
  },
  {
   "cell_type": "markdown",
   "id": "3301b148",
   "metadata": {},
   "source": [
    "Q3. Given an array of integers arr, return *true if and only if it is a valid mountain array*.\n",
    "\n",
    "Recall that arr is a mountain array if and only if"
   ]
  },
  {
   "cell_type": "code",
   "execution_count": 14,
   "id": "765bfce8",
   "metadata": {},
   "outputs": [],
   "source": [
    "class Solution:\n",
    "    def validMountainArray(self, arr: List[int]) -> bool:\n",
    "        place = arr.index(max(arr))\n",
    "        if place == 0 or place == len(arr) - 1:\n",
    "            return False\n",
    "        else:\n",
    "            value = True\n",
    "            i = 0\n",
    "            while i < place:\n",
    "                if arr[i] >= arr[i + 1]:\n",
    "                    value = False\n",
    "                    break\n",
    "                else:\n",
    "                    i += 1\n",
    "            i = place + 1\n",
    "            if value:\n",
    "                while i < len(arr):\n",
    "                    if arr[i - 1] <= arr[i]:\n",
    "                        print(i)\n",
    "                        return False\n",
    "                    else:\n",
    "                        i += 1\n",
    "            else:\n",
    "                return False\n",
    "            return True"
   ]
  },
  {
   "cell_type": "code",
   "execution_count": 15,
   "id": "7ac2453a",
   "metadata": {},
   "outputs": [
    {
     "data": {
      "text/plain": [
       "True"
      ]
     },
     "execution_count": 15,
     "metadata": {},
     "output_type": "execute_result"
    }
   ],
   "source": [
    "s = Solution()\n",
    "s.validMountainArray([0,1,2,3,4,5,2,1,0])"
   ]
  },
  {
   "cell_type": "code",
   "execution_count": null,
   "id": "f6101800",
   "metadata": {},
   "outputs": [],
   "source": []
  }
 ],
 "metadata": {
  "kernelspec": {
   "display_name": "Python 3 (ipykernel)",
   "language": "python",
   "name": "python3"
  },
  "language_info": {
   "codemirror_mode": {
    "name": "ipython",
    "version": 3
   },
   "file_extension": ".py",
   "mimetype": "text/x-python",
   "name": "python",
   "nbconvert_exporter": "python",
   "pygments_lexer": "ipython3",
   "version": "3.9.13"
  }
 },
 "nbformat": 4,
 "nbformat_minor": 5
}
