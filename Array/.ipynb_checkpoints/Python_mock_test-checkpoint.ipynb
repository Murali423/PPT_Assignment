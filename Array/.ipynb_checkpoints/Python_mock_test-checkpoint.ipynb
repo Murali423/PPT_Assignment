{
 "cells": [
  {
   "cell_type": "markdown",
   "id": "17109bb3",
   "metadata": {},
   "source": [
    "__17. Write a function that takes a list of numbers as input and returns a new list containing only the even numbers from the input list. Use list comprehension to solve this problem.__\n"
   ]
  },
  {
   "cell_type": "code",
   "execution_count": 20,
   "id": "2521520a",
   "metadata": {},
   "outputs": [],
   "source": [
    "from typing import List\n",
    "def evenlist(lst:List)->List:\n",
    "    return [i for i in lst if i%2==0]\n"
   ]
  },
  {
   "cell_type": "code",
   "execution_count": 21,
   "id": "318d3f7d",
   "metadata": {},
   "outputs": [
    {
     "data": {
      "text/plain": [
       "[2, 4, 6, 8, 10]"
      ]
     },
     "execution_count": 21,
     "metadata": {},
     "output_type": "execute_result"
    }
   ],
   "source": [
    "evenlist([1, 2, 3, 4, 5, 6, 7, 8, 9, 10])"
   ]
  },
  {
   "cell_type": "markdown",
   "id": "63d63193",
   "metadata": {},
   "source": [
    "__18. Implement a decorator function called ‘timer’ that measures the execution time of a function. The ‘timer’ decorator should print the time taken by the decorated function to execute. Use the ‘time’ module in Python to calculate the execution time.__"
   ]
  },
  {
   "cell_type": "code",
   "execution_count": 32,
   "id": "6273cfbb",
   "metadata": {},
   "outputs": [
    {
     "name": "stdout",
     "output_type": "stream",
     "text": [
      "Total time taken in :  2.002784490585327\n",
      "120\n"
     ]
    }
   ],
   "source": [
    "import time\n",
    "import math\n",
    "\n",
    "def timer(func):\n",
    "    def inner1(*args,**kwargs):\n",
    "        begin  = time.time()\n",
    "        val = func(*args,**kwargs)\n",
    "        end = time.time()\n",
    "        print(\"Total time taken in : \",  end - begin)\n",
    "        return val\n",
    "    return inner1\n",
    "@timer\n",
    "def factiorial(num):\n",
    "    time.sleep(2)\n",
    "    return (math.factorial(num))\n",
    "\n",
    "print(factiorial(5))\n",
    "    \n",
    "    \n"
   ]
  },
  {
   "cell_type": "code",
   "execution_count": 27,
   "id": "71804879",
   "metadata": {},
   "outputs": [
    {
     "data": {
      "text/plain": [
       "120"
      ]
     },
     "execution_count": 27,
     "metadata": {},
     "output_type": "execute_result"
    }
   ],
   "source": [
    "math.factorial(5)"
   ]
  },
  {
   "cell_type": "markdown",
   "id": "ce4e071c",
   "metadata": {},
   "source": [
    "__19. Write a function called ‘calculate_mean’ that takes a list of numbers as input and returns the mean (average) of the numbers. The function should calculate the mean using the sum of the numbers divided by the total count.__"
   ]
  },
  {
   "cell_type": "code",
   "execution_count": 33,
   "id": "00cd0b85",
   "metadata": {},
   "outputs": [
    {
     "name": "stdout",
     "output_type": "stream",
     "text": [
      "Mean: 20.0\n"
     ]
    }
   ],
   "source": [
    "def calculate_mean(numbers):\n",
    "    total = sum(numbers)\n",
    "    count = len(numbers)\n",
    "    mean = total / count\n",
    "    return mean\n",
    "\n",
    "data = [10, 15, 20, 25, 30]\n",
    "mean_value = calculate_mean(data)\n",
    "print(\"Mean:\", mean_value)"
   ]
  },
  {
   "cell_type": "markdown",
   "id": "4e170ac7",
   "metadata": {},
   "source": [
    "__20.Write a function called ‘perform_hypothesis_test’ that takes two lists of numbers as input, representing two samples. The function should perform a two-sample t-test and return the p-value. Use the ‘scipy.stats’ module in Python to calculate the t-test and p-value__"
   ]
  },
  {
   "cell_type": "code",
   "execution_count": 35,
   "id": "024bc8e0",
   "metadata": {},
   "outputs": [
    {
     "name": "stdout",
     "output_type": "stream",
     "text": [
      "-1.8973665961010275 0.09434977284243756\n",
      "P-value:  0.09434977284243756\n"
     ]
    }
   ],
   "source": [
    "import scipy.stats as stats\n",
    "\n",
    "def perform_hypothesis_test(a:List,b:List)->float:\n",
    "    t_statistics, p_val = stats.ttest_ind(a,b)\n",
    "    #print(t_statistics, p_val)\n",
    "    return p_val\n",
    "\n",
    "a = [5, 10, 15, 20, 25]\n",
    "b = [10, 20, 30, 40, 50]\n",
    "\n",
    "print('P-value: ', perform_hypothesis_test(a,b))\n",
    "    "
   ]
  },
  {
   "cell_type": "code",
   "execution_count": null,
   "id": "832b386a",
   "metadata": {},
   "outputs": [],
   "source": []
  },
  {
   "cell_type": "code",
   "execution_count": null,
   "id": "1f945a1f",
   "metadata": {},
   "outputs": [],
   "source": []
  }
 ],
 "metadata": {
  "kernelspec": {
   "display_name": "Python 3 (ipykernel)",
   "language": "python",
   "name": "python3"
  },
  "language_info": {
   "codemirror_mode": {
    "name": "ipython",
    "version": 3
   },
   "file_extension": ".py",
   "mimetype": "text/x-python",
   "name": "python",
   "nbconvert_exporter": "python",
   "pygments_lexer": "ipython3",
   "version": "3.9.13"
  }
 },
 "nbformat": 4,
 "nbformat_minor": 5
}
