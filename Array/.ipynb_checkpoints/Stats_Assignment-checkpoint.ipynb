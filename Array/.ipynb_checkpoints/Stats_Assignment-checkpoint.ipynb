{
 "cells": [
  {
   "cell_type": "markdown",
   "id": "27c195cb",
   "metadata": {},
   "source": [
    "__1. Scenario: A company wants to analyze the sales performance of its products in different regions. They have collected the following data:__\n"
   ]
  },
  {
   "cell_type": "markdown",
   "id": "494257d7",
   "metadata": {},
   "source": [
    "Region A: [10, 15, 12, 8, 14]\n",
    "   Region B: [18, 20, 16, 22, 25]\n",
    "   Calculate the mean sales for each region.\n"
   ]
  },
  {
   "cell_type": "code",
   "execution_count": 1,
   "id": "b1f1b68a",
   "metadata": {},
   "outputs": [],
   "source": [
    "import numpy as np"
   ]
  },
  {
   "cell_type": "code",
   "execution_count": 2,
   "id": "99dd458e",
   "metadata": {},
   "outputs": [
    {
     "data": {
      "text/plain": [
       "array([10, 15, 12,  8, 14])"
      ]
     },
     "execution_count": 2,
     "metadata": {},
     "output_type": "execute_result"
    }
   ],
   "source": [
    "d1 = np.array([10,15,12,8,14])\n",
    "d1"
   ]
  },
  {
   "cell_type": "code",
   "execution_count": 3,
   "id": "b239edfe",
   "metadata": {},
   "outputs": [
    {
     "data": {
      "text/plain": [
       "11.8"
      ]
     },
     "execution_count": 3,
     "metadata": {},
     "output_type": "execute_result"
    }
   ],
   "source": [
    "d1.mean()"
   ]
  },
  {
   "cell_type": "code",
   "execution_count": 4,
   "id": "6d178686",
   "metadata": {},
   "outputs": [
    {
     "data": {
      "text/plain": [
       "20.2"
      ]
     },
     "execution_count": 4,
     "metadata": {},
     "output_type": "execute_result"
    }
   ],
   "source": [
    "d2 = np.array([18,20,16,22,25])\n",
    "d2.mean()"
   ]
  },
  {
   "cell_type": "markdown",
   "id": "067e2474",
   "metadata": {},
   "source": [
    "__2. Scenario: A survey is conducted to measure customer satisfaction on a scale of 1 to 5. The data collected is as follows:\n",
    "   [4, 5, 2, 3, 5, 4, 3, 2, 4, 5]\n",
    "   Calculate the mode of the survey responses.__\n"
   ]
  },
  {
   "cell_type": "code",
   "execution_count": 12,
   "id": "4eebac77",
   "metadata": {},
   "outputs": [],
   "source": [
    "a = np.array([4, 5, 2, 3, 5, 4, 3, 2, 4, 5])"
   ]
  },
  {
   "cell_type": "code",
   "execution_count": 13,
   "id": "b2e24e00",
   "metadata": {},
   "outputs": [
    {
     "name": "stdout",
     "output_type": "stream",
     "text": [
      "4.0\n"
     ]
    }
   ],
   "source": [
    "x = np.median(a)\n",
    "print(x)"
   ]
  },
  {
   "cell_type": "markdown",
   "id": "0e0ad643",
   "metadata": {},
   "source": [
    "__3. Scenario: A company wants to compare the salaries of two departments. The salary data for Department A and Department B are as follows:\n",
    "   Department A: [5000, 6000, 5500, 7000]\n",
    "   Department B: [4500, 5500, 5800, 6000, 5200]\n",
    "   Calculate the median salary for each department.__"
   ]
  },
  {
   "cell_type": "code",
   "execution_count": 16,
   "id": "b097e849",
   "metadata": {},
   "outputs": [],
   "source": [
    "a = np.array([5000, 6000, 5500, 7000])\n",
    "b = np.array( [4500, 5500, 5800, 6000, 5200])"
   ]
  },
  {
   "cell_type": "code",
   "execution_count": 17,
   "id": "510ac70d",
   "metadata": {},
   "outputs": [
    {
     "name": "stdout",
     "output_type": "stream",
     "text": [
      "Median of A and B are:  5750.0 5500.0\n"
     ]
    }
   ],
   "source": [
    "print('Median of A and B are: ',np.median(a),  np.median(b)) "
   ]
  },
  {
   "cell_type": "markdown",
   "id": "a9524adf",
   "metadata": {},
   "source": [
    "__4. Scenario: A data analyst wants to determine the variability in the daily stock prices of a company. The data collected is as follows:\n",
    "   [25.5, 24.8, 26.1, 25.3, 24.9]\n",
    "   Calculate the range of the stock prices.__"
   ]
  },
  {
   "cell_type": "code",
   "execution_count": 18,
   "id": "7d839954",
   "metadata": {},
   "outputs": [],
   "source": [
    "m = np.array([25.5, 24.8, 26.1, 25.3, 24.9])"
   ]
  },
  {
   "cell_type": "code",
   "execution_count": 19,
   "id": "ba803e94",
   "metadata": {},
   "outputs": [
    {
     "name": "stdout",
     "output_type": "stream",
     "text": [
      "0.21760000000000054\n"
     ]
    }
   ],
   "source": [
    "print(np.var(m))"
   ]
  },
  {
   "cell_type": "markdown",
   "id": "a94ee691",
   "metadata": {},
   "source": [
    "__5. Scenario: A study is conducted to compare the performance of two different teaching methods. The test scores of the students in each group are as follows:\n",
    "   Group A: [85, 90, 92, 88, 91]\n",
    "   Group B: [82, 88, 90, 86, 87]\n",
    "   Perform a t-test to determine if there is a significant difference in the mean scores between the two groups.__"
   ]
  },
  {
   "cell_type": "code",
   "execution_count": 20,
   "id": "82435404",
   "metadata": {},
   "outputs": [
    {
     "name": "stdout",
     "output_type": "stream",
     "text": [
      "0.19023970239078333\n"
     ]
    }
   ],
   "source": [
    "from scipy import stats\n",
    "\n",
    "a = np.array([85, 90, 92, 88, 91])\n",
    "b = np.array([82, 88, 90, 86, 87])\n",
    "\n",
    "t_stat,p_value = stats.ttest_ind(a,b)\n",
    "print(p_value)"
   ]
  },
  {
   "cell_type": "code",
   "execution_count": 23,
   "id": "b0929bab",
   "metadata": {},
   "outputs": [
    {
     "name": "stdout",
     "output_type": "stream",
     "text": [
      "No evidace to reject null, two sample having siginifcant difference\n"
     ]
    }
   ],
   "source": [
    "sig  = 0.05\n",
    "if p_value < sig:\n",
    "    print('Reject Null Hypothesis, there is no significant relation')\n",
    "else:\n",
    "    print('No evidace to reject null, two sample having siginifcant difference')"
   ]
  },
  {
   "cell_type": "markdown",
   "id": "7cecadd6",
   "metadata": {},
   "source": [
    "__6. Scenario: A company wants to analyze the relationship between advertising expenditure and sales. The data collected is as follows:\n",
    "   Advertising Expenditure (in thousands): [10, 15, 12, 8, 14]\n",
    "   Sales (in thousands): [25, 30, 28, 20, 26]\n",
    "   Calculate the correlation coefficient between advertising expenditure and sales.__"
   ]
  },
  {
   "cell_type": "code",
   "execution_count": 24,
   "id": "5f9d0236",
   "metadata": {},
   "outputs": [
    {
     "data": {
      "text/plain": [
       "array([[1.        , 0.87575114],\n",
       "       [0.87575114, 1.        ]])"
      ]
     },
     "execution_count": 24,
     "metadata": {},
     "output_type": "execute_result"
    }
   ],
   "source": [
    "e = np.array([10, 15, 12, 8, 14])\n",
    "s = np.array([25, 30, 28, 20, 26])\n",
    "\n",
    "r = np.corrcoef(e,s)\n",
    "r"
   ]
  },
  {
   "cell_type": "markdown",
   "id": "404b12c6",
   "metadata": {},
   "source": [
    "given expenditure and salse has correlation of +0.87"
   ]
  },
  {
   "cell_type": "markdown",
   "id": "06713bcc",
   "metadata": {},
   "source": [
    "__7. Scenario: A survey is conducted to measure the heights of a group of people. The data collected is as follows:\n",
    "   [160, 170, 165, 155, 175, 180, 170]\n",
    "   Calculate the standard deviation of the heights__\n"
   ]
  },
  {
   "cell_type": "code",
   "execution_count": 26,
   "id": "4bce5992",
   "metadata": {},
   "outputs": [
    {
     "name": "stdout",
     "output_type": "stream",
     "text": [
      "Standard deviation: 7.953949089757174\n"
     ]
    }
   ],
   "source": [
    "h = np.array([160, 170, 165, 155, 175, 180, 170])\n",
    "\n",
    "print('Standard deviation:', (np.var(h))**0.5)"
   ]
  },
  {
   "cell_type": "code",
   "execution_count": 27,
   "id": "b52d14fe",
   "metadata": {},
   "outputs": [
    {
     "data": {
      "text/plain": [
       "7.953949089757174"
      ]
     },
     "execution_count": 27,
     "metadata": {},
     "output_type": "execute_result"
    }
   ],
   "source": [
    "np.std(h)"
   ]
  },
  {
   "cell_type": "markdown",
   "id": "731ca8a4",
   "metadata": {},
   "source": [
    "__8. Scenario: A company wants to analyze the relationship between employee tenure and job satisfaction. The data collected is as follows:\n",
    "   Employee Tenure (in years): [2, 3, 5, 4, 6, 2, 4]\n",
    "   Job Satisfaction (on a scale of 1 to 10): [7, 8, 6, 9, 5, 7, 6]\n",
    "   Perform a linear regression analysis to predict job satisfaction based on employee tenure.__"
   ]
  },
  {
   "cell_type": "code",
   "execution_count": 5,
   "id": "45965142",
   "metadata": {},
   "outputs": [
    {
     "data": {
      "text/html": [
       "<div>\n",
       "<style scoped>\n",
       "    .dataframe tbody tr th:only-of-type {\n",
       "        vertical-align: middle;\n",
       "    }\n",
       "\n",
       "    .dataframe tbody tr th {\n",
       "        vertical-align: top;\n",
       "    }\n",
       "\n",
       "    .dataframe thead th {\n",
       "        text-align: right;\n",
       "    }\n",
       "</style>\n",
       "<table border=\"1\" class=\"dataframe\">\n",
       "  <thead>\n",
       "    <tr style=\"text-align: right;\">\n",
       "      <th></th>\n",
       "      <th>Employee Tenure</th>\n",
       "      <th>Satisfaction</th>\n",
       "    </tr>\n",
       "  </thead>\n",
       "  <tbody>\n",
       "    <tr>\n",
       "      <th>0</th>\n",
       "      <td>2</td>\n",
       "      <td>7</td>\n",
       "    </tr>\n",
       "    <tr>\n",
       "      <th>1</th>\n",
       "      <td>3</td>\n",
       "      <td>8</td>\n",
       "    </tr>\n",
       "    <tr>\n",
       "      <th>2</th>\n",
       "      <td>5</td>\n",
       "      <td>6</td>\n",
       "    </tr>\n",
       "    <tr>\n",
       "      <th>3</th>\n",
       "      <td>4</td>\n",
       "      <td>9</td>\n",
       "    </tr>\n",
       "    <tr>\n",
       "      <th>4</th>\n",
       "      <td>6</td>\n",
       "      <td>5</td>\n",
       "    </tr>\n",
       "    <tr>\n",
       "      <th>5</th>\n",
       "      <td>2</td>\n",
       "      <td>7</td>\n",
       "    </tr>\n",
       "    <tr>\n",
       "      <th>6</th>\n",
       "      <td>4</td>\n",
       "      <td>6</td>\n",
       "    </tr>\n",
       "  </tbody>\n",
       "</table>\n",
       "</div>"
      ],
      "text/plain": [
       "   Employee Tenure  Satisfaction\n",
       "0                2             7\n",
       "1                3             8\n",
       "2                5             6\n",
       "3                4             9\n",
       "4                6             5\n",
       "5                2             7\n",
       "6                4             6"
      ]
     },
     "execution_count": 5,
     "metadata": {},
     "output_type": "execute_result"
    }
   ],
   "source": [
    "import numpy as np\n",
    "import pandas as pd\n",
    "from sklearn.linear_model import LinearRegression\n",
    "\n",
    "d = {'Employee Tenure':[2, 3, 5, 4, 6, 2, 4],'Satisfaction': [7, 8, 6, 9, 5, 7, 6]}\n",
    "\n",
    "df = pd.DataFrame(d)\n",
    "df"
   ]
  },
  {
   "cell_type": "code",
   "execution_count": 7,
   "id": "8fccd7ee",
   "metadata": {},
   "outputs": [
    {
     "data": {
      "text/plain": [
       "<AxesSubplot:xlabel='Employee Tenure', ylabel='Satisfaction'>"
      ]
     },
     "execution_count": 7,
     "metadata": {},
     "output_type": "execute_result"
    },
    {
     "data": {
      "image/png": "[encoded data removed]",
      "text/plain": [
       "<Figure size 640x480 with 1 Axes>"
      ]
     },
     "metadata": {},
     "output_type": "display_data"
    }
   ],
   "source": [
    "import seaborn as sns\n",
    "\n",
    "sns.scatterplot(data=d, x='Employee Tenure', y='Satisfaction')"
   ]
  },
  {
   "cell_type": "code",
   "execution_count": 11,
   "id": "3c3ec634",
   "metadata": {},
   "outputs": [
    {
     "name": "stdout",
     "output_type": "stream",
     "text": [
      "0    2\n",
      "1    3\n",
      "2    5\n",
      "3    4\n",
      "4    6\n",
      "5    2\n",
      "6    4\n",
      "Name: Employee Tenure, dtype: int64 0    7\n",
      "1    8\n",
      "2    6\n",
      "3    9\n",
      "4    5\n",
      "5    7\n",
      "6    6\n",
      "Name: Satisfaction, dtype: int64\n",
      "2    5\n",
      "6    4\n",
      "1    3\n",
      "5    2\n",
      "3    4\n",
      "Name: Employee Tenure, dtype: int64 0    2\n",
      "4    6\n",
      "Name: Employee Tenure, dtype: int64 2    6\n",
      "6    6\n",
      "1    8\n",
      "5    7\n",
      "3    9\n",
      "Name: Satisfaction, dtype: int64 0    7\n",
      "4    5\n",
      "Name: Satisfaction, dtype: int64\n"
     ]
    }
   ],
   "source": [
    "from sklearn.model_selection import train_test_split\n",
    "X = df['Employee Tenure']\n",
    "y = df['Satisfaction']\n",
    "print(X,y)\n",
    "X_train,y_train,X_test,y_test = train_test_split(X,y,test_size=0.2)\n",
    "\n",
    "print(X_train,y_train,X_test,y_test)"
   ]
  },
  {
   "cell_type": "code",
   "execution_count": 18,
   "id": "a3fa03d6",
   "metadata": {},
   "outputs": [
    {
     "name": "stdout",
     "output_type": "stream",
     "text": [
      "[[2]\n",
      " [3]\n",
      " [5]\n",
      " [4]\n",
      " [6]\n",
      " [2]\n",
      " [4]] [[7]\n",
      " [8]\n",
      " [6]\n",
      " [9]\n",
      " [5]\n",
      " [7]\n",
      " [6]]\n"
     ]
    },
    {
     "data": {
      "text/plain": [
       "LinearRegression()"
      ]
     },
     "execution_count": 18,
     "metadata": {},
     "output_type": "execute_result"
    }
   ],
   "source": [
    "lm = LinearRegression()\n",
    "a = np.array([2, 3, 5, 4, 6, 2, 4])\n",
    "b = np.array([7, 8, 6, 9, 5, 7, 6])\n",
    "a = a.reshape(-1,1)\n",
    "b = b.reshape(-1,1)\n",
    "print(a,b)\n",
    "lm.fit(a,b)\n"
   ]
  },
  {
   "cell_type": "code",
   "execution_count": 19,
   "id": "159eb597",
   "metadata": {},
   "outputs": [
    {
     "data": {
      "text/plain": [
       "array([[6.25531915]])"
      ]
     },
     "execution_count": 19,
     "metadata": {},
     "output_type": "execute_result"
    }
   ],
   "source": [
    "lm.predict([[5]])"
   ]
  },
  {
   "cell_type": "markdown",
   "id": "894151de",
   "metadata": {},
   "source": [
    "__9. Scenario: A study is conducted to compare the effectiveness of two different medications. The recovery times of the patients in each group are as follows:\n",
    "   Medication A: [10, 12, 14, 11, 13]\n",
    "   Medication B: [15, 17, 16, 14, 18]\n",
    "   Perform an analysis of variance (ANOVA) to determine if there is a significant difference in the mean recovery times between the two medications.__"
   ]
  },
  {
   "cell_type": "code",
   "execution_count": 20,
   "id": "6d691d5d",
   "metadata": {},
   "outputs": [],
   "source": [
    "ma = np.array([10, 12, 14, 11, 13])\n",
    "mb = np.array([15, 17, 16, 14, 18])"
   ]
  },
  {
   "cell_type": "code",
   "execution_count": 21,
   "id": "7bd06d37",
   "metadata": {},
   "outputs": [
    {
     "name": "stdout",
     "output_type": "stream",
     "text": [
      "16.0 0.003949772803445326\n"
     ]
    }
   ],
   "source": [
    "from scipy.stats import f_oneway\n",
    "\n",
    "stats,p_value = f_oneway(ma,mb)\n",
    "\n",
    "print(stats,p_value)"
   ]
  },
  {
   "cell_type": "code",
   "execution_count": 25,
   "id": "5988656a",
   "metadata": {},
   "outputs": [
    {
     "name": "stdout",
     "output_type": "stream",
     "text": [
      "Reject H0, there is a statistical difference\n"
     ]
    }
   ],
   "source": [
    "if p_value < 0.05:\n",
    "    print('Reject H0, there is a statistical difference')\n",
    "else:\n",
    "    print('Accept H0, there is no statistical difference')"
   ]
  },
  {
   "cell_type": "markdown",
   "id": "435250b9",
   "metadata": {},
   "source": [
    "__10. Scenario: A company wants to analyze customer feedback ratings on a scale of 1 to 10. The data collected is\n",
    " as follows:\n",
    "    [8, 9, 7, 6, 8, 10, 9, 8, 7, 8]\n",
    "    Calculate the 75th percentile of the feedback ratings.__\n"
   ]
  },
  {
   "cell_type": "code",
   "execution_count": 26,
   "id": "ac52d4ba",
   "metadata": {},
   "outputs": [],
   "source": [
    "f = np.array([8, 9, 7, 6, 8, 10, 9, 8, 7, 8])\n"
   ]
  },
  {
   "cell_type": "code",
   "execution_count": 27,
   "id": "2dc7b712",
   "metadata": {},
   "outputs": [],
   "source": [
    "def find_75_quartile(data):\n",
    "  \"\"\"\n",
    "  Finds the 75% quartile of the given data.\n",
    "\n",
    "  Args:\n",
    "    data: A list or array of data.\n",
    "\n",
    "  Returns:\n",
    "    The 75% quartile of the data.\n",
    "  \"\"\"\n",
    "\n",
    "  q75 = np.quantile(data, 0.75)\n",
    "  return q75"
   ]
  },
  {
   "cell_type": "code",
   "execution_count": 28,
   "id": "bb0c9706",
   "metadata": {},
   "outputs": [
    {
     "data": {
      "text/plain": [
       "8.75"
      ]
     },
     "execution_count": 28,
     "metadata": {},
     "output_type": "execute_result"
    }
   ],
   "source": [
    "find_75_quartile(f)"
   ]
  },
  {
   "cell_type": "markdown",
   "id": "9e989d66",
   "metadata": {},
   "source": [
    "__11. Scenario: A quality control department wants to test the weight consistency of a product. The weights of a sample of products are as follows:\n",
    "    [10.2, 9.8, 10.0, 10.5, 10.3, 10.1]\n",
    "    Perform a hypothesis test to determine if the mean weight differs significantly from 10 grams.__\n"
   ]
  },
  {
   "cell_type": "code",
   "execution_count": 30,
   "id": "1d89b155",
   "metadata": {},
   "outputs": [
    {
     "name": "stdout",
     "output_type": "stream",
     "text": [
      "1.5126584522688367 0.19077595151110102\n"
     ]
    }
   ],
   "source": [
    "from scipy.stats import ttest_1samp\n",
    "\n",
    "a = [10.2, 9.8, 10.0, 10.5, 10.3, 10.1]\n",
    "\n",
    "statistics,p_value = ttest_1samp(a,popmean=10)\n",
    "print(statistics,p_value)"
   ]
  },
  {
   "cell_type": "code",
   "execution_count": 31,
   "id": "5f7600d3",
   "metadata": {},
   "outputs": [
    {
     "name": "stdout",
     "output_type": "stream",
     "text": [
      "Accept H0, there is no statistical difference\n"
     ]
    }
   ],
   "source": [
    "if p_value < 0.05:\n",
    "    print('Reject H0, there is a statistical difference')\n",
    "else:\n",
    "    print('Accept H0, there is no statistical difference')"
   ]
  },
  {
   "cell_type": "markdown",
   "id": "ce7d71c3",
   "metadata": {},
   "source": [
    "__12. Scenario: A company wants to analyze the click-through rates of two different website designs. The number of clicks for each design is as follows:\n",
    "    Design A: [100, 120, 110, 90, 95]\n",
    "    Design B: [80, 85, 90, 95, 100]\n",
    "    Perform a chi-square test to determine if there is a significant difference in the click-through rates between the two designs.__"
   ]
  },
  {
   "cell_type": "code",
   "execution_count": 37,
   "id": "aa772cb1",
   "metadata": {},
   "outputs": [
    {
     "ename": "ValueError",
     "evalue": "too many values to unpack (expected 2)",
     "output_type": "error",
     "traceback": [
      "\u001b[1;31m---------------------------------------------------------------------------\u001b[0m",
      "\u001b[1;31mValueError\u001b[0m                                Traceback (most recent call last)",
      "\u001b[1;32m~\\AppData\\Local\\Temp\\ipykernel_10164\\2855857385.py\u001b[0m in \u001b[0;36m<module>\u001b[1;34m\u001b[0m\n\u001b[0;32m     23\u001b[0m   \u001b[0mobserved\u001b[0m \u001b[1;33m=\u001b[0m \u001b[1;33m[\u001b[0m\u001b[1;36m100\u001b[0m\u001b[1;33m,\u001b[0m \u001b[1;36m120\u001b[0m\u001b[1;33m,\u001b[0m \u001b[1;36m110\u001b[0m\u001b[1;33m,\u001b[0m \u001b[1;36m90\u001b[0m\u001b[1;33m,\u001b[0m \u001b[1;36m95\u001b[0m\u001b[1;33m]\u001b[0m\u001b[1;33m\u001b[0m\u001b[1;33m\u001b[0m\u001b[0m\n\u001b[0;32m     24\u001b[0m   \u001b[0mexpected\u001b[0m \u001b[1;33m=\u001b[0m \u001b[1;33m[\u001b[0m\u001b[1;36m80\u001b[0m\u001b[1;33m,\u001b[0m \u001b[1;36m85\u001b[0m\u001b[1;33m,\u001b[0m \u001b[1;36m90\u001b[0m\u001b[1;33m,\u001b[0m \u001b[1;36m95\u001b[0m\u001b[1;33m,\u001b[0m \u001b[1;36m100\u001b[0m\u001b[1;33m]\u001b[0m\u001b[1;33m\u001b[0m\u001b[1;33m\u001b[0m\u001b[0m\n\u001b[1;32m---> 25\u001b[1;33m   \u001b[0mchi_square\u001b[0m\u001b[1;33m,\u001b[0m \u001b[0mp_value\u001b[0m\u001b[1;33m,\u001b[0m \u001b[0mconclusion\u001b[0m \u001b[1;33m=\u001b[0m \u001b[0mchi_square_test\u001b[0m\u001b[1;33m(\u001b[0m\u001b[0mobserved\u001b[0m\u001b[1;33m,\u001b[0m \u001b[0mexpected\u001b[0m\u001b[1;33m)\u001b[0m\u001b[1;33m\u001b[0m\u001b[1;33m\u001b[0m\u001b[0m\n\u001b[0m\u001b[0;32m     26\u001b[0m   \u001b[0mprint\u001b[0m\u001b[1;33m(\u001b[0m\u001b[1;34mf\"The chi-square statistic is {chi_square}\"\u001b[0m\u001b[1;33m)\u001b[0m\u001b[1;33m\u001b[0m\u001b[1;33m\u001b[0m\u001b[0m\n\u001b[0;32m     27\u001b[0m   \u001b[0mprint\u001b[0m\u001b[1;33m(\u001b[0m\u001b[1;34mf\"The p-value is {p_value}\"\u001b[0m\u001b[1;33m)\u001b[0m\u001b[1;33m\u001b[0m\u001b[1;33m\u001b[0m\u001b[0m\n",
      "\u001b[1;32m~\\AppData\\Local\\Temp\\ipykernel_10164\\2855857385.py\u001b[0m in \u001b[0;36mchi_square_test\u001b[1;34m(observed, expected, alpha)\u001b[0m\n\u001b[0;32m     14\u001b[0m   \"\"\"\n\u001b[0;32m     15\u001b[0m \u001b[1;33m\u001b[0m\u001b[0m\n\u001b[1;32m---> 16\u001b[1;33m   \u001b[0mchi_square\u001b[0m\u001b[1;33m,\u001b[0m \u001b[0mp_value\u001b[0m \u001b[1;33m=\u001b[0m \u001b[0mstats\u001b[0m\u001b[1;33m.\u001b[0m\u001b[0mchi2_contingency\u001b[0m\u001b[1;33m(\u001b[0m\u001b[0mobserved\u001b[0m\u001b[1;33m,\u001b[0m \u001b[0mexpected\u001b[0m\u001b[1;33m)\u001b[0m\u001b[1;33m\u001b[0m\u001b[1;33m\u001b[0m\u001b[0m\n\u001b[0m\u001b[0;32m     17\u001b[0m \u001b[1;33m\u001b[0m\u001b[0m\n\u001b[0;32m     18\u001b[0m   \u001b[0mconclusion\u001b[0m \u001b[1;33m=\u001b[0m \u001b[1;34m\"Reject the null hypothesis\"\u001b[0m \u001b[1;32mif\u001b[0m \u001b[0mp_value\u001b[0m \u001b[1;33m<\u001b[0m \u001b[0malpha\u001b[0m \u001b[1;32melse\u001b[0m \u001b[1;34m\"Fail to reject the null hypothesis\"\u001b[0m\u001b[1;33m\u001b[0m\u001b[1;33m\u001b[0m\u001b[0m\n",
      "\u001b[1;31mValueError\u001b[0m: too many values to unpack (expected 2)"
     ]
    }
   ],
   "source": [
    "\n",
    "import scipy.stats as stats\n",
    "\n",
    "def chi_square_test(observed, expected, alpha=0.05):\n",
    "  \"\"\"\n",
    "  Performs a chi-square test on the given data.\n",
    "\n",
    "  Args:\n",
    "    observed: The observed frequencies.\n",
    "    expected: The expected frequencies.\n",
    "    alpha: The significance level.\n",
    "\n",
    "  Returns:\n",
    "    A tuple of the chi-square statistic, p-value, and conclusion.\n",
    "  \"\"\"\n",
    "\n",
    "  chi_square, p_value = stats.chi2_contingency(observed, expected)\n",
    "\n",
    "  conclusion = \"Reject the null hypothesis\" if p_value < alpha else \"Fail to reject the null hypothesis\"\n",
    "\n",
    "  return chi_square, p_value, conclusion\n",
    "\n",
    "if __name__ == \"__main__\":\n",
    "  observed = [100, 120, 110, 90, 95]\n",
    "  expected = [80, 85, 90, 95, 100]\n",
    "  chi_square, p_value, conclusion = chi_square_test(observed, expected)\n",
    "  print(f\"The chi-square statistic is {chi_square}\")\n",
    "  print(f\"The p-value is {p_value}\")\n",
    "  print(f\"The conclusion is {conclusion}\")"
   ]
  },
  {
   "cell_type": "markdown",
   "id": "c776b995",
   "metadata": {},
   "source": [
    "__13. Scenario: A survey is conducted to measure customer satisfaction with a product on a scale of 1 to 10. The data collected is as follows:\n",
    "    [7, 9, 6, 8, 10, 7, 8, 9, 7, 8]\n",
    "    Calculate the 95% confidence interval for the population mean satisfaction score.__\n"
   ]
  },
  {
   "cell_type": "code",
   "execution_count": 38,
   "id": "886dd6ad",
   "metadata": {},
   "outputs": [],
   "source": [
    "a = np.array([7, 9, 6, 8, 10, 7, 8, 9, 7, 8])\n",
    "\n",
    "import numpy as np\n",
    "import scipy.stats as stats\n",
    "\n",
    "def confidence_interval(data, confidence=0.95):\n",
    "    sample_mean = np.mean(data)\n",
    "    sample_standard_deviation = np.std(data)\n",
    "    t_critical = stats.t.ppf(1 - (1 - confidence) / 2, len(data) - 1)\n",
    "    margin_of_error = t_critical * sample_standard_deviation / np.sqrt(len(data))\n",
    "\n",
    "    lower_bound = sample_mean - margin_of_error\n",
    "    upper_bound = sample_mean + margin_of_error\n",
    "    return lower_bound, upper_bound\n",
    "\n",
    "lower_bound, upper_bound = confidence_interval(a)\n"
   ]
  },
  {
   "cell_type": "code",
   "execution_count": 39,
   "id": "afe629ec",
   "metadata": {},
   "outputs": [
    {
     "name": "stdout",
     "output_type": "stream",
     "text": [
      "7.087510739312016 8.712489260687985\n"
     ]
    }
   ],
   "source": [
    "print(lower_bound, upper_bound)"
   ]
  },
  {
   "cell_type": "code",
   "execution_count": 45,
   "id": "4c023499",
   "metadata": {},
   "outputs": [
    {
     "name": "stderr",
     "output_type": "stream",
     "text": [
      "C:\\Users\\Lenovo\\AppData\\Local\\Temp\\ipykernel_10164\\1006653522.py:2: DeprecationWarning: Use of keyword argument `alpha` for method `interval` is deprecated. Use first positional argument or keyword argument `confidence` instead.\n",
      "  stats.t.interval(alpha=0.95, df=len(a)-1,\n"
     ]
    },
    {
     "data": {
      "text/plain": [
       "(7.043561120599888, 8.756438879400113)"
      ]
     },
     "execution_count": 45,
     "metadata": {},
     "output_type": "execute_result"
    }
   ],
   "source": [
    "#another apprach\n",
    "stats.t.interval(alpha=0.95, df=len(a)-1,\n",
    "              loc=np.mean(a),\n",
    "              scale=stats.sem(a))"
   ]
  },
  {
   "cell_type": "markdown",
   "id": "c42ba387",
   "metadata": {},
   "source": [
    "__14. Scenario: A company wants to analyze the effect of temperature on product performance. The data collected is as follows:\n",
    "    Temperature (in degrees Celsius): [20, 22, 23, 19, 21]\n",
    "    Performance (on a scale of 1 to 10): [8, 7, 9, 6, 8]\n",
    "    Perform a simple linear regression to predict performance based on temperature.__"
   ]
  },
  {
   "cell_type": "code",
   "execution_count": 46,
   "id": "47cd91ba",
   "metadata": {},
   "outputs": [
    {
     "data": {
      "text/plain": [
       "array([[9.6]])"
      ]
     },
     "execution_count": 46,
     "metadata": {},
     "output_type": "execute_result"
    }
   ],
   "source": [
    "import numpy as np \n",
    "import pandas as pd\n",
    "from sklearn.linear_model import LinearRegression\n",
    "\n",
    "t = np.array([20, 22, 23, 19, 21])\n",
    "t  = t.reshape(-1,1)\n",
    "p = np.array([8, 7, 9, 6, 8])\n",
    "p = p.reshape(-1,1)\n",
    "\n",
    "lm = LinearRegression()\n",
    "lm.fit(t,p)\n",
    "\n",
    "lm.predict([[25]])\n"
   ]
  },
  {
   "cell_type": "markdown",
   "id": "68430b1b",
   "metadata": {},
   "source": [
    "__15. Scenario: A study is conducted to compare the preferences of two groups of participants. The preferences are measured on a Likert scale from 1 to 5. The data collected is as follows:\n",
    "    Group A: [4, 3, 5, 2, 4]\n",
    "    Group B: [3, 2, 4, 3, 3]\n",
    "    Perform a Mann-Whitney U test to determine if there is a significant difference in the median preferences between the two groups.__"
   ]
  },
  {
   "cell_type": "code",
   "execution_count": 47,
   "id": "463645a0",
   "metadata": {},
   "outputs": [
    {
     "name": "stdout",
     "output_type": "stream",
     "text": [
      "The Mann-Whitney U statistic is 38.5\n",
      "The p-value is 0.5280047312357199\n",
      "The conclusion is Fail to reject the null hypothesis\n"
     ]
    }
   ],
   "source": [
    "import scipy.stats as stats\n",
    "\n",
    "def mann_whitney_u_test(data1, data2):\n",
    "  \"\"\"\n",
    "  Performs a Mann-Whitney U test on the given data.\n",
    "\n",
    "  Args:\n",
    "    data1: The first set of data.\n",
    "    data2: The second set of data.\n",
    "\n",
    "  Returns:\n",
    "    A tuple of the test statistic, p-value, and conclusion.\n",
    "  \"\"\"\n",
    "\n",
    "  u_statistic, p_value = stats.mannwhitneyu(data1, data2)\n",
    "\n",
    "  conclusion = \"Reject the null hypothesis\" if p_value < 0.05 else \"Fail to reject the null hypothesis\"\n",
    "\n",
    "  return u_statistic, p_value, conclusion\n",
    "\n",
    "if __name__ == \"__main__\":\n",
    "  data1 = [13, 21, 21, 40, 42, 48, 55, 72]\n",
    "  data2 = [10, 15, 17, 35, 38, 42, 50, 65]\n",
    "  u_statistic, p_value, conclusion = mann_whitney_u_test(data1, data2)\n",
    "  print(f\"The Mann-Whitney U statistic is {u_statistic}\")\n",
    "  print(f\"The p-value is {p_value}\")\n",
    "  print(f\"The conclusion is {conclusion}\")"
   ]
  },
  {
   "cell_type": "markdown",
   "id": "ebeb807b",
   "metadata": {},
   "source": [
    "__16. Scenario: A company wants to analyze the distribution of customer ages. The data collected is as follows:\n",
    "    [25, 30, 35, 40, 45, 50, 55, 60, 65, 70]\n",
    "    Calculate the interquartile range (IQR) of the ages.__"
   ]
  },
  {
   "cell_type": "code",
   "execution_count": 48,
   "id": "40b03f0f",
   "metadata": {},
   "outputs": [
    {
     "name": "stdout",
     "output_type": "stream",
     "text": [
      "IQR:  22.5\n"
     ]
    }
   ],
   "source": [
    "a = np.array([25, 30, 35, 40, 45, 50, 55, 60, 65, 70])\n",
    "\n",
    "print ('IQR: ', np.quantile(a,0.75)-np.quantile(a,0.25))"
   ]
  },
  {
   "cell_type": "code",
   "execution_count": 49,
   "id": "5dc6cefa",
   "metadata": {},
   "outputs": [
    {
     "name": "stdout",
     "output_type": "stream",
     "text": [
      "22.5\n"
     ]
    }
   ],
   "source": [
    "print(np.percentile(a, 75)-np.percentile(a, 25))"
   ]
  },
  {
   "cell_type": "markdown",
   "id": "f1df1036",
   "metadata": {},
   "source": [
    "__17. Scenario: A study is conducted to compare the performance of three different machine learning algorithms. The accuracy scores for each algorithm are as follows:\n",
    "    Algorithm A: [0.85, 0.80, 0.82, 0.87, 0.83]\n",
    "    Algorithm B: [0.78, 0.82, 0.84, 0.80, 0.79]\n",
    "    Algorithm C: [0.90, 0.88, 0.89, 0.86, 0.87]\n",
    "    Perform a Kruskal-Wallis test to determine if there is a significant difference in the median accuracy scores between the algorithms.__"
   ]
  },
  {
   "cell_type": "code",
   "execution_count": 50,
   "id": "a7e7e493",
   "metadata": {},
   "outputs": [
    {
     "name": "stdout",
     "output_type": "stream",
     "text": [
      "The Kruskal-Wallis H statistic is 9.696947935368053\n",
      "The p-value is 0.007840333026249539\n",
      "The conclusion is Reject the null hypothesis\n"
     ]
    }
   ],
   "source": [
    "import scipy.stats as stats\n",
    "\n",
    "def kruskal_wallis_test(data1, data2, data3):\n",
    "  \"\"\"\n",
    "  Performs a Kruskal-Wallis test on the given data.\n",
    "\n",
    "  Args:\n",
    "    data1: The first set of data.\n",
    "    data2: The second set of data.\n",
    "    data3: The third set of data.\n",
    "\n",
    "  Returns:\n",
    "    A tuple of the test statistic, p-value, and conclusion.\n",
    "  \"\"\"\n",
    "\n",
    "  kruskal_statistic, p_value = stats.kruskal(data1, data2, data3)\n",
    "\n",
    "  conclusion = \"Reject the null hypothesis\" if p_value < 0.05 else \"Fail to reject the null hypothesis\"\n",
    "\n",
    "  return kruskal_statistic, p_value, conclusion\n",
    "\n",
    "if __name__ == \"__main__\":\n",
    "  data1 = [0.85, 0.80, 0.82, 0.87, 0.83]\n",
    "  data2 =  [0.78, 0.82, 0.84, 0.80, 0.79]\n",
    "  data3 = [0.90, 0.88, 0.89, 0.86, 0.87]\n",
    "  kruskal_statistic, p_value, conclusion = kruskal_wallis_test(data1, data2, data3)\n",
    "  print(f\"The Kruskal-Wallis H statistic is {kruskal_statistic}\")\n",
    "  print(f\"The p-value is {p_value}\")\n",
    "  print(f\"The conclusion is {conclusion}\")"
   ]
  },
  {
   "cell_type": "markdown",
   "id": "3e4552dc",
   "metadata": {},
   "source": [
    "__18. Scenario: A company wants to analyze the effect of price on sales. The data collected is as follows:\n",
    "    Price (in dollars): [10, 15, 12, 8, 14]\n",
    "    Sales: [100, 80, 90, 110, 95]\n",
    "    Perform a simple linear regression to predict\n",
    "sales based on price.__\n"
   ]
  },
  {
   "cell_type": "code",
   "execution_count": 51,
   "id": "24d7c3af",
   "metadata": {},
   "outputs": [
    {
     "data": {
      "text/plain": [
       "array([[97.80487805]])"
      ]
     },
     "execution_count": 51,
     "metadata": {},
     "output_type": "execute_result"
    }
   ],
   "source": [
    "p = np.array([10, 15, 12, 8, 14] )\n",
    "p = p.reshape(-1,1)\n",
    "s = np.array([100, 80, 90, 110, 95])\n",
    "s = s.reshape(-1,1)\n",
    "\n",
    "lm = LinearRegression()\n",
    "lm.fit(p,s)\n",
    "\n",
    "lm.predict([[11]])"
   ]
  },
  {
   "cell_type": "markdown",
   "id": "ddf8395a",
   "metadata": {},
   "source": [
    "__19. Scenario: A survey is conducted to measure the satisfaction levels of customers with a new product. The data collected is as follows:\n",
    "    [7, 8, 9, 6, 8, 7, 9, 7, 8, 7]\n",
    "    Calculate the standard error of the mean satisfaction score.__\n"
   ]
  },
  {
   "cell_type": "code",
   "execution_count": 53,
   "id": "d6e9e8b7",
   "metadata": {},
   "outputs": [
    {
     "name": "stdout",
     "output_type": "stream",
     "text": [
      "Standard error is:   0.28982753492378877\n"
     ]
    }
   ],
   "source": [
    "j = np.array([7, 8, 9, 6, 8, 7, 9, 7, 8, 7])\n",
    "std = np.std(j)\n",
    "print(\"Standard error is:  \",std/np.sqrt(len(j)))"
   ]
  },
  {
   "cell_type": "markdown",
   "id": "6a5d1cac",
   "metadata": {},
   "source": [
    "__20. Scenario: A company wants to analyze the relationship between advertising expenditure and sales. The data collected is as follows:\n",
    "    Advertising Expenditure (in thousands): [10, 15, 12, 8, 14]\n",
    "    Sales (in thousands): [25, 30, 28, 20, 26]\n",
    "    Perform a multiple regression analysis to predict sales based on advertising expenditure.__"
   ]
  },
  {
   "cell_type": "code",
   "execution_count": 54,
   "id": "bc1dfee9",
   "metadata": {},
   "outputs": [
    {
     "data": {
      "text/plain": [
       "array([[22.57317073]])"
      ]
     },
     "execution_count": 54,
     "metadata": {},
     "output_type": "execute_result"
    }
   ],
   "source": [
    "e = np.array([10, 15, 12, 8, 14])\n",
    "e = e.reshape(-1,1)\n",
    "s = np.array([25, 30, 28, 20, 26])\n",
    "s = s.reshape(-1,1)\n",
    "\n",
    "\n",
    "lm1 = LinearRegression()\n",
    "lm1.fit(e,s)\n",
    "lm1.predict([[9]])"
   ]
  },
  {
   "cell_type": "code",
   "execution_count": null,
   "id": "4323c09f",
   "metadata": {},
   "outputs": [],
   "source": []
  }
 ],
 "metadata": {
  "kernelspec": {
   "display_name": "Python 3 (ipykernel)",
   "language": "python",
   "name": "python3"
  },
  "language_info": {
   "codemirror_mode": {
    "name": "ipython",
    "version": 3
   },
   "file_extension": ".py",
   "mimetype": "text/x-python",
   "name": "python",
   "nbconvert_exporter": "python",
   "pygments_lexer": "ipython3",
   "version": "3.9.13"
  }
 },
 "nbformat": 4,
 "nbformat_minor": 5
}
