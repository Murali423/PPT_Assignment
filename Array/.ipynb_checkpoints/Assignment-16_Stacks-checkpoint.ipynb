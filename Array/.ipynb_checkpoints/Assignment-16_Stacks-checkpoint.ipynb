{
 "cells": [
  {
   "cell_type": "markdown",
   "id": "1b86cb81",
   "metadata": {},
   "source": [
    "__Q1.Given an array, for each element find the value of the nearest element to the right which is having a frequency greater than that of the current element. If there does not exist an answer for a position, then make the value ‘-1’.__"
   ]
  },
  {
   "cell_type": "code",
   "execution_count": 1,
   "id": "2c346322",
   "metadata": {},
   "outputs": [],
   "source": []
  },
  {
   "cell_type": "code",
   "execution_count": null,
   "id": "a268dc97",
   "metadata": {},
   "outputs": [],
   "source": []
  },
  {
   "cell_type": "markdown",
   "id": "670e2357",
   "metadata": {},
   "source": [
    "__Q2.Given a stack of integers, sort it in ascending order using another temporary stack.__"
   ]
  },
  {
   "cell_type": "code",
   "execution_count": 3,
   "id": "e5a74913",
   "metadata": {},
   "outputs": [
    {
     "name": "stdout",
     "output_type": "stream",
     "text": [
      "34\n",
      "4\n",
      "5\n",
      "5 \n",
      "6\n",
      "8\n",
      "8 \n",
      "0\n",
      "\n",
      "\n",
      "\n"
     ]
    },
    {
     "ename": "ValueError",
     "evalue": "invalid literal for int() with base 10: ''",
     "output_type": "error",
     "traceback": [
      "\u001b[1;31m---------------------------------------------------------------------------\u001b[0m",
      "\u001b[1;31mValueError\u001b[0m                                Traceback (most recent call last)",
      "\u001b[1;32m~\\AppData\\Local\\Temp\\ipykernel_8684\\4267237823.py\u001b[0m in \u001b[0;36m<module>\u001b[1;34m\u001b[0m\n\u001b[0;32m     10\u001b[0m     \u001b[1;32mreturn\u001b[0m \u001b[0mtmpStack\u001b[0m\u001b[1;33m\u001b[0m\u001b[1;33m\u001b[0m\u001b[0m\n\u001b[0;32m     11\u001b[0m \u001b[1;32mfor\u001b[0m \u001b[0m_\u001b[0m \u001b[1;32min\u001b[0m \u001b[0mrange\u001b[0m\u001b[1;33m(\u001b[0m\u001b[0mint\u001b[0m\u001b[1;33m(\u001b[0m\u001b[0minput\u001b[0m\u001b[1;33m(\u001b[0m\u001b[1;33m)\u001b[0m\u001b[1;33m)\u001b[0m\u001b[1;33m)\u001b[0m\u001b[1;33m:\u001b[0m\u001b[1;33m\u001b[0m\u001b[1;33m\u001b[0m\u001b[0m\n\u001b[1;32m---> 12\u001b[1;33m     \u001b[0mn\u001b[0m \u001b[1;33m=\u001b[0m \u001b[0mint\u001b[0m\u001b[1;33m(\u001b[0m\u001b[0minput\u001b[0m\u001b[1;33m(\u001b[0m\u001b[1;33m)\u001b[0m\u001b[1;33m)\u001b[0m\u001b[1;33m\u001b[0m\u001b[1;33m\u001b[0m\u001b[0m\n\u001b[0m\u001b[0;32m     13\u001b[0m     \u001b[0mstack\u001b[0m \u001b[1;33m=\u001b[0m \u001b[0mlist\u001b[0m\u001b[1;33m(\u001b[0m\u001b[0mmap\u001b[0m\u001b[1;33m(\u001b[0m\u001b[0mint\u001b[0m\u001b[1;33m,\u001b[0m\u001b[0minput\u001b[0m\u001b[1;33m(\u001b[0m\u001b[1;33m)\u001b[0m\u001b[1;33m.\u001b[0m\u001b[0msplit\u001b[0m\u001b[1;33m(\u001b[0m\u001b[1;33m)\u001b[0m\u001b[1;33m)\u001b[0m\u001b[1;33m)\u001b[0m\u001b[1;33m\u001b[0m\u001b[1;33m\u001b[0m\u001b[0m\n\u001b[0;32m     14\u001b[0m     \u001b[0mtmpStack\u001b[0m \u001b[1;33m=\u001b[0m \u001b[0msortStack\u001b[0m\u001b[1;33m(\u001b[0m\u001b[0mstack\u001b[0m\u001b[1;33m)\u001b[0m\u001b[1;33m\u001b[0m\u001b[1;33m\u001b[0m\u001b[0m\n",
      "\u001b[1;31mValueError\u001b[0m: invalid literal for int() with base 10: ''"
     ]
    }
   ],
   "source": [
    "def sortStack(input_): \n",
    "    tmpStack = []\n",
    "    while (len(input_)): \n",
    "        tmp = input_[-1] \n",
    "        input_.pop() \n",
    "        while (len(tmpStack) and tmpStack[-1] < tmp):\n",
    "            input_.append(tmpStack[-1]) \n",
    "            tmpStack.pop()\n",
    "        tmpStack.append(tmp)\n",
    "    return tmpStack\n",
    "for _ in range(int(input())):\n",
    "    n = int(input())\n",
    "    stack = list(map(int,input().split()))\n",
    "    tmpStack = sortStack(stack)\n",
    "    while len(tmpStack):\n",
    "        print(tmpStack[-1], end = \" \")\n",
    "        tmpStack.pop()\n",
    "    print()\n",
    "        "
   ]
  },
  {
   "cell_type": "markdown",
   "id": "344fb13c",
   "metadata": {},
   "source": [
    "__Q3.Given a stack with push(), pop(), and empty() operations, The task is to delete the middle element of it without using any additional data structure.__"
   ]
  },
  {
   "cell_type": "code",
   "execution_count": 4,
   "id": "fba770a3",
   "metadata": {},
   "outputs": [],
   "source": [
    "from collections import deque\n",
    "\n",
    "class Mystack:\n",
    "    \n",
    "    def __init__(self):\n",
    "        self.stack = []\n",
    "        \n",
    "    def push(self,val):\n",
    "        self.stack.append(val)\n",
    "        \n",
    "    def isEmpty(self):\n",
    "        return self.stack == None\n",
    "    \n",
    "    def pop(self):\n",
    "        if self.isEmpty():\n",
    "            raise Exception(\"trying to pop from an empty stack\")\n",
    "        return self.stack.pop()\n",
    "    \n",
    "    def delmid(self):\n",
    "        if self.isEmpty():\n",
    "            raise Exception(\"Delete element from an empty stack\")\n",
    "        start,end = 0, len(self.stack)-1\n",
    "        mid = (start+end)//2\n",
    "        self.stack.remove(self.stack[mid])\n",
    "        return self.stack\n",
    "            \n",
    "        "
   ]
  },
  {
   "cell_type": "code",
   "execution_count": 5,
   "id": "fcb4e84d",
   "metadata": {},
   "outputs": [
    {
     "name": "stdout",
     "output_type": "stream",
     "text": [
      "[1, 2, 4, 5]\n"
     ]
    }
   ],
   "source": [
    "dm = Mystack()\n",
    "\n",
    "dm.push(1)\n",
    "dm.push(2)\n",
    "dm.push(3)\n",
    "dm.push(4)\n",
    "dm.push(5)\n",
    "\n",
    "print(dm.delmid())"
   ]
  },
  {
   "cell_type": "code",
   "execution_count": 6,
   "id": "bbc84caa",
   "metadata": {},
   "outputs": [
    {
     "name": "stdout",
     "output_type": "stream",
     "text": [
      "[1, 2, 4, 5, 6]\n"
     ]
    }
   ],
   "source": [
    "dm = Mystack()\n",
    "\n",
    "dm.push(1)\n",
    "dm.push(2)\n",
    "dm.push(3)\n",
    "dm.push(4)\n",
    "dm.push(5)\n",
    "dm.push(6)\n",
    "print(dm.delmid())\n"
   ]
  },
  {
   "cell_type": "code",
   "execution_count": null,
   "id": "cbe18ab8",
   "metadata": {},
   "outputs": [],
   "source": []
  }
 ],
 "metadata": {
  "kernelspec": {
   "display_name": "Python 3 (ipykernel)",
   "language": "python",
   "name": "python3"
  },
  "language_info": {
   "codemirror_mode": {
    "name": "ipython",
    "version": 3
   },
   "file_extension": ".py",
   "mimetype": "text/x-python",
   "name": "python",
   "nbconvert_exporter": "python",
   "pygments_lexer": "ipython3",
   "version": "3.9.13"
  }
 },
 "nbformat": 4,
 "nbformat_minor": 5
}
