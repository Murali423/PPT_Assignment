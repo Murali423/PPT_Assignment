{
 "cells": [
  {
   "cell_type": "markdown",
   "id": "d131a8e4",
   "metadata": {},
   "source": [
    "__1. Write a Python program to reverse a string without using any built-in string reversal functions.__"
   ]
  },
  {
   "cell_type": "code",
   "execution_count": 1,
   "id": "06315c39",
   "metadata": {},
   "outputs": [],
   "source": [
    "from typing import *\n",
    "\n",
    "def revese_str(s:str)->str:\n",
    "    reverse = \"\"\n",
    "    l = len(s)\n",
    "    for i in range(l-1,-1,-1):\n",
    "        reverse += s[i]\n",
    "    return reverse\n",
    "\n",
    "def revese_str1(s:str)->str:\n",
    "    return s[::-1]"
   ]
  },
  {
   "cell_type": "code",
   "execution_count": 2,
   "id": "bb39c450",
   "metadata": {},
   "outputs": [
    {
     "data": {
      "text/plain": [
       "'norueNi'"
      ]
     },
     "execution_count": 2,
     "metadata": {},
     "output_type": "execute_result"
    }
   ],
   "source": [
    "revese_str('iNeuron')"
   ]
  },
  {
   "cell_type": "code",
   "execution_count": 3,
   "id": "226b2cde",
   "metadata": {},
   "outputs": [
    {
     "data": {
      "text/plain": [
       "'norueNi'"
      ]
     },
     "execution_count": 3,
     "metadata": {},
     "output_type": "execute_result"
    }
   ],
   "source": [
    "revese_str1('iNeuron')"
   ]
  },
  {
   "cell_type": "markdown",
   "id": "4feb6ebd",
   "metadata": {},
   "source": [
    "__2. Implement a function to check if a given string is a palindrome.__"
   ]
  },
  {
   "cell_type": "code",
   "execution_count": 4,
   "id": "f25e3d70",
   "metadata": {},
   "outputs": [],
   "source": [
    "def isPalindrome(s:str)->bool:\n",
    "    if len(s) == 0:\n",
    "        return 'String is Null'\n",
    "    return s == s[::-1]"
   ]
  },
  {
   "cell_type": "code",
   "execution_count": 5,
   "id": "e89cc2f9",
   "metadata": {},
   "outputs": [
    {
     "data": {
      "text/plain": [
       "True"
      ]
     },
     "execution_count": 5,
     "metadata": {},
     "output_type": "execute_result"
    }
   ],
   "source": [
    "isPalindrome('madam')"
   ]
  },
  {
   "cell_type": "code",
   "execution_count": 6,
   "id": "af3110cf",
   "metadata": {},
   "outputs": [
    {
     "data": {
      "text/plain": [
       "False"
      ]
     },
     "execution_count": 6,
     "metadata": {},
     "output_type": "execute_result"
    }
   ],
   "source": [
    "isPalindrome('race')"
   ]
  },
  {
   "cell_type": "markdown",
   "id": "ea85ea12",
   "metadata": {},
   "source": [
    "__3. Write a program to find the largest element in a given list.__"
   ]
  },
  {
   "cell_type": "code",
   "execution_count": 17,
   "id": "692c9754",
   "metadata": {},
   "outputs": [],
   "source": [
    "def maxList(l:List)->int:\n",
    "    m = l[0]\n",
    "    for i in l:\n",
    "        if i > m:\n",
    "            m = i\n",
    "    return m"
   ]
  },
  {
   "cell_type": "code",
   "execution_count": 18,
   "id": "d9e7dde1",
   "metadata": {},
   "outputs": [
    {
     "name": "stdout",
     "output_type": "stream",
     "text": [
      "99\n"
     ]
    }
   ],
   "source": [
    "print(maxList([10, 20, 4, 45, 99]))"
   ]
  },
  {
   "cell_type": "markdown",
   "id": "41a73ab5",
   "metadata": {},
   "source": [
    "__4. Implement a function to count the occurrence of each element in a list.__"
   ]
  },
  {
   "cell_type": "code",
   "execution_count": 19,
   "id": "0e0d2d15",
   "metadata": {},
   "outputs": [],
   "source": [
    "def countX(lst, x):\n",
    "    count = 0\n",
    "    for ele in lst:\n",
    "        if (ele == x):\n",
    "            count = count + 1\n",
    "    return count"
   ]
  },
  {
   "cell_type": "code",
   "execution_count": 20,
   "id": "b583c64e",
   "metadata": {},
   "outputs": [
    {
     "data": {
      "text/plain": [
       "5"
      ]
     },
     "execution_count": 20,
     "metadata": {},
     "output_type": "execute_result"
    }
   ],
   "source": [
    "a = [8, 6, 8, 10, 8, 20, 10, 8, 8]\n",
    "countX(a,8)"
   ]
  },
  {
   "cell_type": "markdown",
   "id": "594b6214",
   "metadata": {},
   "source": [
    "__5. Write a Python program to find the second largest number in a list.__"
   ]
  },
  {
   "cell_type": "code",
   "execution_count": 21,
   "id": "65ef2ee8",
   "metadata": {},
   "outputs": [],
   "source": [
    "from typing import *\n",
    "def secondL(lst:List)->int:\n",
    "    if len(lst) == 0:\n",
    "        return None\n",
    "    return sorted(lst)[-2]"
   ]
  },
  {
   "cell_type": "code",
   "execution_count": 7,
   "id": "c0623222",
   "metadata": {},
   "outputs": [
    {
     "data": {
      "text/plain": [
       "10"
      ]
     },
     "execution_count": 7,
     "metadata": {},
     "output_type": "execute_result"
    }
   ],
   "source": [
    "secondL([8, 6, 8, 10, 8, 20, 10, 8, 8])"
   ]
  },
  {
   "cell_type": "markdown",
   "id": "f4b38889",
   "metadata": {},
   "source": [
    "__6. Implement a function to remove duplicate elements from a list.__"
   ]
  },
  {
   "cell_type": "code",
   "execution_count": 8,
   "id": "ab0cb79c",
   "metadata": {},
   "outputs": [],
   "source": [
    "def removedup(lst:List)->List:\n",
    "    if len(lst) == 0:\n",
    "        return None\n",
    "    return list(set(lst))"
   ]
  },
  {
   "cell_type": "code",
   "execution_count": 9,
   "id": "e127882d",
   "metadata": {},
   "outputs": [
    {
     "data": {
      "text/plain": [
       "[8, 10, 20, 6]"
      ]
     },
     "execution_count": 9,
     "metadata": {},
     "output_type": "execute_result"
    }
   ],
   "source": [
    "removedup([8, 6, 8, 10, 8, 20, 10, 8, 8])"
   ]
  },
  {
   "cell_type": "markdown",
   "id": "597b5476",
   "metadata": {},
   "source": [
    "__7. Write a program to calculate the factorial of a given number.__"
   ]
  },
  {
   "cell_type": "code",
   "execution_count": 10,
   "id": "88cbc4f0",
   "metadata": {},
   "outputs": [],
   "source": [
    "def factorial(num:int)->int:\n",
    "    if num == 0:\n",
    "        return 1\n",
    "    return num*factorial(num-1)"
   ]
  },
  {
   "cell_type": "code",
   "execution_count": 11,
   "id": "6306a12e",
   "metadata": {},
   "outputs": [
    {
     "data": {
      "text/plain": [
       "120"
      ]
     },
     "execution_count": 11,
     "metadata": {},
     "output_type": "execute_result"
    }
   ],
   "source": [
    "factorial(5)"
   ]
  },
  {
   "cell_type": "code",
   "execution_count": 12,
   "id": "5468ebd5",
   "metadata": {},
   "outputs": [
    {
     "data": {
      "text/plain": [
       "3628800"
      ]
     },
     "execution_count": 12,
     "metadata": {},
     "output_type": "execute_result"
    }
   ],
   "source": [
    "factorial(10)"
   ]
  },
  {
   "cell_type": "markdown",
   "id": "71b40d3b",
   "metadata": {},
   "source": [
    "__8. Implement a function to check if a given number is prime.__"
   ]
  },
  {
   "cell_type": "code",
   "execution_count": 13,
   "id": "9642b0ab",
   "metadata": {},
   "outputs": [
    {
     "name": "stdout",
     "output_type": "stream",
     "text": [
      "True\n"
     ]
    }
   ],
   "source": [
    "import math\n",
    " \n",
    "def is_prime(n):\n",
    "    if n <= 1:\n",
    "        return False\n",
    "    for i in range(2, int(math.sqrt(n)) + 1):\n",
    "        if n % i == 0:\n",
    "            return False\n",
    "    return True\n",
    " \n",
    "n = 11\n",
    "print(is_prime(n))"
   ]
  },
  {
   "cell_type": "markdown",
   "id": "8832c05b",
   "metadata": {},
   "source": [
    "__9. Write a Python program to sort a list of integers in ascending order.__"
   ]
  },
  {
   "cell_type": "code",
   "execution_count": 19,
   "id": "8c631107",
   "metadata": {},
   "outputs": [],
   "source": [
    "def sort_lst(lst:List)->List:\n",
    "    if len(lst) == 0:\n",
    "        return None\n",
    "    lst.sort()\n",
    "    return lst"
   ]
  },
  {
   "cell_type": "code",
   "execution_count": 20,
   "id": "2384e0de",
   "metadata": {},
   "outputs": [
    {
     "name": "stdout",
     "output_type": "stream",
     "text": [
      "[6, 8, 8, 8, 8, 8, 10, 10, 20]\n"
     ]
    }
   ],
   "source": [
    "print(sort_lst([8, 6, 8, 10, 8, 20, 10, 8, 8]))"
   ]
  },
  {
   "cell_type": "markdown",
   "id": "31c27339",
   "metadata": {},
   "source": [
    "__10. Implement a function to find the sum of all numbers in a list.__\n"
   ]
  },
  {
   "cell_type": "code",
   "execution_count": 21,
   "id": "140b50a2",
   "metadata": {},
   "outputs": [],
   "source": [
    "def sum_of(lst:List)->int:\n",
    "    sm = 0\n",
    "    for i in lst:\n",
    "        sm += i\n",
    "    return sm"
   ]
  },
  {
   "cell_type": "code",
   "execution_count": 22,
   "id": "083fe620",
   "metadata": {},
   "outputs": [
    {
     "data": {
      "text/plain": [
       "86"
      ]
     },
     "execution_count": 22,
     "metadata": {},
     "output_type": "execute_result"
    }
   ],
   "source": [
    "sum_of([6, 8, 8, 8, 8, 8, 10, 10, 20])"
   ]
  },
  {
   "cell_type": "markdown",
   "id": "0a2023c4",
   "metadata": {},
   "source": [
    "__11.Write a program to find the common elements between two lists.__"
   ]
  },
  {
   "cell_type": "code",
   "execution_count": 24,
   "id": "0c935688",
   "metadata": {},
   "outputs": [],
   "source": [
    "def commonEle(l1:List,l2:List)->List:\n",
    "    c = []\n",
    "    for i in l1:\n",
    "        if i in l2:\n",
    "            c.append(i)\n",
    "    return c"
   ]
  },
  {
   "cell_type": "code",
   "execution_count": 25,
   "id": "c49e7d2b",
   "metadata": {},
   "outputs": [
    {
     "data": {
      "text/plain": [
       "[1, 5]"
      ]
     },
     "execution_count": 25,
     "metadata": {},
     "output_type": "execute_result"
    }
   ],
   "source": [
    "commonEle([1,2,3,4,5],[5,7,8,1,7]) #O(m+n)"
   ]
  },
  {
   "cell_type": "markdown",
   "id": "b2529f4c",
   "metadata": {},
   "source": [
    "__12. Implement a function to check if a given string is an anagram of another string__"
   ]
  },
  {
   "cell_type": "code",
   "execution_count": 26,
   "id": "a2b56a26",
   "metadata": {},
   "outputs": [],
   "source": [
    "from collections import Counter\n",
    "\n",
    "def is_anagram(s1:str,s2:str)->bool:\n",
    "    if Counter(s1) == Counter(s2):\n",
    "        return 'Given strings are anagram'\n",
    "    else:\n",
    "        return 'Given strings are not anagram'"
   ]
  },
  {
   "cell_type": "code",
   "execution_count": 27,
   "id": "6de97c2b",
   "metadata": {},
   "outputs": [
    {
     "data": {
      "text/plain": [
       "'Given strings are anagram'"
      ]
     },
     "execution_count": 27,
     "metadata": {},
     "output_type": "execute_result"
    }
   ],
   "source": [
    "is_anagram('silent','listen')"
   ]
  },
  {
   "cell_type": "markdown",
   "id": "0148025b",
   "metadata": {},
   "source": [
    "__13. Write a Python program to generate all permutations of a given string.__"
   ]
  },
  {
   "cell_type": "code",
   "execution_count": 3,
   "id": "cf6b7c48",
   "metadata": {},
   "outputs": [],
   "source": [
    "from typing import *\n",
    "def permutation(s1:str,s2='')->str:\n",
    "    if len(s1) == 0:\n",
    "        print(s2)\n",
    "        \n",
    "    for i in range(len(s1)):\n",
    "        news2 = s2+s1[i]\n",
    "        news1 = s1[0:i]+s1[i+1:]\n",
    "        permutation(news1,news2)\n",
    "    "
   ]
  },
  {
   "cell_type": "code",
   "execution_count": 4,
   "id": "a068f0c8",
   "metadata": {},
   "outputs": [
    {
     "name": "stdout",
     "output_type": "stream",
     "text": [
      "ABC\n",
      "ACB\n",
      "BAC\n",
      "BCA\n",
      "CAB\n",
      "CBA\n"
     ]
    }
   ],
   "source": [
    "permutation('ABC')"
   ]
  },
  {
   "cell_type": "markdown",
   "id": "2409e03e",
   "metadata": {},
   "source": [
    "__14. Implement a function to calculate the Fibonacci sequence up to a given number of terms.__"
   ]
  },
  {
   "cell_type": "code",
   "execution_count": 8,
   "id": "30f29fa9",
   "metadata": {},
   "outputs": [],
   "source": [
    "def fibonacci(n:int)->List:\n",
    "    if n ==0:\n",
    "        return 0\n",
    "    n1,n2 = 0,1\n",
    "    print(\"Fibonacci Series:\", n1, n2, end=\" \")\n",
    "    for i in range(2,n):\n",
    "        n3 = n1+n2\n",
    "        n1 = n2\n",
    "        n2 = n3\n",
    "        print(n3,end= ' ')"
   ]
  },
  {
   "cell_type": "code",
   "execution_count": 9,
   "id": "f3b0ab6e",
   "metadata": {},
   "outputs": [
    {
     "name": "stdout",
     "output_type": "stream",
     "text": [
      "Fibonacci Series: 0 1 1 2 3 5 8 13 21 34 "
     ]
    }
   ],
   "source": [
    "fibonacci(10)"
   ]
  },
  {
   "cell_type": "markdown",
   "id": "d313de26",
   "metadata": {},
   "source": [
    "__15. Write a program to find the median of a list of numbers.__"
   ]
  },
  {
   "cell_type": "code",
   "execution_count": 16,
   "id": "a120addf",
   "metadata": {},
   "outputs": [],
   "source": [
    "def median(lst:List)-> int:\n",
    "    lst = sorted(lst)\n",
    "    print(lst)\n",
    "    n = len(lst)\n",
    "    mid = n//2\n",
    "    if n%2 == 0 :\n",
    "        return (lst[mid-1]+lst[mid])/2\n",
    "    else:\n",
    "        return lst[mid]"
   ]
  },
  {
   "cell_type": "code",
   "execution_count": 17,
   "id": "057dfc32",
   "metadata": {},
   "outputs": [
    {
     "name": "stdout",
     "output_type": "stream",
     "text": [
      "[1, 2, 3, 4, 5]\n"
     ]
    },
    {
     "data": {
      "text/plain": [
       "3"
      ]
     },
     "execution_count": 17,
     "metadata": {},
     "output_type": "execute_result"
    }
   ],
   "source": [
    "median([1,2,3,4,5])"
   ]
  },
  {
   "cell_type": "code",
   "execution_count": 18,
   "id": "83b1b6a2",
   "metadata": {},
   "outputs": [
    {
     "name": "stdout",
     "output_type": "stream",
     "text": [
      "[1, 2, 3, 4, 5, 6]\n"
     ]
    },
    {
     "data": {
      "text/plain": [
       "3.5"
      ]
     },
     "execution_count": 18,
     "metadata": {},
     "output_type": "execute_result"
    }
   ],
   "source": [
    "median([6,2,5,3,4,1])"
   ]
  },
  {
   "cell_type": "markdown",
   "id": "c0fb5fa5",
   "metadata": {},
   "source": [
    "__16. Implement a function to check if a given list is sorted in non-decreasing order.__"
   ]
  },
  {
   "cell_type": "code",
   "execution_count": 19,
   "id": "34338631",
   "metadata": {},
   "outputs": [],
   "source": [
    "def order(lst:List)->bool:\n",
    "    n = len(lst)\n",
    "    for i in range(0,n-1):\n",
    "        if lst[i]<lst[i+1]:\n",
    "            print('Given List is in sorted order')\n",
    "        else:\n",
    "            print('Given list  is in decresing order')"
   ]
  },
  {
   "cell_type": "code",
   "execution_count": 20,
   "id": "c3ebce50",
   "metadata": {},
   "outputs": [
    {
     "name": "stdout",
     "output_type": "stream",
     "text": [
      "Given List is in sorted order\n",
      "Given List is in sorted order\n",
      "Given List is in sorted order\n",
      "Given List is in sorted order\n"
     ]
    }
   ],
   "source": [
    "order([1,2,3,4,5])"
   ]
  },
  {
   "cell_type": "markdown",
   "id": "96decc15",
   "metadata": {},
   "source": [
    "__17. Write a Python program to find the intersection of two lists.__"
   ]
  },
  {
   "cell_type": "code",
   "execution_count": 25,
   "id": "3f1405ff",
   "metadata": {},
   "outputs": [],
   "source": [
    "def intersect(lst1:List,lst2:List)-> list:\n",
    "    s1 = set(lst1)\n",
    "    s2 = set(lst2)\n",
    "    v = s1.intersection(s2)\n",
    "    return list(v)"
   ]
  },
  {
   "cell_type": "code",
   "execution_count": 26,
   "id": "e98d9a0d",
   "metadata": {},
   "outputs": [
    {
     "data": {
      "text/plain": [
       "[1, 5]"
      ]
     },
     "execution_count": 26,
     "metadata": {},
     "output_type": "execute_result"
    }
   ],
   "source": [
    "intersect([1,2,3,4,5],[5,6,1,7,9])"
   ]
  },
  {
   "cell_type": "markdown",
   "id": "bb072e12",
   "metadata": {},
   "source": [
    "__18. Implement a function to find the maximum subarray sum in a given list.__"
   ]
  },
  {
   "cell_type": "code",
   "execution_count": 7,
   "id": "165c7963",
   "metadata": {},
   "outputs": [],
   "source": [
    "import sys \n",
    " \n",
    " \n",
    "def maxSubArraySum(a, size):\n",
    " \n",
    "    max_so_far = -sys.maxsize - 1\n",
    "    max_ending_here = 0\n",
    " \n",
    "    for i in range(0, size):\n",
    "        max_ending_here = max_ending_here + a[i]\n",
    "        if (max_so_far < max_ending_here):\n",
    "            max_so_far = max_ending_here\n",
    " \n",
    "        if max_ending_here < 0:\n",
    "            max_ending_here = 0\n",
    "    return max_so_far"
   ]
  },
  {
   "cell_type": "code",
   "execution_count": 8,
   "id": "bcfb9ff7",
   "metadata": {},
   "outputs": [
    {
     "data": {
      "text/plain": [
       "7"
      ]
     },
     "execution_count": 8,
     "metadata": {},
     "output_type": "execute_result"
    }
   ],
   "source": [
    "a = [-2, -3, 4, -1, -2, 1, 5, -3]\n",
    "maxSubArraySum(a, len(a))\n"
   ]
  },
  {
   "cell_type": "markdown",
   "id": "d159913b",
   "metadata": {},
   "source": [
    "__19. Write a program to remove all vowels from a given string.__"
   ]
  },
  {
   "cell_type": "code",
   "execution_count": 29,
   "id": "70ef433d",
   "metadata": {},
   "outputs": [],
   "source": [
    "def remove_owl(st:str)->str:\n",
    "    vowel = 'aeiouAEIOU'\n",
    "    l = [*st]\n",
    "    s = \"\"\n",
    "    for i in l:\n",
    "        if i in vowel:\n",
    "            s = s\n",
    "        else:\n",
    "            s = s+i\n",
    "    return s"
   ]
  },
  {
   "cell_type": "code",
   "execution_count": 30,
   "id": "f35df853",
   "metadata": {},
   "outputs": [
    {
     "data": {
      "text/plain": [
       "'mrl'"
      ]
     },
     "execution_count": 30,
     "metadata": {},
     "output_type": "execute_result"
    }
   ],
   "source": [
    "remove_owl('murali')"
   ]
  },
  {
   "cell_type": "code",
   "execution_count": 32,
   "id": "f5ceb11f",
   "metadata": {},
   "outputs": [],
   "source": [
    "def remove_owl1(st:str)->str:\n",
    "    vowel = ['a','e','i','o','u']\n",
    "    l = [le for le in st if le.lower() not in vowel]\n",
    "    return ''.join(l)"
   ]
  },
  {
   "cell_type": "code",
   "execution_count": 33,
   "id": "c2203649",
   "metadata": {},
   "outputs": [
    {
     "data": {
      "text/plain": [
       "'mrl'"
      ]
     },
     "execution_count": 33,
     "metadata": {},
     "output_type": "execute_result"
    }
   ],
   "source": [
    "remove_owl1('murali')"
   ]
  },
  {
   "cell_type": "markdown",
   "id": "a36eb408",
   "metadata": {},
   "source": [
    "__20. Implement a function to reverse the order of words in a given sentence.__"
   ]
  },
  {
   "cell_type": "code",
   "execution_count": 41,
   "id": "8c8c5832",
   "metadata": {},
   "outputs": [],
   "source": [
    "def rev_ord(st:str)->str:\n",
    "    if len(st) == 0:\n",
    "        return None\n",
    "    l = st.split()\n",
    "    print(l)\n",
    "    l = reversed(l)\n",
    "    return ' '.join(l)"
   ]
  },
  {
   "cell_type": "code",
   "execution_count": 42,
   "id": "5d1005ab",
   "metadata": {},
   "outputs": [
    {
     "name": "stdout",
     "output_type": "stream",
     "text": [
      "['iNeuron', 'is', 'Best']\n",
      "Best is iNeuron\n"
     ]
    }
   ],
   "source": [
    "print(rev_ord('iNeuron is Best'))"
   ]
  },
  {
   "cell_type": "markdown",
   "id": "756984d2",
   "metadata": {},
   "source": [
    "__21. Write a Python program to check if two strings are anagrams of each other.__"
   ]
  },
  {
   "cell_type": "code",
   "execution_count": 43,
   "id": "b623b587",
   "metadata": {},
   "outputs": [],
   "source": [
    "from collections import Counter\n",
    "\n",
    "def is_anagram(s1:str,s2:str)->bool:\n",
    "    if Counter(s1) == Counter(s2):\n",
    "        return 'Given strings are anagram'\n",
    "    else:\n",
    "        return 'Given strings are not anagram'"
   ]
  },
  {
   "cell_type": "code",
   "execution_count": 44,
   "id": "c2094a44",
   "metadata": {},
   "outputs": [
    {
     "data": {
      "text/plain": [
       "'Given strings are anagram'"
      ]
     },
     "execution_count": 44,
     "metadata": {},
     "output_type": "execute_result"
    }
   ],
   "source": [
    "is_anagram('silent','listen')"
   ]
  },
  {
   "cell_type": "markdown",
   "id": "36eb9c1d",
   "metadata": {},
   "source": [
    "__22. Implement a function to find the first non-repeating character in a string.__"
   ]
  },
  {
   "cell_type": "code",
   "execution_count": 15,
   "id": "56ff2ebb",
   "metadata": {},
   "outputs": [],
   "source": [
    "from collections import Counter\n",
    "\n",
    "def non_rep(st:str)->str:\n",
    "    if st is None:\n",
    "        return None\n",
    "    c = Counter(st)\n",
    "    for key,value in c.items():\n",
    "        if value == 1:\n",
    "            return key\n",
    "    return None\n",
    "            \n",
    "            "
   ]
  },
  {
   "cell_type": "code",
   "execution_count": 16,
   "id": "0f8ffde6",
   "metadata": {},
   "outputs": [
    {
     "data": {
      "text/plain": [
       "'d'"
      ]
     },
     "execution_count": 16,
     "metadata": {},
     "output_type": "execute_result"
    }
   ],
   "source": [
    "non_rep('madam')"
   ]
  },
  {
   "cell_type": "code",
   "execution_count": 17,
   "id": "d4b296ec",
   "metadata": {},
   "outputs": [
    {
     "data": {
      "text/plain": [
       "'a'"
      ]
     },
     "execution_count": 17,
     "metadata": {},
     "output_type": "execute_result"
    }
   ],
   "source": [
    "non_rep('abcd')"
   ]
  },
  {
   "cell_type": "markdown",
   "id": "6b6fd0fd",
   "metadata": {},
   "source": [
    "__23. Write a program to find the prime factors of a given number.__"
   ]
  },
  {
   "cell_type": "code",
   "execution_count": 20,
   "id": "26085f71",
   "metadata": {},
   "outputs": [],
   "source": [
    "import math\n",
    "def prime_fact(n:int)->int:\n",
    "    while n % 2 == 0:\n",
    "        print(2)\n",
    "        n = n // 2\n",
    "    for i in range(3,int(math.sqrt(n))+1,2):\n",
    "        while n % i== 0:\n",
    "            print(i),\n",
    "            n = n // i\n",
    "             \n",
    "    if n > 2:\n",
    "        print(n)"
   ]
  },
  {
   "cell_type": "code",
   "execution_count": 21,
   "id": "479c3189",
   "metadata": {},
   "outputs": [
    {
     "name": "stdout",
     "output_type": "stream",
     "text": [
      "3\n",
      "3\n",
      "5\n",
      "7\n"
     ]
    }
   ],
   "source": [
    "prime_fact(315)"
   ]
  },
  {
   "cell_type": "markdown",
   "id": "e8605afd",
   "metadata": {},
   "source": [
    "__24. Implement a function to check if a given number is a power of two.__"
   ]
  },
  {
   "cell_type": "code",
   "execution_count": 25,
   "id": "b95a284a",
   "metadata": {},
   "outputs": [],
   "source": [
    "def pow2(n:int)->bool:\n",
    "    if n == 1: return True\n",
    "    if (n <= 0 or n%2 != 0): return False\n",
    "    return pow2(n//2)"
   ]
  },
  {
   "cell_type": "code",
   "execution_count": 26,
   "id": "06bee719",
   "metadata": {},
   "outputs": [
    {
     "data": {
      "text/plain": [
       "True"
      ]
     },
     "execution_count": 26,
     "metadata": {},
     "output_type": "execute_result"
    }
   ],
   "source": [
    "pow2(1024)"
   ]
  },
  {
   "cell_type": "markdown",
   "id": "93692f9a",
   "metadata": {},
   "source": [
    "__25. Write a Python program to merge two sorted lists into a single sorted list.__"
   ]
  },
  {
   "cell_type": "code",
   "execution_count": 30,
   "id": "3c28a242",
   "metadata": {},
   "outputs": [],
   "source": [
    "def srt_mrg(l1:List,l2:List)->List:\n",
    "    l1.extend(l2)\n",
    "    return sorted(l1)"
   ]
  },
  {
   "cell_type": "code",
   "execution_count": 31,
   "id": "b28704c2",
   "metadata": {},
   "outputs": [
    {
     "name": "stdout",
     "output_type": "stream",
     "text": [
      "[1, 3, 4, 5, 6, 7, 8, 9, 10, 11]\n"
     ]
    }
   ],
   "source": [
    "test_list1 = [1, 5, 6, 9, 11]\n",
    "test_list2 = [3, 4, 7, 8, 10]\n",
    "print(srt_mrg(test_list1,test_list2))"
   ]
  },
  {
   "cell_type": "markdown",
   "id": "67f50069",
   "metadata": {},
   "source": [
    "__26. Implement a function to find the mode of a list of numbers.__"
   ]
  },
  {
   "cell_type": "code",
   "execution_count": 35,
   "id": "f6952749",
   "metadata": {},
   "outputs": [],
   "source": [
    "def mod_lst(lst:List)->Optional[float]:\n",
    "    lst.sort()\n",
    "    n = len(lst)\n",
    "    mid = n//2\n",
    "    if n%2 == 0:\n",
    "        return (lst[mid-1]+lst[mid])/2\n",
    "    else:\n",
    "        return lst[mid]\n",
    "        "
   ]
  },
  {
   "cell_type": "code",
   "execution_count": 36,
   "id": "fbaabfa8",
   "metadata": {},
   "outputs": [
    {
     "data": {
      "text/plain": [
       "4"
      ]
     },
     "execution_count": 36,
     "metadata": {},
     "output_type": "execute_result"
    }
   ],
   "source": [
    "mod_lst([1,2,3,4,5,6,7])"
   ]
  },
  {
   "cell_type": "code",
   "execution_count": 37,
   "id": "20d78752",
   "metadata": {},
   "outputs": [
    {
     "data": {
      "text/plain": [
       "4.5"
      ]
     },
     "execution_count": 37,
     "metadata": {},
     "output_type": "execute_result"
    }
   ],
   "source": [
    "mod_lst([1,2,3,4,5,6,7,8])"
   ]
  },
  {
   "cell_type": "markdown",
   "id": "a0b7169d",
   "metadata": {},
   "source": [
    "__27. Write a program to find the greatest common divisor (GCD) of two numbers.__"
   ]
  },
  {
   "cell_type": "code",
   "execution_count": 38,
   "id": "d0a31b68",
   "metadata": {},
   "outputs": [],
   "source": [
    "gcd = lambda a, b: a if b == 0 else gcd(b, a % b)"
   ]
  },
  {
   "cell_type": "code",
   "execution_count": 39,
   "id": "99802f0c",
   "metadata": {},
   "outputs": [
    {
     "data": {
      "text/plain": [
       "12"
      ]
     },
     "execution_count": 39,
     "metadata": {},
     "output_type": "execute_result"
    }
   ],
   "source": [
    "gcd(60, 48)"
   ]
  },
  {
   "cell_type": "markdown",
   "id": "cc73a32d",
   "metadata": {},
   "source": [
    "__28. Implement a function to calculate the square root of a given number.__"
   ]
  },
  {
   "cell_type": "code",
   "execution_count": 48,
   "id": "a10fbd68",
   "metadata": {},
   "outputs": [],
   "source": [
    "def sqrot(n:int)->int:\n",
    "    if n <= 0: return 'Given number cannot be 0 or less than zero'\n",
    "    if n == 1: return 1\n",
    "    i,r = 1,1\n",
    "    while r<=n:\n",
    "        i += 1\n",
    "        r = i*i\n",
    "    return i-1"
   ]
  },
  {
   "cell_type": "code",
   "execution_count": 49,
   "id": "bd367709",
   "metadata": {},
   "outputs": [
    {
     "data": {
      "text/plain": [
       "2"
      ]
     },
     "execution_count": 49,
     "metadata": {},
     "output_type": "execute_result"
    }
   ],
   "source": [
    "sqrot(4)"
   ]
  },
  {
   "cell_type": "code",
   "execution_count": 50,
   "id": "4c058b0b",
   "metadata": {},
   "outputs": [
    {
     "data": {
      "text/plain": [
       "5"
      ]
     },
     "execution_count": 50,
     "metadata": {},
     "output_type": "execute_result"
    }
   ],
   "source": [
    "sqrot(25)"
   ]
  },
  {
   "cell_type": "markdown",
   "id": "67025986",
   "metadata": {},
   "source": [
    "__29. Write a Python program to check if a given string is a valid palindrome ignoring non-alphanumeric characters.__"
   ]
  },
  {
   "cell_type": "code",
   "execution_count": 53,
   "id": "c540a635",
   "metadata": {},
   "outputs": [],
   "source": [
    "def palindrome(s:str)->bool:\n",
    "    return s == s[::-1]"
   ]
  },
  {
   "cell_type": "code",
   "execution_count": 54,
   "id": "f0eecf8c",
   "metadata": {},
   "outputs": [
    {
     "data": {
      "text/plain": [
       "True"
      ]
     },
     "execution_count": 54,
     "metadata": {},
     "output_type": "execute_result"
    }
   ],
   "source": [
    "palindrome('madam')"
   ]
  },
  {
   "cell_type": "markdown",
   "id": "3e09ab27",
   "metadata": {},
   "source": [
    "__30. Implement a function to find the minimum element in a rotated sorted list.__"
   ]
  },
  {
   "cell_type": "code",
   "execution_count": 4,
   "id": "afed45ab",
   "metadata": {},
   "outputs": [],
   "source": [
    "from typing import List\n",
    " \n",
    "def find_min(arr: List[int]) -> int:\n",
    "    return min(arr)"
   ]
  },
  {
   "cell_type": "code",
   "execution_count": 5,
   "id": "7c973e9f",
   "metadata": {},
   "outputs": [
    {
     "data": {
      "text/plain": [
       "1"
      ]
     },
     "execution_count": 5,
     "metadata": {},
     "output_type": "execute_result"
    }
   ],
   "source": [
    "find_min([5, 6, 1, 2, 3, 4])"
   ]
  },
  {
   "cell_type": "markdown",
   "id": "8f10ba82",
   "metadata": {},
   "source": [
    "__31. Write a program to find the sum of all even numbers in a list.__"
   ]
  },
  {
   "cell_type": "code",
   "execution_count": 55,
   "id": "cd1e0048",
   "metadata": {},
   "outputs": [],
   "source": [
    "def sum_even(lst:List)->int:\n",
    "    el = [i for i in lst if i%2 == 0]\n",
    "    return sum(el)"
   ]
  },
  {
   "cell_type": "code",
   "execution_count": 56,
   "id": "3989d383",
   "metadata": {},
   "outputs": [
    {
     "data": {
      "text/plain": [
       "20"
      ]
     },
     "execution_count": 56,
     "metadata": {},
     "output_type": "execute_result"
    }
   ],
   "source": [
    "sum_even([1,2,3,4,5,6,7,8])"
   ]
  },
  {
   "cell_type": "markdown",
   "id": "066608bf",
   "metadata": {},
   "source": [
    "__32.Implement a function to calculate the power of a number using recursion.__"
   ]
  },
  {
   "cell_type": "code",
   "execution_count": 10,
   "id": "5a17587c",
   "metadata": {},
   "outputs": [],
   "source": [
    "from typing import List\n",
    "def pow_num(n:int,m:int)->int:\n",
    "    if n == 0:\n",
    "        return '0, given number n = 0 and if we have m = 0 then it is undefined'\n",
    "    if m == 0:\n",
    "        return 1\n",
    "    return n*pow_num(n,m-1)"
   ]
  },
  {
   "cell_type": "code",
   "execution_count": 11,
   "id": "ee0e542c",
   "metadata": {},
   "outputs": [
    {
     "data": {
      "text/plain": [
       "16"
      ]
     },
     "execution_count": 11,
     "metadata": {},
     "output_type": "execute_result"
    }
   ],
   "source": [
    "pow_num(2,4)"
   ]
  },
  {
   "cell_type": "code",
   "execution_count": 12,
   "id": "e24e61d2",
   "metadata": {},
   "outputs": [
    {
     "data": {
      "text/plain": [
       "36"
      ]
     },
     "execution_count": 12,
     "metadata": {},
     "output_type": "execute_result"
    }
   ],
   "source": [
    "pow_num(6,2)"
   ]
  },
  {
   "cell_type": "code",
   "execution_count": 13,
   "id": "4f7168e3",
   "metadata": {},
   "outputs": [
    {
     "data": {
      "text/plain": [
       "'0, given number n = 0 and if we have m = 0 then it is undefined'"
      ]
     },
     "execution_count": 13,
     "metadata": {},
     "output_type": "execute_result"
    }
   ],
   "source": [
    "pow_num(0,0)"
   ]
  },
  {
   "cell_type": "markdown",
   "id": "a52c19c2",
   "metadata": {},
   "source": [
    "__33. Write a Python program to remove duplicates from a list while preserving the order.__"
   ]
  },
  {
   "cell_type": "code",
   "execution_count": 14,
   "id": "595e1a2a",
   "metadata": {},
   "outputs": [],
   "source": [
    "from collections import OrderedDict\n",
    "def remove_dup(lst:List)->List:\n",
    "    return list(OrderedDict.fromkeys(lst))"
   ]
  },
  {
   "cell_type": "code",
   "execution_count": 15,
   "id": "b39a79f5",
   "metadata": {},
   "outputs": [
    {
     "data": {
      "text/plain": [
       "[1, 2, 4, 3, 5, 6, 9]"
      ]
     },
     "execution_count": 15,
     "metadata": {},
     "output_type": "execute_result"
    }
   ],
   "source": [
    "nums = [1,2,4,3,5,4,6,9,2,1]\n",
    "remove_dup(nums)"
   ]
  },
  {
   "cell_type": "markdown",
   "id": "a65cbf29",
   "metadata": {},
   "source": [
    "__34. Implement a function to find the longest common prefix among a list of strings.__"
   ]
  },
  {
   "cell_type": "code",
   "execution_count": 16,
   "id": "b502092b",
   "metadata": {},
   "outputs": [],
   "source": [
    "def LCP(X:str,Y:str)->str:\n",
    "    i=j=0\n",
    "    while i < len(X) and j < len(Y):\n",
    "        if X[i] != Y[j]:\n",
    "            break\n",
    "        i = i + 1\n",
    "        j = j + 1 \n",
    "    return X[:i]\n",
    "\n",
    "def findLCP(word:str,low:int,high:int)->str:\n",
    "    if low>high:\n",
    "        return ''\n",
    "    if low == high:\n",
    "        return words[low]\n",
    "    mid = (low + high) // 2\n",
    "    X = findLCP(words,low,mid)\n",
    "    Y = findLCP(words,mid+1,high)\n",
    "    return LCP(X,Y)\n"
   ]
  },
  {
   "cell_type": "code",
   "execution_count": 17,
   "id": "a4d107db",
   "metadata": {},
   "outputs": [
    {
     "data": {
      "text/plain": [
       "'tech'"
      ]
     },
     "execution_count": 17,
     "metadata": {},
     "output_type": "execute_result"
    }
   ],
   "source": [
    "words = ['techie delight', 'tech', 'techie', 'technology', 'technical']\n",
    "findLCP(words,0,len(words)-1)"
   ]
  },
  {
   "cell_type": "markdown",
   "id": "bf473d45",
   "metadata": {},
   "source": [
    "__35. Write a program to check if a given number is a perfect square.__"
   ]
  },
  {
   "cell_type": "code",
   "execution_count": 18,
   "id": "dd607172",
   "metadata": {},
   "outputs": [
    {
     "name": "stdout",
     "output_type": "stream",
     "text": [
      "Enter a number: 25\n",
      "25 is a perfect square.\n"
     ]
    }
   ],
   "source": [
    "def is_perfect_square(num):\n",
    "    if num < 0:\n",
    "        return False\n",
    "    sqrt = int(num ** 0.5)\n",
    "    return sqrt * sqrt == num\n",
    "\n",
    "number = int(input(\"Enter a number: \"))\n",
    "if is_perfect_square(number):\n",
    "    print(number, \"is a perfect square.\")\n",
    "else:\n",
    "    print(number, \"is not a perfect square.\")\n"
   ]
  },
  {
   "cell_type": "markdown",
   "id": "5f23e2b6",
   "metadata": {},
   "source": [
    "__36. Implement a function to calculate the product of all elements in a list.__"
   ]
  },
  {
   "cell_type": "code",
   "execution_count": 19,
   "id": "32d4aa73",
   "metadata": {},
   "outputs": [],
   "source": [
    "def prod_list(l:List)->int:\n",
    "    if len(l) == 0:\n",
    "        return 1\n",
    "    return l[0]*prod_list(l[1:])"
   ]
  },
  {
   "cell_type": "code",
   "execution_count": 20,
   "id": "b521bae4",
   "metadata": {},
   "outputs": [
    {
     "data": {
      "text/plain": [
       "2520"
      ]
     },
     "execution_count": 20,
     "metadata": {},
     "output_type": "execute_result"
    }
   ],
   "source": [
    "prod_list([2,2,3,5,6,7])"
   ]
  },
  {
   "cell_type": "markdown",
   "id": "ff57758f",
   "metadata": {},
   "source": [
    "__37. Write a Python program to reverse the order of words in a sentence while preserving the word order.__"
   ]
  },
  {
   "cell_type": "code",
   "execution_count": 21,
   "id": "ff74ad9a",
   "metadata": {},
   "outputs": [],
   "source": [
    "def reverse_sentence(st:str)->str:\n",
    "    wrd = st.split()\n",
    "    rev_wrd = wrd[::-1]\n",
    "    rev_st = ' '.join(rev_wrd)\n",
    "    return rev_st"
   ]
  },
  {
   "cell_type": "code",
   "execution_count": 22,
   "id": "e61644a7",
   "metadata": {},
   "outputs": [
    {
     "data": {
      "text/plain": [
       "'iNeuron in class fsds taking am i'"
      ]
     },
     "execution_count": 22,
     "metadata": {},
     "output_type": "execute_result"
    }
   ],
   "source": [
    "reverse_sentence('i am taking fsds class in iNeuron ')"
   ]
  },
  {
   "cell_type": "markdown",
   "id": "85b55851",
   "metadata": {},
   "source": [
    "__38. Implement a function to find the missing number in a given list of consecutive numbers.__"
   ]
  },
  {
   "cell_type": "code",
   "execution_count": 27,
   "id": "48f746a6",
   "metadata": {},
   "outputs": [],
   "source": [
    "def find_missing(lst:List)->int:\n",
    "    l = lst[-1]\n",
    "    a = [i for i in range(l+1)]\n",
    "    return sum(a) - sum(lst)\n",
    "    "
   ]
  },
  {
   "cell_type": "code",
   "execution_count": 28,
   "id": "0b97f8c1",
   "metadata": {},
   "outputs": [
    {
     "data": {
      "text/plain": [
       "2"
      ]
     },
     "execution_count": 28,
     "metadata": {},
     "output_type": "execute_result"
    }
   ],
   "source": [
    "find_missing([1,3,4,5])"
   ]
  },
  {
   "cell_type": "markdown",
   "id": "4be81fd0",
   "metadata": {},
   "source": [
    "__39. Write a program to find the sum of digits of a given number.__"
   ]
  },
  {
   "cell_type": "code",
   "execution_count": 31,
   "id": "23553d9c",
   "metadata": {},
   "outputs": [],
   "source": [
    "def sum_num(n:int)->int:\n",
    "    s = str(n)\n",
    "    l = [*s]\n",
    "    sm = 0\n",
    "    for i in l:\n",
    "        sm +=int(i)\n",
    "    return sm\n",
    "    "
   ]
  },
  {
   "cell_type": "code",
   "execution_count": 32,
   "id": "d6f7e64b",
   "metadata": {},
   "outputs": [
    {
     "data": {
      "text/plain": [
       "6"
      ]
     },
     "execution_count": 32,
     "metadata": {},
     "output_type": "execute_result"
    }
   ],
   "source": [
    "sum_num(123)"
   ]
  },
  {
   "cell_type": "code",
   "execution_count": 33,
   "id": "2092db2a",
   "metadata": {},
   "outputs": [],
   "source": [
    "def sum_num1(n:int)->int:\n",
    "    sm = 0\n",
    "    while (n>0):\n",
    "        r = n %10\n",
    "        sm += r\n",
    "        n //=10\n",
    "    return sm"
   ]
  },
  {
   "cell_type": "code",
   "execution_count": 34,
   "id": "935673f6",
   "metadata": {},
   "outputs": [
    {
     "data": {
      "text/plain": [
       "10"
      ]
     },
     "execution_count": 34,
     "metadata": {},
     "output_type": "execute_result"
    }
   ],
   "source": [
    "sum_num1(1234)"
   ]
  },
  {
   "cell_type": "markdown",
   "id": "b45044fa",
   "metadata": {},
   "source": [
    "__40. Implement a function to check if a given string is a valid palindrome considering case sensitivity.__"
   ]
  },
  {
   "cell_type": "code",
   "execution_count": 36,
   "id": "21f91ce4",
   "metadata": {},
   "outputs": [
    {
     "name": "stdout",
     "output_type": "stream",
     "text": [
      "Enter a string: MalaYalam\n",
      "The string is a valid palindrome.\n"
     ]
    }
   ],
   "source": [
    "def is_valid_palindrome(st:str):\n",
    "    alphanumeric_string = ''.join(char.lower() for char in st if char.isalnum())\n",
    "    return alphanumeric_string == alphanumeric_string[::-1]\n",
    "\n",
    "input_string = input(\"Enter a string: \")\n",
    "if is_valid_palindrome(input_string):\n",
    "    print(\"The string is a valid palindrome.\")\n",
    "else:\n",
    "    print(\"The string is not a valid palindrome.\")\n"
   ]
  },
  {
   "cell_type": "markdown",
   "id": "d151ce42",
   "metadata": {},
   "source": [
    "__41.Write a Python program to find the smallest missing positive integer in a list.__"
   ]
  },
  {
   "cell_type": "code",
   "execution_count": 37,
   "id": "5d5024da",
   "metadata": {},
   "outputs": [
    {
     "name": "stdout",
     "output_type": "stream",
     "text": [
      "Smallest missing positive integer: 3\n"
     ]
    }
   ],
   "source": [
    "def find_smallest_missing_positive(nums):\n",
    "    n = len(nums)\n",
    "    for i in range(n):\n",
    "        while 1 <= nums[i] <= n and nums[nums[i] - 1] != nums[i]:\n",
    "            nums[nums[i] - 1], nums[i] = nums[i], nums[nums[i] - 1]\n",
    "\n",
    "    for i in range(n):\n",
    "        if nums[i] != i + 1:\n",
    "            return i + 1\n",
    "    return n + 1\n",
    "\n",
    "# Test the function\n",
    "numbers = [-1, 2, 0, 4, 5, 1, 6]\n",
    "result = find_smallest_missing_positive(numbers)\n",
    "print(\"Smallest missing positive integer:\", result)\n"
   ]
  },
  {
   "cell_type": "markdown",
   "id": "06d89fcf",
   "metadata": {},
   "source": [
    "__42. Implement a function to find the longest palindrome substring in a given string.__"
   ]
  },
  {
   "cell_type": "code",
   "execution_count": 39,
   "id": "d7e041b3",
   "metadata": {},
   "outputs": [
    {
     "name": "stdout",
     "output_type": "stream",
     "text": [
      "Enter a string: madamis\n",
      "Longest palindrome substring: madam\n"
     ]
    }
   ],
   "source": [
    "def longest_palindrome_substring(string):\n",
    "    if not string:\n",
    "        return \"\"\n",
    "\n",
    "    n = len(string)\n",
    "    start = 0\n",
    "    end = 0\n",
    "\n",
    "    for i in range(n):\n",
    "        len1 = expand_around_center(string, i, i)\n",
    "        len2 = expand_around_center(string, i, i + 1)\n",
    "        length = max(len1, len2)\n",
    "\n",
    "        if length > end - start:\n",
    "            start = i - (length - 1) // 2\n",
    "            end = i + length // 2\n",
    "\n",
    "    return string[start:end+1]\n",
    "\n",
    "def expand_around_center(string, left, right):\n",
    "    while left >= 0 and right < len(string) and string[left] == string[right]:\n",
    "        left -= 1\n",
    "        right += 1\n",
    "\n",
    "    return right - left - 1\n",
    "\n",
    "# Test the function\n",
    "input_string = input(\"Enter a string: \")\n",
    "result = longest_palindrome_substring(input_string)\n",
    "print(\"Longest palindrome substring:\", result)\n"
   ]
  },
  {
   "cell_type": "code",
   "execution_count": null,
   "id": "fb2a78b2",
   "metadata": {},
   "outputs": [],
   "source": []
  },
  {
   "cell_type": "markdown",
   "id": "f8cc5f2e",
   "metadata": {},
   "source": [
    "__43. Write a program to find the number of occurrences of a given element in a list.__\n"
   ]
  },
  {
   "cell_type": "code",
   "execution_count": 40,
   "id": "aaab50e7",
   "metadata": {},
   "outputs": [],
   "source": [
    "from collections import Counter\n",
    "from typing import *\n",
    "def no_of_occ(lst:List,target:int)->int:\n",
    "    if len(lst) == 0:\n",
    "        return None\n",
    "    s = Counter(lst)\n",
    "    print(s)\n",
    "    return s[target]"
   ]
  },
  {
   "cell_type": "code",
   "execution_count": 42,
   "id": "7834d692",
   "metadata": {},
   "outputs": [
    {
     "name": "stdout",
     "output_type": "stream",
     "text": [
      "Counter({1: 2, 2: 2, 3: 1, 4: 1, 5: 1, 6: 1, 7: 1})\n"
     ]
    },
    {
     "data": {
      "text/plain": [
       "2"
      ]
     },
     "execution_count": 42,
     "metadata": {},
     "output_type": "execute_result"
    }
   ],
   "source": [
    "\n",
    "no_of_occ([1,2,2,3,1,4,5,6,7],2)"
   ]
  },
  {
   "cell_type": "code",
   "execution_count": null,
   "id": "a45948d8",
   "metadata": {},
   "outputs": [],
   "source": []
  },
  {
   "cell_type": "markdown",
   "id": "96d4f292",
   "metadata": {},
   "source": [
    "__44. Implement a function to check if a given number is a perfect number.__"
   ]
  },
  {
   "cell_type": "code",
   "execution_count": 51,
   "id": "b7fa909e",
   "metadata": {},
   "outputs": [],
   "source": [
    "def is_perfectNum(n:int)->bool:\n",
    "    if n <= 0:\n",
    "        return 'Perfect Number should be positive'\n",
    "    a = 0\n",
    "    for i in range(1,(n//2)+1):\n",
    "        if n%i == 0:\n",
    "            a += i\n",
    "    if a == n:\n",
    "        return 'Given Number is perfect number'\n",
    "    else:\n",
    "        return 'Given Number is not a perfect number'\n",
    "        "
   ]
  },
  {
   "cell_type": "code",
   "execution_count": 52,
   "id": "4206af65",
   "metadata": {},
   "outputs": [
    {
     "data": {
      "text/plain": [
       "'Given Number is perfect number'"
      ]
     },
     "execution_count": 52,
     "metadata": {},
     "output_type": "execute_result"
    }
   ],
   "source": [
    "is_perfectNum(496)"
   ]
  },
  {
   "cell_type": "code",
   "execution_count": 53,
   "id": "aca435cf",
   "metadata": {},
   "outputs": [
    {
     "data": {
      "text/plain": [
       "'Given Number is not a perfect number'"
      ]
     },
     "execution_count": 53,
     "metadata": {},
     "output_type": "execute_result"
    }
   ],
   "source": [
    "is_perfectNum(36)"
   ]
  },
  {
   "cell_type": "markdown",
   "id": "14f7dde9",
   "metadata": {},
   "source": [
    "__45. Write a Python program to remove all duplicates from a string.__"
   ]
  },
  {
   "cell_type": "code",
   "execution_count": 54,
   "id": "ab08d00e",
   "metadata": {},
   "outputs": [
    {
     "name": "stdout",
     "output_type": "stream",
     "text": [
      "Enter a string: madam\n",
      "String after removing duplicates: mad\n"
     ]
    }
   ],
   "source": [
    "\n",
    "def remove_duplicates(string):\n",
    "    unique_chars = set()\n",
    "    new_string = ''\n",
    "    for char in string:\n",
    "        if char not in unique_chars:\n",
    "            new_string += char\n",
    "            unique_chars.add(char)\n",
    "\n",
    "    return new_string\n",
    "\n",
    "\n",
    "input_string = input(\"Enter a string: \")\n",
    "result = remove_duplicates(input_string)\n",
    "print(\"String after removing duplicates:\", result)\n"
   ]
  },
  {
   "cell_type": "code",
   "execution_count": null,
   "id": "68a78b24",
   "metadata": {},
   "outputs": [],
   "source": []
  },
  {
   "cell_type": "markdown",
   "id": "da2d0aa2",
   "metadata": {},
   "source": [
    "__46. Implement a function to find the first missing positive__"
   ]
  },
  {
   "cell_type": "code",
   "execution_count": 55,
   "id": "baa96bb7",
   "metadata": {},
   "outputs": [
    {
     "name": "stdout",
     "output_type": "stream",
     "text": [
      "First missing positive integer: 2\n"
     ]
    }
   ],
   "source": [
    "def find_first_missing_positive(nums):\n",
    "    n = len(nums)\n",
    "\n",
    "    # Step 1: Move all positive integers to the correct position\n",
    "    for i in range(n):\n",
    "        while 1 <= nums[i] <= n and nums[nums[i] - 1] != nums[i]:\n",
    "            nums[nums[i] - 1], nums[i] = nums[i], nums[nums[i] - 1]\n",
    "\n",
    "    # Step 2: Find the first missing positive integer\n",
    "    for i in range(n):\n",
    "        if nums[i] != i + 1:\n",
    "            return i + 1\n",
    "\n",
    "    # If all positive integers from 1 to n are present, return n + 1\n",
    "    return n + 1\n",
    "\n",
    "# Test the function\n",
    "numbers = [3, 4, -1, 1]\n",
    "result = find_first_missing_positive(numbers)\n",
    "print(\"First missing positive integer:\", result)\n"
   ]
  },
  {
   "cell_type": "code",
   "execution_count": null,
   "id": "90134e17",
   "metadata": {},
   "outputs": [],
   "source": []
  },
  {
   "cell_type": "code",
   "execution_count": null,
   "id": "ab0702ac",
   "metadata": {},
   "outputs": [],
   "source": []
  }
 ],
 "metadata": {
  "kernelspec": {
   "display_name": "Python 3 (ipykernel)",
   "language": "python",
   "name": "python3"
  },
  "language_info": {
   "codemirror_mode": {
    "name": "ipython",
    "version": 3
   },
   "file_extension": ".py",
   "mimetype": "text/x-python",
   "name": "python",
   "nbconvert_exporter": "python",
   "pygments_lexer": "ipython3",
   "version": "3.9.13"
  }
 },
 "nbformat": 4,
 "nbformat_minor": 5
}
