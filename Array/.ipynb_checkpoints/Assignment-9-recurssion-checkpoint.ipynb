{
 "cells": [
  {
   "cell_type": "markdown",
   "id": "8f0b3955",
   "metadata": {},
   "source": [
    "__Q1.Given an integer `n`, return *`true` if it is a power of two. Otherwise, return `false`*.\n",
    "An integer `n` is a power of two, if there exists an integer `x` such that `n == 2x`.__"
   ]
  },
  {
   "cell_type": "code",
   "execution_count": 1,
   "id": "a12f053b",
   "metadata": {},
   "outputs": [],
   "source": [
    "from typing import List"
   ]
  },
  {
   "cell_type": "code",
   "execution_count": 17,
   "id": "c18686de",
   "metadata": {},
   "outputs": [],
   "source": [
    "class Solution:\n",
    "    def isPowerofTwo(self, n:int)->bool:\n",
    "        #print(n)\n",
    "        if (n == 1): return True\n",
    "        if (n < 1 or n%2 != 0): return False\n",
    "        return self.isPowerofTwo( n//2)"
   ]
  },
  {
   "cell_type": "code",
   "execution_count": 18,
   "id": "90e02177",
   "metadata": {},
   "outputs": [
    {
     "name": "stdout",
     "output_type": "stream",
     "text": [
      "True\n"
     ]
    }
   ],
   "source": [
    "pow2 = Solution()\n",
    "\n",
    "print(pow2.isPowerofTwo(16))"
   ]
  },
  {
   "cell_type": "code",
   "execution_count": 19,
   "id": "6998f429",
   "metadata": {},
   "outputs": [
    {
     "name": "stdout",
     "output_type": "stream",
     "text": [
      "False\n"
     ]
    }
   ],
   "source": [
    "print(pow2.isPowerofTwo(26))"
   ]
  },
  {
   "cell_type": "code",
   "execution_count": 20,
   "id": "ed7aa366",
   "metadata": {},
   "outputs": [
    {
     "name": "stdout",
     "output_type": "stream",
     "text": [
      "True\n"
     ]
    }
   ],
   "source": [
    "print(pow2.isPowerofTwo(1))"
   ]
  },
  {
   "cell_type": "markdown",
   "id": "55bc7d46",
   "metadata": {},
   "source": [
    "__Q2.Given a number n, find the sum of the first natural numbers.__"
   ]
  },
  {
   "cell_type": "code",
   "execution_count": 24,
   "id": "acc8976d",
   "metadata": {},
   "outputs": [],
   "source": [
    "class Solution:\n",
    "    def sumOfNum(self, n:int)->int:\n",
    "        if (n == 1): return 1\n",
    "        if (n < 1): return 'Please Enter Positive numbers only'\n",
    "        return n+self.sumOfNum(n-1)"
   ]
  },
  {
   "cell_type": "code",
   "execution_count": 25,
   "id": "c2e719c1",
   "metadata": {},
   "outputs": [
    {
     "name": "stdout",
     "output_type": "stream",
     "text": [
      "6\n"
     ]
    }
   ],
   "source": [
    "sumn = Solution()\n",
    "print(sumn.sumOfNum(3))"
   ]
  },
  {
   "cell_type": "code",
   "execution_count": 26,
   "id": "9c4c1206",
   "metadata": {},
   "outputs": [
    {
     "name": "stdout",
     "output_type": "stream",
     "text": [
      "5050\n"
     ]
    }
   ],
   "source": [
    "print(sumn.sumOfNum(100))"
   ]
  },
  {
   "cell_type": "code",
   "execution_count": 27,
   "id": "e1352013",
   "metadata": {},
   "outputs": [
    {
     "name": "stdout",
     "output_type": "stream",
     "text": [
      "Please Enter Positive numbers only\n"
     ]
    }
   ],
   "source": [
    "print(sumn.sumOfNum(-12))"
   ]
  },
  {
   "cell_type": "code",
   "execution_count": 28,
   "id": "c7c81497",
   "metadata": {},
   "outputs": [
    {
     "name": "stdout",
     "output_type": "stream",
     "text": [
      "1\n"
     ]
    }
   ],
   "source": [
    "print(sumn.sumOfNum(1))"
   ]
  },
  {
   "cell_type": "code",
   "execution_count": 29,
   "id": "7fd30db5",
   "metadata": {},
   "outputs": [
    {
     "name": "stdout",
     "output_type": "stream",
     "text": [
      "Please Enter Positive numbers only\n"
     ]
    }
   ],
   "source": [
    "print(sumn.sumOfNum(0))"
   ]
  },
  {
   "cell_type": "markdown",
   "id": "50130a54",
   "metadata": {},
   "source": [
    "__Q3.Given a positive integer, N. Find the factorial of N.__"
   ]
  },
  {
   "cell_type": "code",
   "execution_count": 30,
   "id": "c0341146",
   "metadata": {},
   "outputs": [],
   "source": [
    "class Solution:\n",
    "    def factioral(self, n:int)->int:\n",
    "        if (n == 0 or n == 1): return 1\n",
    "        if (n < 0): return 'Please Enter Positive Number'\n",
    "        return n*self.factioral(n-1)"
   ]
  },
  {
   "cell_type": "code",
   "execution_count": 31,
   "id": "36c00f9e",
   "metadata": {},
   "outputs": [
    {
     "name": "stdout",
     "output_type": "stream",
     "text": [
      "120\n"
     ]
    }
   ],
   "source": [
    "fact = Solution()\n",
    "print(fact.factioral(5))"
   ]
  },
  {
   "cell_type": "code",
   "execution_count": 32,
   "id": "fd6fbd1b",
   "metadata": {},
   "outputs": [
    {
     "name": "stdout",
     "output_type": "stream",
     "text": [
      "Please Enter Positive Number\n"
     ]
    }
   ],
   "source": [
    "print(fact.factioral(-5))"
   ]
  },
  {
   "cell_type": "code",
   "execution_count": 33,
   "id": "5af22028",
   "metadata": {},
   "outputs": [
    {
     "name": "stdout",
     "output_type": "stream",
     "text": [
      "1\n"
     ]
    }
   ],
   "source": [
    "print(fact.factioral(0))"
   ]
  },
  {
   "cell_type": "code",
   "execution_count": 34,
   "id": "917842f3",
   "metadata": {},
   "outputs": [
    {
     "name": "stdout",
     "output_type": "stream",
     "text": [
      "1\n"
     ]
    }
   ],
   "source": [
    "print(fact.factioral(1))"
   ]
  },
  {
   "cell_type": "code",
   "execution_count": 35,
   "id": "b910ad42",
   "metadata": {},
   "outputs": [
    {
     "name": "stdout",
     "output_type": "stream",
     "text": [
      "24\n"
     ]
    }
   ],
   "source": [
    "print(fact.factioral(4))"
   ]
  },
  {
   "cell_type": "markdown",
   "id": "df76f44e",
   "metadata": {},
   "source": [
    "__Q4.Given a number N and a power P, the task is to find the exponent of this number raised to the given power, i.e. N^P.__"
   ]
  },
  {
   "cell_type": "code",
   "execution_count": 47,
   "id": "4435f1f7",
   "metadata": {},
   "outputs": [],
   "source": [
    "class Solution:\n",
    "    def powerofP(self, n:int,p:int)->int:\n",
    "        if (p == 1): return n\n",
    "        if (n == 0 and p>0): \n",
    "            return 1\n",
    "        return n*self.powerofP(n,p-1)"
   ]
  },
  {
   "cell_type": "code",
   "execution_count": 48,
   "id": "ce8dd7f3",
   "metadata": {},
   "outputs": [
    {
     "name": "stdout",
     "output_type": "stream",
     "text": [
      "32\n"
     ]
    }
   ],
   "source": [
    "pw = Solution()\n",
    "print(pw.powerofP(2,5))"
   ]
  },
  {
   "cell_type": "code",
   "execution_count": 49,
   "id": "20a75338",
   "metadata": {},
   "outputs": [
    {
     "name": "stdout",
     "output_type": "stream",
     "text": [
      "100000\n"
     ]
    }
   ],
   "source": [
    "print(pw.powerofP(10,5))"
   ]
  },
  {
   "cell_type": "code",
   "execution_count": 51,
   "id": "88b2d944",
   "metadata": {},
   "outputs": [
    {
     "name": "stdout",
     "output_type": "stream",
     "text": [
      "1\n"
     ]
    }
   ],
   "source": [
    "print(pw.powerofP(0,5))"
   ]
  },
  {
   "cell_type": "markdown",
   "id": "3d495492",
   "metadata": {},
   "source": [
    "__Q5.Given an array of integers arr, the task is to find maximum element of that array using recursion__"
   ]
  },
  {
   "cell_type": "code",
   "execution_count": 66,
   "id": "51740319",
   "metadata": {},
   "outputs": [],
   "source": [
    "class Solution:\n",
    "    def maxEle(self, nums: List[int], l: int)->int:\n",
    "        if (l == 0): return nums[0]\n",
    "        return max(nums[l-1],self.maxEle(nums,l-1))"
   ]
  },
  {
   "cell_type": "code",
   "execution_count": 67,
   "id": "95ed8862",
   "metadata": {},
   "outputs": [
    {
     "name": "stdout",
     "output_type": "stream",
     "text": [
      "45\n"
     ]
    }
   ],
   "source": [
    "me = Solution()\n",
    "a = [1, 4, 45, 6, -50, 10, 2]\n",
    "l = len(a)\n",
    "print(me.maxEle(a,l))"
   ]
  },
  {
   "cell_type": "code",
   "execution_count": 68,
   "id": "29163ccf",
   "metadata": {},
   "outputs": [
    {
     "name": "stdout",
     "output_type": "stream",
     "text": [
      "8\n"
     ]
    }
   ],
   "source": [
    "a = [1, 4, 3, -5, -4, 8, 6]\n",
    "l = len(a)\n",
    "print(me.maxEle(a,l))"
   ]
  },
  {
   "cell_type": "markdown",
   "id": "8b4853d3",
   "metadata": {},
   "source": [
    "__Q6. Given first term (a), common difference (d) and a integer N of the Arithmetic Progression series, the task is to find Nth term of the series.__"
   ]
  },
  {
   "cell_type": "code",
   "execution_count": 105,
   "id": "fa36354f",
   "metadata": {},
   "outputs": [],
   "source": [
    "class Solution:\n",
    "    def apNterm(self, a: int, d:int,n:int)->int:\n",
    "        if n == 0: return a\n",
    "        if n == 1 :return d\n",
    "        return a+self.apNterm(a,d,n-1)\n",
    "    def brutforce(self, a: int, d:int,n:int)->int:\n",
    "        return a+(n-1)*d"
   ]
  },
  {
   "cell_type": "code",
   "execution_count": 106,
   "id": "ae27dd7c",
   "metadata": {},
   "outputs": [
    {
     "data": {
      "text/plain": [
       "7"
      ]
     },
     "execution_count": 106,
     "metadata": {},
     "output_type": "execute_result"
    }
   ],
   "source": [
    "ap = Solution()\n",
    "ap.apNterm(2,1,4)"
   ]
  },
  {
   "cell_type": "code",
   "execution_count": 107,
   "id": "53d1b308",
   "metadata": {},
   "outputs": [
    {
     "data": {
      "text/plain": [
       "6"
      ]
     },
     "execution_count": 107,
     "metadata": {},
     "output_type": "execute_result"
    }
   ],
   "source": [
    "ap.brutforce(2,1,5)"
   ]
  },
  {
   "cell_type": "markdown",
   "id": "43c5e409",
   "metadata": {},
   "source": [
    "__Q7. Given a string S, the task is to write a program to print all permutations of a given string.__"
   ]
  },
  {
   "cell_type": "code",
   "execution_count": 114,
   "id": "b11bd1c2",
   "metadata": {},
   "outputs": [
    {
     "name": "stdout",
     "output_type": "stream",
     "text": [
      "ABC\n",
      "ACB\n",
      "BAC\n",
      "BCA\n",
      "CAB\n",
      "CBA\n"
     ]
    }
   ],
   "source": [
    "# Function to find permutations of a given string\n",
    "from itertools import permutations\n",
    "\n",
    "def allPermutations(str):\n",
    "    permList = permutations(str)\n",
    "    for perm in list(permList):\n",
    "        print (''.join(perm))\n",
    "\n",
    "\n",
    "if __name__ == \"__main__\":\n",
    "    str = 'ABC'\n",
    "    allPermutations(str)\n"
   ]
  },
  {
   "cell_type": "code",
   "execution_count": null,
   "id": "b020ddce",
   "metadata": {},
   "outputs": [],
   "source": []
  },
  {
   "cell_type": "markdown",
   "id": "612a461b",
   "metadata": {},
   "source": [
    "__Q8.Given an array, find a product of all array elements__"
   ]
  },
  {
   "cell_type": "code",
   "execution_count": 112,
   "id": "b0bcdebe",
   "metadata": {},
   "outputs": [],
   "source": [
    "class Solution:\n",
    "    def prod(self, nums:List[int])->int:\n",
    "        if not nums:\n",
    "            return 1\n",
    "        return nums[0]*self.prod(nums[1:])"
   ]
  },
  {
   "cell_type": "code",
   "execution_count": 113,
   "id": "44d6f281",
   "metadata": {},
   "outputs": [
    {
     "data": {
      "text/plain": [
       "120"
      ]
     },
     "execution_count": 113,
     "metadata": {},
     "output_type": "execute_result"
    }
   ],
   "source": [
    "p = Solution()\n",
    "p.prod([1, 2, 3, 4, 5])"
   ]
  },
  {
   "cell_type": "code",
   "execution_count": null,
   "id": "f27023e0",
   "metadata": {},
   "outputs": [],
   "source": []
  }
 ],
 "metadata": {
  "kernelspec": {
   "display_name": "Python 3 (ipykernel)",
   "language": "python",
   "name": "python3"
  },
  "language_info": {
   "codemirror_mode": {
    "name": "ipython",
    "version": 3
   },
   "file_extension": ".py",
   "mimetype": "text/x-python",
   "name": "python",
   "nbconvert_exporter": "python",
   "pygments_lexer": "ipython3",
   "version": "3.9.13"
  }
 },
 "nbformat": 4,
 "nbformat_minor": 5
}
