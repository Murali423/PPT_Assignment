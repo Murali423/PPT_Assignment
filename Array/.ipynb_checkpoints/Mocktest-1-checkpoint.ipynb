{
 "cells": [
  {
   "cell_type": "markdown",
   "id": "48e84055",
   "metadata": {},
   "source": [
    "**MoveZeros**\n",
    "\n",
    "__Given an integer array nums, move all 0's to the end of it while maintaining the relative order of the non-zero elements.\n",
    "ote that you must do this in-place without making a copy of the array.__"
   ]
  },
  {
   "cell_type": "code",
   "execution_count": 2,
   "id": "49e16563",
   "metadata": {},
   "outputs": [],
   "source": [
    "from typing import List\n",
    "def move_zero(nums:List[int])->List[int]:\n",
    "    n = len(nums)\n",
    "    j = 0\n",
    "    for i in range(n):\n",
    "        if nums[i] != 0:\n",
    "            nums[j], nums[i] = nums[i], nums[j]  \n",
    "            j += 1\n",
    "    return nums"
   ]
  },
  {
   "cell_type": "code",
   "execution_count": 3,
   "id": "dad8daf0",
   "metadata": {},
   "outputs": [
    {
     "name": "stdout",
     "output_type": "stream",
     "text": [
      "[1, 3, 12, 0, 0]\n"
     ]
    }
   ],
   "source": [
    "print(move_zero([0,1,0,3,12]))"
   ]
  },
  {
   "cell_type": "markdown",
   "id": "9e7453e4",
   "metadata": {},
   "source": [
    "**Non-Reperating Character**\n",
    "\n",
    "__Given a string s, find the first non-repeating character in it and return its index. If it does not exist, return -1.__"
   ]
  },
  {
   "cell_type": "code",
   "execution_count": 12,
   "id": "9630eff2",
   "metadata": {},
   "outputs": [],
   "source": [
    "from collections import Counter\n",
    "def Nonrepeated(s:str)->int:\n",
    "    freq = Counter(s)\n",
    "    for i in s:\n",
    "        if(freq[i] == 1):\n",
    "            return i\n",
    "        else:\n",
    "            return -1"
   ]
  },
  {
   "cell_type": "code",
   "execution_count": 13,
   "id": "fd09c1f4",
   "metadata": {},
   "outputs": [
    {
     "name": "stdout",
     "output_type": "stream",
     "text": [
      "l\n"
     ]
    }
   ],
   "source": [
    "print(Nonrepeated(\"leetcode\"))"
   ]
  },
  {
   "cell_type": "code",
   "execution_count": 18,
   "id": "e5aaf392",
   "metadata": {},
   "outputs": [
    {
     "name": "stdout",
     "output_type": "stream",
     "text": [
      "-1\n"
     ]
    }
   ],
   "source": [
    "print(Nonrepeated(\"aabb\"))"
   ]
  },
  {
   "cell_type": "code",
   "execution_count": null,
   "id": "7510805b",
   "metadata": {},
   "outputs": [],
   "source": []
  }
 ],
 "metadata": {
  "kernelspec": {
   "display_name": "Python 3 (ipykernel)",
   "language": "python",
   "name": "python3"
  },
  "language_info": {
   "codemirror_mode": {
    "name": "ipython",
    "version": 3
   },
   "file_extension": ".py",
   "mimetype": "text/x-python",
   "name": "python",
   "nbconvert_exporter": "python",
   "pygments_lexer": "ipython3",
   "version": "3.9.13"
  }
 },
 "nbformat": 4,
 "nbformat_minor": 5
}
