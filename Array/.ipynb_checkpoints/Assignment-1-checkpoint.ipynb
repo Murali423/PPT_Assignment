{
 "cells": [
  {
   "cell_type": "markdown",
   "id": "1b0c89b6",
   "metadata": {},
   "source": [
    "\n",
    "**Q1. Given an array of integers nums and an integer target, return indices of the two numbers such that they add up to target.\n",
    "You may assume that each input would have exactly one solution, and you may not use the same element twice.\n",
    "You can return the answer in any order.**"
   ]
  },
  {
   "cell_type": "code",
   "execution_count": 1,
   "id": "2590c51d",
   "metadata": {},
   "outputs": [],
   "source": [
    "from typing import List\n",
    "\n",
    "def twosum_target(nums:List[int], target:int)->List:\n",
    "    numtoindexmap = {}\n",
    "    for num1_index, num1 in enumerate(nums):\n",
    "        num2 = target - num1\n",
    "        print(num2)\n",
    "        try:\n",
    "            num2_index = numtoindexmap[num2]\n",
    "            print(num2_index)\n",
    "        except KeyError:\n",
    "            numtoindexmap[num1] = num1_index  \n",
    "        else:\n",
    "            return list(sorted([num1_index, num2_index]))"
   ]
  },
  {
   "cell_type": "code",
   "execution_count": 2,
   "id": "4eaa221b",
   "metadata": {},
   "outputs": [
    {
     "name": "stdout",
     "output_type": "stream",
     "text": [
      "7\n",
      "2\n",
      "0\n",
      "[0, 1]\n"
     ]
    }
   ],
   "source": [
    "print(twosum_target([2, 7, 11, 15], 9))\n"
   ]
  },
  {
   "cell_type": "markdown",
   "id": "78990930",
   "metadata": {},
   "source": [
    "__Q2:Given an integer array nums and an integer val, remove all occurrences of val in nums in-place. The order of the elements may be changed. Then return the number of elements in nums which are not equal to val.\n",
    "Consider the number of elements in nums which are not equal to val be k, to get accepted, you need to do the following things:__\n",
    "\n",
    "- Change the array nums such that the first k elements of nums contain the elements which are not equal to val. The remaining elements of nums are not important as well as the size of nums.\n",
    "- Return k."
   ]
  },
  {
   "cell_type": "code",
   "execution_count": 3,
   "id": "72d2a0ae",
   "metadata": {},
   "outputs": [],
   "source": [
    "def removeElement(nums: List[int], val: int) -> int:\n",
    "    count = 0\n",
    "    for i in range(len(nums)):\n",
    "        if nums[i] != val:\n",
    "            nums[count] = nums[i]\n",
    "            count += 1\n",
    "    return count"
   ]
  },
  {
   "cell_type": "code",
   "execution_count": 4,
   "id": "97d0e731",
   "metadata": {},
   "outputs": [
    {
     "name": "stdout",
     "output_type": "stream",
     "text": [
      "2\n"
     ]
    }
   ],
   "source": [
    "print(removeElement([3,2,2,3],3))"
   ]
  },
  {
   "cell_type": "markdown",
   "id": "3021c366",
   "metadata": {},
   "source": [
    " **Q3. Given a sorted array of distinct integers and a target value, return the index if the target is found. If not, return the index where it would be if it were inserted in order.\n",
    "You must write an algorithm with O(log n) runtime complexity.**"
   ]
  },
  {
   "cell_type": "code",
   "execution_count": 5,
   "id": "c38923d7",
   "metadata": {},
   "outputs": [],
   "source": [
    "from typing import List\n",
    "def sort_arr(nums: List[int],val: int)->int:\n",
    "    n = len(nums)\n",
    "    for i in range(len(nums)):\n",
    "        if nums[i] == val:\n",
    "            return i\n",
    "#         elif nums[i] > val:\n",
    "#             return i\n",
    "#         else:\n",
    "#             return i-1\n",
    "    "
   ]
  },
  {
   "cell_type": "code",
   "execution_count": 6,
   "id": "2b5ce02b",
   "metadata": {},
   "outputs": [
    {
     "name": "stdout",
     "output_type": "stream",
     "text": [
      "2\n"
     ]
    }
   ],
   "source": [
    "print(sort_arr([1,3,5,6],5))"
   ]
  },
  {
   "cell_type": "markdown",
   "id": "f09800e5",
   "metadata": {},
   "source": [
    "__it is brute force approach it takes O(n). Need to write O(logn)__"
   ]
  },
  {
   "cell_type": "code",
   "execution_count": 7,
   "id": "b745ed05",
   "metadata": {},
   "outputs": [],
   "source": [
    "def sort_search(nums: List[int],target: int):\n",
    "    start = 0\n",
    "    end = len(nums) - 1\n",
    "    while (start <= end): \n",
    "        mid = (start + end)//2\n",
    "        if nums[mid] == target:\n",
    "            return mid\n",
    "        elif target > nums[mid]:\n",
    "            start = mid + 1 \n",
    "        else:\n",
    "            end = mid -1\n",
    "    return end + 1"
   ]
  },
  {
   "cell_type": "code",
   "execution_count": 8,
   "id": "a7160295",
   "metadata": {},
   "outputs": [
    {
     "name": "stdout",
     "output_type": "stream",
     "text": [
      "2\n"
     ]
    }
   ],
   "source": [
    "print(sort_search([1,3,5,6],5))"
   ]
  },
  {
   "cell_type": "code",
   "execution_count": 9,
   "id": "bef83721",
   "metadata": {},
   "outputs": [
    {
     "name": "stdout",
     "output_type": "stream",
     "text": [
      "0\n"
     ]
    }
   ],
   "source": [
    "print(sort_search([1,3,5,6],-1))"
   ]
  },
  {
   "cell_type": "code",
   "execution_count": 10,
   "id": "b35966c4",
   "metadata": {},
   "outputs": [
    {
     "name": "stdout",
     "output_type": "stream",
     "text": [
      "2\n"
     ]
    }
   ],
   "source": [
    "print(sort_search([1,3,5,6],4))"
   ]
  },
  {
   "cell_type": "code",
   "execution_count": 11,
   "id": "a86e84c9",
   "metadata": {},
   "outputs": [
    {
     "name": "stdout",
     "output_type": "stream",
     "text": [
      "4\n"
     ]
    }
   ],
   "source": [
    "print(sort_search([1,3,5,6],8))"
   ]
  },
  {
   "cell_type": "markdown",
   "id": "5c1579e9",
   "metadata": {},
   "source": [
    "__Q4.You are given a large integer represented as an integer array digits, where each digits[i] is the ith digit of the integer. The digits are ordered from most significant to least significant in left-to-right order. The large integer does not contain any leading 0's.\n",
    "Increment the large integer by one and return the resulting array of digits.__"
   ]
  },
  {
   "cell_type": "code",
   "execution_count": 12,
   "id": "0ff19334",
   "metadata": {},
   "outputs": [],
   "source": [
    "def plusOne( digits: List[int]) -> List[int]:\n",
    "    if digits[-1] < 9:\n",
    "        digits[-1] += 1\n",
    "        return digits\n",
    "    elif len(digits) == 1 and digits[0] == 9:\n",
    "        return [1, 0]\n"
   ]
  },
  {
   "cell_type": "code",
   "execution_count": 13,
   "id": "c2ec8059",
   "metadata": {},
   "outputs": [
    {
     "name": "stdout",
     "output_type": "stream",
     "text": [
      "[1, 2, 4]\n"
     ]
    }
   ],
   "source": [
    "print(plusOne([1,2,3]))"
   ]
  },
  {
   "cell_type": "code",
   "execution_count": 14,
   "id": "18594ece",
   "metadata": {},
   "outputs": [
    {
     "name": "stdout",
     "output_type": "stream",
     "text": [
      "[1, 0]\n"
     ]
    }
   ],
   "source": [
    "print(plusOne([9]))"
   ]
  },
  {
   "cell_type": "code",
   "execution_count": 28,
   "id": "b347b4aa",
   "metadata": {},
   "outputs": [],
   "source": [
    "#Another approach\n",
    "def plusOne_1( digits: List[int]) -> List[int]:\n",
    "    j = ''.join([str(e) for e in digits])\n",
    "    s = int(j)+1\n",
    "    i = [*str(s)]\n",
    "    return [int(e) for e in i]"
   ]
  },
  {
   "cell_type": "code",
   "execution_count": 29,
   "id": "42744b34",
   "metadata": {},
   "outputs": [
    {
     "name": "stdout",
     "output_type": "stream",
     "text": [
      "[1, 2, 4]\n"
     ]
    }
   ],
   "source": [
    "print(plusOne_1([1,2,3]))"
   ]
  },
  {
   "cell_type": "code",
   "execution_count": 30,
   "id": "16f3fa0d",
   "metadata": {},
   "outputs": [
    {
     "name": "stdout",
     "output_type": "stream",
     "text": [
      "[1, 0]\n"
     ]
    }
   ],
   "source": [
    "print(plusOne_1([9]))"
   ]
  },
  {
   "cell_type": "code",
   "execution_count": 31,
   "id": "4725d870",
   "metadata": {},
   "outputs": [
    {
     "name": "stdout",
     "output_type": "stream",
     "text": [
      "[9]\n"
     ]
    }
   ],
   "source": [
    "print(plusOne_1([8]))"
   ]
  },
  {
   "cell_type": "markdown",
   "id": "caadfbda",
   "metadata": {},
   "source": [
    "__Q5. You are given two integer arrays nums1 and nums2, sorted in non-decreasing order, and two integers m and n, representing the number of elements in nums1 and nums2 respectively.\n",
    "Merge nums1 and nums2 into a single array sorted in non-decreasing order.\n",
    "The final sorted array should not be returned by the function, but instead be stored inside the array nums1. To accommodate this, nums1 has a length of m + n, where the first m elements denote the elements that should be merged, and the last n elements are set to 0 and should be ignored. nums2 has a length of n.__\n"
   ]
  },
  {
   "cell_type": "code",
   "execution_count": 37,
   "id": "8a8b389e",
   "metadata": {},
   "outputs": [],
   "source": [
    "def single_array(nums1: List[int],m:int, nums2: List[int], n:int) -> None:\n",
    "    p1, p2, p3 = m-1, n-1, m+n-1\n",
    "    while p2 >= 0:\n",
    "        if p1 >= 0 and nums1[p1] > nums2[p2]:\n",
    "            nums1[p3] = nums1[p1]\n",
    "            p1 -= 1\n",
    "        else:\n",
    "            nums1[p3] = nums2[p2]\n",
    "            p2 -= 1\n",
    "        p3 -= 1\n",
    "    return nums1"
   ]
  },
  {
   "cell_type": "code",
   "execution_count": 39,
   "id": "24ac004c",
   "metadata": {},
   "outputs": [
    {
     "name": "stdout",
     "output_type": "stream",
     "text": [
      "[1, 2, 2, 3, 5, 6]\n"
     ]
    }
   ],
   "source": [
    "print(single_array([1,2,3,0,0,0],3,[2,5,6],3))"
   ]
  },
  {
   "cell_type": "markdown",
   "id": "aba5fba8",
   "metadata": {},
   "source": [
    "__Q6.Given an integer array nums, return true if any value appears at least twice in the array, and return false if every element is distinct.__"
   ]
  },
  {
   "cell_type": "code",
   "execution_count": 42,
   "id": "2b9a4d0c",
   "metadata": {},
   "outputs": [],
   "source": [
    "#bruteforce approach it is having O(n^2)\n",
    "def int_arr(nums:List[int])->bool:\n",
    "    for i in range(len(nums)):\n",
    "        for j in range(len(nums)):\n",
    "            if nums[i] == nums[j]:\n",
    "                return True\n",
    "            else:\n",
    "                return False"
   ]
  },
  {
   "cell_type": "code",
   "execution_count": 43,
   "id": "dcae2bbe",
   "metadata": {},
   "outputs": [
    {
     "name": "stdout",
     "output_type": "stream",
     "text": [
      "True\n"
     ]
    }
   ],
   "source": [
    "print(int_arr([1,2,3,1]))"
   ]
  },
  {
   "cell_type": "code",
   "execution_count": null,
   "id": "39148fbf",
   "metadata": {},
   "outputs": [],
   "source": []
  }
 ],
 "metadata": {
  "kernelspec": {
   "display_name": "Python 3 (ipykernel)",
   "language": "python",
   "name": "python3"
  },
  "language_info": {
   "codemirror_mode": {
    "name": "ipython",
    "version": 3
   },
   "file_extension": ".py",
   "mimetype": "text/x-python",
   "name": "python",
   "nbconvert_exporter": "python",
   "pygments_lexer": "ipython3",
   "version": "3.9.13"
  }
 },
 "nbformat": 4,
 "nbformat_minor": 5
}
