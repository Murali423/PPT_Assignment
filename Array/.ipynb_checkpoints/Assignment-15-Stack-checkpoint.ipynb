{
 "cells": [
  {
   "cell_type": "markdown",
   "id": "d97700a9",
   "metadata": {},
   "source": [
    "__Q1.Given an array arr[ ] of size N having elements, the task is to find the next greater element for each element of the array in order of their appearance in the array.Next greater element of an element in the array is the nearest element on the right which is greater than the current element.If there does not exist next greater of current element, then next greater element for current element is -1. For example, next greater of the last element is always -1.__"
   ]
  },
  {
   "cell_type": "code",
   "execution_count": 21,
   "id": "2b323234",
   "metadata": {},
   "outputs": [],
   "source": [
    "from typing import *\n",
    "from collections import deque\n",
    "class Solution:\n",
    "    def bruteforce(self,nums:List[int])->Optional[List]:\n",
    "        n = len(nums)\n",
    "        for i in range(n):\n",
    "            nxt = -1\n",
    "            for j  in range(i+1,n):\n",
    "                if nums[i] < nums[j]:\n",
    "                    nxt = nums[j]\n",
    "                    break\n",
    "            print(nxt,end=' ')\n",
    "            \n",
    "    def findgrt(self,nums:List[int])->Optional[List]:\n",
    "        s = deque()\n",
    "        n = len(nums)\n",
    "        res = [-1]*n\n",
    "        for i in range(n):\n",
    "            while s and nums[s[-1]]<nums[i]:\n",
    "                res[s[-1]] = nums[i]\n",
    "                s.pop()\n",
    "            s.append(i)\n",
    "        return res\n",
    "        \n",
    "        "
   ]
  },
  {
   "cell_type": "code",
   "execution_count": 22,
   "id": "d0ee1f82",
   "metadata": {},
   "outputs": [
    {
     "name": "stdout",
     "output_type": "stream",
     "text": [
      "3 4 4 -1 None\n"
     ]
    }
   ],
   "source": [
    "fg = Solution()\n",
    "print(fg.bruteforce([1,3,2,4]))"
   ]
  },
  {
   "cell_type": "code",
   "execution_count": 23,
   "id": "4734e497",
   "metadata": {},
   "outputs": [
    {
     "name": "stdout",
     "output_type": "stream",
     "text": [
      "[3, 4, 4, -1]\n"
     ]
    }
   ],
   "source": [
    "print(fg.findgrt([1,3,2,4]))"
   ]
  },
  {
   "cell_type": "code",
   "execution_count": 24,
   "id": "f3252f23",
   "metadata": {},
   "outputs": [
    {
     "name": "stdout",
     "output_type": "stream",
     "text": [
      "[-1, -1, -1, -1]\n"
     ]
    }
   ],
   "source": [
    "print(fg.findgrt([4,3,2,1]))"
   ]
  },
  {
   "cell_type": "markdown",
   "id": "527ff1d7",
   "metadata": {},
   "source": [
    "__Q2.Given an array a of integers of length n, find the nearest smaller number for every element such that the smaller element is on left side.If no small element present on the left print -1__"
   ]
  },
  {
   "cell_type": "code",
   "execution_count": 29,
   "id": "6e369b73",
   "metadata": {},
   "outputs": [],
   "source": [
    "class Solution:\n",
    "    def findsm(self,nums:List[int])->Optional[List]:\n",
    "        s = deque()\n",
    "        n = len(nums)\n",
    "        res = [-1]*n\n",
    "        for i in range(n-1,-1,-1):\n",
    "            while s and nums[i] < nums[s[-1]]:\n",
    "                res[s[-1]]= nums[i]\n",
    "                s.pop()\n",
    "            s.append(i)\n",
    "        return res"
   ]
  },
  {
   "cell_type": "code",
   "execution_count": 30,
   "id": "7c9406f8",
   "metadata": {},
   "outputs": [
    {
     "name": "stdout",
     "output_type": "stream",
     "text": [
      "[-1, 1, 1]\n"
     ]
    }
   ],
   "source": [
    "fs = Solution()\n",
    "print(fs.findsm([1,6,2]))"
   ]
  },
  {
   "cell_type": "code",
   "execution_count": 31,
   "id": "f6622c88",
   "metadata": {},
   "outputs": [
    {
     "name": "stdout",
     "output_type": "stream",
     "text": [
      "[-1, 1, -1, 0, 3, 4]\n"
     ]
    }
   ],
   "source": [
    "print(fs.findsm([1, 5, 0, 3, 4, 5]))"
   ]
  },
  {
   "cell_type": "code",
   "execution_count": null,
   "id": "23f9815c",
   "metadata": {},
   "outputs": [],
   "source": []
  }
 ],
 "metadata": {
  "kernelspec": {
   "display_name": "Python 3 (ipykernel)",
   "language": "python",
   "name": "python3"
  },
  "language_info": {
   "codemirror_mode": {
    "name": "ipython",
    "version": 3
   },
   "file_extension": ".py",
   "mimetype": "text/x-python",
   "name": "python",
   "nbconvert_exporter": "python",
   "pygments_lexer": "ipython3",
   "version": "3.9.13"
  }
 },
 "nbformat": 4,
 "nbformat_minor": 5
}
