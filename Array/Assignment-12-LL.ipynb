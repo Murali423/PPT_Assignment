{
 "cells": [
  {
   "cell_type": "markdown",
   "id": "c1600db8",
   "metadata": {},
   "source": [
    "__Q1. Given a singly linked list, delete middle of the linked list. For example, if given linked list is 1->2->3->4->5 then linked list should be modified to 1->2->4->5.If there are even nodes, then there would be two middle nodes, we need to delete the second middle element. For example, if given linked list is 1->2->3->4->5->6 then it should be modified to 1->2->3->5->6.If the input linked list is NULL or has 1 node, then it should return NULL__"
   ]
  },
  {
   "cell_type": "code",
   "execution_count": null,
   "id": "bf9af2f8",
   "metadata": {},
   "outputs": [],
   "source": [
    "from typing import Optional,ListNode\n",
    "class Solution:\n",
    "    def delNode(self, head:Optional[ListNode])"
   ]
  }
 ],
 "metadata": {
  "kernelspec": {
   "display_name": "Python 3 (ipykernel)",
   "language": "python",
   "name": "python3"
  },
  "language_info": {
   "codemirror_mode": {
    "name": "ipython",
    "version": 3
   },
   "file_extension": ".py",
   "mimetype": "text/x-python",
   "name": "python",
   "nbconvert_exporter": "python",
   "pygments_lexer": "ipython3",
   "version": "3.9.13"
  }
 },
 "nbformat": 4,
 "nbformat_minor": 5
}
