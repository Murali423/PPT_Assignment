{
 "cells": [
  {
   "cell_type": "markdown",
   "id": "d97700a9",
   "metadata": {},
   "source": [
    "__Q1.Given an array arr[ ] of size N having elements, the task is to find the next greater element for each element of the array in order of their appearance in the array.Next greater element of an element in the array is the nearest element on the right which is greater than the current element.If there does not exist next greater of current element, then next greater element for current element is -1. For example, next greater of the last element is always -1.__"
   ]
  },
  {
   "cell_type": "code",
   "execution_count": 1,
   "id": "2b323234",
   "metadata": {},
   "outputs": [],
   "source": [
    "from typing import *\n",
    "from collections import deque\n",
    "class Solution:\n",
    "    def bruteforce(self,nums:List[int])->Optional[List]:\n",
    "        n = len(nums)\n",
    "        for i in range(n):\n",
    "            nxt = -1\n",
    "            for j  in range(i+1,n):\n",
    "                if nums[i] < nums[j]:\n",
    "                    nxt = nums[j]\n",
    "                    break\n",
    "            print(nxt,end=' ')\n",
    "            \n",
    "    def findgrt(self,nums:List[int])->Optional[List]:\n",
    "        s = deque()\n",
    "        n = len(nums)\n",
    "        res = [-1]*n\n",
    "        for i in range(n):\n",
    "            while s and nums[s[-1]]<nums[i]:\n",
    "                res[s[-1]] = nums[i]\n",
    "                s.pop()\n",
    "            s.append(i)\n",
    "        return res\n",
    "        \n",
    "        "
   ]
  },
  {
   "cell_type": "code",
   "execution_count": 2,
   "id": "d0ee1f82",
   "metadata": {},
   "outputs": [
    {
     "name": "stdout",
     "output_type": "stream",
     "text": [
      "3 4 4 -1 None\n"
     ]
    }
   ],
   "source": [
    "fg = Solution()\n",
    "print(fg.bruteforce([1,3,2,4]))"
   ]
  },
  {
   "cell_type": "code",
   "execution_count": 3,
   "id": "4734e497",
   "metadata": {},
   "outputs": [
    {
     "name": "stdout",
     "output_type": "stream",
     "text": [
      "[3, 4, 4, -1]\n"
     ]
    }
   ],
   "source": [
    "print(fg.findgrt([1,3,2,4]))"
   ]
  },
  {
   "cell_type": "code",
   "execution_count": 4,
   "id": "f3252f23",
   "metadata": {},
   "outputs": [
    {
     "name": "stdout",
     "output_type": "stream",
     "text": [
      "[-1, -1, -1, -1]\n"
     ]
    }
   ],
   "source": [
    "print(fg.findgrt([4,3,2,1]))"
   ]
  },
  {
   "cell_type": "markdown",
   "id": "527ff1d7",
   "metadata": {},
   "source": [
    "__Q2.Given an array a of integers of length n, find the nearest smaller number for every element such that the smaller element is on left side.If no small element present on the left print -1__"
   ]
  },
  {
   "cell_type": "code",
   "execution_count": 5,
   "id": "6e369b73",
   "metadata": {},
   "outputs": [],
   "source": [
    "class Solution:\n",
    "    def findsm(self,nums:List[int])->Optional[List]:\n",
    "        s = deque()\n",
    "        n = len(nums)\n",
    "        res = [-1]*n\n",
    "        for i in range(n-1,-1,-1):\n",
    "            while s and nums[i] < nums[s[-1]]:\n",
    "                res[s[-1]]= nums[i]\n",
    "                s.pop()\n",
    "            s.append(i)\n",
    "        return res"
   ]
  },
  {
   "cell_type": "code",
   "execution_count": 6,
   "id": "7c9406f8",
   "metadata": {},
   "outputs": [
    {
     "name": "stdout",
     "output_type": "stream",
     "text": [
      "[-1, 1, 1]\n"
     ]
    }
   ],
   "source": [
    "fs = Solution()\n",
    "print(fs.findsm([1,6,2]))"
   ]
  },
  {
   "cell_type": "code",
   "execution_count": 7,
   "id": "f6622c88",
   "metadata": {},
   "outputs": [
    {
     "name": "stdout",
     "output_type": "stream",
     "text": [
      "[-1, 1, -1, 0, 3, 4]\n"
     ]
    }
   ],
   "source": [
    "print(fs.findsm([1, 5, 0, 3, 4, 5]))"
   ]
  },
  {
   "cell_type": "markdown",
   "id": "6cecf760",
   "metadata": {},
   "source": [
    "__Q3.Implement a Stack using two queues q1 and q2__"
   ]
  },
  {
   "cell_type": "code",
   "execution_count": 8,
   "id": "343f91c4",
   "metadata": {},
   "outputs": [],
   "source": [
    "from collections import deque\n",
    "\n",
    "class MyStack:\n",
    "\n",
    "    def __init__(self):\n",
    "        self.qa = deque()\n",
    "        self.qb = deque()\n",
    "\n",
    "    def push(self, x: int) -> None:\n",
    "        self.qa.append(x)\n",
    "\n",
    "    def pop(self) -> int:\n",
    "        self.flush()\n",
    "        val = self.qa.popleft()\n",
    "        self.swap()\n",
    "        return val\n",
    "\n",
    "    def top(self) -> int:\n",
    "        self.flush()\n",
    "        return self.qa[0]\n",
    "\n",
    "    def empty(self) -> bool:\n",
    "        return len(self.qa) < 1 and len(self.qb) < 1\n",
    "    \n",
    "    def flush(self):\n",
    "        while len(self.qa) > 1:\n",
    "            self.qb.append(self.qa.popleft())\n",
    "    \n",
    "    def swap(self):\n",
    "        self.qa, self.qb = self.qb, self.qa\n",
    "        "
   ]
  },
  {
   "cell_type": "code",
   "execution_count": 9,
   "id": "dbd83fba",
   "metadata": {},
   "outputs": [],
   "source": [
    "s = MyStack()\n",
    "s.push(2)"
   ]
  },
  {
   "cell_type": "code",
   "execution_count": 10,
   "id": "4c3e6b94",
   "metadata": {},
   "outputs": [
    {
     "name": "stdout",
     "output_type": "stream",
     "text": [
      "2\n"
     ]
    }
   ],
   "source": [
    "print(s.pop())"
   ]
  },
  {
   "cell_type": "markdown",
   "id": "5409017f",
   "metadata": {},
   "source": [
    "__Q4.You are given a stack St. You have to reverse the stack using recursion.__"
   ]
  },
  {
   "cell_type": "code",
   "execution_count": 11,
   "id": "2e9b9ad7",
   "metadata": {},
   "outputs": [],
   "source": [
    "from collections import deque\n",
    "class Solution:\n",
    "    def __init__(self):\n",
    "        self.s1 = deque()\n",
    "        self.s2 = deque()\n",
    "        \n",
    "    def push(self,val):\n",
    "        self.s1.append(val)\n",
    "        \n",
    "    def isEmpty(self,s):\n",
    "        return len(s) == 0\n",
    "    \n",
    "    def pop(self):\n",
    "        if self.isEmpty(self.s1):\n",
    "            print(\"Stack Underflow \")\n",
    "            exit(1)\n",
    "        return self.s1.pop()\n",
    "        \n",
    "    \n",
    "    def bruteuforce(self):\n",
    "        while self.s1:\n",
    "            self.s2.append(self.s1.pop())\n",
    "        return self.s2\n",
    "    \n",
    "    def insertbottom(self,s,i):\n",
    "        if not self.s:\n",
    "            self.s.append(i)\n",
    "            return\n",
    "        top = self.s.pop()\n",
    "        self.insertbottom(self.s,i)\n",
    "        self.s.append(i)\n",
    "        \n",
    "    def rev(self,s):\n",
    "        if not self.s:\n",
    "            return \n",
    "        item = self.s.pop()\n",
    "        self.rev(self.s)\n",
    "        self.insertbottom(self.s,item)\n",
    "        \n",
    "    "
   ]
  },
  {
   "cell_type": "code",
   "execution_count": 12,
   "id": "05779cf6",
   "metadata": {},
   "outputs": [],
   "source": [
    "r = Solution()\n",
    "r.push(1)\n",
    "r.push(2)\n",
    "r.push(3)\n",
    "r.push(4)"
   ]
  },
  {
   "cell_type": "code",
   "execution_count": 13,
   "id": "ada5e10a",
   "metadata": {},
   "outputs": [
    {
     "name": "stdout",
     "output_type": "stream",
     "text": [
      "deque([4, 3, 2, 1])\n"
     ]
    }
   ],
   "source": [
    "print(r.bruteuforce())"
   ]
  },
  {
   "cell_type": "code",
   "execution_count": 14,
   "id": "9956969e",
   "metadata": {},
   "outputs": [
    {
     "ename": "AttributeError",
     "evalue": "'Solution' object has no attribute 's'",
     "output_type": "error",
     "traceback": [
      "\u001b[1;31m---------------------------------------------------------------------------\u001b[0m",
      "\u001b[1;31mAttributeError\u001b[0m                            Traceback (most recent call last)",
      "\u001b[1;32m~\\AppData\\Local\\Temp\\ipykernel_6104\\2893024526.py\u001b[0m in \u001b[0;36m<module>\u001b[1;34m\u001b[0m\n\u001b[1;32m----> 1\u001b[1;33m \u001b[0mprint\u001b[0m\u001b[1;33m(\u001b[0m\u001b[0mr\u001b[0m\u001b[1;33m.\u001b[0m\u001b[0mrev\u001b[0m\u001b[1;33m(\u001b[0m\u001b[1;33m[\u001b[0m\u001b[1;36m1\u001b[0m\u001b[1;33m,\u001b[0m\u001b[1;36m2\u001b[0m\u001b[1;33m,\u001b[0m\u001b[1;36m3\u001b[0m\u001b[1;33m,\u001b[0m\u001b[1;36m4\u001b[0m\u001b[1;33m,\u001b[0m\u001b[1;36m5\u001b[0m\u001b[1;33m]\u001b[0m\u001b[1;33m)\u001b[0m\u001b[1;33m)\u001b[0m\u001b[1;33m\u001b[0m\u001b[1;33m\u001b[0m\u001b[0m\n\u001b[0m",
      "\u001b[1;32m~\\AppData\\Local\\Temp\\ipykernel_6104\\356848257.py\u001b[0m in \u001b[0;36mrev\u001b[1;34m(self, s)\u001b[0m\n\u001b[0;32m     32\u001b[0m \u001b[1;33m\u001b[0m\u001b[0m\n\u001b[0;32m     33\u001b[0m     \u001b[1;32mdef\u001b[0m \u001b[0mrev\u001b[0m\u001b[1;33m(\u001b[0m\u001b[0mself\u001b[0m\u001b[1;33m,\u001b[0m\u001b[0ms\u001b[0m\u001b[1;33m)\u001b[0m\u001b[1;33m:\u001b[0m\u001b[1;33m\u001b[0m\u001b[1;33m\u001b[0m\u001b[0m\n\u001b[1;32m---> 34\u001b[1;33m         \u001b[1;32mif\u001b[0m \u001b[1;32mnot\u001b[0m \u001b[0mself\u001b[0m\u001b[1;33m.\u001b[0m\u001b[0ms\u001b[0m\u001b[1;33m:\u001b[0m\u001b[1;33m\u001b[0m\u001b[1;33m\u001b[0m\u001b[0m\n\u001b[0m\u001b[0;32m     35\u001b[0m             \u001b[1;32mreturn\u001b[0m\u001b[1;33m\u001b[0m\u001b[1;33m\u001b[0m\u001b[0m\n\u001b[0;32m     36\u001b[0m         \u001b[0mitem\u001b[0m \u001b[1;33m=\u001b[0m \u001b[0mself\u001b[0m\u001b[1;33m.\u001b[0m\u001b[0ms\u001b[0m\u001b[1;33m.\u001b[0m\u001b[0mpop\u001b[0m\u001b[1;33m(\u001b[0m\u001b[1;33m)\u001b[0m\u001b[1;33m\u001b[0m\u001b[1;33m\u001b[0m\u001b[0m\n",
      "\u001b[1;31mAttributeError\u001b[0m: 'Solution' object has no attribute 's'"
     ]
    }
   ],
   "source": [
    "print(r.rev([1,2,3,4,5]))"
   ]
  },
  {
   "cell_type": "markdown",
   "id": "4b4d8ba6",
   "metadata": {},
   "source": [
    "__Q5.You are given a string S, the task is to reverse the string using stack.__"
   ]
  },
  {
   "cell_type": "code",
   "execution_count": 15,
   "id": "e331b7c3",
   "metadata": {},
   "outputs": [],
   "source": [
    "class Solution:\n",
    "    def __init__(self):\n",
    "        self.stack = deque()\n",
    "        \n",
    "    def push(self,val):\n",
    "        self.stack.append(val)\n",
    "        \n",
    "    def isEmpty(self):\n",
    "        return len(self.stack) == 0\n",
    "    \n",
    "    def pop(self):\n",
    "        if isEmpty(self.stack):\n",
    "            return\n",
    "        return self.stack.pop()\n",
    "    \n",
    "    def revStr(self,string):\n",
    "        for i in string:\n",
    "            self.push(i)\n",
    "        s = \"\"\n",
    "        while self.stack:\n",
    "            s += self.stack.pop()\n",
    "        return s"
   ]
  },
  {
   "cell_type": "code",
   "execution_count": 16,
   "id": "88669141",
   "metadata": {},
   "outputs": [
    {
     "name": "stdout",
     "output_type": "stream",
     "text": [
      "keeG rof skeeG\n"
     ]
    }
   ],
   "source": [
    "rs= Solution()\n",
    "\n",
    "print(rs.revStr('Geeks for Geek'))"
   ]
  },
  {
   "cell_type": "markdown",
   "id": "f059afc3",
   "metadata": {},
   "source": [
    "__Q6.Given string S representing a postfix expression, the task is to evaluate the expression and find the final value. Operators will only include the basic arithmetic operators like *, /, + and -.__"
   ]
  },
  {
   "cell_type": "code",
   "execution_count": 21,
   "id": "bdb31e31",
   "metadata": {},
   "outputs": [],
   "source": [
    "from collections import deque\n",
    "\n",
    "def evlPostfix(s:str)->int:\n",
    "    if not s:\n",
    "        return 'Please enter value'\n",
    "    stack = deque()\n",
    "    \n",
    "    for i in s:\n",
    "        if i.isdigit():\n",
    "            stack.append(int(i))\n",
    "        else:\n",
    "            x = stack.pop()\n",
    "            y = stack.pop()\n",
    "            \n",
    "            if i == '+':\n",
    "                stack.append(y+x)\n",
    "            elif i == '-':\n",
    "                stack.append(y-x)\n",
    "            elif i == '*':\n",
    "                stack.append(y*x)\n",
    "            elif i == '/':\n",
    "                stack.append(y//x)\n",
    "    return stack.pop()"
   ]
  },
  {
   "cell_type": "code",
   "execution_count": 22,
   "id": "3fe9d356",
   "metadata": {},
   "outputs": [
    {
     "data": {
      "text/plain": [
       "-4"
      ]
     },
     "execution_count": 22,
     "metadata": {},
     "output_type": "execute_result"
    }
   ],
   "source": [
    "evlPostfix(\"231*+9-\")"
   ]
  },
  {
   "cell_type": "code",
   "execution_count": 24,
   "id": "bdd69188",
   "metadata": {},
   "outputs": [
    {
     "data": {
      "text/plain": [
       "'Please enter value'"
      ]
     },
     "execution_count": 24,
     "metadata": {},
     "output_type": "execute_result"
    }
   ],
   "source": [
    "evlPostfix(None)"
   ]
  },
  {
   "cell_type": "markdown",
   "id": "6b48ec00",
   "metadata": {},
   "source": [
    "__Q7. Design a stack that supports push, pop, top, and retrieving the minimum element in constant time.\n",
    "Implement the `MinStack` class__"
   ]
  },
  {
   "cell_type": "code",
   "execution_count": 33,
   "id": "650f604f",
   "metadata": {},
   "outputs": [],
   "source": [
    "from collections import deque\n",
    "\n",
    "class MinStack:\n",
    "    def __init__(self):\n",
    "        self.stack = []\n",
    "        self.min_stack = []\n",
    "        \n",
    "    def push(self,val):\n",
    "        self.stack.append(val)\n",
    "        if not self.min_stack or val <= self.min_stack[-1]:\n",
    "            self.min_stack.append(val)\n",
    "        \n",
    "    def isEmpty(self):\n",
    "        return len(self.stack) == 0\n",
    "    \n",
    "    def pop(self):\n",
    "        if self.stack:\n",
    "            if self.stack[-1] == self.min_stack[-1]:\n",
    "                self.min_stack.pop()\n",
    "            return self.stack.pop()\n",
    "    \n",
    "    def top(self):\n",
    "        if self.isEmpty():\n",
    "            print('Stack is Underflow')\n",
    "            return\n",
    "        return self.stack[-1]\n",
    "    \n",
    "    def getMin(self):\n",
    "        return self.min_stack[-1]\n",
    "\n",
    "        \n"
   ]
  },
  {
   "cell_type": "code",
   "execution_count": 37,
   "id": "4aad62e8",
   "metadata": {},
   "outputs": [],
   "source": [
    "ms = MinStack()"
   ]
  },
  {
   "cell_type": "code",
   "execution_count": 38,
   "id": "e7867587",
   "metadata": {},
   "outputs": [],
   "source": [
    "ms.push(2)\n",
    "ms.push(0)\n",
    "ms.push(-1)\n",
    "ms.push(-3)"
   ]
  },
  {
   "cell_type": "code",
   "execution_count": 39,
   "id": "fdc48515",
   "metadata": {},
   "outputs": [
    {
     "name": "stdout",
     "output_type": "stream",
     "text": [
      "-3\n"
     ]
    }
   ],
   "source": [
    "print(ms.getMin())"
   ]
  },
  {
   "cell_type": "code",
   "execution_count": 40,
   "id": "a217e6fc",
   "metadata": {},
   "outputs": [
    {
     "name": "stdout",
     "output_type": "stream",
     "text": [
      "-3\n"
     ]
    }
   ],
   "source": [
    "print(ms.pop())"
   ]
  },
  {
   "cell_type": "code",
   "execution_count": 41,
   "id": "aec9b828",
   "metadata": {},
   "outputs": [
    {
     "name": "stdout",
     "output_type": "stream",
     "text": [
      "-1\n"
     ]
    }
   ],
   "source": [
    "print(ms.getMin())"
   ]
  },
  {
   "cell_type": "markdown",
   "id": "8c82063c",
   "metadata": {},
   "source": [
    "__Q8.Given n non-negative integers representing an elevation map where the width of each bar is 1, compute how much water it can trap after raining.__"
   ]
  },
  {
   "cell_type": "code",
   "execution_count": null,
   "id": "97168696",
   "metadata": {},
   "outputs": [],
   "source": []
  }
 ],
 "metadata": {
  "kernelspec": {
   "display_name": "Python 3 (ipykernel)",
   "language": "python",
   "name": "python3"
  },
  "language_info": {
   "codemirror_mode": {
    "name": "ipython",
    "version": 3
   },
   "file_extension": ".py",
   "mimetype": "text/x-python",
   "name": "python",
   "nbconvert_exporter": "python",
   "pygments_lexer": "ipython3",
   "version": "3.9.13"
  }
 },
 "nbformat": 4,
 "nbformat_minor": 5
}
