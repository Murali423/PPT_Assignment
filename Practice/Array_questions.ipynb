{
 "cells": [
  {
   "cell_type": "markdown",
   "id": "31c73d7f",
   "metadata": {},
   "source": [
    "## Find the largest of 3 elements in the given array with O(n) and O(1) complexities"
   ]
  },
  {
   "cell_type": "markdown",
   "id": "69281b03",
   "metadata": {},
   "source": [
    "### Algorithm:\n",
    "\n",
    "1. assign the -ve max value for first,second and third variable\n",
    "2. Iterate over the arrray\n",
    "   - if x > first:\n",
    "     third = second\n",
    "     second = first\n",
    "     first = x\n",
    "   - elif x > second:\n",
    "     third = second\n",
    "     second = x\n",
    "   - elif x > third:\n",
    "    third = x\n",
    " - return first, second, third"
   ]
  },
  {
   "cell_type": "code",
   "execution_count": 3,
   "id": "3a6a9a82",
   "metadata": {},
   "outputs": [],
   "source": [
    "import sys\n",
    "class Large3:\n",
    "    def __init__(self,a,n):\n",
    "        self.a = a\n",
    "        self.n = n\n",
    "    def large3ele(self):\n",
    "        if self.n < 3:\n",
    "            return  'given array has less then 3 elements'\n",
    "        first = second = third = -sys.maxsize\n",
    "        for i in range(self.n):\n",
    "            if self.a[i] > first:\n",
    "                third = second\n",
    "                second = first\n",
    "                first = self.a[i]\n",
    "            elif self.a[i] > second:\n",
    "                third = second\n",
    "                second = self.a[i]\n",
    "            elif self.a[i] > third:\n",
    "                third = self.a[i]\n",
    "        return [first,second, third]\n",
    "    "
   ]
  },
  {
   "cell_type": "code",
   "execution_count": 4,
   "id": "71663a6e",
   "metadata": {},
   "outputs": [
    {
     "name": "stdout",
     "output_type": "stream",
     "text": [
      "[34, 13, 12]\n"
     ]
    }
   ],
   "source": [
    "arr = [12, 13, 1, 10, 34, 1]\n",
    "n = len(arr)\n",
    "\n",
    "m = Large3(arr,n)\n",
    "y = m.large3ele()\n",
    "print(y)"
   ]
  },
  {
   "cell_type": "markdown",
   "id": "a31086aa",
   "metadata": {},
   "source": [
    "### Find Second largest element in an array with O(n) and O(1)\n",
    "\n"
   ]
  },
  {
   "cell_type": "code",
   "execution_count": 4,
   "id": "846515de",
   "metadata": {},
   "outputs": [
    {
     "data": {
      "text/plain": [
       "13"
      ]
     },
     "execution_count": 4,
     "metadata": {},
     "output_type": "execute_result"
    }
   ],
   "source": [
    "def brute_sec(arr):\n",
    "    a = sorted(arr,reverse=True)\n",
    "    return a[1]\n",
    "\n",
    "brute_sec(arr)"
   ]
  },
  {
   "cell_type": "code",
   "execution_count": 1,
   "id": "bdd9a0f2",
   "metadata": {},
   "outputs": [],
   "source": [
    "import sys\n",
    "def Sec_larg(arr,n):\n",
    "    if n < 2:\n",
    "        print('Array size is less than 2 ')\n",
    "        return\n",
    "    first= second = -sys.maxsize\n",
    "    for i in range(n):\n",
    "        if arr[i]>first:\n",
    "            second = first\n",
    "            first = arr[i]\n",
    "        elif arr[i]>second and arr[i]!=first:\n",
    "            second = arr[i]\n",
    "    if (second == -sys.maxsize): \n",
    "        print(\"There is no second largest element\") \n",
    "    else: \n",
    "        print(\"The second largest element is\", second)"
   ]
  },
  {
   "cell_type": "code",
   "execution_count": 5,
   "id": "d5b4dbf9",
   "metadata": {},
   "outputs": [
    {
     "name": "stdout",
     "output_type": "stream",
     "text": [
      "The second largest element is 13\n"
     ]
    }
   ],
   "source": [
    "Sec_larg(arr,n)"
   ]
  },
  {
   "cell_type": "markdown",
   "id": "93280b65",
   "metadata": {},
   "source": [
    "### Moving the zeros to end"
   ]
  },
  {
   "cell_type": "code",
   "execution_count": 9,
   "id": "bd379783",
   "metadata": {},
   "outputs": [
    {
     "data": {
      "text/plain": [
       "[5, 6, 4, 6, 9, 8, 0, 0, 0]"
      ]
     },
     "execution_count": 9,
     "metadata": {},
     "output_type": "execute_result"
    }
   ],
   "source": [
    "a = [5, 6, 0, 4, 6, 0, 9, 0, 8]\n",
    "\n",
    "def moving_zero1(arr):\n",
    "    n = len(arr)\n",
    "    j = 0\n",
    "    for i in range(n):\n",
    "        if arr[i] != 0:\n",
    "            arr[j],arr[i] = arr[i],arr[j]\n",
    "            j += 1\n",
    "    return arr\n",
    "\n",
    "moving_zero1(a)"
   ]
  },
  {
   "cell_type": "code",
   "execution_count": 13,
   "id": "3f0e4e13",
   "metadata": {},
   "outputs": [
    {
     "data": {
      "text/plain": [
       "[5, 6, 4, 6, 9, 8, 0, 0, 0]"
      ]
     },
     "execution_count": 13,
     "metadata": {},
     "output_type": "execute_result"
    }
   ],
   "source": [
    "def moving_zero2(arr):\n",
    "    cnt = 0\n",
    "    for i in range(len(arr)):\n",
    "        if arr[i]!= 0:\n",
    "            arr[cnt] = arr[i]\n",
    "            cnt += 1\n",
    "#     while cnt < len(arr):\n",
    "#         arr[cnt] =0\n",
    "#         cnt +=1\n",
    "    return arr\n",
    "        \n",
    "moving_zero2(a)\n"
   ]
  },
  {
   "cell_type": "markdown",
   "id": "ad905ff6",
   "metadata": {},
   "source": [
    "### Rearrange array such that even positioned are greater than odd"
   ]
  },
  {
   "cell_type": "code",
   "execution_count": 1,
   "id": "a876af19",
   "metadata": {},
   "outputs": [
    {
     "name": "stdout",
     "output_type": "stream",
     "text": [
      "5 2 3 1 2 \n"
     ]
    }
   ],
   "source": [
    "def rearrange(arr, n):  #wrong O(n)\n",
    " \n",
    "    for i in range ( n):\n",
    "       \n",
    "        # if index is even\n",
    "        if (i % 2 == 0):\n",
    "            if (arr[i] < arr[i - 1]):\n",
    "                arr[i - 1], arr[i] = arr[i], arr[i - 1]\n",
    "         \n",
    "        # if index is odd\n",
    "        else:\n",
    "            if (arr[i] > arr[i - 1]):\n",
    "                arr[i - 1], arr[i] = arr[i] , arr[i - 1]\n",
    " \n",
    "if __name__ == \"__main__\":          \n",
    "    n = 5\n",
    "    arr = [1, 3, 2, 2, 5]\n",
    "    rearrange(arr, n);\n",
    "    for i in range (n):\n",
    "        print (arr[i], end = \" \")\n",
    "    print ()"
   ]
  },
  {
   "cell_type": "code",
   "execution_count": 19,
   "id": "dcd6c199",
   "metadata": {},
   "outputs": [
    {
     "data": {
      "text/plain": [
       "[1, 5, 2, 3, 2]"
      ]
     },
     "execution_count": 19,
     "metadata": {},
     "output_type": "execute_result"
    }
   ],
   "source": [
    "def rearr(arr,n):  O(nlogn) and O(n)\n",
    "    arr.sort()\n",
    "    p,q = 0,n-1\n",
    "    ans = [0]*n\n",
    "    for i in range(n):\n",
    "        if (i+1)%2 == 0:\n",
    "            ans[i]= arr[q]\n",
    "            q -= 1\n",
    "        else:\n",
    "            ans[i] = arr[p]\n",
    "            p += 1\n",
    "    return ans\n",
    "rearr(arr,len(arr))"
   ]
  },
  {
   "cell_type": "markdown",
   "id": "c25e60be",
   "metadata": {},
   "source": [
    "### Rearrange an array in maximum minimum form using Two Pointer Technique"
   ]
  },
  {
   "cell_type": "code",
   "execution_count": 21,
   "id": "5ce9a182",
   "metadata": {},
   "outputs": [
    {
     "data": {
      "text/plain": [
       "[7, 1, 6, 2, 5, 3, 4]"
      ]
     },
     "execution_count": 21,
     "metadata": {},
     "output_type": "execute_result"
    }
   ],
   "source": [
    "a = [1, 2, 3, 4, 5, 6, 7]   #O/p: [7, 1, 6, 2, 5, 3, 4]\n",
    "# we use two pointers small and large (0,n-1) we need to use auxilary space O(N) and O(N)\n",
    "\n",
    "def reargmax(arr):\n",
    "    n = len(arr)\n",
    "    p,q = 0,n-1\n",
    "    temp = [0]*n \n",
    "    flag = True\n",
    "    for i in range(n):\n",
    "        if flag:\n",
    "            temp[i] = arr[q]\n",
    "            q -= 1\n",
    "        else:\n",
    "            temp[i] = arr[p]\n",
    "            p += 1\n",
    "        flag = bool(1-flag)\n",
    "    return temp\n",
    "\n",
    "reargmax(a)\n",
    "    "
   ]
  },
  {
   "cell_type": "markdown",
   "id": "0e8866b8",
   "metadata": {},
   "source": [
    "###  Segregate even and odd numbers using Lomuto’s Partition Scheme"
   ]
  },
  {
   "cell_type": "code",
   "execution_count": 22,
   "id": "48e4f774",
   "metadata": {},
   "outputs": [],
   "source": [
    "def arrayEvenAndOdd(arr, n):\n",
    "    i = -1\n",
    "    j = 0\n",
    "    while (j != n):\n",
    "        if (arr[j] % 2 == 0):\n",
    "            i = i+1\n",
    "\n",
    "            # Swapping even and odd numbers\n",
    "            arr[i], arr[j] = arr[j], arr[i]\n",
    "\n",
    "        j = j+1\n",
    "    return arr"
   ]
  },
  {
   "cell_type": "code",
   "execution_count": 23,
   "id": "7d7a804a",
   "metadata": {},
   "outputs": [
    {
     "data": {
      "text/plain": [
       "[2, 2, 1, 3, 5]"
      ]
     },
     "execution_count": 23,
     "metadata": {},
     "output_type": "execute_result"
    }
   ],
   "source": [
    "arrayEvenAndOdd(arr,len(arr))"
   ]
  },
  {
   "cell_type": "markdown",
   "id": "3d2b30fa",
   "metadata": {},
   "source": [
    "### Reversal Algorithm for array rotation"
   ]
  },
  {
   "cell_type": "code",
   "execution_count": 31,
   "id": "adcf77fc",
   "metadata": {},
   "outputs": [
    {
     "name": "stdout",
     "output_type": "stream",
     "text": [
      "[3, 5, 2, 2, 1]\n"
     ]
    },
    {
     "data": {
      "text/plain": [
       "[2, 2, 1, 3, 5]"
      ]
     },
     "execution_count": 31,
     "metadata": {},
     "output_type": "execute_result"
    }
   ],
   "source": [
    "def reverseArr(arr,start,end):\n",
    "    while(start<=end):\n",
    "        arr[start],arr[end]= arr[end],arr[start]\n",
    "        start += 1\n",
    "        end -= 1\n",
    "        \n",
    "        \n",
    "def rotateleft(arr,d):\n",
    "    if d == 0:\n",
    "        return\n",
    "    n = len(arr)\n",
    "    d = d %n\n",
    "    reverseArr(arr,0,d-1)\n",
    "    reverseArr(arr,d,n-1)\n",
    "    reverseArr(arr,0,n-1)\n",
    "    return arr\n",
    "\n",
    "print(arr)\n",
    "rotateleft(arr,2)\n"
   ]
  },
  {
   "cell_type": "code",
   "execution_count": 29,
   "id": "9c6b7ef0",
   "metadata": {},
   "outputs": [],
   "source": [
    "def reverseArr(a,s,e):\n",
    "    while s<=e:\n",
    "        a[s],a[e] = a[e],a[s]\n",
    "        s += 1\n",
    "        e -= 1\n",
    "        \n",
    "def leftrot(a,d):\n",
    "    if  d == 0:\n",
    "        return\n",
    "    n = len(a)\n",
    "    d = d%n #in case the rotating factor is greater than array length\n",
    "    reverseArr(a,0,d-1)\n",
    "    reverseArr(a,d,n-1)\n",
    "    reverseArr(a,0,n-1)\n",
    "    print(a)"
   ]
  },
  {
   "cell_type": "code",
   "execution_count": 30,
   "id": "cc08a175",
   "metadata": {},
   "outputs": [
    {
     "name": "stdout",
     "output_type": "stream",
     "text": [
      "[3, 5, 2, 2, 1]\n"
     ]
    }
   ],
   "source": [
    "leftrot(arr,2)"
   ]
  },
  {
   "cell_type": "markdown",
   "id": "eb8deee9",
   "metadata": {},
   "source": [
    "### Sort arrry in wave fashion"
   ]
  },
  {
   "cell_type": "markdown",
   "id": "f153401f",
   "metadata": {},
   "source": [
    "- input = [10, 5, 6, 3, 2, 20, 100, 80]  # output: [10, 5, 6, 2, 20, 3, 100, 80]\n",
    "#### Algorthm\n",
    "\n",
    "1. sort array\n",
    "2. transverse throught 0 to n-1 with step 2\n",
    "3. swap elemente if the elements are not is up and down position"
   ]
  },
  {
   "cell_type": "code",
   "execution_count": 2,
   "id": "70015e4d",
   "metadata": {},
   "outputs": [
    {
     "data": {
      "text/plain": [
       "[2, 1, 10, 5, 49, 23, 90]"
      ]
     },
     "execution_count": 2,
     "metadata": {},
     "output_type": "execute_result"
    }
   ],
   "source": [
    "def wavesort(arr):  # O(nlogn) o(1)\n",
    "    n = len(arr)\n",
    "    arr.sort()\n",
    "    for i in range(0,n-1,2):\n",
    "        if arr[i] < arr[i+1]:\n",
    "            arr[i],arr[i+1] = arr[i+1],arr[i]\n",
    "    return arr\n",
    "a = [10, 90, 49, 2, 1, 5, 23]\n",
    "wavesort(a)"
   ]
  },
  {
   "cell_type": "code",
   "execution_count": 4,
   "id": "17ffb15e",
   "metadata": {},
   "outputs": [
    {
     "data": {
      "text/plain": [
       "[90, 10, 49, 1, 5, 2, 23]"
      ]
     },
     "execution_count": 4,
     "metadata": {},
     "output_type": "execute_result"
    }
   ],
   "source": [
    "#O(n) and O(1)\n",
    "#Transever through array, get element is less than the even swap elene\n",
    "\n",
    "\n",
    "def wavesort1(arr):\n",
    "    n = len(arr)\n",
    "    for i in range(0,n-1,2):\n",
    "        if i>0 and arr[i]<arr[i-1]:\n",
    "            arr[i],arr[i-1]= arr[i-1],arr[i]\n",
    "        if i<n-1 and arr[i] < arr[i+1]:\n",
    "            arr[i],arr[i+1]= arr[i+1],arr[i]\n",
    "    return arr\n",
    "a = [10, 90, 49, 2, 1, 5, 23]\n",
    "wavesort1(a)"
   ]
  },
  {
   "cell_type": "markdown",
   "id": "7664e6bf",
   "metadata": {},
   "source": [
    "### Find the triangles "
   ]
  },
  {
   "cell_type": "code",
   "execution_count": 7,
   "id": "cad1ad3a",
   "metadata": {},
   "outputs": [],
   "source": [
    "def findtriangle(arr):\n",
    "    n = len(arr)\n",
    "    arr.sort()\n",
    "    count = 0\n",
    "    for i in range(0,n-2):\n",
    "        k = i+2\n",
    "        for j in range(i+1,n):\n",
    "            while (k<n and arr[i]+arr[j]>arr[k]):\n",
    "                k+=1\n",
    "            if k>j:\n",
    "                count += k-j-1\n",
    "    return count"
   ]
  },
  {
   "cell_type": "code",
   "execution_count": 9,
   "id": "3af6e3a3",
   "metadata": {},
   "outputs": [
    {
     "data": {
      "text/plain": [
       "6"
      ]
     },
     "execution_count": 9,
     "metadata": {},
     "output_type": "execute_result"
    }
   ],
   "source": [
    "a = [10, 21, 22, 100, 101, 200, 300]\n",
    "findtriangle(a)"
   ]
  },
  {
   "cell_type": "code",
   "execution_count": 12,
   "id": "abe445e2",
   "metadata": {},
   "outputs": [
    {
     "data": {
      "text/plain": [
       "6"
      ]
     },
     "execution_count": 12,
     "metadata": {},
     "output_type": "execute_result"
    }
   ],
   "source": [
    "def countTrian(arr): #O(n^2)\n",
    "    n = len(arr)\n",
    "    arr.sort()\n",
    "    cnt = 0\n",
    "    for i in range(n-1,0,-1):\n",
    "        l = 0\n",
    "        r = i-1\n",
    "        while (l < r):\n",
    "            if (arr[l]+arr[r]>arr[i]):\n",
    "                cnt +=r-l\n",
    "                r -=1\n",
    "            else:\n",
    "                l +=1\n",
    "    return cnt\n",
    "countTrian(a)\n",
    "    "
   ]
  },
  {
   "cell_type": "code",
   "execution_count": null,
   "id": "1b72998f",
   "metadata": {},
   "outputs": [],
   "source": []
  }
 ],
 "metadata": {
  "kernelspec": {
   "display_name": "Python 3 (ipykernel)",
   "language": "python",
   "name": "python3"
  },
  "language_info": {
   "codemirror_mode": {
    "name": "ipython",
    "version": 3
   },
   "file_extension": ".py",
   "mimetype": "text/x-python",
   "name": "python",
   "nbconvert_exporter": "python",
   "pygments_lexer": "ipython3",
   "version": "3.9.13"
  }
 },
 "nbformat": 4,
 "nbformat_minor": 5
}
