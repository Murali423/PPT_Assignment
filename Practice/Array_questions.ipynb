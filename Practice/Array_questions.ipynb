{
 "cells": [
  {
   "cell_type": "markdown",
   "id": "31c73d7f",
   "metadata": {},
   "source": [
    "## Find the largest of 3 elements in the given array with O(n) and O(1) complexities"
   ]
  },
  {
   "cell_type": "markdown",
   "id": "69281b03",
   "metadata": {},
   "source": [
    "### Algorithm:\n",
    "\n",
    "1. assign the -ve max value for first,second and third variable\n",
    "2. Iterate over the arrray\n",
    "   - if x > first:\n",
    "     third = second\n",
    "     second = first\n",
    "     first = x\n",
    "   - elif x > second:\n",
    "     third = second\n",
    "     second = x\n",
    "   - elif x > third:\n",
    "    third = x\n",
    " - return first, second, third"
   ]
  },
  {
   "cell_type": "code",
   "execution_count": 3,
   "id": "3a6a9a82",
   "metadata": {},
   "outputs": [],
   "source": [
    "import sys\n",
    "class Large3:\n",
    "    def __init__(self,a,n):\n",
    "        self.a = a\n",
    "        self.n = n\n",
    "    def large3ele(self):\n",
    "        if self.n < 3:\n",
    "            return  'given array has less then 3 elements'\n",
    "        first = second = third = -sys.maxsize\n",
    "        for i in range(self.n):\n",
    "            if self.a[i] > first:\n",
    "                third = second\n",
    "                second = first\n",
    "                first = self.a[i]\n",
    "            elif self.a[i] > second:\n",
    "                third = second\n",
    "                second = self.a[i]\n",
    "            elif self.a[i] > third:\n",
    "                third = self.a[i]\n",
    "        return [first,second, third]\n",
    "    "
   ]
  },
  {
   "cell_type": "code",
   "execution_count": 4,
   "id": "71663a6e",
   "metadata": {},
   "outputs": [
    {
     "name": "stdout",
     "output_type": "stream",
     "text": [
      "[34, 13, 12]\n"
     ]
    }
   ],
   "source": [
    "arr = [12, 13, 1, 10, 34, 1]\n",
    "n = len(arr)\n",
    "\n",
    "m = Large3(arr,n)\n",
    "y = m.large3ele()\n",
    "print(y)"
   ]
  },
  {
   "cell_type": "markdown",
   "id": "a31086aa",
   "metadata": {},
   "source": [
    "### Find Second largest element in an array with O(n) and O(1)\n",
    "\n"
   ]
  },
  {
   "cell_type": "code",
   "execution_count": 4,
   "id": "846515de",
   "metadata": {},
   "outputs": [
    {
     "data": {
      "text/plain": [
       "13"
      ]
     },
     "execution_count": 4,
     "metadata": {},
     "output_type": "execute_result"
    }
   ],
   "source": [
    "def brute_sec(arr):\n",
    "    a = sorted(arr,reverse=True)\n",
    "    return a[1]\n",
    "\n",
    "brute_sec(arr)"
   ]
  },
  {
   "cell_type": "code",
   "execution_count": 1,
   "id": "bdd9a0f2",
   "metadata": {},
   "outputs": [],
   "source": [
    "import sys\n",
    "def Sec_larg(arr,n):\n",
    "    if n < 2:\n",
    "        print('Array size is less than 2 ')\n",
    "        return\n",
    "    first= second = -sys.maxsize\n",
    "    for i in range(n):\n",
    "        if arr[i]>first:\n",
    "            second = first\n",
    "            first = arr[i]\n",
    "        elif arr[i]>second and arr[i]!=first:\n",
    "            second = arr[i]\n",
    "    if (second == -sys.maxsize): \n",
    "        print(\"There is no second largest element\") \n",
    "    else: \n",
    "        print(\"The second largest element is\", second)"
   ]
  },
  {
   "cell_type": "code",
   "execution_count": 5,
   "id": "f8ae26d4",
   "metadata": {},
   "outputs": [
    {
     "name": "stdout",
     "output_type": "stream",
     "text": [
      "The second largest element is 13\n"
     ]
    }
   ],
   "source": [
    "Sec_larg(arr,n)"
   ]
  },
  {
   "cell_type": "markdown",
   "id": "a894e212",
   "metadata": {},
   "source": [
    "### Moving the zeros to end"
   ]
  },
  {
   "cell_type": "code",
   "execution_count": 9,
   "id": "0441f775",
   "metadata": {},
   "outputs": [
    {
     "data": {
      "text/plain": [
       "[5, 6, 4, 6, 9, 8, 0, 0, 0]"
      ]
     },
     "execution_count": 9,
     "metadata": {},
     "output_type": "execute_result"
    }
   ],
   "source": [
    "a = [5, 6, 0, 4, 6, 0, 9, 0, 8]\n",
    "\n",
    "def moving_zero1(arr):\n",
    "    n = len(arr)\n",
    "    j = 0\n",
    "    for i in range(n):\n",
    "        if arr[i] != 0:\n",
    "            arr[j],arr[i] = arr[i],arr[j]\n",
    "            j += 1\n",
    "    return arr\n",
    "\n",
    "moving_zero1(a)"
   ]
  },
  {
   "cell_type": "code",
   "execution_count": 13,
   "id": "74958a7e",
   "metadata": {},
   "outputs": [
    {
     "data": {
      "text/plain": [
       "[5, 6, 4, 6, 9, 8, 0, 0, 0]"
      ]
     },
     "execution_count": 13,
     "metadata": {},
     "output_type": "execute_result"
    }
   ],
   "source": [
    "def moving_zero2(arr):\n",
    "    cnt = 0\n",
    "    for i in range(len(arr)):\n",
    "        if arr[i]!= 0:\n",
    "            arr[cnt] = arr[i]\n",
    "            cnt += 1\n",
    "#     while cnt < len(arr):\n",
    "#         arr[cnt] =0\n",
    "#         cnt +=1\n",
    "    return arr\n",
    "        \n",
    "moving_zero2(a)\n"
   ]
  },
  {
   "cell_type": "markdown",
   "id": "1a2bc832",
   "metadata": {},
   "source": [
    "### Rearrange array such that even positioned are greater than odd"
   ]
  },
  {
   "cell_type": "code",
   "execution_count": 16,
   "id": "3d0fe548",
   "metadata": {},
   "outputs": [
    {
     "name": "stdout",
     "output_type": "stream",
     "text": [
      "3 1 2 2 5 \n"
     ]
    }
   ],
   "source": [
    "def rearrange(arr, n):  #wrong O(n)\n",
    " \n",
    "    for i in range (1, n):\n",
    "       \n",
    "        # if index is even\n",
    "        if (i % 2 == 0):\n",
    "            if (arr[i] < arr[i - 1]):\n",
    "                arr[i - 1], arr[i] = arr[i], arr[i - 1]\n",
    "         \n",
    "        # if index is odd\n",
    "        else:\n",
    "            if (arr[i] > arr[i - 1]):\n",
    "                arr[i - 1], arr[i] = arr[i] , arr[i - 1]\n",
    " \n",
    "if __name__ == \"__main__\":          \n",
    "    n = 5\n",
    "    arr = [1, 3, 2, 2, 5]\n",
    "    rearrange(arr, n);\n",
    "    for i in range (n):\n",
    "        print (arr[i], end = \" \")\n",
    "    print ()"
   ]
  },
  {
   "cell_type": "code",
   "execution_count": 19,
   "id": "dc44fc9a",
   "metadata": {},
   "outputs": [
    {
     "data": {
      "text/plain": [
       "[1, 5, 2, 3, 2]"
      ]
     },
     "execution_count": 19,
     "metadata": {},
     "output_type": "execute_result"
    }
   ],
   "source": [
    "def rearr(arr,n):\n",
    "    arr.sort()\n",
    "    p,q = 0,n-1\n",
    "    ans = [0]*n\n",
    "    for i in range(n):\n",
    "        if (i+1)%2 == 0:\n",
    "            ans[i]= arr[q]\n",
    "            q -= 1\n",
    "        else:\n",
    "            ans[i] = arr[p]\n",
    "            p += 1\n",
    "    return ans\n",
    "rearr(arr,len(arr))"
   ]
  },
  {
   "cell_type": "code",
   "execution_count": null,
   "id": "865d1ed5",
   "metadata": {},
   "outputs": [],
   "source": []
  }
 ],
 "metadata": {
  "kernelspec": {
   "display_name": "Python 3 (ipykernel)",
   "language": "python",
   "name": "python3"
  },
  "language_info": {
   "codemirror_mode": {
    "name": "ipython",
    "version": 3
   },
   "file_extension": ".py",
   "mimetype": "text/x-python",
   "name": "python",
   "nbconvert_exporter": "python",
   "pygments_lexer": "ipython3",
   "version": "3.9.13"
  }
 },
 "nbformat": 4,
 "nbformat_minor": 5
}
