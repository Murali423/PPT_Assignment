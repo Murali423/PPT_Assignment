{
 "cells": [
  {
   "cell_type": "markdown",
   "id": "3878cd55",
   "metadata": {},
   "source": [
    "### Recurssion"
   ]
  },
  {
   "cell_type": "markdown",
   "id": "17822049",
   "metadata": {},
   "source": [
    "A function is called by it self is called recussion\n",
    "\n",
    "we make base condition and we run throught recurssion trees\n",
    "\n",
    "        - small valid input\n",
    "        - large invalid input"
   ]
  },
  {
   "cell_type": "code",
   "execution_count": 1,
   "id": "9c84034e",
   "metadata": {},
   "outputs": [
    {
     "name": "stdout",
     "output_type": "stream",
     "text": [
      "3\n"
     ]
    }
   ],
   "source": [
    "## fibonacci series\n",
    "def fibonacci(n):\n",
    "    if n == 1:\n",
    "        return 0\n",
    "    elif n == 2:\n",
    "        return 1\n",
    "    return fibonacci(n-1)+fibonacci(n-2)\n",
    "\n",
    "print(fibonacci(5))"
   ]
  },
  {
   "cell_type": "code",
   "execution_count": 2,
   "id": "993f9585",
   "metadata": {},
   "outputs": [
    {
     "name": "stdout",
     "output_type": "stream",
     "text": [
      "1\n",
      "2\n",
      "3\n",
      "4\n",
      "5\n"
     ]
    }
   ],
   "source": [
    "##print number 1 to n\n",
    "def printn(n):\n",
    "    if n == 1:\n",
    "        print(1)\n",
    "        return\n",
    "    printn(n-1)\n",
    "    print(n)\n",
    "    \n",
    "printn(5)"
   ]
  },
  {
   "cell_type": "code",
   "execution_count": 3,
   "id": "e003e209",
   "metadata": {},
   "outputs": [
    {
     "name": "stdout",
     "output_type": "stream",
     "text": [
      "5\n",
      "4\n",
      "3\n",
      "2\n",
      "1\n"
     ]
    }
   ],
   "source": [
    "##print number n to 1\n",
    "def printn1(n):\n",
    "    if n == 1:\n",
    "        print(1)\n",
    "        return\n",
    "    print(n)\n",
    "    printn1(n-1)\n",
    "    \n",
    "    \n",
    "printn1(5)"
   ]
  },
  {
   "cell_type": "code",
   "execution_count": 4,
   "id": "cae871ca",
   "metadata": {},
   "outputs": [
    {
     "data": {
      "text/plain": [
       "120"
      ]
     },
     "execution_count": 4,
     "metadata": {},
     "output_type": "execute_result"
    }
   ],
   "source": [
    "#factrorial of a number\n",
    "def factorial(n):\n",
    "    if n == 0 or n == 1:\n",
    "        return 1\n",
    "    return n *factorial(n-1)\n",
    "\n",
    "factorial(5)"
   ]
  },
  {
   "cell_type": "code",
   "execution_count": 5,
   "id": "80991c98",
   "metadata": {},
   "outputs": [
    {
     "name": "stdout",
     "output_type": "stream",
     "text": [
      "[3, 2, 1]\n"
     ]
    }
   ],
   "source": [
    "# revese of array using recursion\n",
    "op_arr=[]   # using recurssion and extra space\n",
    "def rev_arr(arr):\n",
    "    if len(arr) == 1:\n",
    "        op_arr.append(arr[0])\n",
    "        return\n",
    "    rev_arr(arr[1:])\n",
    "    op_arr.append(arr[0])\n",
    "\n",
    "ip_arr = [1,2,3]\n",
    "rev_arr(ip_arr)\n",
    "print(op_arr)"
   ]
  },
  {
   "cell_type": "code",
   "execution_count": 6,
   "id": "b68a183d",
   "metadata": {},
   "outputs": [
    {
     "data": {
      "text/plain": [
       "[3, 2, 1]"
      ]
     },
     "execution_count": 6,
     "metadata": {},
     "output_type": "execute_result"
    }
   ],
   "source": [
    "# revese of array using recursion using inspace memory\n",
    "def insp_rev(arr):\n",
    "    if len(arr) == 1:\n",
    "        return\n",
    "    a = arr.pop(0)\n",
    "    insp_rev(arr)\n",
    "    arr.append(a)\n",
    "    \n",
    "ip_arr = [1,2,3]\n",
    "insp_rev(ip_arr)\n",
    "ip_arr"
   ]
  },
  {
   "cell_type": "code",
   "execution_count": 9,
   "id": "18bb43d4",
   "metadata": {},
   "outputs": [
    {
     "name": "stdout",
     "output_type": "stream",
     "text": [
      "[3, 2, 1]\n"
     ]
    }
   ],
   "source": [
    "#reversing the stack\n",
    "ip_stack = [1,2,3]\n",
    "op_stack = []\n",
    "def rev_stack(arr):\n",
    "    if len(arr)== 1:\n",
    "        op_stack.append(arr[0])\n",
    "        return\n",
    "    a = arr.pop(-1)\n",
    "    op_stack.append(a)\n",
    "    rev_stack(arr)\n",
    "    \n",
    "    \n",
    "rev_stack(ip_stack)\n",
    "print(op_stack)"
   ]
  },
  {
   "cell_type": "code",
   "execution_count": 5,
   "id": "23b32d11",
   "metadata": {},
   "outputs": [
    {
     "data": {
      "text/plain": [
       "[0, 1, 2, 3, 3, 4, 5, 5]"
      ]
     },
     "execution_count": 5,
     "metadata": {},
     "output_type": "execute_result"
    }
   ],
   "source": [
    "## sorting array using recurssion\n",
    "def insert_arr(arr,a):\n",
    "    if len(arr)==0 or arr[-1] < a:\n",
    "        arr.append(a)\n",
    "        return\n",
    "    val = arr.pop(-1)\n",
    "    insert_arr(arr,a)\n",
    "    arr.append(val)\n",
    "\n",
    "def sort_arr(arr):\n",
    "    if len(arr) == 1:\n",
    "        return\n",
    "    a = arr.pop(-1)\n",
    "    sort_arr(arr)\n",
    "    insert_arr(arr,a)\n",
    "\n",
    "arr = [0,2,1,5,5,3,3,4]\n",
    "sort_arr(arr)\n",
    "arr"
   ]
  },
  {
   "cell_type": "code",
   "execution_count": 5,
   "id": "9f594082",
   "metadata": {},
   "outputs": [
    {
     "name": "stdout",
     "output_type": "stream",
     "text": [
      "plate 1 is moved from s  to  d\n",
      "plate 2 is moved from s  to  h\n",
      "plate 1 is moved from d  to  h\n",
      "plate 3 is moved from s  to  d\n",
      "plate 1 is moved from h  to  s\n",
      "plate 2 is moved from h  to  d\n",
      "plate 1 is moved from s  to  d\n"
     ]
    }
   ],
   "source": [
    "def towerhanoi(source,dest,helper,n):\n",
    "    if n == 1:\n",
    "        print('plate',n,'is moved from',source,' to ',dest)\n",
    "        return\n",
    "    towerhanoi(source,helper,dest,n-1)\n",
    "    print('plate',n,'is moved from',source,' to ',dest)\n",
    "    towerhanoi(helper,dest,source,n-1)\n",
    "    \n",
    "    \n",
    "towerhanoi('s','d','h',3)"
   ]
  },
  {
   "cell_type": "code",
   "execution_count": 1,
   "id": "98c78267",
   "metadata": {},
   "outputs": [
    {
     "name": "stdout",
     "output_type": "stream",
     "text": [
      "string:  abc\n",
      "string:  ab\n",
      "string:  ac\n",
      "string:  a\n",
      "string:  bc\n",
      "string:  b\n",
      "string:  c\n",
      "string:  \n"
     ]
    }
   ],
   "source": [
    "## ALL power/ all subsets of the given string\n",
    "\n",
    "def subsetofString(ip,op):\n",
    "    if len(ip)== 0:\n",
    "        print(\"string: \",op)\n",
    "        return\n",
    "    subsetofString(ip[1:],op+ip[0])\n",
    "    subsetofString(ip[1:],op)\n",
    "\n",
    "ip = 'abc'\n",
    "op = ''\n",
    "subsetofString(ip,op)"
   ]
  },
  {
   "cell_type": "code",
   "execution_count": 2,
   "id": "b5ae5a74",
   "metadata": {},
   "outputs": [
    {
     "name": "stdout",
     "output_type": "stream",
     "text": [
      "string:  abcc\n",
      "string:  abc\n",
      "string:  abc\n",
      "string:  ab\n",
      "string:  acc\n",
      "string:  ac\n",
      "string:  ac\n",
      "string:  a\n",
      "string:  bcc\n",
      "string:  bc\n",
      "string:  bc\n",
      "string:  b\n",
      "string:  cc\n",
      "string:  c\n",
      "string:  c\n",
      "string:  \n"
     ]
    }
   ],
   "source": [
    "subsetofString('abcc','')"
   ]
  },
  {
   "cell_type": "code",
   "execution_count": 4,
   "id": "b92280ef",
   "metadata": {},
   "outputs": [
    {
     "name": "stdout",
     "output_type": "stream",
     "text": [
      "['abb', 'ab', 'a', 'bb', 'b', '']\n"
     ]
    }
   ],
   "source": [
    "## ALL unique subsets of the given string\n",
    "hash_map = {}\n",
    "def uniqueSubset(ip,op):\n",
    "    if len(ip) == 0:\n",
    "        hash_map[op] = 1\n",
    "        return\n",
    "    uniqueSubset(ip[1:],op+ip[0])\n",
    "    uniqueSubset(ip[1:],op)\n",
    "\n",
    "ip = 'abb'\n",
    "op = ''\n",
    "uniqueSubset(ip,op)\n",
    "print(list(hash_map.keys()))"
   ]
  },
  {
   "cell_type": "code",
   "execution_count": 6,
   "id": "d01166e0",
   "metadata": {},
   "outputs": [
    {
     "name": "stdout",
     "output_type": "stream",
     "text": [
      "a b c\n",
      "a bc\n",
      "ab c\n",
      "abc\n"
     ]
    }
   ],
   "source": [
    "#  Generating all permutations with spaces\n",
    "def permusubString(ip,op):\n",
    "    if len(ip) == 0:\n",
    "        print(op)\n",
    "        return\n",
    "    permusubString(ip[1:],op+\" \"+ip[0])\n",
    "    permusubString(ip[1:],op+ip[0])\n",
    "\n",
    "ip = \"abc\"\n",
    "permusubString(ip[1:],ip[0])"
   ]
  },
  {
   "cell_type": "code",
   "execution_count": 7,
   "id": "6fdd8512",
   "metadata": {},
   "outputs": [
    {
     "name": "stdout",
     "output_type": "stream",
     "text": [
      "AB\n",
      "Ab\n",
      "aB\n",
      "ab\n"
     ]
    }
   ],
   "source": [
    "#premutation with case chagnes\n",
    "def permuCaseChange(ip,op):\n",
    "    if len(ip)==0:\n",
    "        print(op)\n",
    "        return\n",
    "    permuCaseChange(ip[1:],op+ip[0].upper())\n",
    "    permuCaseChange(ip[1:],op+ip[0])\n",
    "\n",
    "ip = \"ab\"\n",
    "op = \"\"\n",
    "permuCaseChange(ip,op)"
   ]
  },
  {
   "cell_type": "code",
   "execution_count": 9,
   "id": "ba454265",
   "metadata": {},
   "outputs": [
    {
     "data": {
      "text/plain": [
       "32"
      ]
     },
     "execution_count": 9,
     "metadata": {},
     "output_type": "execute_result"
    }
   ],
   "source": [
    "#powe of two\n",
    "\n",
    "def power2(n):\n",
    "    if n == 0:\n",
    "        return 1\n",
    "    if n%2 == 0 :\n",
    "        return power2(n//2)*power2(n//2)\n",
    "    else:\n",
    "        return 2*power2(n//2)*power2(n//2)\n",
    "\n",
    "power2(5)"
   ]
  },
  {
   "cell_type": "code",
   "execution_count": 11,
   "id": "daf6125d",
   "metadata": {},
   "outputs": [
    {
     "name": "stdout",
     "output_type": "stream",
     "text": [
      "6543\n"
     ]
    }
   ],
   "source": [
    "##  reveseing a number\n",
    "op=0\n",
    "def reverseNumber(n):\n",
    "    global op\n",
    "    if n<10:\n",
    "        op = op*10+n\n",
    "        return\n",
    "    op = op*10+n%10\n",
    "    reverseNumber(n//10)\n",
    "    \n",
    "\n",
    "reverseNumber(3456)\n",
    "print(op)"
   ]
  },
  {
   "cell_type": "code",
   "execution_count": 13,
   "id": "71999fc0",
   "metadata": {},
   "outputs": [
    {
     "name": "stdout",
     "output_type": "stream",
     "text": [
      "a1b2\n",
      "a1B2\n",
      "A1b2\n",
      "A1B2\n"
     ]
    }
   ],
   "source": [
    "## Letter case permutations \n",
    "\n",
    "def lettercasePer(ip,op):\n",
    "    if len(ip) == 0:\n",
    "        print(op)\n",
    "        return\n",
    "    if ip[0].isdigit():\n",
    "        lettercasePer(ip[1:],op+ip[0])\n",
    "    else:\n",
    "        lettercasePer(ip[1:],op+ip[0])\n",
    "        lettercasePer(ip[1:],op+ip[0].upper())\n",
    "\n",
    "ip ='a1b2'\n",
    "op = ''\n",
    "lettercasePer(ip,op)"
   ]
  },
  {
   "cell_type": "code",
   "execution_count": null,
   "id": "73f6ea0a",
   "metadata": {},
   "outputs": [],
   "source": [
    "###given is palindrome or not\n"
   ]
  }
 ],
 "metadata": {
  "kernelspec": {
   "display_name": "Python 3 (ipykernel)",
   "language": "python",
   "name": "python3"
  },
  "language_info": {
   "codemirror_mode": {
    "name": "ipython",
    "version": 3
   },
   "file_extension": ".py",
   "mimetype": "text/x-python",
   "name": "python",
   "nbconvert_exporter": "python",
   "pygments_lexer": "ipython3",
   "version": "3.9.13"
  }
 },
 "nbformat": 4,
 "nbformat_minor": 5
}
