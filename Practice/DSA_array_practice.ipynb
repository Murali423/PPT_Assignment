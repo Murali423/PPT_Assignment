{
 "cells": [
  {
   "cell_type": "code",
   "execution_count": 1,
   "id": "82694302",
   "metadata": {},
   "outputs": [
    {
     "data": {
      "text/plain": [
       "2"
      ]
     },
     "execution_count": 1,
     "metadata": {},
     "output_type": "execute_result"
    }
   ],
   "source": [
    "##pair sum in sub array\n",
    "num = [1,5,-1,7,100]\n",
    "target = 6\n",
    "\n",
    "# Timecomplexity O(n) SpaceComplexity O(n)\n",
    "def countPairs(num,target):\n",
    "    set_num = set()\n",
    "    n = len(num)\n",
    "    count = 0\n",
    "    for i in range(n):\n",
    "        req_num = target - num[i]\n",
    "        if req_num in set_num:\n",
    "            count += 1\n",
    "        set_num.add(num[i])\n",
    "    return count\n",
    "\n",
    "countPairs(num,target)"
   ]
  },
  {
   "cell_type": "code",
   "execution_count": 2,
   "id": "b77b9977",
   "metadata": {},
   "outputs": [
    {
     "data": {
      "text/plain": [
       "2"
      ]
     },
     "execution_count": 2,
     "metadata": {},
     "output_type": "execute_result"
    }
   ],
   "source": [
    "# Timecomplexity O(nlogn) SpaceComplexity O(1)\n",
    "\n",
    "def countPairs2(num,target):\n",
    "    num.sort()\n",
    "    n = len(num)\n",
    "    left,right = 0,n-1\n",
    "    count = 0\n",
    "    while(left < right):\n",
    "        curr_sum = num[left]+num[right]\n",
    "        if curr_sum > target:\n",
    "            right -= 1\n",
    "        elif curr_sum < target:\n",
    "            left += 1\n",
    "        else:\n",
    "            count += 1\n",
    "            right -= 1\n",
    "            left += 1\n",
    "    return count\n",
    "\n",
    "countPairs2(num,target)\n",
    "        "
   ]
  },
  {
   "cell_type": "code",
   "execution_count": 6,
   "id": "95831ead",
   "metadata": {},
   "outputs": [
    {
     "name": "stdout",
     "output_type": "stream",
     "text": [
      "[4, 6, 3, 4, 104]\n"
     ]
    },
    {
     "data": {
      "text/plain": [
       "True"
      ]
     },
     "execution_count": 6,
     "metadata": {},
     "output_type": "execute_result"
    }
   ],
   "source": [
    "## print sub-array with sum is 0\n",
    "#Timecomplexity O(n) SpaceComplexity O(n)\n",
    "#using prefix sum of array\n",
    "def zerosumArray(num):\n",
    "    num_set = set()\n",
    "    n = len(num)\n",
    "    prefix_sum_array = [0]*n\n",
    "    for i in range(n):\n",
    "        if i == 0:\n",
    "            prefix_sum_array[i] = num[i]\n",
    "        else:\n",
    "            prefix_sum_array[i] = num[i]+prefix_sum_array[i-1]\n",
    "    print(prefix_sum_array)\n",
    "    for i in range(n):\n",
    "        if prefix_sum_array[i] in num_set:\n",
    "            return True\n",
    "        else:\n",
    "            num_set.add(prefix_sum_array[i])\n",
    "    if 0 in num_set:\n",
    "        return True\n",
    "    else:\n",
    "        return False\n",
    "num = [4,2,-3,1,100]\n",
    "zerosumArray(num)"
   ]
  },
  {
   "cell_type": "code",
   "execution_count": 8,
   "id": "1ff9f007",
   "metadata": {},
   "outputs": [
    {
     "name": "stdout",
     "output_type": "stream",
     "text": [
      "[4, 0, 8, 8, 12, 8]\n"
     ]
    },
    {
     "data": {
      "text/plain": [
       "[(0, 1), (3, 3), (3, 5), (4, 5)]"
      ]
     },
     "execution_count": 8,
     "metadata": {},
     "output_type": "execute_result"
    }
   ],
   "source": [
    "#print sub arry sum 0 \n",
    "#Timecomplexity O(n*n) SpaceComplexity O(n)\n",
    "\n",
    "def allzeroSumSubarray(num):\n",
    "    hash_map ={}\n",
    "    n = len(num)\n",
    "    prefix_sum_array = [0]*n\n",
    "    for i in range(n):\n",
    "        if i == 0:\n",
    "            prefix_sum_array[i] = num[i]\n",
    "        else:\n",
    "            prefix_sum_array[i] = num[i]+prefix_sum_array[i-1]\n",
    "    print(prefix_sum_array)\n",
    "    for i in range(n):\n",
    "        if prefix_sum_array[i] not in hash_map:\n",
    "            hash_map[prefix_sum_array[i]]= [i]\n",
    "        else:\n",
    "            hash_map[prefix_sum_array[i]].append(i)\n",
    "    answer = []\n",
    "    for key,value in hash_map.items():\n",
    "        if len(value)>1 or key == 0:\n",
    "            if key == 0:\n",
    "                for val in value:\n",
    "                    answer.append((0,val))\n",
    "                for j in range(len(value)-1):\n",
    "                    for k in range(j+1,len(value)):\n",
    "                        answer.append((value[j]+1,value[k]))\n",
    "            else:\n",
    "                for j in range(len(value)-1):\n",
    "                    for k in range(j+1,len(value)):\n",
    "                        answer.append((value[j]+1,value[k]))\n",
    "    return answer\n",
    "            \n",
    "    \n",
    "    \n",
    "a = [4,-4,8,0,4,-4]\n",
    "allzeroSumSubarray(a)\n"
   ]
  },
  {
   "cell_type": "code",
   "execution_count": null,
   "id": "d4aec5d6",
   "metadata": {},
   "outputs": [],
   "source": []
  }
 ],
 "metadata": {
  "kernelspec": {
   "display_name": "Python 3 (ipykernel)",
   "language": "python",
   "name": "python3"
  },
  "language_info": {
   "codemirror_mode": {
    "name": "ipython",
    "version": 3
   },
   "file_extension": ".py",
   "mimetype": "text/x-python",
   "name": "python",
   "nbconvert_exporter": "python",
   "pygments_lexer": "ipython3",
   "version": "3.9.13"
  }
 },
 "nbformat": 4,
 "nbformat_minor": 5
}
