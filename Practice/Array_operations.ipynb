{
 "cells": [
  {
   "cell_type": "code",
   "execution_count": 6,
   "id": "179797f3",
   "metadata": {},
   "outputs": [],
   "source": [
    "a = [1,2,3,5,6,7,8]\n"
   ]
  },
  {
   "cell_type": "code",
   "execution_count": 3,
   "id": "9b20f091",
   "metadata": {},
   "outputs": [],
   "source": [
    "class Operation:\n",
    "    \n",
    "    def __init__(self,a):\n",
    "        self.a = a\n",
    "        \n",
    "    def reverse(self):             #Time complexity:O(n)   Space complexity O(n)  \n",
    "        l = 0\n",
    "        r = len(self.a)-1\n",
    "        while l < r:\n",
    "            self.a[l],self.a[r] = self.a[r],self.a[l]\n",
    "            l += 1\n",
    "            r -= 1\n",
    "        return self.a\n",
    "    "
   ]
  },
  {
   "cell_type": "code",
   "execution_count": 4,
   "id": "9d2ccadc",
   "metadata": {},
   "outputs": [
    {
     "name": "stdout",
     "output_type": "stream",
     "text": [
      "[1, 2, 3, 5, 6, 7, 8]\n",
      "[8, 7, 6, 5, 3, 2, 1]\n"
     ]
    }
   ],
   "source": [
    "o = Operation(a)\n",
    "print (a)\n",
    "\n",
    "print(o.reverse())"
   ]
  },
  {
   "cell_type": "code",
   "execution_count": 8,
   "id": "ccd66571",
   "metadata": {},
   "outputs": [],
   "source": [
    "def arr_rot(a,n,d):      #Time complexity -O(N*d) and space complexity O(1)\n",
    "    p = 1  \n",
    "    while p<=d:\n",
    "        last = a[0]\n",
    "        for i in range(n-1):\n",
    "            a[i] = a[i+1]\n",
    "        a[n-1] = last\n",
    "        p +=1\n",
    "    print(a)"
   ]
  },
  {
   "cell_type": "code",
   "execution_count": 13,
   "id": "24ebfef6",
   "metadata": {},
   "outputs": [
    {
     "name": "stdout",
     "output_type": "stream",
     "text": [
      "[2, 3, 5, 6, 7, 8, 1]\n"
     ]
    }
   ],
   "source": [
    "arr_rot(a,len(a),1)"
   ]
  },
  {
   "cell_type": "code",
   "execution_count": 14,
   "id": "9c8e65ef",
   "metadata": {},
   "outputs": [
    {
     "data": {
      "text/plain": [
       "[2, 3, 5, 6, 7, 8, 1]"
      ]
     },
     "execution_count": 14,
     "metadata": {},
     "output_type": "execute_result"
    }
   ],
   "source": [
    "a"
   ]
  },
  {
   "cell_type": "code",
   "execution_count": 15,
   "id": "59942e2e",
   "metadata": {},
   "outputs": [
    {
     "name": "stdout",
     "output_type": "stream",
     "text": [
      "[5, 6, 7, 8, 1, 2, 3]\n"
     ]
    }
   ],
   "source": [
    "# arr rotate using temp array   Time complexity :O(n) space complexity:O(N)\n",
    "def temp_rot(a,d,n):\n",
    "    new_ls = []\n",
    "    new_ls = a[d:]+a[0:d]\n",
    "    print(new_ls)\n",
    "\n",
    "temp_rot(a,2,len(a))"
   ]
  },
  {
   "cell_type": "code",
   "execution_count": 19,
   "id": "2bc59b16",
   "metadata": {},
   "outputs": [],
   "source": [
    "#array left rotation using reversal algoritham Time complexity: O(n) and Space Complexity: O(1)\n",
    "\n",
    "def reverseArr(a,s,e):\n",
    "    while s<=e:\n",
    "        a[s],a[e] = a[e],a[s]\n",
    "        s += 1\n",
    "        e -= 1\n",
    "        \n",
    "def leftrot(a,d):\n",
    "    if  d == 0:\n",
    "        return\n",
    "    n = len(a)\n",
    "    d = d%n #in case the rotating factor is greater than array length\n",
    "    reverseArr(a,0,d-1)\n",
    "    reverseArr(a,d,n-1)\n",
    "    reverseArr(a,0,n-1)\n",
    "    print(a)"
   ]
  },
  {
   "cell_type": "code",
   "execution_count": 20,
   "id": "739653fa",
   "metadata": {},
   "outputs": [
    {
     "data": {
      "text/plain": [
       "[6, 7, 8, 1, 2, 3, 5]"
      ]
     },
     "execution_count": 20,
     "metadata": {},
     "output_type": "execute_result"
    }
   ],
   "source": [
    "a"
   ]
  },
  {
   "cell_type": "code",
   "execution_count": 21,
   "id": "eca7880d",
   "metadata": {},
   "outputs": [
    {
     "name": "stdout",
     "output_type": "stream",
     "text": [
      "[1, 2, 3, 5, 6, 7, 8]\n"
     ]
    }
   ],
   "source": [
    "leftrot(a,3)"
   ]
  },
  {
   "cell_type": "code",
   "execution_count": null,
   "id": "e7dc510d",
   "metadata": {},
   "outputs": [],
   "source": []
  }
 ],
 "metadata": {
  "kernelspec": {
   "display_name": "Python 3 (ipykernel)",
   "language": "python",
   "name": "python3"
  },
  "language_info": {
   "codemirror_mode": {
    "name": "ipython",
    "version": 3
   },
   "file_extension": ".py",
   "mimetype": "text/x-python",
   "name": "python",
   "nbconvert_exporter": "python",
   "pygments_lexer": "ipython3",
   "version": "3.9.13"
  }
 },
 "nbformat": 4,
 "nbformat_minor": 5
}
