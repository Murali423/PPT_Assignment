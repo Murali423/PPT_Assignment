{
 "cells": [
  {
   "cell_type": "code",
   "execution_count": 6,
   "id": "179797f3",
   "metadata": {},
   "outputs": [],
   "source": [
    "a = [1,2,3,5,6,7,8]\n"
   ]
  },
  {
   "cell_type": "code",
   "execution_count": 3,
   "id": "9b20f091",
   "metadata": {},
   "outputs": [],
   "source": [
    "class Operation:\n",
    "    \n",
    "    def __init__(self,a):\n",
    "        self.a = a\n",
    "        \n",
    "    def reverse(self):             #Time complexity:O(n)   Space complexity O(n)  \n",
    "        l = 0\n",
    "        r = len(self.a)-1\n",
    "        while l < r:\n",
    "            self.a[l],self.a[r] = self.a[r],self.a[l]\n",
    "            l += 1\n",
    "            r -= 1\n",
    "        return self.a\n",
    "    "
   ]
  },
  {
   "cell_type": "code",
   "execution_count": 4,
   "id": "9d2ccadc",
   "metadata": {},
   "outputs": [
    {
     "name": "stdout",
     "output_type": "stream",
     "text": [
      "[1, 2, 3, 5, 6, 7, 8]\n",
      "[8, 7, 6, 5, 3, 2, 1]\n"
     ]
    }
   ],
   "source": [
    "o = Operation(a)\n",
    "print (a)\n",
    "\n",
    "print(o.reverse())"
   ]
  },
  {
   "cell_type": "code",
   "execution_count": 8,
   "id": "ccd66571",
   "metadata": {},
   "outputs": [],
   "source": [
    "def arr_rot(a,n,d):      #Time complexity -O(N*d) and space complexity O(1)\n",
    "    p = 1  \n",
    "    while p<=d:\n",
    "        last = a[0]\n",
    "        for i in range(n-1):\n",
    "            a[i] = a[i+1]\n",
    "        a[n-1] = last\n",
    "        p +=1\n",
    "    print(a)"
   ]
  },
  {
   "cell_type": "code",
   "execution_count": 13,
   "id": "24ebfef6",
   "metadata": {},
   "outputs": [
    {
     "name": "stdout",
     "output_type": "stream",
     "text": [
      "[2, 3, 5, 6, 7, 8, 1]\n"
     ]
    }
   ],
   "source": [
    "arr_rot(a,len(a),1)"
   ]
  },
  {
   "cell_type": "code",
   "execution_count": 14,
   "id": "9c8e65ef",
   "metadata": {},
   "outputs": [
    {
     "data": {
      "text/plain": [
       "[2, 3, 5, 6, 7, 8, 1]"
      ]
     },
     "execution_count": 14,
     "metadata": {},
     "output_type": "execute_result"
    }
   ],
   "source": [
    "a"
   ]
  },
  {
   "cell_type": "code",
   "execution_count": 15,
   "id": "59942e2e",
   "metadata": {},
   "outputs": [
    {
     "name": "stdout",
     "output_type": "stream",
     "text": [
      "[5, 6, 7, 8, 1, 2, 3]\n"
     ]
    }
   ],
   "source": [
    "# arr rotate using temp array   Time complexity :O(n) space complexity:O(N)\n",
    "def temp_rot(a,d,n):\n",
    "    new_ls = []\n",
    "    new_ls = a[d:]+a[0:d]\n",
    "    print(new_ls)\n",
    "\n",
    "temp_rot(a,2,len(a))"
   ]
  },
  {
   "cell_type": "code",
   "execution_count": 19,
   "id": "2bc59b16",
   "metadata": {},
   "outputs": [],
   "source": [
    "#array left rotation using reversal algoritham Time complexity: O(n) and Space Complexity: O(1)\n",
    "\n",
    "def reverseArr(a,s,e):\n",
    "    while s<=e:\n",
    "        a[s],a[e] = a[e],a[s]\n",
    "        s += 1\n",
    "        e -= 1\n",
    "        \n",
    "def leftrot(a,d):\n",
    "    if  d == 0:\n",
    "        return\n",
    "    n = len(a)\n",
    "    d = d%n #in case the rotating factor is greater than array length\n",
    "    reverseArr(a,0,d-1)\n",
    "    reverseArr(a,d,n-1)\n",
    "    reverseArr(a,0,n-1)\n",
    "    print(a)"
   ]
  },
  {
   "cell_type": "code",
   "execution_count": 20,
   "id": "739653fa",
   "metadata": {},
   "outputs": [
    {
     "data": {
      "text/plain": [
       "[6, 7, 8, 1, 2, 3, 5]"
      ]
     },
     "execution_count": 20,
     "metadata": {},
     "output_type": "execute_result"
    }
   ],
   "source": [
    "a"
   ]
  },
  {
   "cell_type": "code",
   "execution_count": 21,
   "id": "eca7880d",
   "metadata": {},
   "outputs": [
    {
     "name": "stdout",
     "output_type": "stream",
     "text": [
      "[1, 2, 3, 5, 6, 7, 8]\n"
     ]
    }
   ],
   "source": [
    "leftrot(a,3)"
   ]
  },
  {
   "cell_type": "markdown",
   "id": "9ccd7a29",
   "metadata": {},
   "source": [
    "## Search in Unsorted array"
   ]
  },
  {
   "cell_type": "code",
   "execution_count": 1,
   "id": "de274ea6",
   "metadata": {},
   "outputs": [],
   "source": [
    "a = [1,5,6,8,4,3]\n",
    "\n",
    "def lin_ser(arr,x):               #Time-complexity O(n) and Space Complexity O(1)\n",
    "    for i in range(len(a)):\n",
    "        if arr[i] == x:\n",
    "            return i\n",
    "    return -1"
   ]
  },
  {
   "cell_type": "code",
   "execution_count": 2,
   "id": "d899617f",
   "metadata": {},
   "outputs": [
    {
     "data": {
      "text/plain": [
       "1"
      ]
     },
     "execution_count": 2,
     "metadata": {},
     "output_type": "execute_result"
    }
   ],
   "source": [
    "lin_ser(a, 5)"
   ]
  },
  {
   "cell_type": "code",
   "execution_count": 8,
   "id": "049aa125",
   "metadata": {},
   "outputs": [
    {
     "name": "stdout",
     "output_type": "stream",
     "text": [
      "Before insertion : \n",
      "2 4 1 8 5 \n",
      "\n",
      "After insertion : \n",
      "2 4 10 1 8 5 "
     ]
    }
   ],
   "source": [
    "# python Program to Insert an element\n",
    "# at a specific position in an Array\n",
    "def insertElement(arr, n, x, pos) :\n",
    "\t\n",
    "\t# shift elements to the right\n",
    "\t# which are on the right side of pos\n",
    "\tfor i in range(n-1,pos-1,-1) :\n",
    "\t\tarr[i + 1] = arr[i]\n",
    "\t\t\n",
    "\tarr[pos] = x\n",
    "\n",
    "# Driver's code\n",
    "if __name__ == '__main__':\n",
    "\t# Declaring array and key to delete\n",
    "\t# here -1 is for empty space\n",
    "\tarr = [2, 4, 1, 8, 5, -1, -1, -1, -1, -1, -1, -1, -1, -1, -1, -1]\n",
    "\tn = 5\n",
    "\t\n",
    "\tprint(\"Before insertion : \")\n",
    "\tfor i in range(0,n) :\n",
    "\t\tprint(arr[i],end=' ')\n",
    "\n",
    "\tprint(\"\\n\")\n",
    "\n",
    "\tx = 10;\n",
    "\tpos = 2;\n",
    "\n",
    "\t# Function call\n",
    "\tinsertElement(arr, n, x, pos);\n",
    "\tn+=1\n",
    "\n",
    "\tprint(\"After insertion : \")\n",
    "\tfor i in range(0,n) :\n",
    "\t\tprint(arr[i],end=' ')\n",
    "\t\t\n",
    "#This Code is contributed by aditya942003patil\n"
   ]
  },
  {
   "cell_type": "code",
   "execution_count": 7,
   "id": "ce329af4",
   "metadata": {},
   "outputs": [
    {
     "name": "stdout",
     "output_type": "stream",
     "text": [
      "5\n"
     ]
    },
    {
     "ename": "IndexError",
     "evalue": "list assignment index out of range",
     "output_type": "error",
     "traceback": [
      "\u001b[1;31m---------------------------------------------------------------------------\u001b[0m",
      "\u001b[1;31mIndexError\u001b[0m                                Traceback (most recent call last)",
      "\u001b[1;32m~\\AppData\\Local\\Temp\\ipykernel_14696\\3881192601.py\u001b[0m in \u001b[0;36m<module>\u001b[1;34m\u001b[0m\n\u001b[1;32m----> 1\u001b[1;33m \u001b[0minsertEle\u001b[0m\u001b[1;33m(\u001b[0m\u001b[0ma\u001b[0m\u001b[1;33m,\u001b[0m\u001b[0mlen\u001b[0m\u001b[1;33m(\u001b[0m\u001b[0ma\u001b[0m\u001b[1;33m)\u001b[0m\u001b[1;33m,\u001b[0m\u001b[1;36m90\u001b[0m\u001b[1;33m,\u001b[0m\u001b[1;36m3\u001b[0m\u001b[1;33m)\u001b[0m\u001b[1;33m\u001b[0m\u001b[1;33m\u001b[0m\u001b[0m\n\u001b[0m",
      "\u001b[1;32m~\\AppData\\Local\\Temp\\ipykernel_14696\\3854813834.py\u001b[0m in \u001b[0;36minsertEle\u001b[1;34m(arr, n, x, pos)\u001b[0m\n\u001b[0;32m      3\u001b[0m     \u001b[1;32mfor\u001b[0m \u001b[0mi\u001b[0m \u001b[1;32min\u001b[0m \u001b[0mrange\u001b[0m\u001b[1;33m(\u001b[0m\u001b[0mn\u001b[0m\u001b[1;33m-\u001b[0m\u001b[1;36m1\u001b[0m\u001b[1;33m,\u001b[0m\u001b[0mpos\u001b[0m\u001b[1;33m-\u001b[0m\u001b[1;36m1\u001b[0m\u001b[1;33m,\u001b[0m\u001b[1;33m-\u001b[0m\u001b[1;36m1\u001b[0m\u001b[1;33m)\u001b[0m\u001b[1;33m:\u001b[0m\u001b[1;33m\u001b[0m\u001b[1;33m\u001b[0m\u001b[0m\n\u001b[0;32m      4\u001b[0m         \u001b[0mprint\u001b[0m\u001b[1;33m(\u001b[0m\u001b[0mi\u001b[0m\u001b[1;33m)\u001b[0m\u001b[1;33m\u001b[0m\u001b[1;33m\u001b[0m\u001b[0m\n\u001b[1;32m----> 5\u001b[1;33m         \u001b[0marr\u001b[0m\u001b[1;33m[\u001b[0m\u001b[0mi\u001b[0m\u001b[1;33m+\u001b[0m\u001b[1;36m1\u001b[0m\u001b[1;33m]\u001b[0m \u001b[1;33m=\u001b[0m \u001b[0marr\u001b[0m\u001b[1;33m[\u001b[0m\u001b[0mi\u001b[0m\u001b[1;33m]\u001b[0m\u001b[1;33m\u001b[0m\u001b[1;33m\u001b[0m\u001b[0m\n\u001b[0m\u001b[0;32m      6\u001b[0m     \u001b[0marr\u001b[0m\u001b[1;33m[\u001b[0m\u001b[0mpos\u001b[0m\u001b[1;33m]\u001b[0m \u001b[1;33m=\u001b[0m \u001b[0mx\u001b[0m\u001b[1;33m\u001b[0m\u001b[1;33m\u001b[0m\u001b[0m\n\u001b[0;32m      7\u001b[0m     \u001b[0mprint\u001b[0m\u001b[1;33m(\u001b[0m\u001b[0marr\u001b[0m\u001b[1;33m)\u001b[0m\u001b[1;33m\u001b[0m\u001b[1;33m\u001b[0m\u001b[0m\n",
      "\u001b[1;31mIndexError\u001b[0m: list assignment index out of range"
     ]
    }
   ],
   "source": []
  },
  {
   "cell_type": "markdown",
   "id": "dd4c8a48",
   "metadata": {},
   "source": [
    "## Find the largest three distinct elements in an array"
   ]
  },
  {
   "cell_type": "code",
   "execution_count": null,
   "id": "7071af64",
   "metadata": {},
   "outputs": [],
   "source": []
  }
 ],
 "metadata": {
  "kernelspec": {
   "display_name": "Python 3 (ipykernel)",
   "language": "python",
   "name": "python3"
  },
  "language_info": {
   "codemirror_mode": {
    "name": "ipython",
    "version": 3
   },
   "file_extension": ".py",
   "mimetype": "text/x-python",
   "name": "python",
   "nbconvert_exporter": "python",
   "pygments_lexer": "ipython3",
   "version": "3.9.13"
  }
 },
 "nbformat": 4,
 "nbformat_minor": 5
}
