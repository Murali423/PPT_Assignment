{
 "cells": [
  {
   "cell_type": "markdown",
   "id": "a4649781",
   "metadata": {},
   "source": [
    "### Time complexity and Space Complexity"
   ]
  },
  {
   "cell_type": "code",
   "execution_count": 1,
   "id": "be872bbd",
   "metadata": {},
   "outputs": [
    {
     "data": {
      "text/plain": [
       "'odd'"
      ]
     },
     "execution_count": 1,
     "metadata": {},
     "output_type": "execute_result"
    }
   ],
   "source": [
    "#given number is even or odd\n",
    "\n",
    "def even_odd(N):\n",
    "    if N&1 == 0:\n",
    "        return 'even'\n",
    "    return 'odd'\n",
    "\n",
    "even_odd(7)"
   ]
  },
  {
   "cell_type": "code",
   "execution_count": 2,
   "id": "c59f8c66",
   "metadata": {},
   "outputs": [
    {
     "data": {
      "text/plain": [
       "'even'"
      ]
     },
     "execution_count": 2,
     "metadata": {},
     "output_type": "execute_result"
    }
   ],
   "source": [
    "even_odd(8)"
   ]
  },
  {
   "cell_type": "markdown",
   "id": "9cc043b9",
   "metadata": {},
   "source": [
    "#### circular tour"
   ]
  },
  {
   "cell_type": "code",
   "execution_count": 12,
   "id": "8974cedf",
   "metadata": {},
   "outputs": [
    {
     "name": "stdout",
     "output_type": "stream",
     "text": [
      "4\n",
      "-2\n"
     ]
    },
    {
     "data": {
      "text/plain": [
       "-1"
      ]
     },
     "execution_count": 12,
     "metadata": {},
     "output_type": "execute_result"
    }
   ],
   "source": [
    "petrl = [7,5,4,1,4]\n",
    "dist = [6,3,5,5,1]\n",
    "def find_circle(petrol,distance, n):\n",
    "    start = 0\n",
    "    curr_pertol = 0\n",
    "    req_petrol = 0\n",
    "    for i in range(n):\n",
    "        curr_pertol += petrol[i] - distance[i]\n",
    "#         print(curr_pertol)\n",
    "        if curr_pertol < 0:\n",
    "            start = i+1\n",
    "            print(start)\n",
    "            req_petrol += curr_pertol\n",
    "            print(req_petrol)\n",
    "            curr_petrol = 0\n",
    "\n",
    "    return start if curr_pertol+req_petrol >0 else -1\n",
    "\n",
    "find_circle(petrl,dist,len(dist))\n"
   ]
  },
  {
   "cell_type": "markdown",
   "id": "a7d3e526",
   "metadata": {},
   "source": [
    "#### Findig the Time Complexity of an algorithm means finding that part of algorithm which compute the maximum time "
   ]
  },
  {
   "cell_type": "markdown",
   "id": "12ca7285",
   "metadata": {},
   "source": [
    " - mathematical way of representing an algorithm complexity for large size of input"
   ]
  },
  {
   "cell_type": "code",
   "execution_count": null,
   "id": "d4c833b3",
   "metadata": {},
   "outputs": [],
   "source": []
  }
 ],
 "metadata": {
  "kernelspec": {
   "display_name": "Python 3 (ipykernel)",
   "language": "python",
   "name": "python3"
  },
  "language_info": {
   "codemirror_mode": {
    "name": "ipython",
    "version": 3
   },
   "file_extension": ".py",
   "mimetype": "text/x-python",
   "name": "python",
   "nbconvert_exporter": "python",
   "pygments_lexer": "ipython3",
   "version": "3.9.13"
  }
 },
 "nbformat": 4,
 "nbformat_minor": 5
}
