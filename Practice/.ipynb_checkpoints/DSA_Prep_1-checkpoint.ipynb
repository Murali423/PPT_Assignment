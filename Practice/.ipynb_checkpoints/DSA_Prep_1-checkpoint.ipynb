{
 "cells": [
  {
   "cell_type": "markdown",
   "id": "3878cd55",
   "metadata": {},
   "source": [
    "### Recurssion"
   ]
  },
  {
   "cell_type": "markdown",
   "id": "17822049",
   "metadata": {},
   "source": [
    "A function is called by it self is called recussion\n",
    "\n",
    "we make base condition and we run throught recurssion trees\n",
    "\n",
    "        - small valid input\n",
    "        - large invalid input"
   ]
  },
  {
   "cell_type": "code",
   "execution_count": 1,
   "id": "9c84034e",
   "metadata": {},
   "outputs": [
    {
     "name": "stdout",
     "output_type": "stream",
     "text": [
      "3\n"
     ]
    }
   ],
   "source": [
    "## fibonacci series\n",
    "def fibonacci(n):\n",
    "    if n == 1:\n",
    "        return 0\n",
    "    elif n == 2:\n",
    "        return 1\n",
    "    return fibonacci(n-1)+fibonacci(n-2)\n",
    "\n",
    "print(fibonacci(5))"
   ]
  },
  {
   "cell_type": "code",
   "execution_count": 2,
   "id": "993f9585",
   "metadata": {},
   "outputs": [
    {
     "name": "stdout",
     "output_type": "stream",
     "text": [
      "1\n",
      "2\n",
      "3\n",
      "4\n",
      "5\n"
     ]
    }
   ],
   "source": [
    "##print number 1 to n\n",
    "def printn(n):\n",
    "    if n == 1:\n",
    "        print(1)\n",
    "        return\n",
    "    printn(n-1)\n",
    "    print(n)\n",
    "    \n",
    "printn(5)"
   ]
  },
  {
   "cell_type": "code",
   "execution_count": 3,
   "id": "e003e209",
   "metadata": {},
   "outputs": [
    {
     "name": "stdout",
     "output_type": "stream",
     "text": [
      "5\n",
      "4\n",
      "3\n",
      "2\n",
      "1\n"
     ]
    }
   ],
   "source": [
    "##print number n to 1\n",
    "def printn1(n):\n",
    "    if n == 1:\n",
    "        print(1)\n",
    "        return\n",
    "    print(n)\n",
    "    printn1(n-1)\n",
    "    \n",
    "    \n",
    "printn1(5)"
   ]
  },
  {
   "cell_type": "code",
   "execution_count": 4,
   "id": "cae871ca",
   "metadata": {},
   "outputs": [
    {
     "data": {
      "text/plain": [
       "120"
      ]
     },
     "execution_count": 4,
     "metadata": {},
     "output_type": "execute_result"
    }
   ],
   "source": [
    "#factrorial of a number\n",
    "def factorial(n):\n",
    "    if n == 0 or n == 1:\n",
    "        return 1\n",
    "    return n *factorial(n-1)\n",
    "\n",
    "factorial(5)"
   ]
  },
  {
   "cell_type": "code",
   "execution_count": 5,
   "id": "80991c98",
   "metadata": {},
   "outputs": [
    {
     "name": "stdout",
     "output_type": "stream",
     "text": [
      "[3, 2, 1]\n"
     ]
    }
   ],
   "source": [
    "# revese of array using recursion\n",
    "op_arr=[]   # using recurssion and extra space\n",
    "def rev_arr(arr):\n",
    "    if len(arr) == 1:\n",
    "        op_arr.append(arr[0])\n",
    "        return\n",
    "    rev_arr(arr[1:])\n",
    "    op_arr.append(arr[0])\n",
    "\n",
    "ip_arr = [1,2,3]\n",
    "rev_arr(ip_arr)\n",
    "print(op_arr)"
   ]
  },
  {
   "cell_type": "code",
   "execution_count": 6,
   "id": "b68a183d",
   "metadata": {},
   "outputs": [
    {
     "data": {
      "text/plain": [
       "[3, 2, 1]"
      ]
     },
     "execution_count": 6,
     "metadata": {},
     "output_type": "execute_result"
    }
   ],
   "source": [
    "# revese of array using recursion using inspace memory\n",
    "def insp_rev(arr):\n",
    "    if len(arr) == 1:\n",
    "        return\n",
    "    a = arr.pop(0)\n",
    "    insp_rev(arr)\n",
    "    arr.append(a)\n",
    "    \n",
    "ip_arr = [1,2,3]\n",
    "insp_rev(ip_arr)\n",
    "ip_arr"
   ]
  },
  {
   "cell_type": "code",
   "execution_count": 9,
   "id": "18bb43d4",
   "metadata": {},
   "outputs": [
    {
     "name": "stdout",
     "output_type": "stream",
     "text": [
      "[3, 2, 1]\n"
     ]
    }
   ],
   "source": [
    "#reversing the stack\n",
    "ip_stack = [1,2,3]\n",
    "op_stack = []\n",
    "def rev_stack(arr):\n",
    "    if len(arr)== 1:\n",
    "        op_stack.append(arr[0])\n",
    "        return\n",
    "    a = arr.pop(-1)\n",
    "    op_stack.append(a)\n",
    "    rev_stack(arr)\n",
    "    \n",
    "    \n",
    "rev_stack(ip_stack)\n",
    "print(op_stack)"
   ]
  },
  {
   "cell_type": "code",
   "execution_count": 5,
   "id": "23b32d11",
   "metadata": {},
   "outputs": [
    {
     "data": {
      "text/plain": [
       "[0, 1, 2, 3, 3, 4, 5, 5]"
      ]
     },
     "execution_count": 5,
     "metadata": {},
     "output_type": "execute_result"
    }
   ],
   "source": [
    "## sorting array using recurssion\n",
    "def insert_arr(arr,a):\n",
    "    if len(arr)==0 or arr[-1] < a:\n",
    "        arr.append(a)\n",
    "        return\n",
    "    val = arr.pop(-1)\n",
    "    insert_arr(arr,a)\n",
    "    arr.append(val)\n",
    "\n",
    "def sort_arr(arr):\n",
    "    if len(arr) == 1:\n",
    "        return\n",
    "    a = arr.pop(-1)\n",
    "    sort_arr(arr)\n",
    "    insert_arr(arr,a)\n",
    "\n",
    "arr = [0,2,1,5,5,3,3,4]\n",
    "sort_arr(arr)\n",
    "arr"
   ]
  },
  {
   "cell_type": "code",
   "execution_count": null,
   "id": "9f594082",
   "metadata": {},
   "outputs": [],
   "source": []
  }
 ],
 "metadata": {
  "kernelspec": {
   "display_name": "Python 3 (ipykernel)",
   "language": "python",
   "name": "python3"
  },
  "language_info": {
   "codemirror_mode": {
    "name": "ipython",
    "version": 3
   },
   "file_extension": ".py",
   "mimetype": "text/x-python",
   "name": "python",
   "nbconvert_exporter": "python",
   "pygments_lexer": "ipython3",
   "version": "3.9.13"
  }
 },
 "nbformat": 4,
 "nbformat_minor": 5
}
