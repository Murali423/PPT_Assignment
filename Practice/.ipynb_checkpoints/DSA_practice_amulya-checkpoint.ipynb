{
 "cells": [
  {
   "cell_type": "markdown",
   "id": "e94f9c2f",
   "metadata": {},
   "source": [
    "# DSA"
   ]
  },
  {
   "cell_type": "markdown",
   "id": "efc13c5b",
   "metadata": {},
   "source": [
    "#### We have 2 types of data structure\n",
    "\n",
    "  1. Built-in Data Structure\n",
    "    - List\n",
    "    - Tuple\n",
    "    - set\n",
    "    - Dictonary\n",
    "   \n",
    "  2. User Defined Data Structure\n",
    "     - stack\n",
    "     - queue\n",
    "     - Linked List\n",
    "     - Tree\n",
    "     - graph"
   ]
  },
  {
   "cell_type": "markdown",
   "id": "9873bb26",
   "metadata": {},
   "source": [
    "#### Stack"
   ]
  },
  {
   "cell_type": "markdown",
   "id": "f85e009b",
   "metadata": {},
   "source": [
    "__Main Operation perfomed in the stack:__\n",
    " \n",
    "   - push\n",
    "   - pop\n",
    "   - peak or top\n",
    "   - isEmpty"
   ]
  },
  {
   "cell_type": "markdown",
   "id": "37d807a8",
   "metadata": {},
   "source": [
    "#### implent stack using \n",
    "\n",
    "  - list\n",
    "  \n",
    "  - built in library\n",
    "  \n",
    " Stack works on LIFO priciple"
   ]
  },
  {
   "cell_type": "code",
   "execution_count": 1,
   "id": "94f5c191",
   "metadata": {},
   "outputs": [
    {
     "data": {
      "text/plain": [
       "[10, 20, 3]"
      ]
     },
     "execution_count": 1,
     "metadata": {},
     "output_type": "execute_result"
    }
   ],
   "source": [
    "## using list (append--> push, pop--> pop)\n",
    "stack = []\n",
    "stack.append(10)\n",
    "stack.append(20)\n",
    "stack.append(3)\n",
    "\n",
    "stack"
   ]
  },
  {
   "cell_type": "code",
   "execution_count": 2,
   "id": "89f0e13d",
   "metadata": {},
   "outputs": [
    {
     "data": {
      "text/plain": [
       "3"
      ]
     },
     "execution_count": 2,
     "metadata": {},
     "output_type": "execute_result"
    }
   ],
   "source": [
    "stack.pop()"
   ]
  },
  {
   "cell_type": "code",
   "execution_count": 3,
   "id": "a3511159",
   "metadata": {},
   "outputs": [
    {
     "data": {
      "text/plain": [
       "20"
      ]
     },
     "execution_count": 3,
     "metadata": {},
     "output_type": "execute_result"
    }
   ],
   "source": [
    "stack.pop()"
   ]
  },
  {
   "cell_type": "code",
   "execution_count": 4,
   "id": "b519f42b",
   "metadata": {},
   "outputs": [
    {
     "data": {
      "text/plain": [
       "10"
      ]
     },
     "execution_count": 4,
     "metadata": {},
     "output_type": "execute_result"
    }
   ],
   "source": [
    "stack.pop()"
   ]
  },
  {
   "cell_type": "code",
   "execution_count": 5,
   "id": "1779ed9c",
   "metadata": {},
   "outputs": [
    {
     "ename": "IndexError",
     "evalue": "pop from empty list",
     "output_type": "error",
     "traceback": [
      "\u001b[1;31m---------------------------------------------------------------------------\u001b[0m",
      "\u001b[1;31mIndexError\u001b[0m                                Traceback (most recent call last)",
      "\u001b[1;32m~\\AppData\\Local\\Temp\\ipykernel_17864\\2667379430.py\u001b[0m in \u001b[0;36m<module>\u001b[1;34m\u001b[0m\n\u001b[1;32m----> 1\u001b[1;33m \u001b[0mstack\u001b[0m\u001b[1;33m.\u001b[0m\u001b[0mpop\u001b[0m\u001b[1;33m(\u001b[0m\u001b[1;33m)\u001b[0m\u001b[1;33m\u001b[0m\u001b[1;33m\u001b[0m\u001b[0m\n\u001b[0m",
      "\u001b[1;31mIndexError\u001b[0m: pop from empty list"
     ]
    }
   ],
   "source": [
    "stack.pop()"
   ]
  },
  {
   "cell_type": "code",
   "execution_count": 6,
   "id": "8258aa73",
   "metadata": {},
   "outputs": [
    {
     "data": {
      "text/plain": [
       "True"
      ]
     },
     "execution_count": 6,
     "metadata": {},
     "output_type": "execute_result"
    }
   ],
   "source": [
    "#check given list is empty or not\n",
    "len(stack) == 0 \n"
   ]
  },
  {
   "cell_type": "code",
   "execution_count": 9,
   "id": "3cbfa122",
   "metadata": {},
   "outputs": [
    {
     "data": {
      "text/plain": [
       "deque([])"
      ]
     },
     "execution_count": 9,
     "metadata": {},
     "output_type": "execute_result"
    }
   ],
   "source": [
    "#stack implementaion using collections deque\n",
    "import collections \n",
    "stack = collections.deque()\n",
    "stack"
   ]
  },
  {
   "cell_type": "code",
   "execution_count": 11,
   "id": "2ebe4acd",
   "metadata": {},
   "outputs": [
    {
     "data": {
      "text/plain": [
       "deque([10])"
      ]
     },
     "execution_count": 11,
     "metadata": {},
     "output_type": "execute_result"
    }
   ],
   "source": [
    "stack.append(10)\n",
    "stack"
   ]
  },
  {
   "cell_type": "code",
   "execution_count": 12,
   "id": "5ef91875",
   "metadata": {},
   "outputs": [
    {
     "data": {
      "text/plain": [
       "deque([10, 20, 30, 40])"
      ]
     },
     "execution_count": 12,
     "metadata": {},
     "output_type": "execute_result"
    }
   ],
   "source": [
    "stack.append(20)\n",
    "stack.append(30)\n",
    "stack.append(40)\n",
    "stack"
   ]
  },
  {
   "cell_type": "code",
   "execution_count": 13,
   "id": "99441418",
   "metadata": {},
   "outputs": [
    {
     "data": {
      "text/plain": [
       "deque([10, 20, 30])"
      ]
     },
     "execution_count": 13,
     "metadata": {},
     "output_type": "execute_result"
    }
   ],
   "source": [
    "stack.pop()\n",
    "stack"
   ]
  },
  {
   "cell_type": "code",
   "execution_count": 15,
   "id": "7045766c",
   "metadata": {},
   "outputs": [
    {
     "data": {
      "text/plain": [
       "deque([])"
      ]
     },
     "execution_count": 15,
     "metadata": {},
     "output_type": "execute_result"
    }
   ],
   "source": [
    "s = collections.deque()\n",
    "s"
   ]
  },
  {
   "cell_type": "code",
   "execution_count": 16,
   "id": "a235b079",
   "metadata": {},
   "outputs": [
    {
     "data": {
      "text/plain": [
       "True"
      ]
     },
     "execution_count": 16,
     "metadata": {},
     "output_type": "execute_result"
    }
   ],
   "source": [
    "not s"
   ]
  },
  {
   "cell_type": "code",
   "execution_count": 1,
   "id": "350a11db",
   "metadata": {},
   "outputs": [
    {
     "data": {
      "text/plain": [
       "<queue.LifoQueue at 0x1faff585f70>"
      ]
     },
     "execution_count": 1,
     "metadata": {},
     "output_type": "execute_result"
    }
   ],
   "source": [
    "import queue\n",
    "s = queue.LifoQueue()\n",
    "s"
   ]
  },
  {
   "cell_type": "code",
   "execution_count": 2,
   "id": "86e4efe5",
   "metadata": {},
   "outputs": [],
   "source": [
    "s.put(10)\n",
    "s.put(20)\n",
    "s.put(30)\n",
    "s.put(40)\n"
   ]
  },
  {
   "cell_type": "code",
   "execution_count": 3,
   "id": "8c5426dd",
   "metadata": {},
   "outputs": [
    {
     "data": {
      "text/plain": [
       "<queue.LifoQueue at 0x1faff585f70>"
      ]
     },
     "execution_count": 3,
     "metadata": {},
     "output_type": "execute_result"
    }
   ],
   "source": [
    "s"
   ]
  },
  {
   "cell_type": "code",
   "execution_count": 4,
   "id": "3d4ed7a6",
   "metadata": {},
   "outputs": [
    {
     "data": {
      "text/plain": [
       "40"
      ]
     },
     "execution_count": 4,
     "metadata": {},
     "output_type": "execute_result"
    }
   ],
   "source": [
    "s.get()"
   ]
  },
  {
   "cell_type": "code",
   "execution_count": 5,
   "id": "6f4444f7",
   "metadata": {},
   "outputs": [
    {
     "data": {
      "text/plain": [
       "30"
      ]
     },
     "execution_count": 5,
     "metadata": {},
     "output_type": "execute_result"
    }
   ],
   "source": [
    "s.get()"
   ]
  },
  {
   "cell_type": "code",
   "execution_count": 6,
   "id": "67e57bb3",
   "metadata": {},
   "outputs": [
    {
     "data": {
      "text/plain": [
       "20"
      ]
     },
     "execution_count": 6,
     "metadata": {},
     "output_type": "execute_result"
    }
   ],
   "source": [
    "s.get()"
   ]
  },
  {
   "cell_type": "code",
   "execution_count": 7,
   "id": "43bd4150",
   "metadata": {},
   "outputs": [
    {
     "data": {
      "text/plain": [
       "10"
      ]
     },
     "execution_count": 7,
     "metadata": {},
     "output_type": "execute_result"
    }
   ],
   "source": [
    "s.get()"
   ]
  },
  {
   "cell_type": "code",
   "execution_count": 8,
   "id": "5a12be4c",
   "metadata": {},
   "outputs": [
    {
     "ename": "Empty",
     "evalue": "",
     "output_type": "error",
     "traceback": [
      "\u001b[1;31m---------------------------------------------------------------------------\u001b[0m",
      "\u001b[1;31mEmpty\u001b[0m                                     Traceback (most recent call last)",
      "\u001b[1;32m~\\AppData\\Local\\Temp\\ipykernel_14432\\3405856074.py\u001b[0m in \u001b[0;36m<module>\u001b[1;34m\u001b[0m\n\u001b[1;32m----> 1\u001b[1;33m \u001b[0ms\u001b[0m\u001b[1;33m.\u001b[0m\u001b[0mget\u001b[0m\u001b[1;33m(\u001b[0m\u001b[0mtimeout\u001b[0m\u001b[1;33m=\u001b[0m\u001b[1;36m1\u001b[0m\u001b[1;33m)\u001b[0m\u001b[1;33m\u001b[0m\u001b[1;33m\u001b[0m\u001b[0m\n\u001b[0m",
      "\u001b[1;32m~\\anaconda3\\lib\\queue.py\u001b[0m in \u001b[0;36mget\u001b[1;34m(self, block, timeout)\u001b[0m\n\u001b[0;32m    177\u001b[0m                     \u001b[0mremaining\u001b[0m \u001b[1;33m=\u001b[0m \u001b[0mendtime\u001b[0m \u001b[1;33m-\u001b[0m \u001b[0mtime\u001b[0m\u001b[1;33m(\u001b[0m\u001b[1;33m)\u001b[0m\u001b[1;33m\u001b[0m\u001b[1;33m\u001b[0m\u001b[0m\n\u001b[0;32m    178\u001b[0m                     \u001b[1;32mif\u001b[0m \u001b[0mremaining\u001b[0m \u001b[1;33m<=\u001b[0m \u001b[1;36m0.0\u001b[0m\u001b[1;33m:\u001b[0m\u001b[1;33m\u001b[0m\u001b[1;33m\u001b[0m\u001b[0m\n\u001b[1;32m--> 179\u001b[1;33m                         \u001b[1;32mraise\u001b[0m \u001b[0mEmpty\u001b[0m\u001b[1;33m\u001b[0m\u001b[1;33m\u001b[0m\u001b[0m\n\u001b[0m\u001b[0;32m    180\u001b[0m                     \u001b[0mself\u001b[0m\u001b[1;33m.\u001b[0m\u001b[0mnot_empty\u001b[0m\u001b[1;33m.\u001b[0m\u001b[0mwait\u001b[0m\u001b[1;33m(\u001b[0m\u001b[0mremaining\u001b[0m\u001b[1;33m)\u001b[0m\u001b[1;33m\u001b[0m\u001b[1;33m\u001b[0m\u001b[0m\n\u001b[0;32m    181\u001b[0m             \u001b[0mitem\u001b[0m \u001b[1;33m=\u001b[0m \u001b[0mself\u001b[0m\u001b[1;33m.\u001b[0m\u001b[0m_get\u001b[0m\u001b[1;33m(\u001b[0m\u001b[1;33m)\u001b[0m\u001b[1;33m\u001b[0m\u001b[1;33m\u001b[0m\u001b[0m\n",
      "\u001b[1;31mEmpty\u001b[0m: "
     ]
    }
   ],
   "source": [
    "s.get(timeout=1)"
   ]
  },
  {
   "cell_type": "markdown",
   "id": "0dffef19",
   "metadata": {},
   "source": [
    "### Queue"
   ]
  },
  {
   "cell_type": "markdown",
   "id": "06e863ec",
   "metadata": {},
   "source": [
    "#the process of adding elementes is called ENQUEUE and removing elements is called DEQUE\n",
    "\n",
    " - Enqueue\n",
    " - Dequeue\n",
    " - isFill\n",
    " - isEmpty\n",
    " \n"
   ]
  },
  {
   "cell_type": "code",
   "execution_count": 10,
   "id": "114a713f",
   "metadata": {},
   "outputs": [
    {
     "data": {
      "text/plain": [
       "[1, 2]"
      ]
     },
     "execution_count": 10,
     "metadata": {},
     "output_type": "execute_result"
    }
   ],
   "source": [
    "queue = []\n",
    "queue.append(1)\n",
    "queue.append(2)\n",
    "queue"
   ]
  },
  {
   "cell_type": "code",
   "execution_count": 11,
   "id": "98e0a991",
   "metadata": {},
   "outputs": [
    {
     "data": {
      "text/plain": [
       "1"
      ]
     },
     "execution_count": 11,
     "metadata": {},
     "output_type": "execute_result"
    }
   ],
   "source": [
    "queue.pop(0)"
   ]
  },
  {
   "cell_type": "code",
   "execution_count": 12,
   "id": "7606aebc",
   "metadata": {},
   "outputs": [
    {
     "data": {
      "text/plain": [
       "2"
      ]
     },
     "execution_count": 12,
     "metadata": {},
     "output_type": "execute_result"
    }
   ],
   "source": [
    "queue.pop(0)"
   ]
  },
  {
   "cell_type": "code",
   "execution_count": 13,
   "id": "e33be31c",
   "metadata": {},
   "outputs": [
    {
     "ename": "IndexError",
     "evalue": "pop from empty list",
     "output_type": "error",
     "traceback": [
      "\u001b[1;31m---------------------------------------------------------------------------\u001b[0m",
      "\u001b[1;31mIndexError\u001b[0m                                Traceback (most recent call last)",
      "\u001b[1;32m~\\AppData\\Local\\Temp\\ipykernel_14432\\1474057533.py\u001b[0m in \u001b[0;36m<module>\u001b[1;34m\u001b[0m\n\u001b[1;32m----> 1\u001b[1;33m \u001b[0mqueue\u001b[0m\u001b[1;33m.\u001b[0m\u001b[0mpop\u001b[0m\u001b[1;33m(\u001b[0m\u001b[1;36m0\u001b[0m\u001b[1;33m)\u001b[0m\u001b[1;33m\u001b[0m\u001b[1;33m\u001b[0m\u001b[0m\n\u001b[0m",
      "\u001b[1;31mIndexError\u001b[0m: pop from empty list"
     ]
    }
   ],
   "source": [
    "queue.pop(0)"
   ]
  },
  {
   "cell_type": "code",
   "execution_count": 14,
   "id": "36b809e4",
   "metadata": {},
   "outputs": [
    {
     "data": {
      "text/plain": [
       "deque([])"
      ]
     },
     "execution_count": 14,
     "metadata": {},
     "output_type": "execute_result"
    }
   ],
   "source": [
    "## using Library\n",
    "import collections\n",
    "q = collections.deque()\n",
    "q"
   ]
  },
  {
   "cell_type": "code",
   "execution_count": 15,
   "id": "698372f0",
   "metadata": {},
   "outputs": [
    {
     "data": {
      "text/plain": [
       "deque([30, 20, 10])"
      ]
     },
     "execution_count": 15,
     "metadata": {},
     "output_type": "execute_result"
    }
   ],
   "source": [
    "q.appendleft(10)\n",
    "q.appendleft(20)\n",
    "q.appendleft(30)\n",
    "q"
   ]
  },
  {
   "cell_type": "code",
   "execution_count": 16,
   "id": "59c0da9c",
   "metadata": {},
   "outputs": [
    {
     "data": {
      "text/plain": [
       "20"
      ]
     },
     "execution_count": 16,
     "metadata": {},
     "output_type": "execute_result"
    }
   ],
   "source": [
    "q.pop()\n",
    "q.pop()"
   ]
  },
  {
   "cell_type": "code",
   "execution_count": 1,
   "id": "b22bb0be",
   "metadata": {},
   "outputs": [],
   "source": [
    "import collections\n",
    "w = collections.deque()\n",
    "w.append(10)\n",
    "w.append(20)\n",
    "w.append(30)"
   ]
  },
  {
   "cell_type": "code",
   "execution_count": 2,
   "id": "28cc0913",
   "metadata": {},
   "outputs": [
    {
     "data": {
      "text/plain": [
       "deque([10, 20, 30])"
      ]
     },
     "execution_count": 2,
     "metadata": {},
     "output_type": "execute_result"
    }
   ],
   "source": [
    "w"
   ]
  },
  {
   "cell_type": "code",
   "execution_count": 3,
   "id": "7ad1fe38",
   "metadata": {},
   "outputs": [
    {
     "data": {
      "text/plain": [
       "10"
      ]
     },
     "execution_count": 3,
     "metadata": {},
     "output_type": "execute_result"
    }
   ],
   "source": [
    "w.popleft()"
   ]
  },
  {
   "cell_type": "code",
   "execution_count": 4,
   "id": "b0cf0647",
   "metadata": {},
   "outputs": [
    {
     "data": {
      "text/plain": [
       "20"
      ]
     },
     "execution_count": 4,
     "metadata": {},
     "output_type": "execute_result"
    }
   ],
   "source": [
    "w.popleft()"
   ]
  },
  {
   "cell_type": "code",
   "execution_count": 5,
   "id": "3362a22f",
   "metadata": {},
   "outputs": [
    {
     "data": {
      "text/plain": [
       "30"
      ]
     },
     "execution_count": 5,
     "metadata": {},
     "output_type": "execute_result"
    }
   ],
   "source": [
    "w.popleft()"
   ]
  },
  {
   "cell_type": "code",
   "execution_count": 6,
   "id": "05fd971b",
   "metadata": {},
   "outputs": [
    {
     "ename": "IndexError",
     "evalue": "pop from an empty deque",
     "output_type": "error",
     "traceback": [
      "\u001b[1;31m---------------------------------------------------------------------------\u001b[0m",
      "\u001b[1;31mIndexError\u001b[0m                                Traceback (most recent call last)",
      "\u001b[1;32m~\\AppData\\Local\\Temp\\ipykernel_15172\\2521363166.py\u001b[0m in \u001b[0;36m<module>\u001b[1;34m\u001b[0m\n\u001b[1;32m----> 1\u001b[1;33m \u001b[0mw\u001b[0m\u001b[1;33m.\u001b[0m\u001b[0mpopleft\u001b[0m\u001b[1;33m(\u001b[0m\u001b[1;33m)\u001b[0m\u001b[1;33m\u001b[0m\u001b[1;33m\u001b[0m\u001b[0m\n\u001b[0m",
      "\u001b[1;31mIndexError\u001b[0m: pop from an empty deque"
     ]
    }
   ],
   "source": [
    "w.popleft()"
   ]
  },
  {
   "cell_type": "code",
   "execution_count": 8,
   "id": "cf36366b",
   "metadata": {},
   "outputs": [
    {
     "data": {
      "text/plain": [
       "True"
      ]
     },
     "execution_count": 8,
     "metadata": {},
     "output_type": "execute_result"
    }
   ],
   "source": [
    "not w"
   ]
  },
  {
   "cell_type": "markdown",
   "id": "941f2734",
   "metadata": {},
   "source": [
    "### Linked List"
   ]
  },
  {
   "cell_type": "markdown",
   "id": "4a43ef09",
   "metadata": {},
   "source": [
    "__linked list are of 3 types__\n",
    "\n",
    " - single Linked list\n",
    " - double Linked list\n",
    " - circular Linked List"
   ]
  },
  {
   "cell_type": "markdown",
   "id": "01a51b0d",
   "metadata": {},
   "source": [
    "#### Single Linked List"
   ]
  },
  {
   "cell_type": "markdown",
   "id": "abe52169",
   "metadata": {},
   "source": [
    "# Operation in SLL are 1.add ,2.Delete and 3.transvral\n",
    "\n",
    "# add| insersion at 1.head 2.tail 3. Inbetween\n"
   ]
  },
  {
   "cell_type": "markdown",
   "id": "5eba8a2a",
   "metadata": {},
   "source": [
    "__Addition of nodes in the SLL at start__\n",
    "\n",
    "  -  Create node\n",
    "  - Change new node next=head\n",
    "  - change the head to new node\n",
    "  \n",
    "__Addition of nodes in the SLL at end__\n",
    "\n",
    "  -  Create node\n",
    "  -  Go to last node\n",
    "  - change the last to new node\n",
    "  \n",
    "__Addition of nodes in the SLL at inbetween__\n",
    "\n",
    "  -  Create node\n",
    "  -  go to node which require postion\n",
    "  -  x.ref = new node ref\n",
    "     z.ref = y ref"
   ]
  },
  {
   "cell_type": "code",
   "execution_count": 3,
   "id": "d3465460",
   "metadata": {},
   "outputs": [
    {
     "name": "stdout",
     "output_type": "stream",
     "text": [
      "Linked list is empty\n"
     ]
    }
   ],
   "source": [
    "class Node:\n",
    "    def __init__(self,data):\n",
    "        self.data =  data\n",
    "        self.ref = None\n",
    "class LinkedList:\n",
    "    def __init__(self):\n",
    "        self.head = None\n",
    "        \n",
    "    def print_linkedlist(self):\n",
    "        if self.head == None:\n",
    "            print(\"Linked list is empty\")\n",
    "        else:\n",
    "            n = self.head\n",
    "            while n is not None:\n",
    "                print(n.data)\n",
    "                n = n.ref\n",
    "l = LinkedList()\n",
    "l.print_linkedlist()"
   ]
  },
  {
   "cell_type": "code",
   "execution_count": 4,
   "id": "8029bae7",
   "metadata": {},
   "outputs": [],
   "source": [
    "class Node:\n",
    "    def __init__(self,data):\n",
    "        self.data =  data\n",
    "        self.ref = None\n",
    "class LinkedList:\n",
    "    def __init__(self):\n",
    "        self.head = None\n",
    "        \n",
    "    def print_linkedlist(self):\n",
    "        if self.head == None:\n",
    "            print(\"Linked list is empty\")\n",
    "        else:\n",
    "            n = self.head\n",
    "            while n is not None:\n",
    "                print(n.data)\n",
    "                n = n.ref\n",
    "    def add_data(self,data):\n",
    "        new_node = Node(data)\n",
    "        new_node.ref = self.head\n",
    "        self.head = new_node"
   ]
  },
  {
   "cell_type": "code",
   "execution_count": 5,
   "id": "0108b522",
   "metadata": {},
   "outputs": [
    {
     "name": "stdout",
     "output_type": "stream",
     "text": [
      "20\n",
      "10\n"
     ]
    }
   ],
   "source": [
    "l = LinkedList()\n",
    "l.add_data(10)\n",
    "l.add_data(20)\n",
    "l.print_linkedlist()"
   ]
  },
  {
   "cell_type": "code",
   "execution_count": 1,
   "id": "7ed76009",
   "metadata": {},
   "outputs": [],
   "source": [
    "class Node:\n",
    "    def __init__(self,data):\n",
    "        self.data = data\n",
    "        self.ref = None\n",
    "\n",
    "class LList:\n",
    "    def __init__(self):\n",
    "        self.head = None\n",
    "    def print_LL(self):\n",
    "        if self.head == None:\n",
    "            print(\"Linked List is Empty\")\n",
    "        else:\n",
    "            n  = self.head\n",
    "            while n is not None:\n",
    "                print(n.data,\"-->\",end=\" \")\n",
    "                n = n.ref\n",
    "    def add_begin(self,data):\n",
    "        new_node = Node(data)\n",
    "        new_node.ref = self.head\n",
    "        self.head = new_node\n",
    "        \n",
    "    def add_end(self,data):\n",
    "        new_node = Node(data)\n",
    "        if self.head is None:\n",
    "            self.head = new_node\n",
    "        else:\n",
    "            n = self.head\n",
    "            while n.ref is not None:\n",
    "                n = n.ref\n",
    "            n.ref = new_node\n",
    "            \n",
    "        "
   ]
  },
  {
   "cell_type": "code",
   "execution_count": 2,
   "id": "4e04540d",
   "metadata": {},
   "outputs": [
    {
     "name": "stdout",
     "output_type": "stream",
     "text": [
      "Linked List is Empty\n",
      "20 --> 10 --> 100 --> "
     ]
    }
   ],
   "source": [
    "ll = LList()\n",
    "ll.print_LL()\n",
    "ll.add_begin(10)\n",
    "ll.add_begin(20)\n",
    "ll.add_end(100)\n",
    "ll.print_LL()"
   ]
  },
  {
   "cell_type": "markdown",
   "id": "018337a8",
   "metadata": {},
   "source": [
    "#### Addition of node in the between has two possibilities 1.before 2. after"
   ]
  },
  {
   "cell_type": "code",
   "execution_count": 11,
   "id": "8ad44d62",
   "metadata": {},
   "outputs": [],
   "source": [
    "class Node:\n",
    "    def __init__(self,data):\n",
    "        self.data = data\n",
    "        self.ref = None\n",
    "\n",
    "class LList:\n",
    "    def __init__(self):\n",
    "        self.head = None\n",
    "    def print_LL(self):\n",
    "        if self.head == None:\n",
    "            print(\"Linked List is Empty\")\n",
    "        else:\n",
    "            n  = self.head\n",
    "            while n is not None:\n",
    "                print(n.data,\"-->\",end=\" \")\n",
    "                n = n.ref\n",
    "    def add_begin(self,data):\n",
    "        new_node = Node(data)\n",
    "        new_node.ref = self.head\n",
    "        self.head = new_node\n",
    "        \n",
    "    def add_end(self,data):\n",
    "        new_node = Node(data)\n",
    "        if self.head is None:\n",
    "            self.head = new_node\n",
    "        else:\n",
    "            n = self.head\n",
    "            while n.ref is not None:\n",
    "                n = n.ref\n",
    "            n.ref = new_node\n",
    "    \n",
    "    def add_after(self,data,x):\n",
    "        n = self.head\n",
    "        while n is not None:\n",
    "            if n.data == x:\n",
    "                break\n",
    "            n = n.ref\n",
    "        if n is None:\n",
    "            print(\"Node is not found in the LinkedList\")\n",
    "        else:\n",
    "            new_node= Node(data)\n",
    "            new_node.ref = n.ref\n",
    "            n.ref= new_node"
   ]
  },
  {
   "cell_type": "code",
   "execution_count": 12,
   "id": "ca223445",
   "metadata": {},
   "outputs": [
    {
     "name": "stdout",
     "output_type": "stream",
     "text": [
      "Linked List is Empty\n",
      "20 --> 200 --> 10 --> 100 --> "
     ]
    }
   ],
   "source": [
    "ll = LList()\n",
    "ll.print_LL()\n",
    "ll.add_begin(10)\n",
    "ll.add_begin(20)\n",
    "ll.add_end(100)\n",
    "ll.add_after(200,20)\n",
    "ll.print_LL()"
   ]
  },
  {
   "cell_type": "code",
   "execution_count": 13,
   "id": "5d2ac454",
   "metadata": {},
   "outputs": [
    {
     "name": "stdout",
     "output_type": "stream",
     "text": [
      "Linked List is Empty\n",
      "Node is not found in the LinkedList\n",
      "Linked List is Empty\n"
     ]
    }
   ],
   "source": [
    "ll = LList()\n",
    "\n",
    "ll.print_LL()\n",
    "ll.add_after(200,50)\n",
    "\n",
    "\n",
    "ll.print_LL()"
   ]
  },
  {
   "cell_type": "code",
   "execution_count": 14,
   "id": "7bef9d59",
   "metadata": {},
   "outputs": [],
   "source": [
    "class Node:\n",
    "    def __init__(self,data):\n",
    "        self.data = data\n",
    "        self.ref = None\n",
    "\n",
    "class LList:\n",
    "    def __init__(self):\n",
    "        self.head = None\n",
    "    def print_LL(self):\n",
    "        if self.head == None:\n",
    "            print(\"Linked List is Empty\")\n",
    "        else:\n",
    "            n  = self.head\n",
    "            while n is not None:\n",
    "                print(n.data,\"-->\",end=\" \")\n",
    "                n = n.ref\n",
    "    def add_begin(self,data):\n",
    "        new_node = Node(data)\n",
    "        new_node.ref = self.head\n",
    "        self.head = new_node\n",
    "        \n",
    "    def add_end(self,data):\n",
    "        new_node = Node(data)\n",
    "        if self.head is None:\n",
    "            self.head = new_node\n",
    "        else:\n",
    "            n = self.head\n",
    "            while n.ref is not None:\n",
    "                n = n.ref\n",
    "            n.ref = new_node\n",
    "    \n",
    "    def add_after(self,data,x):\n",
    "        n = self.head\n",
    "        while n is not None:\n",
    "            if n.data == x:\n",
    "                break\n",
    "            n = n.ref\n",
    "        if n is None:\n",
    "            print(\"Node is not found in the LinkedList\")\n",
    "        else:\n",
    "            new_node= Node(data)\n",
    "            new_node.ref = n.ref\n",
    "            n.ref= new_node\n",
    "    \n",
    "    def add_before(self,data,x):\n",
    "        if self.head is None:\n",
    "            print('Linked list is Empty')\n",
    "            return\n",
    "        if self.head.data == x:\n",
    "            new_node = Node(data)\n",
    "            new_node.ref = self.head\n",
    "            self.head = new_node\n",
    "            return\n",
    "        n = self.head\n",
    "        while n is not None:\n",
    "            if n.ref.data == x:\n",
    "                break\n",
    "            n = n.ref\n",
    "        if n is None:\n",
    "            print('Linked list does not contain the node')\n",
    "        else:\n",
    "            new_node = Node(data)\n",
    "            new_node.ref = n.ref\n",
    "            n.ref = new_node\n",
    "            "
   ]
  },
  {
   "cell_type": "code",
   "execution_count": 15,
   "id": "92ea080c",
   "metadata": {},
   "outputs": [
    {
     "name": "stdout",
     "output_type": "stream",
     "text": [
      "Linked List is Empty\n",
      "200 --> 10 --> "
     ]
    }
   ],
   "source": [
    "ll = LList()\n",
    "\n",
    "ll.print_LL()\n",
    "ll.add_begin(10)\n",
    "ll.add_before(200,10)\n",
    "\n",
    "\n",
    "ll.print_LL()"
   ]
  },
  {
   "cell_type": "code",
   "execution_count": 16,
   "id": "9b2c9499",
   "metadata": {},
   "outputs": [
    {
     "name": "stdout",
     "output_type": "stream",
     "text": [
      "Linked List is Empty\n",
      "Linked list is Empty\n",
      "Linked List is Empty\n"
     ]
    }
   ],
   "source": [
    "ll = LList()\n",
    "\n",
    "ll.print_LL()\n",
    "\n",
    "ll.add_before(200,10)\n",
    "\n",
    "\n",
    "ll.print_LL()"
   ]
  },
  {
   "cell_type": "code",
   "execution_count": 17,
   "id": "af21314a",
   "metadata": {},
   "outputs": [],
   "source": [
    "class Node:\n",
    "    def __init__(self,data):\n",
    "        self.data = data\n",
    "        self.ref = None\n",
    "\n",
    "class LList:\n",
    "    def __init__(self):\n",
    "        self.head = None\n",
    "    def print_LL(self):\n",
    "        if self.head == None:\n",
    "            print(\"Linked List is Empty\")\n",
    "        else:\n",
    "            n  = self.head\n",
    "            while n is not None:\n",
    "                print(n.data,\"-->\",end=\" \")\n",
    "                n = n.ref\n",
    "    def add_begin(self,data):\n",
    "        new_node = Node(data)\n",
    "        new_node.ref = self.head\n",
    "        self.head = new_node\n",
    "        \n",
    "    def add_end(self,data):\n",
    "        new_node = Node(data)\n",
    "        if self.head is None:\n",
    "            self.head = new_node\n",
    "        else:\n",
    "            n = self.head\n",
    "            while n.ref is not None:\n",
    "                n = n.ref\n",
    "            n.ref = new_node\n",
    "    \n",
    "    def add_after(self,data,x):\n",
    "        n = self.head\n",
    "        while n is not None:\n",
    "            if n.data == x:\n",
    "                break\n",
    "            n = n.ref\n",
    "        if n is None:\n",
    "            print(\"Node is not found in the LinkedList\")\n",
    "        else:\n",
    "            new_node= Node(data)\n",
    "            new_node.ref = n.ref\n",
    "            n.ref= new_node\n",
    "    \n",
    "    def add_before(self,data,x):\n",
    "        if self.head is None:\n",
    "            print('Linked list is Empty')\n",
    "            return\n",
    "        if self.head.data == x:\n",
    "            new_node = Node(data)\n",
    "            new_node.ref = self.head\n",
    "            self.head = new_node\n",
    "            return\n",
    "        n = self.head\n",
    "        while n is not None:\n",
    "            if n.ref.data == x:\n",
    "                break\n",
    "            n = n.ref\n",
    "        if n is None:\n",
    "            print('Linked list does not contain the node')\n",
    "        else:\n",
    "            new_node = Node(data)\n",
    "            new_node.ref = n.ref\n",
    "            n.ref = new_node\n",
    "            \n",
    "    def insert_empty(self,data):\n",
    "        if self.head is None:\n",
    "            new_node = Node(data)\n",
    "            self.head = new_node\n",
    "        else:\n",
    "            print(\"Linked list is not empty\")"
   ]
  },
  {
   "cell_type": "code",
   "execution_count": 18,
   "id": "855863cb",
   "metadata": {},
   "outputs": [
    {
     "name": "stdout",
     "output_type": "stream",
     "text": [
      "Linked List is Empty\n",
      "10 --> "
     ]
    }
   ],
   "source": [
    "ll = LList()\n",
    "\n",
    "ll.print_LL()\n",
    "\n",
    "ll.insert_empty(10)\n",
    "\n",
    "\n",
    "ll.print_LL()"
   ]
  },
  {
   "cell_type": "code",
   "execution_count": 19,
   "id": "c31eea71",
   "metadata": {},
   "outputs": [
    {
     "name": "stdout",
     "output_type": "stream",
     "text": [
      "Linked List is Empty\n",
      "Linked list is not empty\n",
      "10 --> "
     ]
    }
   ],
   "source": [
    "ll = LList()\n",
    "\n",
    "ll.print_LL()\n",
    "\n",
    "ll.insert_empty(10)\n",
    "ll.insert_empty(20)\n",
    "\n",
    "ll.print_LL()"
   ]
  },
  {
   "cell_type": "code",
   "execution_count": 20,
   "id": "429ac29d",
   "metadata": {},
   "outputs": [],
   "source": [
    "class Node:\n",
    "    def __init__(self,data):\n",
    "        self.data = data\n",
    "        self.ref = None\n",
    "\n",
    "class LList:\n",
    "    def __init__(self):\n",
    "        self.head = None\n",
    "    def print_LL(self):\n",
    "        if self.head == None:\n",
    "            print(\"Linked List is Empty\")\n",
    "        else:\n",
    "            n  = self.head\n",
    "            while n is not None:\n",
    "                print(n.data,\"-->\",end=\" \")\n",
    "                n = n.ref\n",
    "    def add_begin(self,data):\n",
    "        new_node = Node(data)\n",
    "        new_node.ref = self.head\n",
    "        self.head = new_node\n",
    "        \n",
    "    def add_end(self,data):\n",
    "        new_node = Node(data)\n",
    "        if self.head is None:\n",
    "            self.head = new_node\n",
    "        else:\n",
    "            n = self.head\n",
    "            while n.ref is not None:\n",
    "                n = n.ref\n",
    "            n.ref = new_node\n",
    "    \n",
    "    def add_after(self,data,x):\n",
    "        n = self.head\n",
    "        while n is not None:\n",
    "            if n.data == x:\n",
    "                break\n",
    "            n = n.ref\n",
    "        if n is None:\n",
    "            print(\"Node is not found in the LinkedList\")\n",
    "        else:\n",
    "            new_node= Node(data)\n",
    "            new_node.ref = n.ref\n",
    "            n.ref= new_node\n",
    "    \n",
    "    def add_before(self,data,x):\n",
    "        if self.head is None:\n",
    "            print('Linked list is Empty')\n",
    "            return\n",
    "        if self.head.data == x:\n",
    "            new_node = Node(data)\n",
    "            new_node.ref = self.head\n",
    "            self.head = new_node\n",
    "            return\n",
    "        n = self.head\n",
    "        while n is not None:\n",
    "            if n.ref.data == x:\n",
    "                break\n",
    "            n = n.ref\n",
    "        if n is None:\n",
    "            print('Linked list does not contain the node')\n",
    "        else:\n",
    "            new_node = Node(data)\n",
    "            new_node.ref = n.ref\n",
    "            n.ref = new_node\n",
    "            \n",
    "    def insert_empty(self,data):\n",
    "        if self.head is None:\n",
    "            new_node = Node(data)\n",
    "            self.head = new_node\n",
    "        else:\n",
    "            print(\"Linked list is not empty\")\n",
    "    \n",
    "    def delete_begin(self):\n",
    "        if self.head is None:\n",
    "            print('Linked is Empty so cannot delete any Node')\n",
    "        else:\n",
    "            self.head = self.head.ref"
   ]
  },
  {
   "cell_type": "code",
   "execution_count": 26,
   "id": "1e965a83",
   "metadata": {},
   "outputs": [
    {
     "name": "stdout",
     "output_type": "stream",
     "text": [
      "Linked List is Empty\n",
      "30 --> 20 --> 10 --> "
     ]
    }
   ],
   "source": [
    "ll = LList()\n",
    "\n",
    "ll.print_LL()\n",
    "\n",
    "ll.add_begin(10)\n",
    "ll.add_begin(20)\n",
    "ll.add_begin(30)\n",
    "ll.print_LL()"
   ]
  },
  {
   "cell_type": "code",
   "execution_count": 27,
   "id": "1c824b71",
   "metadata": {},
   "outputs": [
    {
     "name": "stdout",
     "output_type": "stream",
     "text": [
      "Linked List is Empty\n",
      "30 --> 20 --> 10 --> "
     ]
    }
   ],
   "source": [
    "ll = LList()\n",
    "\n",
    "ll.print_LL()\n",
    "\n",
    "ll.add_begin(10)\n",
    "ll.add_begin(20)\n",
    "ll.add_begin(30)\n",
    "ll.print_LL()\n",
    "ll.delete_begin()\n"
   ]
  },
  {
   "cell_type": "code",
   "execution_count": 28,
   "id": "1070a8d2",
   "metadata": {},
   "outputs": [
    {
     "name": "stdout",
     "output_type": "stream",
     "text": [
      "20 --> 10 --> "
     ]
    }
   ],
   "source": [
    "ll.print_LL()"
   ]
  },
  {
   "cell_type": "markdown",
   "id": "c998dfd4",
   "metadata": {},
   "source": []
  },
  {
   "cell_type": "code",
   "execution_count": 31,
   "id": "eade2d76",
   "metadata": {},
   "outputs": [],
   "source": [
    "class Node:\n",
    "    def __init__(self,data):\n",
    "        self.data = data\n",
    "        self.ref = None\n",
    "\n",
    "class LList:\n",
    "    def __init__(self):\n",
    "        self.head = None\n",
    "    def print_LL(self):\n",
    "        if self.head == None:\n",
    "            print(\"Linked List is Empty\")\n",
    "        else:\n",
    "            n  = self.head\n",
    "            while n is not None:\n",
    "                print(n.data,\"-->\",end=\" \")\n",
    "                n = n.ref\n",
    "    def add_begin(self,data):\n",
    "        new_node = Node(data)\n",
    "        new_node.ref = self.head\n",
    "        self.head = new_node\n",
    "        \n",
    "    def add_end(self,data):\n",
    "        new_node = Node(data)\n",
    "        if self.head is None:\n",
    "            self.head = new_node\n",
    "        else:\n",
    "            n = self.head\n",
    "            while n.ref is not None:\n",
    "                n = n.ref\n",
    "            n.ref = new_node\n",
    "    \n",
    "    def add_after(self,data,x):\n",
    "        n = self.head\n",
    "        while n is not None:\n",
    "            if n.data == x:\n",
    "                break\n",
    "            n = n.ref\n",
    "        if n is None:\n",
    "            print(\"Node is not found in the LinkedList\")\n",
    "        else:\n",
    "            new_node= Node(data)\n",
    "            new_node.ref = n.ref\n",
    "            n.ref= new_node\n",
    "    \n",
    "    def add_before(self,data,x):\n",
    "        if self.head is None:\n",
    "            print('Linked list is Empty')\n",
    "            return\n",
    "        if self.head.data == x:\n",
    "            new_node = Node(data)\n",
    "            new_node.ref = self.head\n",
    "            self.head = new_node\n",
    "            return\n",
    "        n = self.head\n",
    "        while n is not None:\n",
    "            if n.ref.data == x:\n",
    "                break\n",
    "            n = n.ref\n",
    "        if n is None:\n",
    "            print('Linked list does not contain the node')\n",
    "        else:\n",
    "            new_node = Node(data)\n",
    "            new_node.ref = n.ref\n",
    "            n.ref = new_node\n",
    "            \n",
    "    def insert_empty(self,data):\n",
    "        if self.head is None:\n",
    "            new_node = Node(data)\n",
    "            self.head = new_node\n",
    "        else:\n",
    "            print(\"Linked list is not empty\")\n",
    "    \n",
    "    def delete_begin(self):\n",
    "        if self.head is None:\n",
    "            print('Linked is Empty so cannot delete any Node')\n",
    "        else:\n",
    "            self.head = self.head.ref\n",
    "            \n",
    "    def delete_end(self):\n",
    "        if self.head is None:\n",
    "            print('Linked is Empty so cannot delete any Node')\n",
    "        elif self.head.ref is None:\n",
    "            self.head = None\n",
    "        else:\n",
    "            n = self.head\n",
    "            while n.ref.ref is not None:\n",
    "                n = n.ref\n",
    "            n.ref = None\n",
    "    "
   ]
  },
  {
   "cell_type": "code",
   "execution_count": 32,
   "id": "9c2d65c3",
   "metadata": {},
   "outputs": [
    {
     "name": "stdout",
     "output_type": "stream",
     "text": [
      "Linked List is Empty\n",
      "30 --> 20 --> "
     ]
    }
   ],
   "source": [
    "ll = LList()\n",
    "\n",
    "ll.print_LL()\n",
    "\n",
    "ll.add_begin(10)\n",
    "ll.add_begin(20)\n",
    "ll.add_begin(30)\n",
    "\n",
    "ll.delete_end()\n",
    "ll.print_LL()"
   ]
  },
  {
   "cell_type": "code",
   "execution_count": 35,
   "id": "fd665285",
   "metadata": {},
   "outputs": [],
   "source": [
    "class Node:\n",
    "    def __init__(self,data):\n",
    "        self.data = data\n",
    "        self.ref = None\n",
    "\n",
    "class LList:\n",
    "    def __init__(self):\n",
    "        self.head = None\n",
    "    def print_LL(self):\n",
    "        if self.head == None:\n",
    "            print(\"Linked List is Empty\")\n",
    "        else:\n",
    "            n  = self.head\n",
    "            while n is not None:\n",
    "                print(n.data,\"-->\",end=\" \")\n",
    "                n = n.ref\n",
    "    def add_begin(self,data):\n",
    "        new_node = Node(data)\n",
    "        new_node.ref = self.head\n",
    "        self.head = new_node\n",
    "        \n",
    "    def add_end(self,data):\n",
    "        new_node = Node(data)\n",
    "        if self.head is None:\n",
    "            self.head = new_node\n",
    "        else:\n",
    "            n = self.head\n",
    "            while n.ref is not None:\n",
    "                n = n.ref\n",
    "            n.ref = new_node\n",
    "    \n",
    "    def add_after(self,data,x):\n",
    "        n = self.head\n",
    "        while n is not None:\n",
    "            if n.data == x:\n",
    "                break\n",
    "            n = n.ref\n",
    "        if n is None:\n",
    "            print(\"Node is not found in the LinkedList\")\n",
    "        else:\n",
    "            new_node= Node(data)\n",
    "            new_node.ref = n.ref\n",
    "            n.ref= new_node\n",
    "    \n",
    "    def add_before(self,data,x):\n",
    "        if self.head is None:\n",
    "            print('Linked list is Empty')\n",
    "            return\n",
    "        if self.head.data == x:\n",
    "            new_node = Node(data)\n",
    "            new_node.ref = self.head\n",
    "            self.head = new_node\n",
    "            return\n",
    "        n = self.head\n",
    "        while n is not None:\n",
    "            if n.ref.data == x:\n",
    "                break\n",
    "            n = n.ref\n",
    "        if n is None:\n",
    "            print('Linked list does not contain the node')\n",
    "        else:\n",
    "            new_node = Node(data)\n",
    "            new_node.ref = n.ref\n",
    "            n.ref = new_node\n",
    "            \n",
    "    def insert_empty(self,data):\n",
    "        if self.head is None:\n",
    "            new_node = Node(data)\n",
    "            self.head = new_node\n",
    "        else:\n",
    "            print(\"Linked list is not empty\")\n",
    "    \n",
    "    def delete_begin(self):\n",
    "        if self.head is None:\n",
    "            print('Linked is Empty so cannot delete any Node')\n",
    "        else:\n",
    "            self.head = self.head.ref\n",
    "            \n",
    "    def delete_end(self):\n",
    "        if self.head is None:\n",
    "            print('Linked is Empty so cannot delete any Node')\n",
    "        elif self.head.ref is None:\n",
    "            self.head = None\n",
    "        else:\n",
    "            n = self.head\n",
    "            while n.ref.ref is not None:\n",
    "                n = n.ref\n",
    "            n.ref = None\n",
    "    \n",
    "    def delete_by_value(self,x):\n",
    "        if self.head is None:\n",
    "            print('Linked is Empty so cannot delete any Node')\n",
    "            return\n",
    "        if self.head.data == x:\n",
    "            self.head = self.head.ref\n",
    "            return\n",
    "        \n",
    "        n = self.head\n",
    "        while n.ref is not None:\n",
    "            if n.ref.data == x:\n",
    "                break\n",
    "            n = n.ref\n",
    "        if n.ref is None:\n",
    "            print('None is not found in the LL')\n",
    "        else:\n",
    "            n.ref = n.ref.ref"
   ]
  },
  {
   "cell_type": "code",
   "execution_count": 36,
   "id": "36dfa67a",
   "metadata": {},
   "outputs": [
    {
     "name": "stdout",
     "output_type": "stream",
     "text": [
      "Linked List is Empty\n",
      "30 --> 10 --> "
     ]
    }
   ],
   "source": [
    "ll = LList()\n",
    "\n",
    "ll.print_LL()\n",
    "\n",
    "ll.add_begin(10)\n",
    "ll.add_begin(20)\n",
    "ll.add_begin(30)\n",
    "\n",
    "ll.delete_by_value(20)\n",
    "ll.print_LL()"
   ]
  },
  {
   "cell_type": "markdown",
   "id": "2c86f8e6",
   "metadata": {},
   "source": [
    "### Double Linked List"
   ]
  },
  {
   "cell_type": "code",
   "execution_count": 37,
   "id": "e8a944b3",
   "metadata": {},
   "outputs": [],
   "source": [
    "class Node:\n",
    "    def __init__(self,data):\n",
    "        self.data = data\n",
    "        self.nref = None\n",
    "        self.pref = None\n",
    "        \n",
    "class DoubleLL:\n",
    "    def __init__(self):\n",
    "        self.head = None\n",
    "    \n",
    "    def print_LL(self):\n",
    "        if self.head is None:\n",
    "            print(\"Double linked list is empty\")\n",
    "        else:\n",
    "            n = self.head\n",
    "            while n is not None:\n",
    "                print(n.data,\"-->\",end=\" \")\n",
    "                n = n.nref\n",
    "    \n",
    "    def print_LL_reverse(self):\n",
    "        if self.head is None:\n",
    "            print(\"Double linked list is empty\")\n",
    "        else:\n",
    "            n = self.head\n",
    "            while n.nref is not None:\n",
    "                n = n.nref\n",
    "            while n is not None:\n",
    "                print(n.data,\"-->\",end=\" \")\n",
    "                n = n.pref"
   ]
  },
  {
   "cell_type": "code",
   "execution_count": 38,
   "id": "4faf6da6",
   "metadata": {},
   "outputs": [
    {
     "name": "stdout",
     "output_type": "stream",
     "text": [
      "Double linked list is empty\n"
     ]
    }
   ],
   "source": [
    "dl = DoubleLL()\n",
    "\n",
    "dl.print_LL()"
   ]
  },
  {
   "cell_type": "code",
   "execution_count": 39,
   "id": "66485f35",
   "metadata": {},
   "outputs": [
    {
     "name": "stdout",
     "output_type": "stream",
     "text": [
      "Double linked list is empty\n"
     ]
    }
   ],
   "source": [
    "dl = DoubleLL()\n",
    "\n",
    "dl.print_LL_reverse()"
   ]
  },
  {
   "cell_type": "code",
   "execution_count": 4,
   "id": "f7e94d5b",
   "metadata": {},
   "outputs": [],
   "source": [
    "class Node:\n",
    "    def __init__(self,data):\n",
    "        self.data = data\n",
    "        self.nref = None\n",
    "        self.pref = None\n",
    "        \n",
    "class DoubleLL:\n",
    "    def __init__(self):\n",
    "        self.head = None\n",
    "    \n",
    "    def print_LL(self):\n",
    "        if self.head is None:\n",
    "            print(\"Double linked list is empty\")\n",
    "        else:\n",
    "            n = self.head\n",
    "            while n is not None:\n",
    "                print(n.data,\"-->\",end=\" \")\n",
    "                n = n.nref\n",
    "    \n",
    "    def print_LL_reverse(self):\n",
    "        print()\n",
    "        if self.head is None:\n",
    "            print(\"Double linked list is empty\")\n",
    "        else:\n",
    "            n = self.head\n",
    "            while n.nref is not None:\n",
    "                n = n.nref\n",
    "            while n is not None:\n",
    "                print(n.data,\"-->\",end=\" \")\n",
    "                n = n.pref\n",
    "    \n",
    "    def insert_empty(self,data):\n",
    "        if self.head is None:\n",
    "            new_node = Node(data)\n",
    "            self.head = new_node\n",
    "        else:\n",
    "            print('Linked list is not empty')\n",
    "            \n",
    "    def add_begin(self,data):\n",
    "        new_node = Node(data)\n",
    "        if self.head is None:\n",
    "            self.head = new_node\n",
    "        else:\n",
    "            new_node.nref = self.head\n",
    "            self.head.pref = new_node\n",
    "            self.head = new_node\n",
    "            \n",
    "    def add_end(self,data):\n",
    "        new_node = Node(data)\n",
    "        if self.head is None:\n",
    "            self.head = new_node\n",
    "        else:\n",
    "            n = self.head\n",
    "            while n.nref is not None:\n",
    "                n = n.nref\n",
    "            n.nref = new_node\n",
    "            new_node.pref = n\n",
    "                "
   ]
  },
  {
   "cell_type": "code",
   "execution_count": 5,
   "id": "4279f74b",
   "metadata": {},
   "outputs": [
    {
     "name": "stdout",
     "output_type": "stream",
     "text": [
      "30 --> 20 --> 5 --> \n",
      "5 --> 20 --> 30 --> "
     ]
    }
   ],
   "source": [
    "dl = DoubleLL()\n",
    "#dl.insert_empty(10)\n",
    "dl.add_begin(20)\n",
    "dl.add_begin(30)\n",
    "dl.add_end(5)\n",
    "dl.print_LL()\n",
    "dl.print_LL_reverse()"
   ]
  },
  {
   "cell_type": "code",
   "execution_count": 8,
   "id": "f388fc59",
   "metadata": {},
   "outputs": [],
   "source": [
    "class Node:\n",
    "    def __init__(self,data):\n",
    "        self.data = data\n",
    "        self.nref = None\n",
    "        self.pref = None\n",
    "        \n",
    "class DoubleLL:\n",
    "    def __init__(self):\n",
    "        self.head = None\n",
    "    \n",
    "    def print_LL(self):\n",
    "        if self.head is None:\n",
    "            print(\"Double linked list is empty\")\n",
    "        else:\n",
    "            n = self.head\n",
    "            while n is not None:\n",
    "                print(n.data,\"-->\",end=\" \")\n",
    "                n = n.nref\n",
    "    \n",
    "    def print_LL_reverse(self):\n",
    "        print()\n",
    "        if self.head is None:\n",
    "            print(\"Double linked list is empty\")\n",
    "        else:\n",
    "            n = self.head\n",
    "            while n.nref is not None:\n",
    "                n = n.nref\n",
    "            while n is not None:\n",
    "                print(\"<--\",n.data,end=\" \")\n",
    "                n = n.pref\n",
    "    \n",
    "    def insert_empty(self,data):\n",
    "        if self.head is None:\n",
    "            new_node = Node(data)\n",
    "            self.head = new_node\n",
    "        else:\n",
    "            print('Linked list is not empty')\n",
    "            \n",
    "    def add_begin(self,data):\n",
    "        new_node = Node(data)\n",
    "        if self.head is None:\n",
    "            self.head = new_node\n",
    "        else:\n",
    "            new_node.nref = self.head\n",
    "            self.head.pref = new_node\n",
    "            self.head = new_node\n",
    "            \n",
    "    def add_end(self,data):\n",
    "        new_node = Node(data)\n",
    "        if self.head is None:\n",
    "            self.head = new_node\n",
    "        else:\n",
    "            n = self.head\n",
    "            while n.nref is not None:\n",
    "                n = n.nref\n",
    "            n.nref = new_node\n",
    "            new_node.pref = n\n",
    "    \n",
    "    def add_after(self,data,x):\n",
    "        if self.head is None:\n",
    "            print('given Linked list is empty')\n",
    "        else:\n",
    "            n = self.head\n",
    "            while n is not None:\n",
    "                if n.data == x:\n",
    "                    break\n",
    "                n = n.nref\n",
    "            if n is None:\n",
    "                print(\"Given node is not found in the DLL\")\n",
    "            else:\n",
    "                new_node = Node(data)\n",
    "                new_node.nref = n.nref\n",
    "                new_node.pref = n\n",
    "                if n.nref is not None:\n",
    "                    n.nref.pref = new_node\n",
    "                n.nref = new_node\n",
    "    \n",
    "    def add_before(self,data,x):\n",
    "        if self.head is None:\n",
    "            print('given Linked list is empty')\n",
    "        else:\n",
    "            n = self.head\n",
    "            while n is not None:\n",
    "                if n.data == x:\n",
    "                    break\n",
    "                n = n.nref\n",
    "            if n is None:\n",
    "                print(\"Given node is not found in the DLL\")\n",
    "            else:\n",
    "                new_node = Node(data)\n",
    "                new_node.nref = n\n",
    "                new_node.pref = n.pref\n",
    "                if n.pref is not None:\n",
    "                    n.pref.nref = new_node\n",
    "                else:\n",
    "                    self.head = new_node\n",
    "                n.pref = new_node\n",
    "                \n",
    "            "
   ]
  },
  {
   "cell_type": "code",
   "execution_count": 9,
   "id": "863b3187",
   "metadata": {},
   "outputs": [
    {
     "name": "stdout",
     "output_type": "stream",
     "text": [
      "50 --> 30 --> 20 --> 40 --> 5 --> \n",
      "<-- 5 <-- 40 <-- 20 <-- 30 <-- 50 "
     ]
    }
   ],
   "source": [
    "dl = DoubleLL()\n",
    "#dl.insert_empty(10)\n",
    "dl.add_begin(20)\n",
    "dl.add_begin(30)\n",
    "dl.add_end(5)\n",
    "dl.add_after(40,20)\n",
    "dl.add_before(50,30)\n",
    "dl.print_LL()\n",
    "dl.print_LL_reverse()"
   ]
  },
  {
   "cell_type": "code",
   "execution_count": 1,
   "id": "90a96640",
   "metadata": {},
   "outputs": [],
   "source": [
    "class Node:\n",
    "    def __init__(self,data):\n",
    "        self.data = data\n",
    "        self.nref = None\n",
    "        self.pref = None\n",
    "        \n",
    "class DoubleLL:\n",
    "    def __init__(self):\n",
    "        self.head = None\n",
    "    \n",
    "    def print_LL(self):\n",
    "        if self.head is None:\n",
    "            print(\"Double linked list is empty\")\n",
    "        else:\n",
    "            n = self.head\n",
    "            while n is not None:\n",
    "                print(n.data,\"-->\",end=\" \")\n",
    "                n = n.nref\n",
    "    \n",
    "    def print_LL_reverse(self):\n",
    "        print()\n",
    "        if self.head is None:\n",
    "            print(\"Double linked list is empty\")\n",
    "        else:\n",
    "            n = self.head\n",
    "            while n.nref is not None:\n",
    "                n = n.nref\n",
    "            while n is not None:\n",
    "                print(\"<--\",n.data,end=\" \")\n",
    "                n = n.pref\n",
    "    \n",
    "    def insert_empty(self,data):\n",
    "        if self.head is None:\n",
    "            new_node = Node(data)\n",
    "            self.head = new_node\n",
    "        else:\n",
    "            print('Linked list is not empty')\n",
    "            \n",
    "    def add_begin(self,data):\n",
    "        new_node = Node(data)\n",
    "        if self.head is None:\n",
    "            self.head = new_node\n",
    "        else:\n",
    "            new_node.nref = self.head\n",
    "            self.head.pref = new_node\n",
    "            self.head = new_node\n",
    "            \n",
    "    def add_end(self,data):\n",
    "        new_node = Node(data)\n",
    "        if self.head is None:\n",
    "            self.head = new_node\n",
    "        else:\n",
    "            n = self.head\n",
    "            while n.nref is not None:\n",
    "                n = n.nref\n",
    "            n.nref = new_node\n",
    "            new_node.pref = n\n",
    "    \n",
    "    def add_after(self,data,x):\n",
    "        if self.head is None:\n",
    "            print('given Linked list is empty')\n",
    "        else:\n",
    "            n = self.head\n",
    "            while n is not None:\n",
    "                if n.data == x:\n",
    "                    break\n",
    "                n = n.nref\n",
    "            if n is None:\n",
    "                print(\"Given node is not found in the DLL\")\n",
    "            else:\n",
    "                new_node = Node(data)\n",
    "                new_node.nref = n.nref\n",
    "                new_node.pref = n\n",
    "                if n.nref is not None:\n",
    "                    n.nref.pref = new_node\n",
    "                n.nref = new_node\n",
    "    \n",
    "    def add_before(self,data,x):\n",
    "        if self.head is None:\n",
    "            print('given Linked list is empty')\n",
    "        else:\n",
    "            n = self.head\n",
    "            while n is not None:\n",
    "                if n.data == x:\n",
    "                    break\n",
    "                n = n.nref\n",
    "            if n is None:\n",
    "                print(\"Given node is not found in the DLL\")\n",
    "            else:\n",
    "                new_node = Node(data)\n",
    "                new_node.nref = n\n",
    "                new_node.pref = n.pref\n",
    "                if n.pref is not None:\n",
    "                    n.pref.nref = new_node\n",
    "                else:\n",
    "                    self.head = new_node\n",
    "                n.pref = new_node\n",
    "                \n",
    "    def delete_begin(self):\n",
    "        if self.head is None:\n",
    "            print('DLL is empty linked list')\n",
    "            return\n",
    "        if self.head.nref is None:\n",
    "            self.head = None\n",
    "            print(\"DLL is empty after deleting this node\")\n",
    "        else:\n",
    "            self.head = self.head.nref\n",
    "            self.head.pref = None\n",
    "            \n",
    "    def delete_end(self):\n",
    "        if self.head is None:\n",
    "            print('DLL is empty linked list')\n",
    "            return\n",
    "        if self.head.nref is None:\n",
    "            self.head = None\n",
    "            print(\"DLL is empty after deleting this node\")\n",
    "        else:\n",
    "            n = self.head\n",
    "            while n.nref is not None:\n",
    "                n = n.nref\n",
    "            n.pref.nref = None\n",
    "    \n",
    "    def delete_by_value(self,x):\n",
    "        if self.head is None:\n",
    "            print('DLL is empty linked list')\n",
    "            return\n",
    "        if self.head.nref is None:\n",
    "            if self.head.data == x:\n",
    "                self.head = None\n",
    "            else:\n",
    "                print(\"Given node is not present in the DLL\")\n",
    "            return\n",
    "        if self.head.data == x:\n",
    "            self.head = self.head.nref\n",
    "            self.pref = None\n",
    "            return\n",
    "        n = self.head\n",
    "        while n.nref is not None:\n",
    "            if n.data == x:\n",
    "                break\n",
    "            n = n.nref\n",
    "        if n.nref is not None:\n",
    "            n.nref.pref = n.pref\n",
    "            n.pref.nref = n.nref\n",
    "        else:\n",
    "            if n.data == x:\n",
    "                n.pref.nref = None\n",
    "            else:\n",
    "                print('x is not present in dll')\n",
    "            "
   ]
  },
  {
   "cell_type": "code",
   "execution_count": 2,
   "id": "3ed5bf6e",
   "metadata": {},
   "outputs": [
    {
     "name": "stdout",
     "output_type": "stream",
     "text": [
      "40 --> 30 --> 20 --> \n",
      "<-- 20 <-- 40 "
     ]
    }
   ],
   "source": [
    "dl = DoubleLL()\n",
    "#dl.insert_empty(10)\n",
    "dl.add_begin(20)\n",
    "dl.add_begin(30)\n",
    "dl.add_begin(40)\n",
    "dl.print_LL()\n",
    "dl.delete_by_value(30)\n",
    "dl.print_LL_reverse()"
   ]
  },
  {
   "cell_type": "markdown",
   "id": "cae063c7",
   "metadata": {},
   "source": [
    "### Tree "
   ]
  },
  {
   "cell_type": "markdown",
   "id": "959a4942",
   "metadata": {},
   "source": [
    "- Node, Height,depth are important"
   ]
  },
  {
   "cell_type": "markdown",
   "id": "d6351c4d",
   "metadata": {},
   "source": [
    "### Binary Tree \n",
    "\n",
    "If a tree contain 0,1,2 childern then it is called Binary Tree\n",
    "\n",
    "  - Full Binary Tree\n",
    "  - Complete Binary Tree\n",
    "  - Perfect Binary Tree\n",
    "  - Balanced Binary Tree\n",
    "  - Degenarative/pathelogical Binary Tree"
   ]
  },
  {
   "cell_type": "markdown",
   "id": "7609527a",
   "metadata": {},
   "source": [
    "#### Full Binary Tree\n",
    "\n",
    " - the tree contains 0 or 2 nodes "
   ]
  },
  {
   "cell_type": "markdown",
   "id": "6407f7b3",
   "metadata": {},
   "source": [
    "#### complete binary tree"
   ]
  },
  {
   "cell_type": "markdown",
   "id": "349cb695",
   "metadata": {},
   "source": [
    "- it is binary tree but at last level data should be filled from left to right (if any element is left after full binary tree called completed binary tree)"
   ]
  },
  {
   "cell_type": "markdown",
   "id": "80c5e0cc",
   "metadata": {},
   "source": [
    "####  Perfect Binary Tree\n",
    "\n",
    " -  type of binary tree in which all the internal nodes contain 2 childern and all leaf nodes are present at same level\n",
    " \n",
    " \n",
    "####  Balanced Binary Tree\n",
    "\n",
    " - diff hight of left sub tree and height of right subtree  should be  =< 1\n",
    "\n",
    "  - \n"
   ]
  },
  {
   "cell_type": "markdown",
   "id": "73cab1a2",
   "metadata": {},
   "source": [
    "### Binary Search tree\n",
    "\n",
    "  - leftsubtree only should conatin the only nodes key lesser than node tree\n",
    "  - right subtree only shold contain only nodes with keys > node's key\n",
    "  - left subtree and right subtree each must also be BST\n",
    "  "
   ]
  },
  {
   "cell_type": "markdown",
   "id": "90ed2d86",
   "metadata": {},
   "source": [
    "   - duplicate values are not allowed\n",
    "   -  left <= root < right\n",
    "   - left < root <= right\n",
    "   "
   ]
  },
  {
   "cell_type": "markdown",
   "id": "c9155302",
   "metadata": {},
   "source": [
    "##### BST transveral \n",
    "\n",
    "__Pre-Order Trnasveral__\n",
    "  - visit the root node\n",
    "  - Transvering the left sub tree and finally\n",
    "  - trnasvering right sub tree(30,10,20)\n",
    "  \n",
    "__Post-Orderal Transveral__\n",
    "   \n",
    "   - Transvering the left subtree\n",
    "   - trnasvering right subtree\\\n",
    "   - visit the root node and finally\n",
    "\n",
    "\n",
    "\n",
    "__InOrder Transveral__\n",
    "\n",
    "   - Transvering the left subtree\n",
    "   - visit the root node and finally\n",
    "   - trnasvering right subtree\n",
    "   \n",
    "__Level_order__"
   ]
  },
  {
   "cell_type": "code",
   "execution_count": 1,
   "id": "5e7160ba",
   "metadata": {},
   "outputs": [],
   "source": [
    "class BST:\n",
    "    def __init__(self,key):\n",
    "        self.key = key\n",
    "        self.lchild = None\n",
    "        self.rchild = None"
   ]
  },
  {
   "cell_type": "code",
   "execution_count": 2,
   "id": "05beabb9",
   "metadata": {},
   "outputs": [
    {
     "name": "stdout",
     "output_type": "stream",
     "text": [
      "10\n",
      "None\n",
      "None\n"
     ]
    }
   ],
   "source": [
    "root = BST(10)\n",
    "print(root.key)\n",
    "print(root.lchild)\n",
    "print(root.rchild)"
   ]
  },
  {
   "cell_type": "code",
   "execution_count": 4,
   "id": "b06da0de",
   "metadata": {},
   "outputs": [],
   "source": [
    "class BST:\n",
    "    def __init__(self,key):\n",
    "        self.key = key\n",
    "        self.lchild = None\n",
    "        self.rchild = None\n",
    "        \n",
    "    def insert(self,data):\n",
    "        if self.key is None:\n",
    "            self.key = data\n",
    "            return\n",
    "        if self.key == data:\n",
    "            return\n",
    "        if self.key > data:\n",
    "            if self.lchild:\n",
    "                self.lchild.insert(data)\n",
    "            else:\n",
    "                self.lchild = BST(data)\n",
    "        else:\n",
    "            if self.rchild:\n",
    "                self.rchild.insert(data)\n",
    "            else:\n",
    "                self.rchild = BST(data)\n",
    "            "
   ]
  },
  {
   "cell_type": "code",
   "execution_count": 5,
   "id": "0f9c9f31",
   "metadata": {},
   "outputs": [],
   "source": [
    "root = BST(10)\n",
    "ls = [20,3,4,567,3]\n",
    "for i in ls:\n",
    "    root.insert(i)"
   ]
  },
  {
   "cell_type": "code",
   "execution_count": 8,
   "id": "c7fcff6d",
   "metadata": {},
   "outputs": [],
   "source": [
    "class BST:\n",
    "    def __init__(self,key):\n",
    "        self.key = key\n",
    "        self.lchild = None\n",
    "        self.rchild = None\n",
    "        \n",
    "    def insert(self,data):\n",
    "        if self.key is None:\n",
    "            self.key = data\n",
    "            return\n",
    "        if self.key == data:\n",
    "            return\n",
    "        if self.key > data:\n",
    "            if self.lchild:\n",
    "                self.lchild.insert(data)\n",
    "            else:\n",
    "                self.lchild = BST(data)\n",
    "        else:\n",
    "            if self.rchild:\n",
    "                self.rchild.insert(data)\n",
    "            else:\n",
    "                self.rchild = BST(data)\n",
    "    \n",
    "    def search(self,data):\n",
    "            if self.key == data:\n",
    "                print(\"Node is found\")\n",
    "                return\n",
    "            if data < self.key:\n",
    "                if self.lchild:\n",
    "                    self.lchild.search(data)\n",
    "                else:\n",
    "                    print(\"Node is not present in the tree\")\n",
    "            else:\n",
    "                if self.rchild:\n",
    "                    self.rchild.search(data)\n",
    "                else:\n",
    "                    print(\"Node is not found in the tree\")"
   ]
  },
  {
   "cell_type": "code",
   "execution_count": 10,
   "id": "c9a62e27",
   "metadata": {},
   "outputs": [
    {
     "name": "stdout",
     "output_type": "stream",
     "text": [
      "Node is found\n",
      "Node is not present in the tree\n"
     ]
    }
   ],
   "source": [
    "root = BST(10)\n",
    "ls = [20,3,4,567,3]\n",
    "for i in ls:\n",
    "    root.insert(i)\n",
    "\n",
    "root.search(3)\n",
    "root.search(30)"
   ]
  },
  {
   "cell_type": "code",
   "execution_count": 11,
   "id": "d34189c7",
   "metadata": {},
   "outputs": [],
   "source": [
    "class BST:\n",
    "    def __init__(self,key):\n",
    "        self.key = key\n",
    "        self.lchild = None\n",
    "        self.rchild = None\n",
    "        \n",
    "    def insert(self,data):\n",
    "        if self.key is None:\n",
    "            self.key = data\n",
    "            return\n",
    "        if self.key == data:\n",
    "            return\n",
    "        if self.key > data:\n",
    "            if self.lchild:\n",
    "                self.lchild.insert(data)\n",
    "            else:\n",
    "                self.lchild = BST(data)\n",
    "        else:\n",
    "            if self.rchild:\n",
    "                self.rchild.insert(data)\n",
    "            else:\n",
    "                self.rchild = BST(data)\n",
    "    \n",
    "    def search(self,data):\n",
    "            if self.key == data:\n",
    "                print(\"Node is found\")\n",
    "                return\n",
    "            if data < self.key:\n",
    "                if self.lchild:\n",
    "                    self.lchild.search(data)\n",
    "                else:\n",
    "                    print(\"Node is not present in the tree\")\n",
    "            else:\n",
    "                if self.rchild:\n",
    "                    self.rchild.search(data)\n",
    "                else:\n",
    "                    print(\"Node is not found in the tree\")\n",
    "        \n",
    "    def preorder(self):\n",
    "        #root-left-right\n",
    "        print(self.key)\n",
    "        if self.lchild:\n",
    "            self.lchild.preorder()\n",
    "        if self.rchild:\n",
    "            self.rchild.preorder()"
   ]
  },
  {
   "cell_type": "code",
   "execution_count": 13,
   "id": "075ab7ac",
   "metadata": {},
   "outputs": [
    {
     "name": "stdout",
     "output_type": "stream",
     "text": [
      "Node is found\n",
      "10\n",
      "3\n",
      "4\n",
      "5\n",
      "9\n",
      "20\n",
      "45\n"
     ]
    }
   ],
   "source": [
    "root = BST(10)\n",
    "ls = [20,3,4,5,3,9,45,3]\n",
    "for i in ls:\n",
    "    root.insert(i)\n",
    "\n",
    "root.search(3)\n",
    "root.preorder()"
   ]
  },
  {
   "cell_type": "code",
   "execution_count": 15,
   "id": "c5c9c1f9",
   "metadata": {},
   "outputs": [],
   "source": [
    "class BST:\n",
    "    def __init__(self,key):\n",
    "        self.key = key\n",
    "        self.lchild = None\n",
    "        self.rchild = None\n",
    "        \n",
    "    def insert(self,data):\n",
    "        if self.key is None:\n",
    "            self.key = data\n",
    "            return\n",
    "        if self.key == data:\n",
    "            return\n",
    "        if self.key > data:\n",
    "            if self.lchild:\n",
    "                self.lchild.insert(data)\n",
    "            else:\n",
    "                self.lchild = BST(data)\n",
    "        else:\n",
    "            if self.rchild:\n",
    "                self.rchild.insert(data)\n",
    "            else:\n",
    "                self.rchild = BST(data)\n",
    "    \n",
    "    def search(self,data):\n",
    "            if self.key == data:\n",
    "                print(\"Node is found\")\n",
    "                return\n",
    "            if data < self.key:\n",
    "                if self.lchild:\n",
    "                    self.lchild.search(data)\n",
    "                else:\n",
    "                    print(\"Node is not present in the tree\")\n",
    "            else:\n",
    "                if self.rchild:\n",
    "                    self.rchild.search(data)\n",
    "                else:\n",
    "                    print(\"Node is not found in the tree\")\n",
    "        \n",
    "    def preorder(self):\n",
    "        #root-left-right\n",
    "        print(self.key,end=\" \")\n",
    "        if self.lchild:\n",
    "            self.lchild.preorder()\n",
    "        if self.rchild:\n",
    "            self.rchild.preorder()\n",
    "    \n",
    "    def inorder(self):\n",
    "        #left-root-right\n",
    "        if self.lchild:\n",
    "            self.lchild.preorder()\n",
    "        print(self.key,end=\" \")\n",
    "        if self.rchild:\n",
    "            self.rchild.preorder()\n",
    "\n",
    "    def postorder(self):\n",
    "        #left-right-root\n",
    "        if self.lchild:\n",
    "            self.lchild.preorder()\n",
    "        if self.rchild:\n",
    "            self.rchild.preorder()\n",
    "        print(self.key,end=\" \")\n",
    "        "
   ]
  },
  {
   "cell_type": "code",
   "execution_count": 17,
   "id": "d7190fa9",
   "metadata": {},
   "outputs": [
    {
     "name": "stdout",
     "output_type": "stream",
     "text": [
      "Node is found\n",
      "10 3 4 5 9 20 45 \n",
      "3 4 5 9 10 20 45 \n",
      "3 4 5 9 20 45 10 "
     ]
    }
   ],
   "source": [
    "root = BST(10)\n",
    "ls = [20,3,4,5,3,9,45,3]\n",
    "for i in ls:\n",
    "    root.insert(i)\n",
    "\n",
    "root.search(3)\n",
    "root.preorder()\n",
    "print()\n",
    "root.inorder()\n",
    "print()\n",
    "root.postorder()"
   ]
  },
  {
   "cell_type": "code",
   "execution_count": 10,
   "id": "8c961833",
   "metadata": {},
   "outputs": [],
   "source": [
    "class BST:\n",
    "    def __init__(self,key):\n",
    "        self.key = key\n",
    "        self.lchild = None\n",
    "        self.rchild = None\n",
    "        \n",
    "    def insert(self,data):\n",
    "        if self.key is None:\n",
    "            self.key = data\n",
    "            return\n",
    "        if self.key == data:\n",
    "            return\n",
    "        if self.key > data:\n",
    "            if self.lchild:\n",
    "                self.lchild.insert(data)\n",
    "            else:\n",
    "                self.lchild = BST(data)\n",
    "        else:\n",
    "            if self.rchild:\n",
    "                self.rchild.insert(data)\n",
    "            else:\n",
    "                self.rchild = BST(data)\n",
    "    \n",
    "    def search(self,data):\n",
    "            if self.key == data:\n",
    "                print(\"Node is found\")\n",
    "                return\n",
    "            if data < self.key:\n",
    "                if self.lchild:\n",
    "                    self.lchild.search(data)\n",
    "                else:\n",
    "                    print(\"Node is not present in the tree\")\n",
    "            else:\n",
    "                if self.rchild:\n",
    "                    self.rchild.search(data)\n",
    "                else:\n",
    "                    print(\"Node is not found in the tree\")\n",
    "        \n",
    "    def preorder(self):\n",
    "        #root-left-right\n",
    "        print(self.key,end=\" \")\n",
    "        if self.lchild:\n",
    "            self.lchild.preorder()\n",
    "        if self.rchild:\n",
    "            self.rchild.preorder()\n",
    "    \n",
    "    def inorder(self):\n",
    "        #left-root-right\n",
    "        if self.lchild:\n",
    "            self.lchild.preorder()\n",
    "        print(self.key,end=\" \")\n",
    "        if self.rchild:\n",
    "            self.rchild.preorder()\n",
    "\n",
    "    def postorder(self):\n",
    "        #left-right-root\n",
    "        if self.lchild:\n",
    "            self.lchild.preorder()\n",
    "        if self.rchild:\n",
    "            self.rchild.preorder()\n",
    "        print(self.key,end=\" \")\n",
    "        \n",
    "    def delete(self,data):\n",
    "        if self.key is None:\n",
    "            print(\"Tree is Empty\")\n",
    "            return\n",
    "        if data < self.key:\n",
    "            if self.lchild:\n",
    "                self.lchild = self.lchild.delete(data)\n",
    "            else:\n",
    "                print(\"Given Node is not present in the Tree\")\n",
    "                \n",
    "        elif data> self.key:\n",
    "            if self.rchild:\n",
    "                self.rchild = self.rchild.delete(data)\n",
    "            else:\n",
    "                print(\"Given Node is not present in the Tree\")\n",
    "        else:\n",
    "            if self.lchild is None:\n",
    "                temp = self.rchild\n",
    "                self = None\n",
    "                return temp\n",
    "            if self.rchild is None:\n",
    "                temp = self.lchild\n",
    "                self = None\n",
    "                return temp\n",
    "            node = self.rchild\n",
    "            while node.lchild:\n",
    "                node = node.lchild\n",
    "            self.key = node.key\n",
    "            self.rchild = self.rchild.delete(node.key)\n",
    "        return self\n",
    "    \n",
    "    def min_node(self):\n",
    "        current = self\n",
    "        while current.lchild:\n",
    "            current = current.lchild\n",
    "        print(\"Node with smallest key is: \",current.key)\n",
    "        \n",
    "    def max_node(self):\n",
    "        current = self\n",
    "        while current.rchild:\n",
    "            current = current.rchild\n",
    "        print(\"Node with maximum key is: \",current.key)\n",
    "    \n",
    "    \n",
    "def count(node):\n",
    "    if node is None:\n",
    "        return 0\n",
    "    return 1+ count(node.lchild)+count(node.rchild)    "
   ]
  },
  {
   "cell_type": "code",
   "execution_count": 11,
   "id": "c52b2f6a",
   "metadata": {},
   "outputs": [
    {
     "name": "stdout",
     "output_type": "stream",
     "text": [
      "Node is found\n",
      "10 3 4 5 9 20 45 87 \n",
      "3 4 5 9 10 20 45 87 \n",
      "3 4 5 9 20 45 87 10 \n",
      "Node with smallest key is:  3\n",
      "Node with maximum key is:  87\n"
     ]
    }
   ],
   "source": [
    "root = BST(10)\n",
    "ls = [20,3,4,5,3,9,45,3,87]\n",
    "for i in ls:\n",
    "    root.insert(i)\n",
    "\n",
    "root.search(3)\n",
    "root.preorder()\n",
    "print()\n",
    "root.inorder()\n",
    "print()\n",
    "root.postorder()\n",
    "count(root)\n",
    "print()\n",
    "root.min_node()\n",
    "root.max_node()"
   ]
  },
  {
   "cell_type": "code",
   "execution_count": 3,
   "id": "b6ed77a9",
   "metadata": {},
   "outputs": [
    {
     "name": "stdout",
     "output_type": "stream",
     "text": [
      "3 4 5 9 10 20 45 "
     ]
    }
   ],
   "source": [
    "root.delete(87)\n",
    "root.inorder()"
   ]
  },
  {
   "cell_type": "markdown",
   "id": "21e20939",
   "metadata": {},
   "source": [
    "## Heap Datastructure\n",
    "\n",
    " - Binary Heap\n",
    " - Binomial Heap\n",
    " - Fibonacci Heap"
   ]
  },
  {
   "cell_type": "markdown",
   "id": "257f4135",
   "metadata": {},
   "source": [
    "#### Binary Heap \n",
    "\n",
    " -  Complete Binary tree which satisfies the Heap property \n",
    " \n",
    " \n",
    "##### Heapify \n",
    "  - It is process of rearranging elements of heap in order to maintain heap property"
   ]
  },
  {
   "cell_type": "code",
   "execution_count": 12,
   "id": "53cbeff0",
   "metadata": {},
   "outputs": [
    {
     "data": {
      "text/plain": [
       "[1, 10, 5]"
      ]
     },
     "execution_count": 12,
     "metadata": {},
     "output_type": "execute_result"
    }
   ],
   "source": [
    "import heapq\n",
    "\n",
    "heap = []\n",
    "heapq.heappush(heap,10)\n",
    "heapq.heappush(heap,1)\n",
    "heapq.heappush(heap,5)\n",
    "heap"
   ]
  },
  {
   "cell_type": "code",
   "execution_count": 13,
   "id": "e886941b",
   "metadata": {},
   "outputs": [
    {
     "data": {
      "text/plain": [
       "1"
      ]
     },
     "execution_count": 13,
     "metadata": {},
     "output_type": "execute_result"
    }
   ],
   "source": [
    "heapq.heappop(heap)"
   ]
  },
  {
   "cell_type": "code",
   "execution_count": 14,
   "id": "7d3caa85",
   "metadata": {},
   "outputs": [
    {
     "data": {
      "text/plain": [
       "[5, 10]"
      ]
     },
     "execution_count": 14,
     "metadata": {},
     "output_type": "execute_result"
    }
   ],
   "source": [
    "heap"
   ]
  },
  {
   "cell_type": "code",
   "execution_count": 15,
   "id": "9d9390de",
   "metadata": {},
   "outputs": [],
   "source": [
    "list1 = [1,5,6,3,7,8,7,9]\n",
    "heapq.heapify(list1)"
   ]
  },
  {
   "cell_type": "code",
   "execution_count": 16,
   "id": "f127baba",
   "metadata": {},
   "outputs": [
    {
     "data": {
      "text/plain": [
       "[1, 3, 6, 5, 7, 8, 7, 9]"
      ]
     },
     "execution_count": 16,
     "metadata": {},
     "output_type": "execute_result"
    }
   ],
   "source": [
    "list1"
   ]
  },
  {
   "cell_type": "code",
   "execution_count": 17,
   "id": "dd00099f",
   "metadata": {},
   "outputs": [
    {
     "data": {
      "text/plain": [
       "1"
      ]
     },
     "execution_count": 17,
     "metadata": {},
     "output_type": "execute_result"
    }
   ],
   "source": [
    "heapq.heappushpop(list1,77)"
   ]
  },
  {
   "cell_type": "code",
   "execution_count": 18,
   "id": "97e6153b",
   "metadata": {},
   "outputs": [
    {
     "data": {
      "text/plain": [
       "[3, 5, 6, 9, 7, 8, 7, 77]"
      ]
     },
     "execution_count": 18,
     "metadata": {},
     "output_type": "execute_result"
    }
   ],
   "source": [
    "list1"
   ]
  },
  {
   "cell_type": "code",
   "execution_count": 19,
   "id": "75ea912a",
   "metadata": {},
   "outputs": [
    {
     "data": {
      "text/plain": [
       "[5, 7, 6, 9, 100, 8, 7, 77]"
      ]
     },
     "execution_count": 19,
     "metadata": {},
     "output_type": "execute_result"
    }
   ],
   "source": [
    "heapq.heapreplace(list1,100)\n",
    "list1"
   ]
  },
  {
   "cell_type": "code",
   "execution_count": 20,
   "id": "aa07db13",
   "metadata": {},
   "outputs": [
    {
     "data": {
      "text/plain": [
       "[5, 6]"
      ]
     },
     "execution_count": 20,
     "metadata": {},
     "output_type": "execute_result"
    }
   ],
   "source": [
    "heapq.nsmallest(2,list1)"
   ]
  },
  {
   "cell_type": "code",
   "execution_count": null,
   "id": "ccc54307",
   "metadata": {},
   "outputs": [],
   "source": []
  }
 ],
 "metadata": {
  "kernelspec": {
   "display_name": "Python 3 (ipykernel)",
   "language": "python",
   "name": "python3"
  },
  "language_info": {
   "codemirror_mode": {
    "name": "ipython",
    "version": 3
   },
   "file_extension": ".py",
   "mimetype": "text/x-python",
   "name": "python",
   "nbconvert_exporter": "python",
   "pygments_lexer": "ipython3",
   "version": "3.9.13"
  }
 },
 "nbformat": 4,
 "nbformat_minor": 5
}
