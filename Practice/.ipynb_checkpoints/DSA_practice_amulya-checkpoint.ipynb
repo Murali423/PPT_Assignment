{
 "cells": [
  {
   "cell_type": "markdown",
   "id": "e94f9c2f",
   "metadata": {},
   "source": [
    "# DSA"
   ]
  },
  {
   "cell_type": "markdown",
   "id": "efc13c5b",
   "metadata": {},
   "source": [
    "#### We have 2 types of data structure\n",
    "\n",
    "  1. Built-in Data Structure\n",
    "    - List\n",
    "    - Tuple\n",
    "    - set\n",
    "    - Dictonary\n",
    "   \n",
    "  2. User Defined Data Structure\n",
    "     - stack\n",
    "     - queue\n",
    "     - Linked List\n",
    "     - Tree\n",
    "     - graph"
   ]
  },
  {
   "cell_type": "markdown",
   "id": "9873bb26",
   "metadata": {},
   "source": [
    "#### Stack"
   ]
  },
  {
   "cell_type": "markdown",
   "id": "f85e009b",
   "metadata": {},
   "source": [
    "__Main Operation perfomed in the stack:__\n",
    " \n",
    "   - push\n",
    "   - pop\n",
    "   - peak or top\n",
    "   - isEmpty"
   ]
  },
  {
   "cell_type": "markdown",
   "id": "37d807a8",
   "metadata": {},
   "source": [
    "#### implent stack using \n",
    "\n",
    "  - list\n",
    "  \n",
    "  - built in library\n",
    "  \n",
    " Stack works on LIFO priciple"
   ]
  },
  {
   "cell_type": "code",
   "execution_count": 1,
   "id": "94f5c191",
   "metadata": {},
   "outputs": [
    {
     "data": {
      "text/plain": [
       "[10, 20, 3]"
      ]
     },
     "execution_count": 1,
     "metadata": {},
     "output_type": "execute_result"
    }
   ],
   "source": [
    "## using list (append--> push, pop--> pop)\n",
    "stack = []\n",
    "stack.append(10)\n",
    "stack.append(20)\n",
    "stack.append(3)\n",
    "\n",
    "stack"
   ]
  },
  {
   "cell_type": "code",
   "execution_count": 2,
   "id": "89f0e13d",
   "metadata": {},
   "outputs": [
    {
     "data": {
      "text/plain": [
       "3"
      ]
     },
     "execution_count": 2,
     "metadata": {},
     "output_type": "execute_result"
    }
   ],
   "source": [
    "stack.pop()"
   ]
  },
  {
   "cell_type": "code",
   "execution_count": 3,
   "id": "a3511159",
   "metadata": {},
   "outputs": [
    {
     "data": {
      "text/plain": [
       "20"
      ]
     },
     "execution_count": 3,
     "metadata": {},
     "output_type": "execute_result"
    }
   ],
   "source": [
    "stack.pop()"
   ]
  },
  {
   "cell_type": "code",
   "execution_count": 4,
   "id": "b519f42b",
   "metadata": {},
   "outputs": [
    {
     "data": {
      "text/plain": [
       "10"
      ]
     },
     "execution_count": 4,
     "metadata": {},
     "output_type": "execute_result"
    }
   ],
   "source": [
    "stack.pop()"
   ]
  },
  {
   "cell_type": "code",
   "execution_count": 5,
   "id": "1779ed9c",
   "metadata": {},
   "outputs": [
    {
     "ename": "IndexError",
     "evalue": "pop from empty list",
     "output_type": "error",
     "traceback": [
      "\u001b[1;31m---------------------------------------------------------------------------\u001b[0m",
      "\u001b[1;31mIndexError\u001b[0m                                Traceback (most recent call last)",
      "\u001b[1;32m~\\AppData\\Local\\Temp\\ipykernel_17864\\2667379430.py\u001b[0m in \u001b[0;36m<module>\u001b[1;34m\u001b[0m\n\u001b[1;32m----> 1\u001b[1;33m \u001b[0mstack\u001b[0m\u001b[1;33m.\u001b[0m\u001b[0mpop\u001b[0m\u001b[1;33m(\u001b[0m\u001b[1;33m)\u001b[0m\u001b[1;33m\u001b[0m\u001b[1;33m\u001b[0m\u001b[0m\n\u001b[0m",
      "\u001b[1;31mIndexError\u001b[0m: pop from empty list"
     ]
    }
   ],
   "source": [
    "stack.pop()"
   ]
  },
  {
   "cell_type": "code",
   "execution_count": 6,
   "id": "8258aa73",
   "metadata": {},
   "outputs": [
    {
     "data": {
      "text/plain": [
       "True"
      ]
     },
     "execution_count": 6,
     "metadata": {},
     "output_type": "execute_result"
    }
   ],
   "source": [
    "#check given list is empty or not\n",
    "len(stack) == 0 \n"
   ]
  },
  {
   "cell_type": "code",
   "execution_count": 9,
   "id": "3cbfa122",
   "metadata": {},
   "outputs": [
    {
     "data": {
      "text/plain": [
       "deque([])"
      ]
     },
     "execution_count": 9,
     "metadata": {},
     "output_type": "execute_result"
    }
   ],
   "source": [
    "#stack implementaion using collections deque\n",
    "import collections \n",
    "stack = collections.deque()\n",
    "stack"
   ]
  },
  {
   "cell_type": "code",
   "execution_count": 11,
   "id": "2ebe4acd",
   "metadata": {},
   "outputs": [
    {
     "data": {
      "text/plain": [
       "deque([10])"
      ]
     },
     "execution_count": 11,
     "metadata": {},
     "output_type": "execute_result"
    }
   ],
   "source": [
    "stack.append(10)\n",
    "stack"
   ]
  },
  {
   "cell_type": "code",
   "execution_count": 12,
   "id": "5ef91875",
   "metadata": {},
   "outputs": [
    {
     "data": {
      "text/plain": [
       "deque([10, 20, 30, 40])"
      ]
     },
     "execution_count": 12,
     "metadata": {},
     "output_type": "execute_result"
    }
   ],
   "source": [
    "stack.append(20)\n",
    "stack.append(30)\n",
    "stack.append(40)\n",
    "stack"
   ]
  },
  {
   "cell_type": "code",
   "execution_count": 13,
   "id": "99441418",
   "metadata": {},
   "outputs": [
    {
     "data": {
      "text/plain": [
       "deque([10, 20, 30])"
      ]
     },
     "execution_count": 13,
     "metadata": {},
     "output_type": "execute_result"
    }
   ],
   "source": [
    "stack.pop()\n",
    "stack"
   ]
  },
  {
   "cell_type": "code",
   "execution_count": 15,
   "id": "7045766c",
   "metadata": {},
   "outputs": [
    {
     "data": {
      "text/plain": [
       "deque([])"
      ]
     },
     "execution_count": 15,
     "metadata": {},
     "output_type": "execute_result"
    }
   ],
   "source": [
    "s = collections.deque()\n",
    "s"
   ]
  },
  {
   "cell_type": "code",
   "execution_count": 16,
   "id": "a235b079",
   "metadata": {},
   "outputs": [
    {
     "data": {
      "text/plain": [
       "True"
      ]
     },
     "execution_count": 16,
     "metadata": {},
     "output_type": "execute_result"
    }
   ],
   "source": [
    "not s"
   ]
  },
  {
   "cell_type": "code",
   "execution_count": 1,
   "id": "350a11db",
   "metadata": {},
   "outputs": [
    {
     "data": {
      "text/plain": [
       "<queue.LifoQueue at 0x1faff585f70>"
      ]
     },
     "execution_count": 1,
     "metadata": {},
     "output_type": "execute_result"
    }
   ],
   "source": [
    "import queue\n",
    "s = queue.LifoQueue()\n",
    "s"
   ]
  },
  {
   "cell_type": "code",
   "execution_count": 2,
   "id": "86e4efe5",
   "metadata": {},
   "outputs": [],
   "source": [
    "s.put(10)\n",
    "s.put(20)\n",
    "s.put(30)\n",
    "s.put(40)\n"
   ]
  },
  {
   "cell_type": "code",
   "execution_count": 3,
   "id": "8c5426dd",
   "metadata": {},
   "outputs": [
    {
     "data": {
      "text/plain": [
       "<queue.LifoQueue at 0x1faff585f70>"
      ]
     },
     "execution_count": 3,
     "metadata": {},
     "output_type": "execute_result"
    }
   ],
   "source": [
    "s"
   ]
  },
  {
   "cell_type": "code",
   "execution_count": 4,
   "id": "3d4ed7a6",
   "metadata": {},
   "outputs": [
    {
     "data": {
      "text/plain": [
       "40"
      ]
     },
     "execution_count": 4,
     "metadata": {},
     "output_type": "execute_result"
    }
   ],
   "source": [
    "s.get()"
   ]
  },
  {
   "cell_type": "code",
   "execution_count": 5,
   "id": "6f4444f7",
   "metadata": {},
   "outputs": [
    {
     "data": {
      "text/plain": [
       "30"
      ]
     },
     "execution_count": 5,
     "metadata": {},
     "output_type": "execute_result"
    }
   ],
   "source": [
    "s.get()"
   ]
  },
  {
   "cell_type": "code",
   "execution_count": 6,
   "id": "67e57bb3",
   "metadata": {},
   "outputs": [
    {
     "data": {
      "text/plain": [
       "20"
      ]
     },
     "execution_count": 6,
     "metadata": {},
     "output_type": "execute_result"
    }
   ],
   "source": [
    "s.get()"
   ]
  },
  {
   "cell_type": "code",
   "execution_count": 7,
   "id": "43bd4150",
   "metadata": {},
   "outputs": [
    {
     "data": {
      "text/plain": [
       "10"
      ]
     },
     "execution_count": 7,
     "metadata": {},
     "output_type": "execute_result"
    }
   ],
   "source": [
    "s.get()"
   ]
  },
  {
   "cell_type": "code",
   "execution_count": 8,
   "id": "5a12be4c",
   "metadata": {},
   "outputs": [
    {
     "ename": "Empty",
     "evalue": "",
     "output_type": "error",
     "traceback": [
      "\u001b[1;31m---------------------------------------------------------------------------\u001b[0m",
      "\u001b[1;31mEmpty\u001b[0m                                     Traceback (most recent call last)",
      "\u001b[1;32m~\\AppData\\Local\\Temp\\ipykernel_14432\\3405856074.py\u001b[0m in \u001b[0;36m<module>\u001b[1;34m\u001b[0m\n\u001b[1;32m----> 1\u001b[1;33m \u001b[0ms\u001b[0m\u001b[1;33m.\u001b[0m\u001b[0mget\u001b[0m\u001b[1;33m(\u001b[0m\u001b[0mtimeout\u001b[0m\u001b[1;33m=\u001b[0m\u001b[1;36m1\u001b[0m\u001b[1;33m)\u001b[0m\u001b[1;33m\u001b[0m\u001b[1;33m\u001b[0m\u001b[0m\n\u001b[0m",
      "\u001b[1;32m~\\anaconda3\\lib\\queue.py\u001b[0m in \u001b[0;36mget\u001b[1;34m(self, block, timeout)\u001b[0m\n\u001b[0;32m    177\u001b[0m                     \u001b[0mremaining\u001b[0m \u001b[1;33m=\u001b[0m \u001b[0mendtime\u001b[0m \u001b[1;33m-\u001b[0m \u001b[0mtime\u001b[0m\u001b[1;33m(\u001b[0m\u001b[1;33m)\u001b[0m\u001b[1;33m\u001b[0m\u001b[1;33m\u001b[0m\u001b[0m\n\u001b[0;32m    178\u001b[0m                     \u001b[1;32mif\u001b[0m \u001b[0mremaining\u001b[0m \u001b[1;33m<=\u001b[0m \u001b[1;36m0.0\u001b[0m\u001b[1;33m:\u001b[0m\u001b[1;33m\u001b[0m\u001b[1;33m\u001b[0m\u001b[0m\n\u001b[1;32m--> 179\u001b[1;33m                         \u001b[1;32mraise\u001b[0m \u001b[0mEmpty\u001b[0m\u001b[1;33m\u001b[0m\u001b[1;33m\u001b[0m\u001b[0m\n\u001b[0m\u001b[0;32m    180\u001b[0m                     \u001b[0mself\u001b[0m\u001b[1;33m.\u001b[0m\u001b[0mnot_empty\u001b[0m\u001b[1;33m.\u001b[0m\u001b[0mwait\u001b[0m\u001b[1;33m(\u001b[0m\u001b[0mremaining\u001b[0m\u001b[1;33m)\u001b[0m\u001b[1;33m\u001b[0m\u001b[1;33m\u001b[0m\u001b[0m\n\u001b[0;32m    181\u001b[0m             \u001b[0mitem\u001b[0m \u001b[1;33m=\u001b[0m \u001b[0mself\u001b[0m\u001b[1;33m.\u001b[0m\u001b[0m_get\u001b[0m\u001b[1;33m(\u001b[0m\u001b[1;33m)\u001b[0m\u001b[1;33m\u001b[0m\u001b[1;33m\u001b[0m\u001b[0m\n",
      "\u001b[1;31mEmpty\u001b[0m: "
     ]
    }
   ],
   "source": [
    "s.get(timeout=1)"
   ]
  },
  {
   "cell_type": "markdown",
   "id": "0dffef19",
   "metadata": {},
   "source": [
    "### Queue"
   ]
  },
  {
   "cell_type": "markdown",
   "id": "06e863ec",
   "metadata": {},
   "source": [
    "#the process of adding elementes is called ENQUEUE and removing elements is called DEQUE\n",
    "\n",
    " - Enqueue\n",
    " - Dequeue\n",
    " - isFill\n",
    " - isEmpty\n",
    " \n"
   ]
  },
  {
   "cell_type": "code",
   "execution_count": 10,
   "id": "114a713f",
   "metadata": {},
   "outputs": [
    {
     "data": {
      "text/plain": [
       "[1, 2]"
      ]
     },
     "execution_count": 10,
     "metadata": {},
     "output_type": "execute_result"
    }
   ],
   "source": [
    "queue = []\n",
    "queue.append(1)\n",
    "queue.append(2)\n",
    "queue"
   ]
  },
  {
   "cell_type": "code",
   "execution_count": 11,
   "id": "98e0a991",
   "metadata": {},
   "outputs": [
    {
     "data": {
      "text/plain": [
       "1"
      ]
     },
     "execution_count": 11,
     "metadata": {},
     "output_type": "execute_result"
    }
   ],
   "source": [
    "queue.pop(0)"
   ]
  },
  {
   "cell_type": "code",
   "execution_count": 12,
   "id": "7606aebc",
   "metadata": {},
   "outputs": [
    {
     "data": {
      "text/plain": [
       "2"
      ]
     },
     "execution_count": 12,
     "metadata": {},
     "output_type": "execute_result"
    }
   ],
   "source": [
    "queue.pop(0)"
   ]
  },
  {
   "cell_type": "code",
   "execution_count": 13,
   "id": "e33be31c",
   "metadata": {},
   "outputs": [
    {
     "ename": "IndexError",
     "evalue": "pop from empty list",
     "output_type": "error",
     "traceback": [
      "\u001b[1;31m---------------------------------------------------------------------------\u001b[0m",
      "\u001b[1;31mIndexError\u001b[0m                                Traceback (most recent call last)",
      "\u001b[1;32m~\\AppData\\Local\\Temp\\ipykernel_14432\\1474057533.py\u001b[0m in \u001b[0;36m<module>\u001b[1;34m\u001b[0m\n\u001b[1;32m----> 1\u001b[1;33m \u001b[0mqueue\u001b[0m\u001b[1;33m.\u001b[0m\u001b[0mpop\u001b[0m\u001b[1;33m(\u001b[0m\u001b[1;36m0\u001b[0m\u001b[1;33m)\u001b[0m\u001b[1;33m\u001b[0m\u001b[1;33m\u001b[0m\u001b[0m\n\u001b[0m",
      "\u001b[1;31mIndexError\u001b[0m: pop from empty list"
     ]
    }
   ],
   "source": [
    "queue.pop(0)"
   ]
  },
  {
   "cell_type": "code",
   "execution_count": 14,
   "id": "36b809e4",
   "metadata": {},
   "outputs": [
    {
     "data": {
      "text/plain": [
       "deque([])"
      ]
     },
     "execution_count": 14,
     "metadata": {},
     "output_type": "execute_result"
    }
   ],
   "source": [
    "## using Library\n",
    "import collections\n",
    "q = collections.deque()\n",
    "q"
   ]
  },
  {
   "cell_type": "code",
   "execution_count": 15,
   "id": "698372f0",
   "metadata": {},
   "outputs": [
    {
     "data": {
      "text/plain": [
       "deque([30, 20, 10])"
      ]
     },
     "execution_count": 15,
     "metadata": {},
     "output_type": "execute_result"
    }
   ],
   "source": [
    "q.appendleft(10)\n",
    "q.appendleft(20)\n",
    "q.appendleft(30)\n",
    "q"
   ]
  },
  {
   "cell_type": "code",
   "execution_count": 16,
   "id": "59c0da9c",
   "metadata": {},
   "outputs": [
    {
     "data": {
      "text/plain": [
       "20"
      ]
     },
     "execution_count": 16,
     "metadata": {},
     "output_type": "execute_result"
    }
   ],
   "source": [
    "q.pop()\n",
    "q.pop()"
   ]
  },
  {
   "cell_type": "code",
   "execution_count": 1,
   "id": "b22bb0be",
   "metadata": {},
   "outputs": [],
   "source": [
    "import collections\n",
    "w = collections.deque()\n",
    "w.append(10)\n",
    "w.append(20)\n",
    "w.append(30)"
   ]
  },
  {
   "cell_type": "code",
   "execution_count": 2,
   "id": "28cc0913",
   "metadata": {},
   "outputs": [
    {
     "data": {
      "text/plain": [
       "deque([10, 20, 30])"
      ]
     },
     "execution_count": 2,
     "metadata": {},
     "output_type": "execute_result"
    }
   ],
   "source": [
    "w"
   ]
  },
  {
   "cell_type": "code",
   "execution_count": 3,
   "id": "7ad1fe38",
   "metadata": {},
   "outputs": [
    {
     "data": {
      "text/plain": [
       "10"
      ]
     },
     "execution_count": 3,
     "metadata": {},
     "output_type": "execute_result"
    }
   ],
   "source": [
    "w.popleft()"
   ]
  },
  {
   "cell_type": "code",
   "execution_count": 4,
   "id": "b0cf0647",
   "metadata": {},
   "outputs": [
    {
     "data": {
      "text/plain": [
       "20"
      ]
     },
     "execution_count": 4,
     "metadata": {},
     "output_type": "execute_result"
    }
   ],
   "source": [
    "w.popleft()"
   ]
  },
  {
   "cell_type": "code",
   "execution_count": 5,
   "id": "3362a22f",
   "metadata": {},
   "outputs": [
    {
     "data": {
      "text/plain": [
       "30"
      ]
     },
     "execution_count": 5,
     "metadata": {},
     "output_type": "execute_result"
    }
   ],
   "source": [
    "w.popleft()"
   ]
  },
  {
   "cell_type": "code",
   "execution_count": 6,
   "id": "05fd971b",
   "metadata": {},
   "outputs": [
    {
     "ename": "IndexError",
     "evalue": "pop from an empty deque",
     "output_type": "error",
     "traceback": [
      "\u001b[1;31m---------------------------------------------------------------------------\u001b[0m",
      "\u001b[1;31mIndexError\u001b[0m                                Traceback (most recent call last)",
      "\u001b[1;32m~\\AppData\\Local\\Temp\\ipykernel_15172\\2521363166.py\u001b[0m in \u001b[0;36m<module>\u001b[1;34m\u001b[0m\n\u001b[1;32m----> 1\u001b[1;33m \u001b[0mw\u001b[0m\u001b[1;33m.\u001b[0m\u001b[0mpopleft\u001b[0m\u001b[1;33m(\u001b[0m\u001b[1;33m)\u001b[0m\u001b[1;33m\u001b[0m\u001b[1;33m\u001b[0m\u001b[0m\n\u001b[0m",
      "\u001b[1;31mIndexError\u001b[0m: pop from an empty deque"
     ]
    }
   ],
   "source": [
    "w.popleft()"
   ]
  },
  {
   "cell_type": "code",
   "execution_count": 8,
   "id": "cf36366b",
   "metadata": {},
   "outputs": [
    {
     "data": {
      "text/plain": [
       "True"
      ]
     },
     "execution_count": 8,
     "metadata": {},
     "output_type": "execute_result"
    }
   ],
   "source": [
    "not w"
   ]
  },
  {
   "cell_type": "markdown",
   "id": "941f2734",
   "metadata": {},
   "source": [
    "### Linked List"
   ]
  },
  {
   "cell_type": "markdown",
   "id": "4a43ef09",
   "metadata": {},
   "source": [
    "__linked list are of 3 types__\n",
    "\n",
    " - single Linked list\n",
    " - double Linked list\n",
    " - circular Linked List"
   ]
  },
  {
   "cell_type": "markdown",
   "id": "01a51b0d",
   "metadata": {},
   "source": [
    "#### Single Linked List"
   ]
  },
  {
   "cell_type": "markdown",
   "id": "abe52169",
   "metadata": {},
   "source": [
    "# Operation in SLL are 1.add ,2.Delete and 3.transvral\n",
    "\n",
    "# add| insersion at 1.head 2.tail 3. Inbetween\n"
   ]
  },
  {
   "cell_type": "markdown",
   "id": "5eba8a2a",
   "metadata": {},
   "source": [
    "__Addition of nodes in the SLL at start__\n",
    "\n",
    "  -  Create node\n",
    "  - Change new node next=head\n",
    "  - change the head to new node\n",
    "  \n",
    "__Addition of nodes in the SLL at end__\n",
    "\n",
    "  -  Create node\n",
    "  -  Go to last node\n",
    "  - change the last to new node\n",
    "  \n",
    "__Addition of nodes in the SLL at inbetween__\n",
    "\n",
    "  -  Create node\n",
    "  -  go to node which require postion\n",
    "  -  x.ref = new node ref\n",
    "     z.ref = y ref"
   ]
  },
  {
   "cell_type": "code",
   "execution_count": 3,
   "id": "d3465460",
   "metadata": {},
   "outputs": [
    {
     "name": "stdout",
     "output_type": "stream",
     "text": [
      "Linked list is empty\n"
     ]
    }
   ],
   "source": [
    "class Node:\n",
    "    def __init__(self,data):\n",
    "        self.data =  data\n",
    "        self.ref = None\n",
    "class LinkedList:\n",
    "    def __init__(self):\n",
    "        self.head = None\n",
    "        \n",
    "    def print_linkedlist(self):\n",
    "        if self.head == None:\n",
    "            print(\"Linked list is empty\")\n",
    "        else:\n",
    "            n = self.head\n",
    "            while n is not None:\n",
    "                print(n.data)\n",
    "                n = n.ref\n",
    "l = LinkedList()\n",
    "l.print_linkedlist()"
   ]
  },
  {
   "cell_type": "code",
   "execution_count": 4,
   "id": "8029bae7",
   "metadata": {},
   "outputs": [],
   "source": [
    "class Node:\n",
    "    def __init__(self,data):\n",
    "        self.data =  data\n",
    "        self.ref = None\n",
    "class LinkedList:\n",
    "    def __init__(self):\n",
    "        self.head = None\n",
    "        \n",
    "    def print_linkedlist(self):\n",
    "        if self.head == None:\n",
    "            print(\"Linked list is empty\")\n",
    "        else:\n",
    "            n = self.head\n",
    "            while n is not None:\n",
    "                print(n.data)\n",
    "                n = n.ref\n",
    "    def add_data(self,data):\n",
    "        new_node = Node(data)\n",
    "        new_node.ref = self.head\n",
    "        self.head = new_node"
   ]
  },
  {
   "cell_type": "code",
   "execution_count": 5,
   "id": "0108b522",
   "metadata": {},
   "outputs": [
    {
     "name": "stdout",
     "output_type": "stream",
     "text": [
      "20\n",
      "10\n"
     ]
    }
   ],
   "source": [
    "l = LinkedList()\n",
    "l.add_data(10)\n",
    "l.add_data(20)\n",
    "l.print_linkedlist()"
   ]
  },
  {
   "cell_type": "code",
   "execution_count": 1,
   "id": "7ed76009",
   "metadata": {},
   "outputs": [],
   "source": [
    "class Node:\n",
    "    def __init__(self,data):\n",
    "        self.data = data\n",
    "        self.ref = None\n",
    "\n",
    "class LList:\n",
    "    def __init__(self):\n",
    "        self.head = None\n",
    "    def print_LL(self):\n",
    "        if self.head == None:\n",
    "            print(\"Linked List is Empty\")\n",
    "        else:\n",
    "            n  = self.head\n",
    "            while n is not None:\n",
    "                print(n.data,\"-->\",end=\" \")\n",
    "                n = n.ref\n",
    "    def add_begin(self,data):\n",
    "        new_node = Node(data)\n",
    "        new_node.ref = self.head\n",
    "        self.head = new_node\n",
    "        \n",
    "    def add_end(self,data):\n",
    "        new_node = Node(data)\n",
    "        if self.head is None:\n",
    "            self.head = new_node\n",
    "        else:\n",
    "            n = self.head\n",
    "            while n.ref is not None:\n",
    "                n = n.ref\n",
    "            n.ref = new_node\n",
    "            \n",
    "        "
   ]
  },
  {
   "cell_type": "code",
   "execution_count": 2,
   "id": "4e04540d",
   "metadata": {},
   "outputs": [
    {
     "name": "stdout",
     "output_type": "stream",
     "text": [
      "Linked List is Empty\n",
      "20 --> 10 --> 100 --> "
     ]
    }
   ],
   "source": [
    "ll = LList()\n",
    "ll.print_LL()\n",
    "ll.add_begin(10)\n",
    "ll.add_begin(20)\n",
    "ll.add_end(100)\n",
    "ll.print_LL()"
   ]
  },
  {
   "cell_type": "markdown",
   "id": "018337a8",
   "metadata": {},
   "source": [
    "#### Addition of node in the between has two possibilities 1.before 2. after"
   ]
  },
  {
   "cell_type": "code",
   "execution_count": 11,
   "id": "8ad44d62",
   "metadata": {},
   "outputs": [],
   "source": [
    "class Node:\n",
    "    def __init__(self,data):\n",
    "        self.data = data\n",
    "        self.ref = None\n",
    "\n",
    "class LList:\n",
    "    def __init__(self):\n",
    "        self.head = None\n",
    "    def print_LL(self):\n",
    "        if self.head == None:\n",
    "            print(\"Linked List is Empty\")\n",
    "        else:\n",
    "            n  = self.head\n",
    "            while n is not None:\n",
    "                print(n.data,\"-->\",end=\" \")\n",
    "                n = n.ref\n",
    "    def add_begin(self,data):\n",
    "        new_node = Node(data)\n",
    "        new_node.ref = self.head\n",
    "        self.head = new_node\n",
    "        \n",
    "    def add_end(self,data):\n",
    "        new_node = Node(data)\n",
    "        if self.head is None:\n",
    "            self.head = new_node\n",
    "        else:\n",
    "            n = self.head\n",
    "            while n.ref is not None:\n",
    "                n = n.ref\n",
    "            n.ref = new_node\n",
    "    \n",
    "    def add_after(self,data,x):\n",
    "        n = self.head\n",
    "        while n is not None:\n",
    "            if n.data == x:\n",
    "                break\n",
    "            n = n.ref\n",
    "        if n is None:\n",
    "            print(\"Node is not found in the LinkedList\")\n",
    "        else:\n",
    "            new_node= Node(data)\n",
    "            new_node.ref = n.ref\n",
    "            n.ref= new_node"
   ]
  },
  {
   "cell_type": "code",
   "execution_count": 12,
   "id": "ca223445",
   "metadata": {},
   "outputs": [
    {
     "name": "stdout",
     "output_type": "stream",
     "text": [
      "Linked List is Empty\n",
      "20 --> 200 --> 10 --> 100 --> "
     ]
    }
   ],
   "source": [
    "ll = LList()\n",
    "ll.print_LL()\n",
    "ll.add_begin(10)\n",
    "ll.add_begin(20)\n",
    "ll.add_end(100)\n",
    "ll.add_after(200,20)\n",
    "ll.print_LL()"
   ]
  },
  {
   "cell_type": "code",
   "execution_count": 13,
   "id": "5d2ac454",
   "metadata": {},
   "outputs": [
    {
     "name": "stdout",
     "output_type": "stream",
     "text": [
      "Linked List is Empty\n",
      "Node is not found in the LinkedList\n",
      "Linked List is Empty\n"
     ]
    }
   ],
   "source": [
    "ll = LList()\n",
    "\n",
    "ll.print_LL()\n",
    "ll.add_after(200,50)\n",
    "\n",
    "\n",
    "ll.print_LL()"
   ]
  },
  {
   "cell_type": "code",
   "execution_count": 14,
   "id": "7bef9d59",
   "metadata": {},
   "outputs": [],
   "source": [
    "class Node:\n",
    "    def __init__(self,data):\n",
    "        self.data = data\n",
    "        self.ref = None\n",
    "\n",
    "class LList:\n",
    "    def __init__(self):\n",
    "        self.head = None\n",
    "    def print_LL(self):\n",
    "        if self.head == None:\n",
    "            print(\"Linked List is Empty\")\n",
    "        else:\n",
    "            n  = self.head\n",
    "            while n is not None:\n",
    "                print(n.data,\"-->\",end=\" \")\n",
    "                n = n.ref\n",
    "    def add_begin(self,data):\n",
    "        new_node = Node(data)\n",
    "        new_node.ref = self.head\n",
    "        self.head = new_node\n",
    "        \n",
    "    def add_end(self,data):\n",
    "        new_node = Node(data)\n",
    "        if self.head is None:\n",
    "            self.head = new_node\n",
    "        else:\n",
    "            n = self.head\n",
    "            while n.ref is not None:\n",
    "                n = n.ref\n",
    "            n.ref = new_node\n",
    "    \n",
    "    def add_after(self,data,x):\n",
    "        n = self.head\n",
    "        while n is not None:\n",
    "            if n.data == x:\n",
    "                break\n",
    "            n = n.ref\n",
    "        if n is None:\n",
    "            print(\"Node is not found in the LinkedList\")\n",
    "        else:\n",
    "            new_node= Node(data)\n",
    "            new_node.ref = n.ref\n",
    "            n.ref= new_node\n",
    "    \n",
    "    def add_before(self,data,x):\n",
    "        if self.head is None:\n",
    "            print('Linked list is Empty')\n",
    "            return\n",
    "        if self.head.data == x:\n",
    "            new_node = Node(data)\n",
    "            new_node.ref = self.head\n",
    "            self.head = new_node\n",
    "            return\n",
    "        n = self.head\n",
    "        while n is not None:\n",
    "            if n.ref.data == x:\n",
    "                break\n",
    "            n = n.ref\n",
    "        if n is None:\n",
    "            print('Linked list does not contain the node')\n",
    "        else:\n",
    "            new_node = Node(data)\n",
    "            new_node.ref = n.ref\n",
    "            n.ref = new_node\n",
    "            "
   ]
  },
  {
   "cell_type": "code",
   "execution_count": 15,
   "id": "92ea080c",
   "metadata": {},
   "outputs": [
    {
     "name": "stdout",
     "output_type": "stream",
     "text": [
      "Linked List is Empty\n",
      "200 --> 10 --> "
     ]
    }
   ],
   "source": [
    "ll = LList()\n",
    "\n",
    "ll.print_LL()\n",
    "ll.add_begin(10)\n",
    "ll.add_before(200,10)\n",
    "\n",
    "\n",
    "ll.print_LL()"
   ]
  },
  {
   "cell_type": "code",
   "execution_count": 16,
   "id": "9b2c9499",
   "metadata": {},
   "outputs": [
    {
     "name": "stdout",
     "output_type": "stream",
     "text": [
      "Linked List is Empty\n",
      "Linked list is Empty\n",
      "Linked List is Empty\n"
     ]
    }
   ],
   "source": [
    "ll = LList()\n",
    "\n",
    "ll.print_LL()\n",
    "\n",
    "ll.add_before(200,10)\n",
    "\n",
    "\n",
    "ll.print_LL()"
   ]
  },
  {
   "cell_type": "code",
   "execution_count": 17,
   "id": "af21314a",
   "metadata": {},
   "outputs": [],
   "source": [
    "class Node:\n",
    "    def __init__(self,data):\n",
    "        self.data = data\n",
    "        self.ref = None\n",
    "\n",
    "class LList:\n",
    "    def __init__(self):\n",
    "        self.head = None\n",
    "    def print_LL(self):\n",
    "        if self.head == None:\n",
    "            print(\"Linked List is Empty\")\n",
    "        else:\n",
    "            n  = self.head\n",
    "            while n is not None:\n",
    "                print(n.data,\"-->\",end=\" \")\n",
    "                n = n.ref\n",
    "    def add_begin(self,data):\n",
    "        new_node = Node(data)\n",
    "        new_node.ref = self.head\n",
    "        self.head = new_node\n",
    "        \n",
    "    def add_end(self,data):\n",
    "        new_node = Node(data)\n",
    "        if self.head is None:\n",
    "            self.head = new_node\n",
    "        else:\n",
    "            n = self.head\n",
    "            while n.ref is not None:\n",
    "                n = n.ref\n",
    "            n.ref = new_node\n",
    "    \n",
    "    def add_after(self,data,x):\n",
    "        n = self.head\n",
    "        while n is not None:\n",
    "            if n.data == x:\n",
    "                break\n",
    "            n = n.ref\n",
    "        if n is None:\n",
    "            print(\"Node is not found in the LinkedList\")\n",
    "        else:\n",
    "            new_node= Node(data)\n",
    "            new_node.ref = n.ref\n",
    "            n.ref= new_node\n",
    "    \n",
    "    def add_before(self,data,x):\n",
    "        if self.head is None:\n",
    "            print('Linked list is Empty')\n",
    "            return\n",
    "        if self.head.data == x:\n",
    "            new_node = Node(data)\n",
    "            new_node.ref = self.head\n",
    "            self.head = new_node\n",
    "            return\n",
    "        n = self.head\n",
    "        while n is not None:\n",
    "            if n.ref.data == x:\n",
    "                break\n",
    "            n = n.ref\n",
    "        if n is None:\n",
    "            print('Linked list does not contain the node')\n",
    "        else:\n",
    "            new_node = Node(data)\n",
    "            new_node.ref = n.ref\n",
    "            n.ref = new_node\n",
    "            \n",
    "    def insert_empty(self,data):\n",
    "        if self.head is None:\n",
    "            new_node = Node(data)\n",
    "            self.head = new_node\n",
    "        else:\n",
    "            print(\"Linked list is not empty\")"
   ]
  },
  {
   "cell_type": "code",
   "execution_count": 18,
   "id": "855863cb",
   "metadata": {},
   "outputs": [
    {
     "name": "stdout",
     "output_type": "stream",
     "text": [
      "Linked List is Empty\n",
      "10 --> "
     ]
    }
   ],
   "source": [
    "ll = LList()\n",
    "\n",
    "ll.print_LL()\n",
    "\n",
    "ll.insert_empty(10)\n",
    "\n",
    "\n",
    "ll.print_LL()"
   ]
  },
  {
   "cell_type": "code",
   "execution_count": 19,
   "id": "c31eea71",
   "metadata": {},
   "outputs": [
    {
     "name": "stdout",
     "output_type": "stream",
     "text": [
      "Linked List is Empty\n",
      "Linked list is not empty\n",
      "10 --> "
     ]
    }
   ],
   "source": [
    "ll = LList()\n",
    "\n",
    "ll.print_LL()\n",
    "\n",
    "ll.insert_empty(10)\n",
    "ll.insert_empty(20)\n",
    "\n",
    "ll.print_LL()"
   ]
  },
  {
   "cell_type": "code",
   "execution_count": 20,
   "id": "429ac29d",
   "metadata": {},
   "outputs": [],
   "source": [
    "class Node:\n",
    "    def __init__(self,data):\n",
    "        self.data = data\n",
    "        self.ref = None\n",
    "\n",
    "class LList:\n",
    "    def __init__(self):\n",
    "        self.head = None\n",
    "    def print_LL(self):\n",
    "        if self.head == None:\n",
    "            print(\"Linked List is Empty\")\n",
    "        else:\n",
    "            n  = self.head\n",
    "            while n is not None:\n",
    "                print(n.data,\"-->\",end=\" \")\n",
    "                n = n.ref\n",
    "    def add_begin(self,data):\n",
    "        new_node = Node(data)\n",
    "        new_node.ref = self.head\n",
    "        self.head = new_node\n",
    "        \n",
    "    def add_end(self,data):\n",
    "        new_node = Node(data)\n",
    "        if self.head is None:\n",
    "            self.head = new_node\n",
    "        else:\n",
    "            n = self.head\n",
    "            while n.ref is not None:\n",
    "                n = n.ref\n",
    "            n.ref = new_node\n",
    "    \n",
    "    def add_after(self,data,x):\n",
    "        n = self.head\n",
    "        while n is not None:\n",
    "            if n.data == x:\n",
    "                break\n",
    "            n = n.ref\n",
    "        if n is None:\n",
    "            print(\"Node is not found in the LinkedList\")\n",
    "        else:\n",
    "            new_node= Node(data)\n",
    "            new_node.ref = n.ref\n",
    "            n.ref= new_node\n",
    "    \n",
    "    def add_before(self,data,x):\n",
    "        if self.head is None:\n",
    "            print('Linked list is Empty')\n",
    "            return\n",
    "        if self.head.data == x:\n",
    "            new_node = Node(data)\n",
    "            new_node.ref = self.head\n",
    "            self.head = new_node\n",
    "            return\n",
    "        n = self.head\n",
    "        while n is not None:\n",
    "            if n.ref.data == x:\n",
    "                break\n",
    "            n = n.ref\n",
    "        if n is None:\n",
    "            print('Linked list does not contain the node')\n",
    "        else:\n",
    "            new_node = Node(data)\n",
    "            new_node.ref = n.ref\n",
    "            n.ref = new_node\n",
    "            \n",
    "    def insert_empty(self,data):\n",
    "        if self.head is None:\n",
    "            new_node = Node(data)\n",
    "            self.head = new_node\n",
    "        else:\n",
    "            print(\"Linked list is not empty\")\n",
    "    \n",
    "    def delete_begin(self):\n",
    "        if self.head is None:\n",
    "            print('Linked is Empty so cannot delete any Node')\n",
    "        else:\n",
    "            self.head = self.head.ref"
   ]
  },
  {
   "cell_type": "code",
   "execution_count": 26,
   "id": "1e965a83",
   "metadata": {},
   "outputs": [
    {
     "name": "stdout",
     "output_type": "stream",
     "text": [
      "Linked List is Empty\n",
      "30 --> 20 --> 10 --> "
     ]
    }
   ],
   "source": [
    "ll = LList()\n",
    "\n",
    "ll.print_LL()\n",
    "\n",
    "ll.add_begin(10)\n",
    "ll.add_begin(20)\n",
    "ll.add_begin(30)\n",
    "ll.print_LL()"
   ]
  },
  {
   "cell_type": "code",
   "execution_count": 27,
   "id": "1c824b71",
   "metadata": {},
   "outputs": [
    {
     "name": "stdout",
     "output_type": "stream",
     "text": [
      "Linked List is Empty\n",
      "30 --> 20 --> 10 --> "
     ]
    }
   ],
   "source": [
    "ll = LList()\n",
    "\n",
    "ll.print_LL()\n",
    "\n",
    "ll.add_begin(10)\n",
    "ll.add_begin(20)\n",
    "ll.add_begin(30)\n",
    "ll.print_LL()\n",
    "ll.delete_begin()\n"
   ]
  },
  {
   "cell_type": "code",
   "execution_count": 28,
   "id": "1070a8d2",
   "metadata": {},
   "outputs": [
    {
     "name": "stdout",
     "output_type": "stream",
     "text": [
      "20 --> 10 --> "
     ]
    }
   ],
   "source": [
    "ll.print_LL()"
   ]
  },
  {
   "cell_type": "markdown",
   "id": "c998dfd4",
   "metadata": {},
   "source": []
  },
  {
   "cell_type": "code",
   "execution_count": 31,
   "id": "eade2d76",
   "metadata": {},
   "outputs": [],
   "source": [
    "class Node:\n",
    "    def __init__(self,data):\n",
    "        self.data = data\n",
    "        self.ref = None\n",
    "\n",
    "class LList:\n",
    "    def __init__(self):\n",
    "        self.head = None\n",
    "    def print_LL(self):\n",
    "        if self.head == None:\n",
    "            print(\"Linked List is Empty\")\n",
    "        else:\n",
    "            n  = self.head\n",
    "            while n is not None:\n",
    "                print(n.data,\"-->\",end=\" \")\n",
    "                n = n.ref\n",
    "    def add_begin(self,data):\n",
    "        new_node = Node(data)\n",
    "        new_node.ref = self.head\n",
    "        self.head = new_node\n",
    "        \n",
    "    def add_end(self,data):\n",
    "        new_node = Node(data)\n",
    "        if self.head is None:\n",
    "            self.head = new_node\n",
    "        else:\n",
    "            n = self.head\n",
    "            while n.ref is not None:\n",
    "                n = n.ref\n",
    "            n.ref = new_node\n",
    "    \n",
    "    def add_after(self,data,x):\n",
    "        n = self.head\n",
    "        while n is not None:\n",
    "            if n.data == x:\n",
    "                break\n",
    "            n = n.ref\n",
    "        if n is None:\n",
    "            print(\"Node is not found in the LinkedList\")\n",
    "        else:\n",
    "            new_node= Node(data)\n",
    "            new_node.ref = n.ref\n",
    "            n.ref= new_node\n",
    "    \n",
    "    def add_before(self,data,x):\n",
    "        if self.head is None:\n",
    "            print('Linked list is Empty')\n",
    "            return\n",
    "        if self.head.data == x:\n",
    "            new_node = Node(data)\n",
    "            new_node.ref = self.head\n",
    "            self.head = new_node\n",
    "            return\n",
    "        n = self.head\n",
    "        while n is not None:\n",
    "            if n.ref.data == x:\n",
    "                break\n",
    "            n = n.ref\n",
    "        if n is None:\n",
    "            print('Linked list does not contain the node')\n",
    "        else:\n",
    "            new_node = Node(data)\n",
    "            new_node.ref = n.ref\n",
    "            n.ref = new_node\n",
    "            \n",
    "    def insert_empty(self,data):\n",
    "        if self.head is None:\n",
    "            new_node = Node(data)\n",
    "            self.head = new_node\n",
    "        else:\n",
    "            print(\"Linked list is not empty\")\n",
    "    \n",
    "    def delete_begin(self):\n",
    "        if self.head is None:\n",
    "            print('Linked is Empty so cannot delete any Node')\n",
    "        else:\n",
    "            self.head = self.head.ref\n",
    "            \n",
    "    def delete_end(self):\n",
    "        if self.head is None:\n",
    "            print('Linked is Empty so cannot delete any Node')\n",
    "        elif self.head.ref is None:\n",
    "            self.head = None\n",
    "        else:\n",
    "            n = self.head\n",
    "            while n.ref.ref is not None:\n",
    "                n = n.ref\n",
    "            n.ref = None\n",
    "    "
   ]
  },
  {
   "cell_type": "code",
   "execution_count": 32,
   "id": "9c2d65c3",
   "metadata": {},
   "outputs": [
    {
     "name": "stdout",
     "output_type": "stream",
     "text": [
      "Linked List is Empty\n",
      "30 --> 20 --> "
     ]
    }
   ],
   "source": [
    "ll = LList()\n",
    "\n",
    "ll.print_LL()\n",
    "\n",
    "ll.add_begin(10)\n",
    "ll.add_begin(20)\n",
    "ll.add_begin(30)\n",
    "\n",
    "ll.delete_end()\n",
    "ll.print_LL()"
   ]
  },
  {
   "cell_type": "code",
   "execution_count": 35,
   "id": "fd665285",
   "metadata": {},
   "outputs": [],
   "source": [
    "class Node:\n",
    "    def __init__(self,data):\n",
    "        self.data = data\n",
    "        self.ref = None\n",
    "\n",
    "class LList:\n",
    "    def __init__(self):\n",
    "        self.head = None\n",
    "    def print_LL(self):\n",
    "        if self.head == None:\n",
    "            print(\"Linked List is Empty\")\n",
    "        else:\n",
    "            n  = self.head\n",
    "            while n is not None:\n",
    "                print(n.data,\"-->\",end=\" \")\n",
    "                n = n.ref\n",
    "    def add_begin(self,data):\n",
    "        new_node = Node(data)\n",
    "        new_node.ref = self.head\n",
    "        self.head = new_node\n",
    "        \n",
    "    def add_end(self,data):\n",
    "        new_node = Node(data)\n",
    "        if self.head is None:\n",
    "            self.head = new_node\n",
    "        else:\n",
    "            n = self.head\n",
    "            while n.ref is not None:\n",
    "                n = n.ref\n",
    "            n.ref = new_node\n",
    "    \n",
    "    def add_after(self,data,x):\n",
    "        n = self.head\n",
    "        while n is not None:\n",
    "            if n.data == x:\n",
    "                break\n",
    "            n = n.ref\n",
    "        if n is None:\n",
    "            print(\"Node is not found in the LinkedList\")\n",
    "        else:\n",
    "            new_node= Node(data)\n",
    "            new_node.ref = n.ref\n",
    "            n.ref= new_node\n",
    "    \n",
    "    def add_before(self,data,x):\n",
    "        if self.head is None:\n",
    "            print('Linked list is Empty')\n",
    "            return\n",
    "        if self.head.data == x:\n",
    "            new_node = Node(data)\n",
    "            new_node.ref = self.head\n",
    "            self.head = new_node\n",
    "            return\n",
    "        n = self.head\n",
    "        while n is not None:\n",
    "            if n.ref.data == x:\n",
    "                break\n",
    "            n = n.ref\n",
    "        if n is None:\n",
    "            print('Linked list does not contain the node')\n",
    "        else:\n",
    "            new_node = Node(data)\n",
    "            new_node.ref = n.ref\n",
    "            n.ref = new_node\n",
    "            \n",
    "    def insert_empty(self,data):\n",
    "        if self.head is None:\n",
    "            new_node = Node(data)\n",
    "            self.head = new_node\n",
    "        else:\n",
    "            print(\"Linked list is not empty\")\n",
    "    \n",
    "    def delete_begin(self):\n",
    "        if self.head is None:\n",
    "            print('Linked is Empty so cannot delete any Node')\n",
    "        else:\n",
    "            self.head = self.head.ref\n",
    "            \n",
    "    def delete_end(self):\n",
    "        if self.head is None:\n",
    "            print('Linked is Empty so cannot delete any Node')\n",
    "        elif self.head.ref is None:\n",
    "            self.head = None\n",
    "        else:\n",
    "            n = self.head\n",
    "            while n.ref.ref is not None:\n",
    "                n = n.ref\n",
    "            n.ref = None\n",
    "    \n",
    "    def delete_by_value(self,x):\n",
    "        if self.head is None:\n",
    "            print('Linked is Empty so cannot delete any Node')\n",
    "            return\n",
    "        if self.head.data == x:\n",
    "            self.head = self.head.ref\n",
    "            return\n",
    "        \n",
    "        n = self.head\n",
    "        while n.ref is not None:\n",
    "            if n.ref.data == x:\n",
    "                break\n",
    "            n = n.ref\n",
    "        if n.ref is None:\n",
    "            print('None is not found in the LL')\n",
    "        else:\n",
    "            n.ref = n.ref.ref"
   ]
  },
  {
   "cell_type": "code",
   "execution_count": 36,
   "id": "36dfa67a",
   "metadata": {},
   "outputs": [
    {
     "name": "stdout",
     "output_type": "stream",
     "text": [
      "Linked List is Empty\n",
      "30 --> 10 --> "
     ]
    }
   ],
   "source": [
    "ll = LList()\n",
    "\n",
    "ll.print_LL()\n",
    "\n",
    "ll.add_begin(10)\n",
    "ll.add_begin(20)\n",
    "ll.add_begin(30)\n",
    "\n",
    "ll.delete_by_value(20)\n",
    "ll.print_LL()"
   ]
  },
  {
   "cell_type": "markdown",
   "id": "2c86f8e6",
   "metadata": {},
   "source": [
    "### Double Linked List"
   ]
  },
  {
   "cell_type": "code",
   "execution_count": 37,
   "id": "e8a944b3",
   "metadata": {},
   "outputs": [],
   "source": [
    "class Node:\n",
    "    def __init__(self,data):\n",
    "        self.data = data\n",
    "        self.nref = None\n",
    "        self.pref = None\n",
    "        \n",
    "class DoubleLL:\n",
    "    def __init__(self):\n",
    "        self.head = None\n",
    "    \n",
    "    def print_LL(self):\n",
    "        if self.head is None:\n",
    "            print(\"Double linked list is empty\")\n",
    "        else:\n",
    "            n = self.head\n",
    "            while n is not None:\n",
    "                print(n.data,\"-->\",end=\" \")\n",
    "                n = n.nref\n",
    "    \n",
    "    def print_LL_reverse(self):\n",
    "        if self.head is None:\n",
    "            print(\"Double linked list is empty\")\n",
    "        else:\n",
    "            n = self.head\n",
    "            while n.nref is not None:\n",
    "                n = n.nref\n",
    "            while n is not None:\n",
    "                print(n.data,\"-->\",end=\" \")\n",
    "                n = n.pref"
   ]
  },
  {
   "cell_type": "code",
   "execution_count": 38,
   "id": "4faf6da6",
   "metadata": {},
   "outputs": [
    {
     "name": "stdout",
     "output_type": "stream",
     "text": [
      "Double linked list is empty\n"
     ]
    }
   ],
   "source": [
    "dl = DoubleLL()\n",
    "\n",
    "dl.print_LL()"
   ]
  },
  {
   "cell_type": "code",
   "execution_count": 39,
   "id": "66485f35",
   "metadata": {},
   "outputs": [
    {
     "name": "stdout",
     "output_type": "stream",
     "text": [
      "Double linked list is empty\n"
     ]
    }
   ],
   "source": [
    "dl = DoubleLL()\n",
    "\n",
    "dl.print_LL_reverse()"
   ]
  },
  {
   "cell_type": "code",
   "execution_count": 4,
   "id": "f7e94d5b",
   "metadata": {},
   "outputs": [],
   "source": [
    "class Node:\n",
    "    def __init__(self,data):\n",
    "        self.data = data\n",
    "        self.nref = None\n",
    "        self.pref = None\n",
    "        \n",
    "class DoubleLL:\n",
    "    def __init__(self):\n",
    "        self.head = None\n",
    "    \n",
    "    def print_LL(self):\n",
    "        if self.head is None:\n",
    "            print(\"Double linked list is empty\")\n",
    "        else:\n",
    "            n = self.head\n",
    "            while n is not None:\n",
    "                print(n.data,\"-->\",end=\" \")\n",
    "                n = n.nref\n",
    "    \n",
    "    def print_LL_reverse(self):\n",
    "        print()\n",
    "        if self.head is None:\n",
    "            print(\"Double linked list is empty\")\n",
    "        else:\n",
    "            n = self.head\n",
    "            while n.nref is not None:\n",
    "                n = n.nref\n",
    "            while n is not None:\n",
    "                print(n.data,\"-->\",end=\" \")\n",
    "                n = n.pref\n",
    "    \n",
    "    def insert_empty(self,data):\n",
    "        if self.head is None:\n",
    "            new_node = Node(data)\n",
    "            self.head = new_node\n",
    "        else:\n",
    "            print('Linked list is not empty')\n",
    "            \n",
    "    def add_begin(self,data):\n",
    "        new_node = Node(data)\n",
    "        if self.head is None:\n",
    "            self.head = new_node\n",
    "        else:\n",
    "            new_node.nref = self.head\n",
    "            self.head.pref = new_node\n",
    "            self.head = new_node\n",
    "            \n",
    "    def add_end(self,data):\n",
    "        new_node = Node(data)\n",
    "        if self.head is None:\n",
    "            self.head = new_node\n",
    "        else:\n",
    "            n = self.head\n",
    "            while n.nref is not None:\n",
    "                n = n.nref\n",
    "            n.nref = new_node\n",
    "            new_node.pref = n\n",
    "                "
   ]
  },
  {
   "cell_type": "code",
   "execution_count": 5,
   "id": "4279f74b",
   "metadata": {},
   "outputs": [
    {
     "name": "stdout",
     "output_type": "stream",
     "text": [
      "30 --> 20 --> 5 --> \n",
      "5 --> 20 --> 30 --> "
     ]
    }
   ],
   "source": [
    "dl = DoubleLL()\n",
    "#dl.insert_empty(10)\n",
    "dl.add_begin(20)\n",
    "dl.add_begin(30)\n",
    "dl.add_end(5)\n",
    "dl.print_LL()\n",
    "dl.print_LL_reverse()"
   ]
  },
  {
   "cell_type": "code",
   "execution_count": null,
   "id": "f388fc59",
   "metadata": {},
   "outputs": [],
   "source": []
  }
 ],
 "metadata": {
  "kernelspec": {
   "display_name": "Python 3 (ipykernel)",
   "language": "python",
   "name": "python3"
  },
  "language_info": {
   "codemirror_mode": {
    "name": "ipython",
    "version": 3
   },
   "file_extension": ".py",
   "mimetype": "text/x-python",
   "name": "python",
   "nbconvert_exporter": "python",
   "pygments_lexer": "ipython3",
   "version": "3.9.13"
  }
 },
 "nbformat": 4,
 "nbformat_minor": 5
}
