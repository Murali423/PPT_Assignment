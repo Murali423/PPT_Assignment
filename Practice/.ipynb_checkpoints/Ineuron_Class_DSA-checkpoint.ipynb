{
 "cells": [
  {
   "cell_type": "markdown",
   "id": "a4649781",
   "metadata": {},
   "source": [
    "### Time complexity and Space Complexity"
   ]
  },
  {
   "cell_type": "code",
   "execution_count": 1,
   "id": "be872bbd",
   "metadata": {},
   "outputs": [
    {
     "data": {
      "text/plain": [
       "'odd'"
      ]
     },
     "execution_count": 1,
     "metadata": {},
     "output_type": "execute_result"
    }
   ],
   "source": [
    "#given number is even or odd\n",
    "\n",
    "def even_odd(N):\n",
    "    if N&1 == 0:\n",
    "        return 'even'\n",
    "    return 'odd'\n",
    "\n",
    "even_odd(7)"
   ]
  },
  {
   "cell_type": "code",
   "execution_count": 2,
   "id": "c59f8c66",
   "metadata": {},
   "outputs": [
    {
     "data": {
      "text/plain": [
       "'even'"
      ]
     },
     "execution_count": 2,
     "metadata": {},
     "output_type": "execute_result"
    }
   ],
   "source": [
    "even_odd(8)"
   ]
  },
  {
   "cell_type": "markdown",
   "id": "6cd5b7f0",
   "metadata": {},
   "source": [
    "#### circular tour"
   ]
  },
  {
   "cell_type": "code",
   "execution_count": 10,
   "id": "2ecc9c71",
   "metadata": {},
   "outputs": [
    {
     "ename": "UnboundLocalError",
     "evalue": "local variable 'curr_petrol' referenced before assignment",
     "output_type": "error",
     "traceback": [
      "\u001b[1;31m---------------------------------------------------------------------------\u001b[0m",
      "\u001b[1;31mUnboundLocalError\u001b[0m                         Traceback (most recent call last)",
      "\u001b[1;32m~\\AppData\\Local\\Temp\\ipykernel_6192\\1886071302.py\u001b[0m in \u001b[0;36m<module>\u001b[1;34m\u001b[0m\n\u001b[0;32m     17\u001b[0m     \u001b[1;32mreturn\u001b[0m \u001b[0mstart\u001b[0m \u001b[1;32mif\u001b[0m \u001b[0mcurr_pertol\u001b[0m\u001b[1;33m+\u001b[0m\u001b[0mreq_petrol\u001b[0m \u001b[1;33m>\u001b[0m\u001b[1;36m0\u001b[0m \u001b[1;32melse\u001b[0m \u001b[1;33m-\u001b[0m\u001b[1;36m1\u001b[0m\u001b[1;33m\u001b[0m\u001b[1;33m\u001b[0m\u001b[0m\n\u001b[0;32m     18\u001b[0m \u001b[1;33m\u001b[0m\u001b[0m\n\u001b[1;32m---> 19\u001b[1;33m \u001b[0mfind_circle\u001b[0m\u001b[1;33m(\u001b[0m\u001b[0mpetrl\u001b[0m\u001b[1;33m,\u001b[0m\u001b[0mdist\u001b[0m\u001b[1;33m,\u001b[0m\u001b[0mlen\u001b[0m\u001b[1;33m(\u001b[0m\u001b[0mdist\u001b[0m\u001b[1;33m)\u001b[0m\u001b[1;33m)\u001b[0m\u001b[1;33m\u001b[0m\u001b[1;33m\u001b[0m\u001b[0m\n\u001b[0m",
      "\u001b[1;32m~\\AppData\\Local\\Temp\\ipykernel_6192\\1886071302.py\u001b[0m in \u001b[0;36mfind_circle\u001b[1;34m(petrol, distance, n)\u001b[0m\n\u001b[0;32m      7\u001b[0m     \u001b[1;32mfor\u001b[0m \u001b[0mi\u001b[0m \u001b[1;32min\u001b[0m \u001b[0mrange\u001b[0m\u001b[1;33m(\u001b[0m\u001b[0mn\u001b[0m\u001b[1;33m)\u001b[0m\u001b[1;33m:\u001b[0m\u001b[1;33m\u001b[0m\u001b[1;33m\u001b[0m\u001b[0m\n\u001b[0;32m      8\u001b[0m         \u001b[0mcurr_pertol\u001b[0m \u001b[1;33m+=\u001b[0m \u001b[0mpetrol\u001b[0m\u001b[1;33m[\u001b[0m\u001b[0mi\u001b[0m\u001b[1;33m]\u001b[0m \u001b[1;33m-\u001b[0m \u001b[0mdistance\u001b[0m\u001b[1;33m[\u001b[0m\u001b[0mi\u001b[0m\u001b[1;33m]\u001b[0m\u001b[1;33m\u001b[0m\u001b[1;33m\u001b[0m\u001b[0m\n\u001b[1;32m----> 9\u001b[1;33m         \u001b[0mprint\u001b[0m\u001b[1;33m(\u001b[0m\u001b[0mcurr_petrol\u001b[0m\u001b[1;33m)\u001b[0m\u001b[1;33m\u001b[0m\u001b[1;33m\u001b[0m\u001b[0m\n\u001b[0m\u001b[0;32m     10\u001b[0m         \u001b[1;32mif\u001b[0m \u001b[0mcurr_pertol\u001b[0m \u001b[1;33m<\u001b[0m \u001b[1;36m0\u001b[0m\u001b[1;33m:\u001b[0m\u001b[1;33m\u001b[0m\u001b[1;33m\u001b[0m\u001b[0m\n\u001b[0;32m     11\u001b[0m             \u001b[0mstart\u001b[0m \u001b[1;33m=\u001b[0m \u001b[0mi\u001b[0m\u001b[1;33m+\u001b[0m\u001b[1;36m1\u001b[0m\u001b[1;33m\u001b[0m\u001b[1;33m\u001b[0m\u001b[0m\n",
      "\u001b[1;31mUnboundLocalError\u001b[0m: local variable 'curr_petrol' referenced before assignment"
     ]
    }
   ],
   "source": [
    "petrl = [7,5,4,1,4]\n",
    "dist = [6,3,5,5,1]\n",
    "def find_circle(petrol,distance, n):\n",
    "    start = 0\n",
    "    curr_pertol = 0\n",
    "    req_petrol = 0\n",
    "    for i in range(n):\n",
    "        curr_pertol += petrol[i] - distance[i]\n",
    "        print(curr_petrol)\n",
    "        if curr_pertol < 0:\n",
    "            start = i+1\n",
    "            print(start)\n",
    "            req_petrol += curr_pertol\n",
    "            print(req_petrol)\n",
    "            curr_petrol = 0\n",
    "\n",
    "    return start if curr_pertol+req_petrol >0 else -1\n",
    "\n",
    "find_circle(petrl,dist,len(dist))\n"
   ]
  },
  {
   "cell_type": "code",
   "execution_count": null,
   "id": "854580da",
   "metadata": {},
   "outputs": [],
   "source": []
  }
 ],
 "metadata": {
  "kernelspec": {
   "display_name": "Python 3 (ipykernel)",
   "language": "python",
   "name": "python3"
  },
  "language_info": {
   "codemirror_mode": {
    "name": "ipython",
    "version": 3
   },
   "file_extension": ".py",
   "mimetype": "text/x-python",
   "name": "python",
   "nbconvert_exporter": "python",
   "pygments_lexer": "ipython3",
   "version": "3.9.13"
  }
 },
 "nbformat": 4,
 "nbformat_minor": 5
}
